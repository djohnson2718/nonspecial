{
 "cells": [
  {
   "cell_type": "code",
   "execution_count": 2,
   "metadata": {
    "collapsed": false,
    "deletable": true,
    "editable": true
   },
   "outputs": [],
   "source": [
    "g = 2\n",
    "n = 2\n",
    "indexes = [str(i) for i in range(1, n+1)]"
   ]
  },
  {
   "cell_type": "markdown",
   "metadata": {
    "deletable": true,
    "editable": true
   },
   "source": [
    "We first create the ring of function on the strongly non-special locus. For now, let's stick to the genus two case, so we don't need the $c_{ij}^k$."
   ]
  },
  {
   "cell_type": "code",
   "execution_count": 3,
   "metadata": {
    "collapsed": false,
    "deletable": true,
    "editable": true
   },
   "outputs": [],
   "source": [
    "def one_index_names(name):\n",
    "\treturn [name +\"_\"+ i  for i in indexes]\n",
    "\t\n",
    "def two_index_names(name):\n",
    "\treturn [name +\"_\"+ i + j for i in indexes for j in indexes if i != j]\n",
    "\n",
    "def two_index_names_repeat(name):\n",
    "    names = []\n",
    "    for i in indexes:\n",
    "        for j in indexes:\n",
    "            if i != j:\n",
    "                names.append(name + \"_\" + i + j)\n",
    "            else:\n",
    "                for k in indexes:\n",
    "                    if k != i:\n",
    "                        T = [i,k]\n",
    "                        T.sort()\n",
    "                        names.append(name + \"_\" + i + i + \"_\" + \"\".join(T))\n",
    "    return names\n",
    "    #return [name +\"_\"+ i + j for i in indexes for j in indexes]\n",
    "\n",
    "def three_index_names(name):\n",
    "\treturn [name +\"_\"+ i + j + k for i in indexes for j in indexes for k in indexes if i != j and i != k and j !=k]\n",
    "\n",
    "def jjpS_names(name):\n",
    "    names = []\n",
    "    for S in Subsets(indexes, g):\n",
    "        Ss = list(S)\n",
    "        Ss.sort()\n",
    "        for jj in Subsets(indexes,2):\n",
    "            jjs = list(jj)\n",
    "            jjs.sort()\n",
    "            j = jjs[0]\n",
    "            jp = jjs[1]\n",
    "            \n",
    "            if j not in S and jp not in S:\n",
    "                names.append(name + \"_\" + j + jp + \"_\" + \"\".join(Ss))\n",
    "                names.append(name + \"_\" + jp + j + \"_\" + \"\".join(Ss))\n",
    "\n",
    "    return names\n",
    "\n",
    "def ijS_names(name):\n",
    "    names = []\n",
    "    for S in Subsets(indexes, g):\n",
    "        Ss = list(S)\n",
    "        Ss.sort()\n",
    "        for i in Ss:\n",
    "            for j in indexes:\n",
    "                if j not in Ss:\n",
    "                    names.append(name + \"_\" + i + j + \"_\" + \"\".join(Ss))\n",
    "\n",
    "    return names\n",
    "\n",
    "def iS_names(name):\n",
    "    names = []\n",
    "    for S in Subsets(indexes, g):\n",
    "        Ss = list(S)\n",
    "        Ss.sort()\n",
    "        for i in Ss:\n",
    "            names.append(name + \"_\" + i + \"_\" + \"\".join(Ss))\n",
    "    return names\n",
    "\n",
    "def inotinS_names(name):\n",
    "    names = []\n",
    "    for S in Subsets(indexes, g):\n",
    "        Ss = list(S)\n",
    "        Ss.sort()\n",
    "        for i in indexes:\n",
    "            if i not in Ss:\n",
    "                names.append(name + \"_\" + i + \"_\" + \"\".join(Ss))\n",
    "    return names\n",
    "\n",
    "def ijlS_names(name):\n",
    "    names = []\n",
    "    for S in Subsets(indexes, g):\n",
    "        Ss = list(S)\n",
    "        Ss.sort()\n",
    "        for i in S:\n",
    "            for l in S:\n",
    "                for j in indexes:\n",
    "                    if not j in S:\n",
    "                        names.append(name + \"_\"+ i + j +l + \"_\" + \"\".join(Ss))\n",
    "    return names\n",
    "                    \n",
    "def hS_names():\n",
    "    names = []\n",
    "    for S in Subsets(indexes, g):\n",
    "        Ss = list(S)\n",
    "        Ss.sort()\n",
    "        for j in indexes:\n",
    "            if not j in S:\n",
    "                names.append(\"h_\" + \"\".join(Ss) + \"_\" + j) \n",
    "    return names\n",
    "        \n",
    "    \n",
    "Uring = PolynomialRing(QQ, two_index_names(\"al\") + two_index_names_repeat(\"ga\") +  two_index_names(\"a\") + two_index_names(\"d\") + two_index_names(\"t\") + two_index_names(\"v\") + two_index_names(\"r\") + two_index_names_repeat(\"del\") + two_index_names(\"b\") + two_index_names(\"be\") + two_index_names_repeat(\"ep\") + two_index_names(\"psi\")  + two_index_names(\"u\") + two_index_names(\"g\") + iS_names(\"pi\") + two_index_names(\"k\") + iS_names(\"s\") \n",
    "                      + jjpS_names(\"c\") + jjpS_names(\"cc\") + ijS_names(\"a\") + ijS_names(\"ac\") + jjpS_names(\"hshsc\") + ijS_names(\"b\") +ijlS_names(\"d\") + ijS_names(\"fhsc\") + ijS_names(\"e\") + ijS_names(\"r\") + ijlS_names(\"s\") +ijS_names(\"hhsc\")\n",
    "                      + two_index_names_repeat(\"theta\") + two_index_names_repeat(\"pi\") + inotinS_names(\"x\"))\n",
    "\n",
    "Rring = PolynomialRing(Uring, iS_names(\"f\") + iS_names(\"h\")+ hS_names())\n",
    "    \n",
    "Udict = Uring.gens_dict()\n",
    "Rdict = Rring.gens_dict()\n",
    "ExpandRing.<t> = LaurentSeriesRing(Uring)\n",
    "\n",
    "def v(letter, a, b = \"\", c = \"\", d = None):\n",
    "    #if g==2 and letter in [\"c\",\"e\",\"ell\"] and not type(c) == list:\n",
    "    #    return 0\n",
    "    \n",
    "    #Some normalization\n",
    "    if letter == \"d\" and type(d) == list:\n",
    "        if a == d[0] and c == d[0]:\n",
    "            return 0\n",
    "    \n",
    "    if letter == \"h\" and type(a) == list:\n",
    "        return Rdict[\"h_\" + \"\".join(a) + \"_\" + b]\n",
    "    if type(c) == list:\n",
    "        return Udict[letter + \"_\" + a + b + \"_\" + \"\".join(c)]\n",
    "    if type(b) == list:\n",
    "        try:\n",
    "            return Udict[letter + \"_\" + a + \"_\" + \"\".join(b)]\n",
    "        except:\n",
    "            return Rdict[letter + \"_\" + a + \"_\" + \"\".join(b)]\n",
    "    \n",
    "    if not d is None:\n",
    "        return Udict[letter + \"_\" + a + b + c + \"_\" + \"\".join(d)]\n",
    "    try:\n",
    "        return Udict[letter +\"_\"+ a + b +c]\n",
    "    except KeyError:\n",
    "        return Rdict[letter +\"_\"+ a + b +c]"
   ]
  },
  {
   "cell_type": "markdown",
   "metadata": {
    "deletable": true,
    "editable": true
   },
   "source": [
    "We now create the relations."
   ]
  },
  {
   "cell_type": "code",
   "execution_count": 4,
   "metadata": {
    "collapsed": false,
    "deletable": true,
    "editable": true
   },
   "outputs": [],
   "source": [
    "def make_rel(lh, i, j, S = None):\n",
    "    \"\"\"\n",
    "    lh is one of \"ff\", \"fh\", \"hh\", or \"h2\"\n",
    "    i and j are the indexes appearing in the left hand side\n",
    "    S is the set of indexes with size equal to g, must contain i,j, defaults to [i,j]\n",
    "\n",
    "    j must be None in the case of \"h2\".\n",
    "    \"\"\"\n",
    "    if S is None:\n",
    "        if j is not None and g==2:\n",
    "            S = [i,j]\n",
    "        else:\n",
    "            raise Exception(\"Not able to automatically find S.\")\n",
    "\n",
    "    if not j is None:\n",
    "        notij = copy(S)\n",
    "        notij.remove(i)\n",
    "        notij.remove(j)\n",
    "         \n",
    "    S.sort()\n",
    "\n",
    "    if lh == \"ff\":\n",
    "        return ( v(\"f\",i,S)*v(\"f\",j,S) , v(\"al\",j,i)*v(\"h\",i,S) + v(\"al\",i,j)*v(\"h\",j,S) + v(\"ga\",j,i)*v(\"f\",i,S) + v(\"ga\",i,j)*v(\"f\",j,S) + sum((v(\"c\",i,j,k)*v(\"f\",k,S) for k in notij)) + v(\"a\",i,j) )\n",
    "\n",
    "    elif lh == \"fh\":\n",
    "        return (v(\"f\",i,S)*v(\"h\",j,S) , v(\"d\",i,j)*v(\"f\",j,S)**2 + v(\"t\",j,i)*v(\"h\",i,S) + v(\"v\",i,j)*v(\"h\",j,S) + v(\"r\",j,i)*v(\"f\",i,S) + v(\"del\",i,j)*v(\"f\",j,S) + sum(( v(\"e\", i,j,k)*v(\"f\",k,S) for k in notij)) + v(\"b\",i,j))\n",
    "\n",
    "    elif lh == \"hh\":\n",
    "        return (v(\"h\",i,S)*v(\"h\",j,S) , v(\"be\",j,i)*v(\"f\",i,S)**2 + v(\"be\",i,j)*v(\"f\",j,S)**2 + v(\"ep\",j,i)*v(\"h\",i,S) + v(\"ep\",i,j)*v(\"h\",j,S) + v(\"psi\",j,i)*v(\"f\",i,S) + v(\"psi\",i,j)*v(\"f\",j,S) + sum((v(\"ell\",i,j,k)*v(\"f\",k,S) for k in notij)) + v(\"u\",i,j))\n",
    "\n",
    "    elif lh == \"h2\":\n",
    "        if not j is None:\n",
    "            raise Exception(\"j must be None\")\n",
    "\n",
    "        noti = copy(S)\n",
    "        noti.remove(i)\n",
    "\n",
    "        return (v(\"h\",i,S)**2, v(\"f\",i,S)**3 + sum(( v(\"g\",i,k)*v(\"h\",k,S) for k in noti)) + v(\"pi\",i,S)*v(\"f\",i,S) + sum((v(\"k\",i,k)*v(\"f\",k,S) for k in noti)) + v(\"s\",i,S))"
   ]
  },
  {
   "cell_type": "markdown",
   "metadata": {
    "deletable": true,
    "editable": true
   },
   "source": [
    "\n",
    "First, we want to check the following.\n",
    "### Lemma\n",
    "The ring $\\mathcal U^{ns}_{2,n}(ij)$ is generated by ten variables $\\alpha_{ij}$, $\\beta_{ij}$, $\\gamma_{ij}$, $\\epsilon_{ij}$, $\\pi_i$.\n",
    "\n",
    "We know that the ring is generated by all the coefficients appearing in the equations on page 9 of \"... as moduli of $A_\\infty$-structres\". There are 23 letters appearing there. 3 of them ($c$, $e$, and $l$) do not occur in genus 2, and $q$, $r$, and $u$ (with one subscript), we make 0 by adding constants to $f$ and $g$. Hence, we need to eliminate 12 letters. \n",
    "\n",
    "By symmetry we will just check the case $i,j = 1,2$. We use the Buchberger algorithm to find relations."
   ]
  },
  {
   "cell_type": "code",
   "execution_count": 5,
   "metadata": {
    "collapsed": false,
    "deletable": true,
    "editable": true
   },
   "outputs": [
    {
     "name": "stdout",
     "output_type": "stream",
     "text": [
      "Warning: S is hard coded here!!!!\n"
     ]
    }
   ],
   "source": [
    "lms = []\n",
    "#the leading monomials\n",
    "S = [\"1\",\"2\"]\n",
    "print \"Warning: S is hard coded here!!!!\"\n",
    "\n",
    "for i, j in Combinations(S,2):\n",
    "    lms.append( (v(\"f\",i,S)*v(\"f\",j,S), make_rel , (\"ff\", i, j,S)))\n",
    "    lms.append( (v(\"h\",i,S)*v(\"h\",j,S), make_rel, (\"hh\", i, j,S)))\n",
    "\n",
    "for i in S:\n",
    "    lms.append( (v(\"h\",i,S)^2, make_rel , (\"h2\", i, None, S)))  \n",
    "    for j in S:\n",
    "        if j==i:\n",
    "            continue\n",
    "        lms.append( (v(\"f\",i,S)*v(\"h\",j,S), make_rel,(\"fh\", i, j,S)))\n",
    "\n",
    "def doS(r1,r2):\n",
    "    \"\"\"\n",
    "    Implements the Buchberger algorithm to find relations between the coefficients.\n",
    "    \"\"\"\n",
    "    L = lcm(r1[0].change_ring(QQ), r2[0].change_ring(QQ))\n",
    "    factor1 = L.quo_rem(r1[0])[0]\n",
    "    factor2 = L.quo_rem(r2[0])[0]\n",
    "    S = factor1 * r1[1] - factor2 * r2[1]\n",
    "    S1 = S\n",
    "    done = False\n",
    "    while not done:\n",
    "        newS = 0\n",
    "        for m in S1.monomials():\n",
    "            can_be_reduced = False\n",
    "            for lm in lms:\n",
    "                if lm[0].divides(m):\n",
    "                    can_be_reduced = True\n",
    "                    #newS += make_rel(lm[1], lm[2], lm[3])[1] *(m/lm[0]).numerator()*S1.monomial_coefficient(m)\n",
    "                    newS += (lm[1](*lm[2]))[1] * (m/lm[0]).numerator()*S1.monomial_coefficient(m)\n",
    "                    break\n",
    "            if not can_be_reduced:\n",
    "                newS += m*S1.monomial_coefficient(m)\n",
    "\n",
    "\n",
    "        if S1 == newS:\n",
    "            done = True\n",
    "        else:\n",
    "            #print \"need to go again\"\n",
    "            S1 = newS\n",
    "\n",
    "    #print \"Relations Found:\"\n",
    "    for c in newS.coefficients():\n",
    "        yield c\n",
    "\n",
    "monos_to_save = [\"al_12\",\"al_21\", \"be_12\", \"be_21\", \"ga_12\", \"ga_21\", \"pi_1\", \"pi_2\", \"ep_12\", \"ep_21\"]\n",
    "def eliminate_vars(r1,r2):\n",
    "    for rrr in doS(r1,r2):\n",
    "        do_monos =[]\n",
    "        for m in rrr.monomials():\n",
    "            if m.degree() == 1:\n",
    "                do_monos.append(m)\n",
    "\n",
    "        doe_monos = []\n",
    "        for m in do_monos:\n",
    "            if str(m) not in monos_to_save:\n",
    "                doe_monos.append(m)\n",
    "\n",
    "        if len(doe_monos) == 0:\n",
    "            if len(do_monos) >0:\n",
    "                raise Exception(\"Must eliminate reserved var!!!!!\")\n",
    "            #otherwise do nothing, can't eliminate a ver\n",
    "        else:\n",
    "\n",
    "            m = doe_monos[0]\n",
    "\n",
    "            #rels_found[m] = m-1/rrr.monomial_coefficient(m)*rrr\n",
    "            print \"Adding relations of the form:\",m, \"=\",m-1/rrr.monomial_coefficient(m)*rrr\n",
    "            for a,b in make_all_subs([str(m), str(m-1/rrr.monomial_coefficient(m)*rrr)]): \n",
    "                #Don't love this method of making sure we don't double eliminate a relation...\n",
    "                if len(str(m)) == len(str(eval(a))):\n",
    "                    Udict[str(eval(a))] = eval(b)\n",
    "            \n",
    "            reduceUdict()\n",
    "\n",
    "            \n",
    "def reduceUdict():\n",
    "    \n",
    "    vUdict = {Uring(k):val for k,val in Udict.items()}\n",
    "    for k, val in Udict.items(): \n",
    "        Udict[k] = val.subs(vUdict)\n",
    "        \n",
    "import re\n",
    "def make_all_subs(strs):\n",
    "    indexes_involved = set()\n",
    "    for st in strs:\n",
    "        for match in re.finditer(r\"[a-z]+_(\\d+)(?:_(\\d+))?\",st):\n",
    "            indexes_involved.update(match.group(1))\n",
    "            if not match.group(2) is None:\n",
    "                indexes_involved.update(match.group(2))\n",
    "\n",
    "    indexes_involved = list(indexes_involved)\n",
    "\n",
    "    for s in Subsets(indexes, len(indexes_involved)):\n",
    "        for p in Permutations(s):\n",
    "\n",
    "            def permute_indices(matchobj):\n",
    "                #Tracer()()\n",
    "                new_indexes = []\n",
    "                for i in matchobj.group(2):\n",
    "                    new_indexes += p[indexes_involved.index(i)]\n",
    "                if matchobj.group(3) is None:\n",
    "                    return \"v('\" + matchobj.group(1) + \"', '\" +  \"','\".join(new_indexes) + \"')\"\n",
    "                #else\n",
    "                new_indexes2 = []\n",
    "                for i in matchobj.group(3):\n",
    "                    new_indexes2 += p[indexes_involved.index(i)]\n",
    "                    \n",
    "                if matchobj.group(1) == \"h\":\n",
    "                    #it is an S, j type\n",
    "                    new_indexes.sort()\n",
    "                    return \"v('\" + matchobj.group(1) + \"', \" + str(new_indexes) + \"', '\" + \", '\".join(new_indexes2) + \"')\"\n",
    "                #else it is a i, S type\n",
    "                new_indexes2.sort()\n",
    "                return \"v('\" + matchobj.group(1) + \"', '\" +  \"','\".join(new_indexes) + \"', \" + str(new_indexes2) + \")\"\n",
    "                \n",
    "\n",
    "            yield tuple((re.sub(r\"([a-z]+)_(\\d+)(?:_(\\d+))?\", permute_indices, str).replace(\"^\",\"**\") for str in strs))\n",
    "            #yield tuple((re.sub(r\"([a-z]+)_([0-9])([0-9])?([0-9])?\", permute_indices, str).replace(\"^\",\"**\") for str in strs))"
   ]
  },
  {
   "cell_type": "markdown",
   "metadata": {
    "deletable": true,
    "editable": true
   },
   "source": [
    "Doing Buchberger on the $f_1f_2$ and $f_1h_2$ equations elimnates $d_{ij}$, $\\delta_{12}$, 3 more."
   ]
  },
  {
   "cell_type": "code",
   "execution_count": 6,
   "metadata": {
    "collapsed": false,
    "deletable": true,
    "editable": true
   },
   "outputs": [
    {
     "name": "stdout",
     "output_type": "stream",
     "text": [
      "Adding relations of the form: d_12 = al_12\n",
      "Adding relations of the form: del_12 = ga_21*d_12 + al_21*be_12\n",
      "Adding relations of the form: v_12 = ga_12\n",
      "Adding relations of the form: b_12 = -t_21*r_12 - ga_12*r_21 + ga_21*del_12 + al_21*psi_12 + al_12*pi_2_12\n",
      "Adding relations of the form: a_12 = t_12*t_21 - ga_21*v_12 + al_12*r_21 - al_21*ep_12\n"
     ]
    }
   ],
   "source": [
    "eliminate_vars(make_rel(\"ff\",\"1\",\"2\"),make_rel(\"fh\",\"1\",\"2\"))"
   ]
  },
  {
   "cell_type": "markdown",
   "metadata": {
    "deletable": true,
    "editable": true
   },
   "source": [
    "Find 4 more"
   ]
  },
  {
   "cell_type": "code",
   "execution_count": 7,
   "metadata": {
    "collapsed": false,
    "deletable": true,
    "editable": true
   },
   "outputs": [
    {
     "name": "stdout",
     "output_type": "stream",
     "text": [
      "Adding relations of the form: t_21 = be_21\n",
      "Adding relations of the form: psi_21 = 3*al_12*al_21*ga_21 + ga_12*be_21\n",
      "Adding relations of the form: r_21 = -al_12*al_21^2 + ep_21\n",
      "Adding relations of the form: u_12 = 3*al_12*al_21*ga_12*ga_21 + al_12*al_21*t_12*t_21 + 2*al_12^2*al_21*r_21 + 3*al_12^2*ga_21*be_21 - al_12*al_21^2*ep_12 - ga_21^2*be_12 - r_21*ep_12 - ga_21*psi_12 + ga_12*psi_21 + t_21*pi_1_12\n"
     ]
    }
   ],
   "source": [
    "eliminate_vars(make_rel(\"hh\",\"1\",\"2\"),make_rel(\"fh\",\"1\",\"2\"))"
   ]
  },
  {
   "cell_type": "markdown",
   "metadata": {
    "deletable": true,
    "editable": true
   },
   "source": [
    "And here are the last 3:"
   ]
  },
  {
   "cell_type": "code",
   "execution_count": 8,
   "metadata": {
    "collapsed": false,
    "deletable": true,
    "editable": true
   },
   "outputs": [
    {
     "name": "stdout",
     "output_type": "stream",
     "text": [
      "Adding relations of the form: g_12 = -al_12^3\n",
      "Adding relations of the form: k_12 = -3*al_12^2*ga_12 + be_12^2\n",
      "Adding relations of the form: s_1_12 = 2*al_12^4*al_21^2 - 6*al_12^2*ga_12*ga_21 - al_12^2*be_12*be_21 - 2*al_12^3*ep_21 - al_12*al_21^2*g_12 - ga_12^3 + 2*ga_21*be_12^2 + ep_12^2 + ep_21*g_12 - ga_12*pi_1_12\n"
     ]
    }
   ],
   "source": [
    "eliminate_vars(make_rel(\"hh\",\"1\",\"2\"),make_rel(\"h2\",\"1\",None,[\"1\",\"2\"]))"
   ]
  },
  {
   "cell_type": "markdown",
   "metadata": {
    "deletable": true,
    "editable": true
   },
   "source": [
    "Maybe you are worried about cyclic dependencies, but check out the `Udict` to make sure all is legit:"
   ]
  },
  {
   "cell_type": "code",
   "execution_count": 9,
   "metadata": {
    "collapsed": false,
    "deletable": true,
    "editable": true,
    "scrolled": false
   },
   "outputs": [
    {
     "name": "stdout",
     "output_type": "stream",
     "text": [
      "~~~ al_12 = al_12\n",
      "~~~ t_21 = be_21\n",
      "~~~ pi_22_12 = pi_22_12\n",
      "~~~ r_12 = -al_12^2*al_21 + ep_12\n",
      "~~~ s_2_12 = 3*al_12^2*al_21^4 - 6*al_21^2*ga_12*ga_21 - al_21^2*be_12*be_21 - 3*al_21^3*ep_12 - ga_21^3 + 2*ga_12*be_21^2 + ep_21^2 - ga_21*pi_2_12\n",
      "~~~ ep_12 = ep_12\n",
      "~~~ g_12 = -al_12^3\n",
      "~~~ pi_1_12 = pi_1_12\n",
      "~~~ pi_2_12 = pi_2_12\n",
      "~~~ del_21 = al_21*ga_12 + al_12*be_21\n",
      "~~~ be_21 = be_21\n",
      "~~~ u_12 = -2*al_12^3*al_21^3 + 3*al_12*al_21*ga_12*ga_21 + 3*al_12^2*ga_21*be_21 + al_12*al_21*be_12*be_21 + 2*al_12^2*al_21*ep_21 - 2*ga_21^2*be_12 + ga_12^2*be_21 - ep_12*ep_21 + be_21*pi_1_12\n",
      "~~~ a_21 = -al_12^2*al_21^2 - ga_12*ga_21 + be_12*be_21 + al_21*ep_12 - al_12*ep_21\n",
      "~~~ theta_12 = theta_12\n",
      "~~~ psi_12 = 3*al_12*al_21*ga_12 + ga_21*be_12\n",
      "~~~ ep_11_12 = ep_11_12\n",
      "~~~ theta_11_12 = theta_11_12\n",
      "~~~ v_21 = ga_21\n",
      "~~~ b_21 = 4*al_12^2*al_21*ga_21 + al_12*al_21^2*be_12 + al_21*ga_12^2 + 2*al_12*ga_12*be_21 - ga_21*ep_12 - be_12*ep_21 + al_21*pi_1_12\n",
      "~~~ ga_12 = ga_12\n",
      "~~~ ga_22_12 = ga_22_12\n",
      "~~~ k_21 = -3*al_21^2*ga_21 + be_21^2\n",
      "~~~ d_12 = al_12\n",
      "~~~ s_1_12 = 3*al_12^4*al_21^2 - 6*al_12^2*ga_12*ga_21 - al_12^2*be_12*be_21 - 3*al_12^3*ep_21 - ga_12^3 + 2*ga_21*be_12^2 + ep_12^2 - ga_12*pi_1_12\n",
      "~~~ ep_22_12 = ep_22_12\n",
      "~~~ g_21 = -al_21^3\n",
      "~~~ r_21 = -al_12*al_21^2 + ep_21\n",
      "~~~ al_21 = al_21\n",
      "~~~ del_22_12 = del_22_12\n",
      "~~~ del_11_12 = del_11_12\n",
      "~~~ t_12 = be_12\n",
      "~~~ theta_21 = theta_21\n",
      "~~~ u_21 = -2*al_12^3*al_21^3 + 3*al_12*al_21*ga_12*ga_21 + 3*al_21^2*ga_12*be_12 + al_12*al_21*be_12*be_21 + 2*al_12*al_21^2*ep_12 + ga_21^2*be_12 - 2*ga_12^2*be_21 - ep_12*ep_21 + be_12*pi_2_12\n",
      "~~~ v_12 = ga_12\n",
      "~~~ ga_21 = ga_21\n",
      "~~~ ep_21 = ep_21\n",
      "~~~ del_12 = al_12*ga_21 + al_21*be_12\n",
      "~~~ theta_22_12 = theta_22_12\n",
      "~~~ be_12 = be_12\n",
      "~~~ pi_12 = pi_12\n",
      "~~~ pi_11_12 = pi_11_12\n",
      "~~~ d_21 = al_21\n",
      "~~~ pi_21 = pi_21\n",
      "~~~ k_12 = -3*al_12^2*ga_12 + be_12^2\n",
      "~~~ b_12 = 4*al_12*al_21^2*ga_12 + al_12^2*al_21*be_21 + al_12*ga_21^2 + 2*al_21*ga_21*be_12 - be_21*ep_12 - ga_12*ep_21 + al_12*pi_2_12\n",
      "~~~ a_12 = -al_12^2*al_21^2 - ga_12*ga_21 + be_12*be_21 - al_21*ep_12 + al_12*ep_21\n",
      "~~~ psi_21 = 3*al_12*al_21*ga_21 + ga_12*be_21\n",
      "~~~ ga_11_12 = ga_11_12\n"
     ]
    }
   ],
   "source": [
    "for k, val in Udict.items():\n",
    "    print \"~~~\", k, \"=\", val"
   ]
  },
  {
   "cell_type": "code",
   "execution_count": 10,
   "metadata": {
    "collapsed": false,
    "deletable": true,
    "editable": true
   },
   "outputs": [
    {
     "name": "stdout",
     "output_type": "stream",
     "text": [
      "dim:  1\n",
      "smooth:  False\n",
      "hilb p:  6*t - 1\n",
      "\n",
      "   Closed subscheme of Affine Space of dimension 4 over Rational Field defined by:\n",
      "  12*f_2_12 - 8*h_2_12 - 5,\n",
      "  16*h_2_12^2 - 36*f_1_12 - 40*h_2_12 + 43,\n",
      "  16*f_1_12*h_2_12 - 20*f_1_12 - 24*h_1_12 + 4*h_2_12 - 5,\n",
      "  24*f_1_12^2 - 16*h_1_12*h_2_12 - 6*f_1_12 + 20*h_1_12 - 3\n",
      "  dim:  1\n",
      "  smooth:  True\n",
      "  hilb p:  3*t + 1\n",
      "  genus:  0\n",
      "   Closed subscheme of Affine Space of dimension 4 over Rational Field defined by:\n",
      "  12*f_1_12 + 8*h_1_12 - 5,\n",
      "  16*h_1_12^2 - 36*f_2_12 + 40*h_1_12 + 43,\n",
      "  16*f_2_12*h_1_12 + 20*f_2_12 + 4*h_1_12 - 24*h_2_12 + 5,\n",
      "  24*f_2_12^2 - 16*h_1_12*h_2_12 - 6*f_2_12 - 20*h_2_12 - 3\n",
      "  dim:  1\n",
      "  smooth:  True\n",
      "  hilb p:  3*t + 1\n",
      "  genus:  0\n",
      "  intersection, dim: 0\n",
      "  smooth:  False\n",
      "  hilb p:  3\n",
      "  irr: False\n",
      "(3/4, 3/4, -1/2, 1/2) mult  multiplicity not computed\n",
      "\n"
     ]
    }
   ],
   "source": [
    "rels = [make_rel(\"ff\",\"1\",\"2\"), make_rel(\"fh\",\"1\",\"2\"), make_rel(\"fh\",\"2\",\"1\"), make_rel(\"hh\",\"1\",\"2\"), make_rel(\"h2\",\"1\",None,[\"1\",\"2\"]), make_rel(\"h2\",\"2\",None,[\"1\",\"2\"])]\n",
    "rels2 = [r[0]-r[1] for r in rels]\n",
    "\n",
    "F = QQ\n",
    "RR.<f_1_12,f_2_12,h_1_12,h_2_12> = AffineSpace(4,F)\n",
    "\n",
    "c_point_dict ={\n",
    "    v(\"al\",\"1\",\"2\") :-1,\n",
    "    v(\"al\",\"2\",\"1\") :1,\n",
    "    v(\"be\",\"1\",\"2\") : 3/2,\n",
    "    v(\"be\",\"2\",\"1\") :3/2,\n",
    "    v(\"ga\",\"1\",\"2\") : 5/4,\n",
    "    v(\"ga\",\"2\",\"1\") :5/4,\n",
    "    v(\"ep\",\"1\",\"2\") :-5/4,\n",
    "    v(\"ep\",\"2\",\"1\") :5/4,\n",
    "    v(\"pi\",\"1\",[\"1\",\"2\"]) : -3/16,\n",
    "    v(\"pi\",\"2\",[\"1\",\"2\"]) : -3/16,\n",
    "}\n",
    "\n",
    "rels3 = [r.map_coefficients(lambda coef: coef.subs(c_point_dict)) for r in rels2]\n",
    "#rels4 = [RR(r) for r in rels3]\n",
    "\n",
    "X = RR.subscheme(rels3)\n",
    "\n",
    "print \"dim: \", X.dimension()\n",
    "print \"smooth: \", X.is_smooth()\n",
    "print \"hilb p: \", X.defining_ideal().homogenize().hilbert_polynomial()\n",
    "print\n",
    "for Xi in X.irreducible_components():\n",
    "    print \"  \", Xi\n",
    "    print \"  dim: \", Xi.dimension()\n",
    "    print \"  smooth: \", Xi.is_smooth()\n",
    "    print \"  hilb p: \", Xi.defining_ideal().homogenize().hilbert_polynomial()\n",
    "    if Xi.dimension() == 1:\n",
    "        C = Curve(Xi)\n",
    "        print \"  genus: \", C.genus()\n",
    "        if C.is_singular():\n",
    "            print \"  sing points\", C.singular_points()  \n",
    "\n",
    "for Xi, Xj in Subsets(X.irreducible_components(),2):\n",
    "    inters = Xi.intersection(Xj)\n",
    "    print \"  intersection, dim:\",inters.dimension()\n",
    "    print \"  smooth: \", inters.is_smooth()\n",
    "    print \"  hilb p: \", inters.defining_ideal().homogenize().hilbert_polynomial()\n",
    "    print \"  irr:\", inters.is_irreducible()\n",
    "    if Xi.dimension() == 1 and Xj.dimension() == 1:\n",
    "        Ci = Curve(Xi)\n",
    "        Cj = Curve(Xj)\n",
    "        for p in Ci.intersection_points(Cj):\n",
    "            try:\n",
    "                print p, \"mult \", Ci.intersection_multiplicity(Cj,p)\n",
    "            except:\n",
    "                print \"multiplicity not computed\"\n",
    "\n",
    "    print\n"
   ]
  },
  {
   "cell_type": "code",
   "execution_count": null,
   "metadata": {
    "collapsed": true
   },
   "outputs": [],
   "source": [
    "the_plane ={\n",
    "    h_2_12 : 1/40 (16*h_2_12^2 - 36*f_1_12  + 43),\n",
    "    f_2_12 : \n",
    "}"
   ]
  },
  {
   "cell_type": "code",
   "execution_count": 21,
   "metadata": {
    "collapsed": false
   },
   "outputs": [
    {
     "name": "stdout",
     "output_type": "stream",
     "text": [
      "[                                                      al_12                                                       al_21                                                       be_12                                                       be_21]\n",
      "[                                                    2*ep_12                                                     2*ep_21 3*al_12^2*ga_21 + 3*al_12*al_21*be_12 + 3*ga_12^2 + pi_1_12 3*al_21^2*ga_12 + 3*al_12*al_21*be_21 + 3*ga_21^2 + pi_2_12]\n",
      "2\n"
     ]
    }
   ],
   "source": [
    "pit = dict()\n",
    "for i,j in [(\"1\",\"2\"),(\"2\",\"1\")]:\n",
    "    pit[i] = v(\"pi\",i,[\"1\",\"2\"]) + 3*v(\"al\",i,j)^2*v(\"ga\",j,i) + 3*v(\"ga\",i,j)^2 + 3*v(\"al\",i,j)*v(\"al\",j,i)*v(\"be\",i,j)\n",
    "    \n",
    "M = Matrix([[v(\"al\",\"1\",\"2\") , v(\"al\",\"2\",\"1\"), v(\"be\",\"1\",\"2\") , v(\"be\",\"2\",\"1\") ],\n",
    "            [2*v(\"ep\",\"1\",\"2\") , 2*v(\"ep\",\"2\",\"1\"), pit[\"1\"] , pit[\"2\"]]])\n",
    "M.subs(c_point_dict)\n",
    "print M\n",
    "print M.rank()"
   ]
  },
  {
   "cell_type": "code",
   "execution_count": 12,
   "metadata": {
    "collapsed": false
   },
   "outputs": [
    {
     "data": {
      "text/plain": [
       "Closed subscheme of Affine Space of dimension 4 over Rational Field defined by:\n",
       "  f_1_12*f_2_12 - 5/4*f_1_12 - 5/4*f_2_12 - h_1_12 + h_2_12 + 5/16,\n",
       "  f_2_12^2 + f_1_12*h_2_12 - 9/4*f_1_12 - 1/4*f_2_12 - 3/2*h_1_12 - 5/4*h_2_12 + 13/16,\n",
       "  -f_1_12^2 + f_2_12*h_1_12 + 1/4*f_1_12 + 9/4*f_2_12 - 5/4*h_1_12 - 3/2*h_2_12 - 13/16,\n",
       "  -3/2*f_1_12^2 - 3/2*f_2_12^2 + h_1_12*h_2_12 + 15/8*f_1_12 + 15/8*f_2_12 - 5/4*h_1_12 + 5/4*h_2_12 - 17/8,\n",
       "  -f_1_12^3 + h_1_12^2 + 3/16*f_1_12 + 3/2*f_2_12 - h_2_12 - 19/32,\n",
       "  -f_2_12^3 + h_2_12^2 + 3/2*f_1_12 + 3/16*f_2_12 + h_1_12 - 19/32"
      ]
     },
     "execution_count": 12,
     "metadata": {},
     "output_type": "execute_result"
    }
   ],
   "source": [
    "X"
   ]
  },
  {
   "cell_type": "code",
   "execution_count": 13,
   "metadata": {
    "collapsed": false
   },
   "outputs": [
    {
     "data": {
      "text/plain": [
       "(f_1_12*f_2_12,\n",
       " ga_21*f_1_12 + ga_12*f_2_12 + al_21*h_1_12 + al_12*h_2_12 - al_12^2*al_21^2 - ga_12*ga_21 + be_12*be_21 - al_21*ep_12 + al_12*ep_21)"
      ]
     },
     "execution_count": 13,
     "metadata": {},
     "output_type": "execute_result"
    }
   ],
   "source": [
    "make_rel(\"ff\",\"1\",\"2\")"
   ]
  },
  {
   "cell_type": "code",
   "execution_count": 14,
   "metadata": {
    "collapsed": false
   },
   "outputs": [
    {
     "data": {
      "text/plain": [
       "[f_1_12*f_2_12 + (-ga_21)*f_1_12 + (-ga_12)*f_2_12 + (-al_21)*h_1_12 + (-al_12)*h_2_12 + al_12^2*al_21^2 + ga_12*ga_21 - be_12*be_21 + al_21*ep_12 - al_12*ep_21,\n",
       " (-al_12)*f_2_12^2 + f_1_12*h_2_12 + (al_12*al_21^2 - ep_21)*f_1_12 + (-al_12*ga_21 - al_21*be_12)*f_2_12 + (-be_21)*h_1_12 + (-ga_12)*h_2_12 - 4*al_12*al_21^2*ga_12 - al_12^2*al_21*be_21 - al_12*ga_21^2 - 2*al_21*ga_21*be_12 + be_21*ep_12 + ga_12*ep_21 - al_12*pi_2_12,\n",
       " (-al_21)*f_1_12^2 + f_2_12*h_1_12 + (-al_21*ga_12 - al_12*be_21)*f_1_12 + (al_12^2*al_21 - ep_12)*f_2_12 + (-ga_21)*h_1_12 + (-be_12)*h_2_12 - 4*al_12^2*al_21*ga_21 - al_12*al_21^2*be_12 - al_21*ga_12^2 - 2*al_12*ga_12*be_21 + ga_21*ep_12 + be_12*ep_21 - al_21*pi_1_12,\n",
       " (-be_21)*f_1_12^2 + (-be_12)*f_2_12^2 + h_1_12*h_2_12 + (-3*al_12*al_21*ga_21 - ga_12*be_21)*f_1_12 + (-3*al_12*al_21*ga_12 - ga_21*be_12)*f_2_12 + (-ep_21)*h_1_12 + (-ep_12)*h_2_12 + 2*al_12^3*al_21^3 - 3*al_12*al_21*ga_12*ga_21 - 3*al_12^2*ga_21*be_21 - al_12*al_21*be_12*be_21 - 2*al_12^2*al_21*ep_21 + 2*ga_21^2*be_12 - ga_12^2*be_21 + ep_12*ep_21 - be_21*pi_1_12,\n",
       " -f_1_12^3 + h_1_12^2 + (-pi_1_12)*f_1_12 + (3*al_12^2*ga_12 - be_12^2)*f_2_12 + al_12^3*h_2_12 - 3*al_12^4*al_21^2 + 6*al_12^2*ga_12*ga_21 + al_12^2*be_12*be_21 + 3*al_12^3*ep_21 + ga_12^3 - 2*ga_21*be_12^2 - ep_12^2 + ga_12*pi_1_12,\n",
       " -f_2_12^3 + h_2_12^2 + (3*al_21^2*ga_21 - be_21^2)*f_1_12 + (-pi_2_12)*f_2_12 + al_21^3*h_1_12 - 3*al_12^2*al_21^4 + 6*al_21^2*ga_12*ga_21 + al_21^2*be_12*be_21 + 3*al_21^3*ep_12 + ga_21^3 - 2*ga_12*be_21^2 - ep_21^2 + ga_21*pi_2_12]"
      ]
     },
     "execution_count": 14,
     "metadata": {},
     "output_type": "execute_result"
    }
   ],
   "source": [
    "rels2"
   ]
  },
  {
   "cell_type": "code",
   "execution_count": 15,
   "metadata": {
    "collapsed": false
   },
   "outputs": [],
   "source": [
    "rels = [make_rel(\"ff\",\"1\",\"2\"), make_rel(\"fh\",\"1\",\"2\"), make_rel(\"fh\",\"2\",\"1\"), make_rel(\"hh\",\"1\",\"2\"), make_rel(\"h2\",\"1\",None,[\"1\",\"2\"]), make_rel(\"h2\",\"2\",None,[\"1\",\"2\"])]\n",
    "rels2 = [(r[0].map_coefficients(lambda coef: coef.subs(c_point_dict)), r[1].map_coefficients(lambda coef: coef.subs(c_point_dict))) for r in rels]\n",
    "\n"
   ]
  },
  {
   "cell_type": "code",
   "execution_count": 16,
   "metadata": {
    "collapsed": false
   },
   "outputs": [
    {
     "data": {
      "text/plain": [
       "[(f_1_12*f_2_12, 5/4*f_1_12 + 5/4*f_2_12 + h_1_12 - h_2_12 - 5/16),\n",
       " (f_1_12*h_2_12,\n",
       "  -f_2_12^2 + 9/4*f_1_12 + 1/4*f_2_12 + 3/2*h_1_12 + 5/4*h_2_12 - 13/16),\n",
       " (f_2_12*h_1_12,\n",
       "  f_1_12^2 + (-1/4)*f_1_12 + (-9/4)*f_2_12 + 5/4*h_1_12 + 3/2*h_2_12 + 13/16),\n",
       " (h_1_12*h_2_12,\n",
       "  3/2*f_1_12^2 + 3/2*f_2_12^2 + (-15/8)*f_1_12 + (-15/8)*f_2_12 + 5/4*h_1_12 + (-5/4)*h_2_12 + 17/8),\n",
       " (h_1_12^2, f_1_12^3 + (-3/16)*f_1_12 + (-3/2)*f_2_12 + h_2_12 + 19/32),\n",
       " (h_2_12^2, f_2_12^3 + (-3/2)*f_1_12 + (-3/16)*f_2_12 - h_1_12 + 19/32)]"
      ]
     },
     "execution_count": 16,
     "metadata": {},
     "output_type": "execute_result"
    }
   ],
   "source": [
    "rels2"
   ]
  },
  {
   "cell_type": "code",
   "execution_count": 20,
   "metadata": {
    "collapsed": false
   },
   "outputs": [
    {
     "name": "stdout",
     "output_type": "stream",
     "text": [
      "doing (f_1_12*f_2_12, 5/4*f_1_12 + 5/4*f_2_12 + h_1_12 - h_2_12 - 5/16) (f_1_12*h_2_12, -f_2_12^2 + 9/4*f_1_12 + 1/4*f_2_12 + 3/2*h_1_12 + 5/4*h_2_12 - 13/16)\n",
      "\n",
      "doing (f_1_12*f_2_12, 5/4*f_1_12 + 5/4*f_2_12 + h_1_12 - h_2_12 - 5/16) (f_2_12*h_1_12, f_1_12^2 + (-1/4)*f_1_12 + (-9/4)*f_2_12 + 5/4*h_1_12 + 3/2*h_2_12 + 13/16)\n",
      "\n",
      "doing (f_1_12*f_2_12, 5/4*f_1_12 + 5/4*f_2_12 + h_1_12 - h_2_12 - 5/16) (h_1_12*h_2_12, 3/2*f_1_12^2 + 3/2*f_2_12^2 + (-15/8)*f_1_12 + (-15/8)*f_2_12 + 5/4*h_1_12 + (-5/4)*h_2_12 + 17/8)\n",
      "\n",
      "doing (f_1_12*f_2_12, 5/4*f_1_12 + 5/4*f_2_12 + h_1_12 - h_2_12 - 5/16) (h_1_12^2, f_1_12^3 + (-3/16)*f_1_12 + (-3/2)*f_2_12 + h_2_12 + 19/32)\n",
      "\n",
      "doing (f_1_12*f_2_12, 5/4*f_1_12 + 5/4*f_2_12 + h_1_12 - h_2_12 - 5/16) (h_2_12^2, f_2_12^3 + (-3/2)*f_1_12 + (-3/16)*f_2_12 - h_1_12 + 19/32)\n",
      "\n",
      "doing (f_1_12*h_2_12, -f_2_12^2 + 9/4*f_1_12 + 1/4*f_2_12 + 3/2*h_1_12 + 5/4*h_2_12 - 13/16) (f_2_12*h_1_12, f_1_12^2 + (-1/4)*f_1_12 + (-9/4)*f_2_12 + 5/4*h_1_12 + 3/2*h_2_12 + 13/16)\n",
      "\n",
      "doing (f_1_12*h_2_12, -f_2_12^2 + 9/4*f_1_12 + 1/4*f_2_12 + 3/2*h_1_12 + 5/4*h_2_12 - 13/16) (h_1_12*h_2_12, 3/2*f_1_12^2 + 3/2*f_2_12^2 + (-15/8)*f_1_12 + (-15/8)*f_2_12 + 5/4*h_1_12 + (-5/4)*h_2_12 + 17/8)\n",
      "\n",
      "doing (f_1_12*h_2_12, -f_2_12^2 + 9/4*f_1_12 + 1/4*f_2_12 + 3/2*h_1_12 + 5/4*h_2_12 - 13/16) (h_1_12^2, f_1_12^3 + (-3/16)*f_1_12 + (-3/2)*f_2_12 + h_2_12 + 19/32)\n",
      "\n",
      "doing (f_1_12*h_2_12, -f_2_12^2 + 9/4*f_1_12 + 1/4*f_2_12 + 3/2*h_1_12 + 5/4*h_2_12 - 13/16) (h_2_12^2, f_2_12^3 + (-3/2)*f_1_12 + (-3/16)*f_2_12 - h_1_12 + 19/32)\n",
      "\n",
      "doing (f_2_12*h_1_12, f_1_12^2 + (-1/4)*f_1_12 + (-9/4)*f_2_12 + 5/4*h_1_12 + 3/2*h_2_12 + 13/16) (h_1_12*h_2_12, 3/2*f_1_12^2 + 3/2*f_2_12^2 + (-15/8)*f_1_12 + (-15/8)*f_2_12 + 5/4*h_1_12 + (-5/4)*h_2_12 + 17/8)\n",
      "\n",
      "doing (f_2_12*h_1_12, f_1_12^2 + (-1/4)*f_1_12 + (-9/4)*f_2_12 + 5/4*h_1_12 + 3/2*h_2_12 + 13/16) (h_1_12^2, f_1_12^3 + (-3/16)*f_1_12 + (-3/2)*f_2_12 + h_2_12 + 19/32)\n",
      "\n",
      "doing (f_2_12*h_1_12, f_1_12^2 + (-1/4)*f_1_12 + (-9/4)*f_2_12 + 5/4*h_1_12 + 3/2*h_2_12 + 13/16) (h_2_12^2, f_2_12^3 + (-3/2)*f_1_12 + (-3/16)*f_2_12 - h_1_12 + 19/32)\n",
      "\n",
      "doing (h_1_12*h_2_12, 3/2*f_1_12^2 + 3/2*f_2_12^2 + (-15/8)*f_1_12 + (-15/8)*f_2_12 + 5/4*h_1_12 + (-5/4)*h_2_12 + 17/8) (h_1_12^2, f_1_12^3 + (-3/16)*f_1_12 + (-3/2)*f_2_12 + h_2_12 + 19/32)\n",
      "\n",
      "doing (h_1_12*h_2_12, 3/2*f_1_12^2 + 3/2*f_2_12^2 + (-15/8)*f_1_12 + (-15/8)*f_2_12 + 5/4*h_1_12 + (-5/4)*h_2_12 + 17/8) (h_2_12^2, f_2_12^3 + (-3/2)*f_1_12 + (-3/16)*f_2_12 - h_1_12 + 19/32)\n",
      "\n",
      "doing (h_1_12^2, f_1_12^3 + (-3/16)*f_1_12 + (-3/2)*f_2_12 + h_2_12 + 19/32) (h_2_12^2, f_2_12^3 + (-3/2)*f_1_12 + (-3/16)*f_2_12 - h_1_12 + 19/32)\n",
      "\n"
     ]
    }
   ],
   "source": [
    "for c1,c2 in Combinations(rels2, 2):\n",
    "    print \"doing\", c1,c2\n",
    "    for r in doS(c1,c2):\n",
    "        if r.subs(c_point_dict) != 0:\n",
    "            print r\n",
    "            print r.subs(c_point_dict)\n",
    "            print\n",
    "    print\n",
    "        "
   ]
  },
  {
   "cell_type": "code",
   "execution_count": 18,
   "metadata": {
    "collapsed": true
   },
   "outputs": [],
   "source": [
    "Combinations?\n"
   ]
  },
  {
   "cell_type": "code",
   "execution_count": null,
   "metadata": {
    "collapsed": true
   },
   "outputs": [],
   "source": []
  }
 ],
 "metadata": {
  "kernelspec": {
   "display_name": "SageMath 8.1",
   "language": "",
   "name": "sagemath"
  },
  "language_info": {
   "codemirror_mode": {
    "name": "ipython",
    "version": 2
   },
   "file_extension": ".py",
   "mimetype": "text/x-python",
   "name": "python",
   "nbconvert_exporter": "python",
   "pygments_lexer": "ipython2",
   "version": "2.7.14"
  }
 },
 "nbformat": 4,
 "nbformat_minor": 2
}
