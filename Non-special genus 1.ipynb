{
 "cells": [
  {
   "cell_type": "code",
   "execution_count": 84,
   "metadata": {
    "collapsed": false
   },
   "outputs": [],
   "source": [
    "n = 3\n",
    "indexes = [str(i) for i in range(1, n+1)]\n",
    "\n",
    "def one_index_names(name):\n",
    "\treturn [name +\"_\"+ i  for i in indexes]\n",
    "\n",
    "def two_index_names(name):\n",
    "\treturn [name +\"_\"+ i + j for i in indexes for j in indexes if i != j]\n",
    "\n",
    "def jjpi_names(name):\n",
    "    return [name +\"_\"+ j + jp + \"_\" + i for j in indexes for jp in indexes for i in indexes if (j !=jp and j != i and jp != i)]\n",
    "\n",
    "Uring = PolynomialRing(QQ, one_index_names(\"pi\") + one_index_names(\"s\") + two_index_names(\"a\") + two_index_names(\"b\") \n",
    "                      +two_index_names(\"e\") + jjpi_names(\"c\") + one_index_names(\"ga\") + one_index_names(\"del\") +\n",
    "                       one_index_names(\"ep\") + one_index_names(\"theta\") + two_index_names(\"ac\") + two_index_names(\"alin\")\n",
    "                      + two_index_names(\"asq\")+ one_index_names(\"xx\") + one_index_names(\"yy\") +  two_index_names(\"blin\") +\n",
    "                       two_index_names(\"elin\") + two_index_names(\"bsq\") + two_index_names(\"esq\") + [\"aaa\",\"bbb\",\"ccc\",\"ddd\"])\n",
    "\n",
    "Rring = PolynomialRing(Uring, one_index_names(\"f\") + one_index_names(\"h\") + two_index_names(\"h\"))\n",
    "\n",
    "Udict = Uring.gens_dict()\n",
    "Rdict = Rring.gens_dict()\n",
    "\n",
    "def v(name, i, j = None, k=None):\n",
    "    #print name, i, j,k\n",
    "    if name == \"f\" or name == \"h\":\n",
    "        ring_dict = Rdict\n",
    "    else:\n",
    "        ring_dict = Udict\n",
    "    if j is None:\n",
    "        return ring_dict[name + \"_\" + i]\n",
    "    if k is None:\n",
    "        return ring_dict[name + \"_\" + i + j]\n",
    "    return ring_dict[name + \"_\" + i + j  + \"_\" +k]"
   ]
  },
  {
   "cell_type": "code",
   "execution_count": 85,
   "metadata": {
    "collapsed": true
   },
   "outputs": [],
   "source": [
    "def h2_rel(i):\n",
    "    return (v(\"h\",i)^2, v(\"f\",i)^3 + v(\"pi\",i)*v(\"f\",i) + v(\"s\",i))\n",
    "    \n",
    "def fh_rel(i,j):\n",
    "    return (v(\"f\",i)*v(\"h\",i,j), v(\"a\",i,j)*v(\"h\",i) + v(\"b\",i,j)*v(\"h\",i,j) + v(\"a\",i,j)*v(\"e\",i,j))\n",
    "\n",
    "def hh_rel(i,j):\n",
    "    return (v(\"h\",i)*v(\"h\",i,j), v(\"a\",i,j)*v(\"f\",i)^2 + v(\"e\",i,j)*v(\"h\",i,j) + v(\"a\",i,j)*v(\"b\",i,j)*v(\"f\",i) + v(\"a\",i,j)*(v(\"pi\",i) + v(\"b\",i,j)^2))"
   ]
  },
  {
   "cell_type": "code",
   "execution_count": 100,
   "metadata": {
    "collapsed": false
   },
   "outputs": [],
   "source": [
    "ExpandRing.<t> = LaurentSeriesRing(Uring)\n",
    "\n",
    "expand_at_dict = dict()\n",
    "\n",
    "def make_expand_dict():\n",
    "    for j in indexes: #expand at j\n",
    "        expand_at_dict[j] = dict()\n",
    "        for i in indexes: #looking at f_i, h_i\n",
    "            f = v(\"f\",i)\n",
    "            h = v(\"h\",i)\n",
    "            if i != j:\n",
    "                expand_at_dict[j][f] = v(\"b\",i,j)  + v(\"blin\",i,j)*t +  v(\"bsq\",i,j)*t^2 + O(t^3)\n",
    "                expand_at_dict[j][h] = v(\"e\",i,j)  + v(\"elin\",i,j)*t +  v(\"esq\",i,j)*t^2 + O(t^3)\n",
    "            else:\n",
    "                expand_at_dict[j][f] = 1/t^2  + v(\"ga\",j) + v(\"del\",j)*t + v(\"pi\",j)*t^2 + O(t^3)\n",
    "                #ga = 0;  v(\"ga\",j)\n",
    "                expand_at_dict[j][h] = 1/t^3 + v(\"ep\",j) + v(\"theta\",j)*t + O(t^2)\n",
    "                #-3*del_1 + 2*ep_1\n",
    "\n",
    "\n",
    "\n",
    "            for k in indexes:\n",
    "                if i == k:\n",
    "                    continue\n",
    "                hS = v(\"h\",i,k)\n",
    "\n",
    "                if j == i:\n",
    "                    expand_at_dict[j][hS] = v(\"a\",i,k)/t  + v(\"ac\",i,k) + v(\"alin\",i,k)*t + v(\"asq\",i,k)*t^2 + O(t^3)\n",
    "\n",
    "                elif j == k:\n",
    "                    expand_at_dict[j][hS] = 1/t + v(\"xx\",j) + v(\"yy\",j)*t + O(t^2)\n",
    "                else:\n",
    "                    expand_at_dict[j][hS] = v(\"c\", k, j, i) + O(t)\n",
    "\n",
    "\n",
    "make_expand_dict()\n",
    "                \n",
    "def expand_at(func, point):\n",
    "    return func.subs(expand_at_dict[point])\n",
    "\n",
    "def add_all_rels(point, eqn):\n",
    "    for rel in find_rels_by_expansion(point,eqn):\n",
    "        print rel\n",
    "        add_rel_to_dict(rel)\n",
    "\n",
    "def find_rels_by_expansion(point_index, eqn):\n",
    "    expansion = expand_at(eqn[0]-eqn[1], point_index)\n",
    "    \n",
    "    print \"Some relations\"\n",
    "    for value in expansion.coefficients():\n",
    "        yield value\n",
    "        \n",
    "\n",
    "\n",
    "        \n",
    "        \n",
    "import re\n",
    "def make_all_subs(strs):\n",
    "    indexes_involved = set()\n",
    "    for st in strs:\n",
    "        for match in re.finditer(r\"[a-z]+_(\\d+)(?:_(\\d+))?\",st):\n",
    "            indexes_involved.update(match.group(1))\n",
    "            if not match.group(2) is None:\n",
    "                indexes_involved.update(match.group(2))\n",
    "\n",
    "    indexes_involved = list(indexes_involved)\n",
    "\n",
    "    for s in Subsets(indexes, len(indexes_involved)):\n",
    "        for p in Permutations(s):\n",
    "\n",
    "            def permute_indices(matchobj):\n",
    "                #Tracer()()\n",
    "                new_indexes = []\n",
    "                for i in matchobj.group(2):\n",
    "                    new_indexes += p[indexes_involved.index(i)]\n",
    "                if matchobj.group(3) is None:\n",
    "                    return \"v('\" + matchobj.group(1) + \"', '\" +  \"','\".join(new_indexes) + \"')\"\n",
    "                #else\n",
    "                new_indexes2 = []\n",
    "                for i in matchobj.group(3):\n",
    "                    new_indexes2 += p[indexes_involved.index(i)]\n",
    "                    \n",
    "                if matchobj.group(1) == \"h\":\n",
    "                    #it is an S, j type\n",
    "                    new_indexes.sort()\n",
    "                    return \"v('\" + matchobj.group(1) + \"', \" + str(new_indexes) + \"', '\" + \", '\".join(new_indexes2) + \"')\"\n",
    "                #else it is a i, S type\n",
    "                new_indexes2.sort()\n",
    "                return \"v('\" + matchobj.group(1) + \"', '\" +  \"','\".join(new_indexes) + \"', \" + str(new_indexes2) + \")\"\n",
    "                \n",
    "\n",
    "            yield tuple((re.sub(r\"([a-z]+)_(\\d+)(?:_(\\d+))?\", permute_indices, str).replace(\"^\",\"**\") for str in strs))\n",
    "            #yield tuple((re.sub(r\"([a-z]+)_([0-9])([0-9])?([0-9])?\", permute_indices, str).replace(\"^\",\"**\") for str in strs))\n",
    "\n",
    "monos_to_save = [\"pi_1\",\"pi_2\",\"pi_3\"]\n",
    "def add_rel_to_dict(rrr):\n",
    "    do_monos =[]\n",
    "    for m in rrr.monomials():\n",
    "        if m.degree() == 1:\n",
    "            do_monos.append(m)\n",
    "\n",
    "    doe_monos = []\n",
    "    for m in do_monos:\n",
    "        if str(m) not in monos_to_save:\n",
    "            doe_monos.append(m)\n",
    "\n",
    "    if len(doe_monos) == 0:\n",
    "        if len(do_monos) >0:\n",
    "            raise Exception(\"Must eliminate reserved var!!!!!\")\n",
    "        #otherwise do nothing, can't eliminate a ver\n",
    "    else:\n",
    "\n",
    "        m = doe_monos[0]\n",
    "\n",
    "        #rels_found[m] = m-1/rrr.monomial_coefficient(m)*rrr\n",
    "        print \"Adding relations of the form:\",m, \"=\",m-1/rrr.monomial_coefficient(m)*rrr\n",
    "        for a,b in make_all_subs([str(m), str(m-1/rrr.monomial_coefficient(m)*rrr)]): \n",
    "            #Don't love this method of making sure we don't double eliminate a relation...\n",
    "            if len(str(m)) == len(str(sage_eval(a,globals()))):\n",
    "                #print \"**\"\n",
    "                #print a, \"=\", b\n",
    "                #print str(sage_eval(a,globals())), \" = \", str(sage_eval(b,globals()))\n",
    "                #print \"***\"\n",
    "                Udict[str(sage_eval(a,globals()))] = sage_eval(b,globals())\n",
    "\n",
    "        reduceUdict()\n",
    "        \n",
    "def reduceUdict():\n",
    "    vUdict = {Uring(k):val for k,val in Udict.items()}\n",
    "    for k, val in Udict.items(): \n",
    "        if val != 0:\n",
    "            Udict[k] = val.subs(vUdict)"
   ]
  },
  {
   "cell_type": "code",
   "execution_count": 87,
   "metadata": {
    "collapsed": false
   },
   "outputs": [
    {
     "name": "stdout",
     "output_type": "stream",
     "text": [
      "(\"v('pi', '1')\",)\n",
      "(\"v('pi', '2')\",)\n",
      "(\"v('pi', '3')\",)\n"
     ]
    }
   ],
   "source": [
    "for m in make_all_subs([\"pi_1\"]):\n",
    "    print m"
   ]
  },
  {
   "cell_type": "code",
   "execution_count": 88,
   "metadata": {
    "collapsed": false
   },
   "outputs": [
    {
     "name": "stdout",
     "output_type": "stream",
     "text": [
      "Some relations\n",
      "-3*ga_1\n",
      "Adding relations of the form: ga_1 = 0\n",
      "-3*del_1 + 2*ep_1\n",
      "Adding relations of the form: del_1 = 2/3*ep_1\n",
      "-3*ga_1^2 - 4*pi_1 + 2*theta_1\n",
      "Adding relations of the form: theta_1 = 3/2*ga_1^2 + 2*pi_1\n",
      "Some relations\n",
      "-b_21^3 - pi_2*b_21 + e_21^2 - s_2\n",
      "Adding relations of the form: s_2 = -b_21^3 - pi_2*b_21 + e_21^2\n",
      "-3*b_21^2*blin_21 - pi_2*blin_21 + 2*e_21*elin_21\n",
      "-3*b_21*blin_21^2 - 3*b_21^2*bsq_21 + elin_21^2 - pi_2*bsq_21 + 2*e_21*esq_21\n",
      "Some relations\n",
      "ac_12\n",
      "Adding relations of the form: ac_12 = 0\n",
      "-a_12*b_12 + a_12*ga_1 + alin_12\n",
      "Adding relations of the form: alin_12 = a_12*b_12 - a_12*ga_1\n",
      "-a_12*e_12 + a_12*del_1 - a_12*ep_1 - b_12*ac_12 + ga_1*ac_12 + asq_12\n",
      "Adding relations of the form: asq_12 = a_12*e_12 - a_12*del_1 + a_12*ep_1 + b_12*ac_12 - ga_1*ac_12\n",
      "Some relations\n",
      "-2*a_21*e_21 + blin_21\n",
      "Adding relations of the form: blin_21 = 2*a_21*e_21\n",
      "xx_1*blin_21 - a_21*elin_21 + bsq_21\n",
      "Adding relations of the form: bsq_21 = -xx_1*blin_21 + a_21*elin_21\n",
      "Some relations\n",
      "ac_12\n",
      "Adding relations of the form: ac_12 = 0\n",
      "-a_12*b_12 - 2*a_12*ga_1 + alin_12\n",
      "Adding relations of the form: alin_12 = a_12*b_12 + 2*a_12*ga_1\n",
      "-a_12*e_12 - 2*a_12*del_1 + a_12*ep_1 + asq_12\n",
      "Adding relations of the form: asq_12 = a_12*e_12 + 2*a_12*del_1 - a_12*ep_1\n",
      "Some relations\n",
      "-3*a_21*b_21^2 - pi_2*a_21 + elin_21\n",
      "Adding relations of the form: elin_21 = 3*a_21*b_21^2 + pi_2*a_21\n",
      "-3*a_21*b_21*blin_21 + xx_1*elin_21 + esq_21\n",
      "Adding relations of the form: esq_21 = 3*a_21*b_21*blin_21 - xx_1*elin_21\n"
     ]
    }
   ],
   "source": [
    "add_all_rels(\"1\",h2_rel(\"1\"))\n",
    "add_all_rels(\"1\",h2_rel(\"2\"))\n",
    "\n",
    "add_all_rels(\"1\", fh_rel(\"1\",\"2\"))\n",
    "add_all_rels(\"1\", fh_rel(\"2\",\"1\"))\n",
    "\n",
    "add_all_rels(\"1\", hh_rel(\"1\",\"2\"))\n",
    "add_all_rels(\"1\", hh_rel(\"2\",\"1\"))"
   ]
  },
  {
   "cell_type": "code",
   "execution_count": 89,
   "metadata": {
    "collapsed": true
   },
   "outputs": [],
   "source": [
    "def transition(H0gens, f, coefs_to_check):\n",
    "    \"\"\"\n",
    "    This function will find the coefficients of the expression of f in the basis given H0gens. \n",
    "    coefs_to_check is a list of pairs (point, exponent) of terms in the expansion to use to \n",
    "    determine the coefficients.\n",
    "    \n",
    "    Note: The user is responsible for making sure that the parameters are compatible!!\n",
    "    \"\"\"\n",
    "    H0gens = [Rring(g) for g in H0gens]\n",
    "    f = Rring(f)\n",
    "    \n",
    "    M = Matrix(Uring, len(coefs_to_check),len(H0gens),)\n",
    "    b = vector(Uring,len(coefs_to_check))\n",
    "\n",
    "    for i, (point, expon) in enumerate(coefs_to_check):\n",
    "        #print expand_at(f, point), expon\n",
    "        b[i] = expand_at(f,point)[expon]\n",
    "        for j,gen in enumerate(H0gens):\n",
    "            #print expand_at(gen,point), expon\n",
    "            M[i,j] = expand_at(gen,point)[expon]\n",
    "    print\n",
    "    for row in M.rows():\n",
    "        print row\n",
    "    print\n",
    "    print b\n",
    "    print\n",
    "            \n",
    "    result = M.augment(b).echelon_form()\n",
    "    for row in result.rows():\n",
    "        print row\n",
    "        \n",
    "    return result"
   ]
  },
  {
   "cell_type": "code",
   "execution_count": 101,
   "metadata": {
    "collapsed": false
   },
   "outputs": [
    {
     "name": "stdout",
     "output_type": "stream",
     "text": [
      "\n",
      "(1, 0, 0, 0)\n",
      "(a_21^2, 0, 1, 0)\n",
      "(0, a_21, 0, 0)\n",
      "(2*a_21^2*b_21, 0, 0, 1)\n",
      "\n",
      "(1, 0, 0, b_12)\n",
      "\n",
      "(1, 0, 0, 0, 1)\n",
      "(0, 0, 1, 0, -a_21^2)\n",
      "(0, 0, 0, 1, -2*a_21^2*b_21 + b_12)\n",
      "(0, a_21, 0, 0, 0)\n"
     ]
    }
   ],
   "source": [
    "transition([\"h_21^2\", \"h_21\" ,\"f_2\",\"1\"],\n",
    "          \"f_1\",\n",
    "          [(\"1\",-2),(\"2\",-2),(\"2\",-1),(\"2\",0)])\n",
    "f_1_2 = Rring(\"h_21^2 - a_21^2 * f_2  - 2*a_21^2*b_21 + b_12\")"
   ]
  },
  {
   "cell_type": "code",
   "execution_count": 102,
   "metadata": {
    "collapsed": false
   },
   "outputs": [
    {
     "name": "stdout",
     "output_type": "stream",
     "text": [
      "\n",
      "(1, 0, 0, 0, 0, 0)\n",
      "(a_21^3, 0, 0, 1, 0, 0)\n",
      "(0, a_21^2, 0, 0, 1, 0)\n",
      "(3*a_21^3*b_21, 0, a_21, 0, 0, 0)\n",
      "(3*a_21^3*e_21 + a_21^3*ep_2, 2*a_21^2*b_21, 0, ep_2, 0, 1)\n",
      "\n",
      "(1, 0, 0, 0, e_12)\n",
      "\n",
      "(1, 0, 0, 0, 0, 0, 1)\n",
      "(0, 0, 0, 1, 0, 0, -a_21^3)\n",
      "(0, a_21^2, 0, 0, 1, 0, 0)\n",
      "(0, 2*a_21^2*b_21, 0, 0, 0, 1, -3*a_21^3*e_21 + e_12)\n",
      "(0, 0, a_21, 0, 0, 0, -3*a_21^3*b_21)\n"
     ]
    }
   ],
   "source": [
    "transition([\"h_21^3\", \"h_21^2\", \"h_21\",\"h_2\",\"f_2\",\"1\"],\n",
    "          \"h_1\",\n",
    "          [(\"1\",-3),(\"2\",-3),(\"2\",-2),(\"2\",-1),(\"2\",0)])\n",
    "h_1_2 = Rring(\"h_21^3 + aaa*h_21^2-3*a_21^2*b_21*h_21 - a_21^3*h_2 + bbb*f_2 + ccc\")"
   ]
  },
  {
   "cell_type": "code",
   "execution_count": 103,
   "metadata": {
    "collapsed": false
   },
   "outputs": [
    {
     "data": {
      "text/plain": [
       "2*aaa*t^-5 + (3*a_21^2*b_21 + 10*xx_1*aaa + aaa^2 - 3*b_12)*t^-4 + (4*a_21^3*e_21 + 12*a_21^2*b_21*xx_1 - 6*a_21^2*b_21*aaa + 20*xx_1^2*aaa + 4*xx_1*aaa^2 - 12*b_12*xx_1 + 10*yy_1*aaa + 2*b_21*bbb + 2*ccc)*t^-3 + O(t^-2)"
      ]
     },
     "execution_count": 103,
     "metadata": {},
     "output_type": "execute_result"
    }
   ],
   "source": [
    "expand_at(h_1_2^2 - f_1_2^3,\"1\")"
   ]
  },
  {
   "cell_type": "markdown",
   "metadata": {},
   "source": [
    "So $aaa = 0$."
   ]
  },
  {
   "cell_type": "code",
   "execution_count": 104,
   "metadata": {
    "collapsed": false
   },
   "outputs": [
    {
     "name": "stdout",
     "output_type": "stream",
     "text": [
      "\n",
      "(1, 0, 0, 0, 0)\n",
      "(a_21^3, 0, 1, 0, 0)\n",
      "(0, 0, 0, 1, 0)\n",
      "(3*a_21^3*b_21, a_21, 0, 0, 0)\n",
      "(3*a_21^3*e_21 + a_21^3*ep_2, 0, ep_2, 0, 1)\n",
      "\n",
      "(1, 0, 0, 0, e_12)\n",
      "\n",
      "(1, 0, 0, 0, 0, 1)\n",
      "(0, 0, 1, 0, 0, -a_21^3)\n",
      "(0, 0, 0, 1, 0, 0)\n",
      "(0, 0, 0, 0, 1, -3*a_21^3*e_21 + e_12)\n",
      "(0, a_21, 0, 0, 0, -3*a_21^3*b_21)\n"
     ]
    }
   ],
   "source": [
    "transition([\"h_21^3\", \"h_21\",\"h_2\",\"f_2\",\"1\"],\n",
    "          \"h_1\",\n",
    "          [(\"1\",-3),(\"2\",-3),(\"2\",-2),(\"2\",-1),(\"2\",0)])\n",
    "h_1_2 = Rring(\"h_21^3 - 3*a_21^2*b_21*h_21 - a_21^3*h_2  + -3*a_21^3*e_21 + e_12\")"
   ]
  },
  {
   "cell_type": "code",
   "execution_count": 105,
   "metadata": {
    "collapsed": false
   },
   "outputs": [
    {
     "name": "stdout",
     "output_type": "stream",
     "text": [
      "(3*a_21^2*b_21 - 3*b_12)*t^-4 + (-2*a_21^3*e_21 + 12*a_21^2*b_21*xx_1 - 12*b_12*xx_1 + 2*e_12)*t^-3 + (-15*a_21^4*b_21^2 + pi_2*a_21^4 - 6*a_21^3*e_21*xx_1 + 18*a_21^2*b_21*xx_1^2 + 18*a_21^2*b_12*b_21 + 12*a_21^2*b_21*yy_1 - 18*b_12*xx_1^2 - 3*b_12^2 + 6*e_12*xx_1 - 12*b_12*yy_1)*t^-2 + O(t^-1)\n",
      "\n",
      "a_21^2*b_21 - b_12\n",
      "\n",
      "-a_21^3*e_21 + e_12\n",
      "\n",
      "pi_2*a_21^4\n"
     ]
    }
   ],
   "source": [
    "hhfff = expand_at(h_1_2^2 - f_1_2^3,\"1\")\n",
    "print hhfff\n",
    "print\n",
    "print hhfff[-4]/3\n",
    "print\n",
    "print hhfff[-3].subs({Uring(\"b_12\"):Uring(\"a_21^2*b_21\")})/2\n",
    "print \n",
    "print hhfff[-2].subs({Uring(\"b_12\"):Uring(\"a_21^2*b_21\"),\n",
    "                                      Uring(\"e_12\"):Uring(\"a_21^3*e_21\")})"
   ]
  },
  {
   "cell_type": "code",
   "execution_count": 106,
   "metadata": {
    "collapsed": false
   },
   "outputs": [
    {
     "ename": "KeyError",
     "evalue": "'s_12'",
     "output_type": "error",
     "traceback": [
      "\u001b[0;31m---------------------------------------------------------------------------\u001b[0m",
      "\u001b[0;31mKeyError\u001b[0m                                  Traceback (most recent call last)",
      "\u001b[0;32m<ipython-input-106-7376a403e47c>\u001b[0m in \u001b[0;36m<module>\u001b[0;34m()\u001b[0m\n\u001b[0;32m----> 1\u001b[0;31m \u001b[0mv\u001b[0m\u001b[0;34m(\u001b[0m\u001b[0;34m\"s\"\u001b[0m\u001b[0;34m,\u001b[0m\u001b[0;34m\"1\"\u001b[0m\u001b[0;34m,\u001b[0m\u001b[0;34m\"2\"\u001b[0m\u001b[0;34m)\u001b[0m\u001b[0;34m\u001b[0m\u001b[0m\n\u001b[0m",
      "\u001b[0;32m<ipython-input-84-457b5302c82e>\u001b[0m in \u001b[0;36mv\u001b[0;34m(name, i, j, k)\u001b[0m\n\u001b[1;32m     31\u001b[0m         \u001b[0;32mreturn\u001b[0m \u001b[0mring_dict\u001b[0m\u001b[0;34m[\u001b[0m\u001b[0mname\u001b[0m \u001b[0;34m+\u001b[0m \u001b[0;34m\"_\"\u001b[0m \u001b[0;34m+\u001b[0m \u001b[0mi\u001b[0m\u001b[0;34m]\u001b[0m\u001b[0;34m\u001b[0m\u001b[0m\n\u001b[1;32m     32\u001b[0m     \u001b[0;32mif\u001b[0m \u001b[0mk\u001b[0m \u001b[0;32mis\u001b[0m \u001b[0mNone\u001b[0m\u001b[0;34m:\u001b[0m\u001b[0;34m\u001b[0m\u001b[0m\n\u001b[0;32m---> 33\u001b[0;31m         \u001b[0;32mreturn\u001b[0m \u001b[0mring_dict\u001b[0m\u001b[0;34m[\u001b[0m\u001b[0mname\u001b[0m \u001b[0;34m+\u001b[0m \u001b[0;34m\"_\"\u001b[0m \u001b[0;34m+\u001b[0m \u001b[0mi\u001b[0m \u001b[0;34m+\u001b[0m \u001b[0mj\u001b[0m\u001b[0;34m]\u001b[0m\u001b[0;34m\u001b[0m\u001b[0m\n\u001b[0m\u001b[1;32m     34\u001b[0m     \u001b[0;32mreturn\u001b[0m \u001b[0mring_dict\u001b[0m\u001b[0;34m[\u001b[0m\u001b[0mname\u001b[0m \u001b[0;34m+\u001b[0m \u001b[0;34m\"_\"\u001b[0m \u001b[0;34m+\u001b[0m \u001b[0mi\u001b[0m \u001b[0;34m+\u001b[0m \u001b[0mj\u001b[0m  \u001b[0;34m+\u001b[0m \u001b[0;34m\"_\"\u001b[0m \u001b[0;34m+\u001b[0m\u001b[0mk\u001b[0m\u001b[0;34m]\u001b[0m\u001b[0;34m\u001b[0m\u001b[0m\n",
      "\u001b[0;31mKeyError\u001b[0m: 's_12'"
     ]
    }
   ],
   "source": [
    "v(\"s\",\"1\",\"2\")"
   ]
  },
  {
   "cell_type": "code",
   "execution_count": 95,
   "metadata": {
    "collapsed": false
   },
   "outputs": [
    {
     "data": {
      "text/plain": [
       "{'a_12': a_12,\n",
       " 'a_13': a_13,\n",
       " 'a_21': a_21,\n",
       " 'a_23': a_23,\n",
       " 'a_31': a_31,\n",
       " 'a_32': a_32,\n",
       " 'aaa': aaa,\n",
       " 'ac_12': 0,\n",
       " 'ac_13': 0,\n",
       " 'ac_21': 0,\n",
       " 'ac_23': 0,\n",
       " 'ac_31': 0,\n",
       " 'ac_32': 0,\n",
       " 'alin_12': a_12*b_12,\n",
       " 'alin_13': a_13*b_13,\n",
       " 'alin_21': a_21*b_21,\n",
       " 'alin_23': a_23*b_23,\n",
       " 'alin_31': a_31*b_31,\n",
       " 'alin_32': a_32*b_32,\n",
       " 'asq_12': a_12*e_12 + 1/3*a_12*ep_1,\n",
       " 'asq_13': a_13*e_13 + 1/3*a_13*ep_1,\n",
       " 'asq_21': a_21*e_21 + 1/3*a_21*ep_2,\n",
       " 'asq_23': a_23*e_23 + 1/3*a_23*ep_2,\n",
       " 'asq_31': a_31*e_31 + 1/3*a_31*ep_3,\n",
       " 'asq_32': a_32*e_32 + 1/3*a_32*ep_3,\n",
       " 'b_12': b_12,\n",
       " 'b_13': b_13,\n",
       " 'b_21': b_21,\n",
       " 'b_23': b_23,\n",
       " 'b_31': b_31,\n",
       " 'b_32': b_32,\n",
       " 'bbb': bbb,\n",
       " 'blin_12': 2*a_12*e_12,\n",
       " 'blin_13': 2*a_13*e_13,\n",
       " 'blin_21': 2*a_21*e_21,\n",
       " 'blin_23': 2*a_23*e_23,\n",
       " 'blin_31': 2*a_31*e_31,\n",
       " 'blin_32': 2*a_32*e_32,\n",
       " 'bsq_12': 3*a_12^2*b_12^2 + pi_1*a_12^2 - 2*a_12*e_12*xx_2,\n",
       " 'bsq_13': 3*a_13^2*b_13^2 + pi_1*a_13^2 - 2*a_13*e_13*xx_3,\n",
       " 'bsq_21': 3*a_21^2*b_21^2 + pi_2*a_21^2 - 2*a_21*e_21*xx_1,\n",
       " 'bsq_23': 3*a_23^2*b_23^2 + pi_2*a_23^2 - 2*a_23*e_23*xx_3,\n",
       " 'bsq_31': 3*a_31^2*b_31^2 + pi_3*a_31^2 - 2*a_31*e_31*xx_1,\n",
       " 'bsq_32': 3*a_32^2*b_32^2 + pi_3*a_32^2 - 2*a_32*e_32*xx_2,\n",
       " 'c_12_3': c_12_3,\n",
       " 'c_13_2': c_13_2,\n",
       " 'c_21_3': c_21_3,\n",
       " 'c_23_1': c_23_1,\n",
       " 'c_31_2': c_31_2,\n",
       " 'c_32_1': c_32_1,\n",
       " 'ccc': ccc,\n",
       " 'ddd': ddd,\n",
       " 'del_1': 2/3*ep_1,\n",
       " 'del_2': 2/3*ep_2,\n",
       " 'del_3': 2/3*ep_3,\n",
       " 'e_12': e_12,\n",
       " 'e_13': e_13,\n",
       " 'e_21': e_21,\n",
       " 'e_23': e_23,\n",
       " 'e_31': e_31,\n",
       " 'e_32': e_32,\n",
       " 'elin_12': 3*a_12*b_12^2 + pi_1*a_12,\n",
       " 'elin_13': 3*a_13*b_13^2 + pi_1*a_13,\n",
       " 'elin_21': 3*a_21*b_21^2 + pi_2*a_21,\n",
       " 'elin_23': 3*a_23*b_23^2 + pi_2*a_23,\n",
       " 'elin_31': 3*a_31*b_31^2 + pi_3*a_31,\n",
       " 'elin_32': 3*a_32*b_32^2 + pi_3*a_32,\n",
       " 'ep_1': ep_1,\n",
       " 'ep_2': ep_2,\n",
       " 'ep_3': ep_3,\n",
       " 'esq_12': 6*a_12^2*b_12*e_12 - 3*a_12*b_12^2*xx_2 - pi_1*a_12*xx_2,\n",
       " 'esq_13': 6*a_13^2*b_13*e_13 - 3*a_13*b_13^2*xx_3 - pi_1*a_13*xx_3,\n",
       " 'esq_21': 6*a_21^2*b_21*e_21 - 3*a_21*b_21^2*xx_1 - pi_2*a_21*xx_1,\n",
       " 'esq_23': 6*a_23^2*b_23*e_23 - 3*a_23*b_23^2*xx_3 - pi_2*a_23*xx_3,\n",
       " 'esq_31': 6*a_31^2*b_31*e_31 - 3*a_31*b_31^2*xx_1 - pi_3*a_31*xx_1,\n",
       " 'esq_32': 6*a_32^2*b_32*e_32 - 3*a_32*b_32^2*xx_2 - pi_3*a_32*xx_2,\n",
       " 'ga_1': 0,\n",
       " 'ga_2': 0,\n",
       " 'ga_3': 0,\n",
       " 'pi_1': pi_1,\n",
       " 'pi_2': pi_2,\n",
       " 'pi_3': pi_3,\n",
       " 's_1': -b_12^3 - pi_1*b_12 + e_12^2,\n",
       " 's_2': -b_21^3 - pi_2*b_21 + e_21^2,\n",
       " 's_3': -b_31^3 - pi_3*b_31 + e_31^2,\n",
       " 'theta_1': 2*pi_1,\n",
       " 'theta_2': 2*pi_2,\n",
       " 'theta_3': 2*pi_3,\n",
       " 'xx_1': xx_1,\n",
       " 'xx_2': xx_2,\n",
       " 'xx_3': xx_3,\n",
       " 'yy_1': yy_1,\n",
       " 'yy_2': yy_2,\n",
       " 'yy_3': yy_3}"
      ]
     },
     "execution_count": 95,
     "metadata": {},
     "output_type": "execute_result"
    }
   ],
   "source": [
    "Udict"
   ]
  },
  {
   "cell_type": "code",
   "execution_count": 96,
   "metadata": {
    "collapsed": false
   },
   "outputs": [
    {
     "data": {
      "text/plain": [
       "3*a_21^2*f_2*h_21^4 + (-3*a_21^4)*f_2^2*h_21^2 + (-2*a_21^3)*h_2*h_21^3 + (-3*b_12)*h_21^4 + a_21^6*f_2^3 + (-12*a_21^4*b_21 + 6*a_21^2*b_12)*f_2*h_21^2 + (-6*a_21^3*e_21 + 2*e_12)*h_21^3 + (6*a_21^6*b_21 - 3*a_21^4*b_12)*f_2^2 + a_21^6*h_2^2 + 6*a_21^5*b_21*h_2*h_21 + (-3*a_21^4*b_21^2 + 12*a_21^2*b_12*b_21 - 3*b_12^2)*h_21^2 + (12*a_21^6*b_21^2 - 12*a_21^4*b_12*b_21 + 3*a_21^2*b_12^2)*f_2 + (6*a_21^6*e_21 - 2*a_21^3*e_12)*h_2 + (18*a_21^5*b_21*e_21 - 6*a_21^2*b_21*e_12)*h_21 + 8*a_21^6*b_21^3 + 9*a_21^6*e_21^2 - 12*a_21^4*b_12*b_21^2 + 6*a_21^2*b_12^2*b_21 - 6*a_21^3*e_12*e_21 - b_12^3 + e_12^2"
      ]
     },
     "execution_count": 96,
     "metadata": {},
     "output_type": "execute_result"
    }
   ],
   "source": [
    "h_1_2^2 - f_1_2^3"
   ]
  },
  {
   "cell_type": "code",
   "execution_count": 97,
   "metadata": {
    "collapsed": false
   },
   "outputs": [
    {
     "data": {
      "text/plain": [
       "-3*b_12*t^-4 + (-2*a_21^3*e_21 - 12*b_12*xx_1 + 2*ccc)*t^-3 + (-18*a_21^4*b_21^2 - 6*a_21^3*e_21*xx_1 + 18*a_21^2*b_12*b_21 - 2*a_21^3*elin_21 - 18*b_12*xx_1^2 - 3*b_12^2 - 12*b_12*yy_1 + 6*xx_1*ccc)*t^-2 + O(t^-1)"
      ]
     },
     "execution_count": 97,
     "metadata": {},
     "output_type": "execute_result"
    }
   ],
   "source": [
    "expand_at(Rring(\"(-3*a_21^4)*f_2^2*h_21^2 + (-2*a_21^3)*h_2*h_21^3 + (-3*b_12)*h_21^4 + a_21^6*f_2^3 + (-12*a_21^4*b_21 + 6*a_21^2*b_12)*f_2*h_21^2 + 2*ccc*h_21^3 + (6*a_21^6*b_21 - 3*a_21^4*b_12)*f_2^2 + a_21^6*h_2^2 + 6*a_21^5*b_21*h_2*h_21 + (-3*a_21^4*b_21^2 + 12*a_21^2*b_12*b_21 - 3*b_12^2)*h_21^2 + (12*a_21^6*b_21^2 - 12*a_21^4*b_12*b_21 + 3*a_21^2*b_12^2)*f_2 + (-2*a_21^3*ccc)*h_2 + (-6*a_21^2*b_21*ccc)*h_21 + 8*a_21^6*b_21^3 - 12*a_21^4*b_12*b_21^2 + 6*a_21^2*b_12^2*b_21 - b_12^3 + ccc^2\"),\"1\")\n"
   ]
  },
  {
   "cell_type": "markdown",
   "metadata": {},
   "source": [
    "Hence aaa = 0 and we get b_12 = a_12^2*b_21 as desired"
   ]
  },
  {
   "cell_type": "code",
   "execution_count": 98,
   "metadata": {
    "collapsed": false
   },
   "outputs": [],
   "source": [
    "lms = [ (Rring(\"h_1^2\"), h2_rel, (\"1\",)),\n",
    "        (Rring(\"h_2^2\"), h2_rel, (\"2\",)),\n",
    "        (Rring(\"f_1*h_12\"), fh_rel, (\"1\",\"2\")),\n",
    "        (Rring(\"f_2*h_21\"), fh_rel, (\"2\",\"1\")),\n",
    "        (Rring(\"h_1*h_12\"), hh_rel, (\"1\",\"2\")),\n",
    "        (Rring(\"h_2*h_21\"), hh_rel, (\"2\",\"1\"))]\n",
    "\n",
    "def doS(r1,r2):\n",
    "    \"\"\"\n",
    "    Implements the Buchberger algorithm to find relations between the coefficients.\n",
    "    \"\"\"\n",
    "    L = lcm(r1[0].change_ring(QQ), r2[0].change_ring(QQ))\n",
    "    factor1 = L.quo_rem(r1[0])[0]\n",
    "    factor2 = L.quo_rem(r2[0])[0]\n",
    "    S = factor1 * r1[1] - factor2 * r2[1]\n",
    "    newS = reduce_lm(S)\n",
    "\n",
    "    if newS == 0:\n",
    "        print \"No relations found\"\n",
    "    else:\n",
    "        for c in newS.coefficients():\n",
    "            print c\n",
    "        \n",
    "def reduce_lm(fff):\n",
    "    \"\"\"\n",
    "    Outsource this code from doS.\n",
    "    \"\"\"\n",
    "    fff1 = fff\n",
    "    done = False\n",
    "    \n",
    "    while not done:\n",
    "        new_fff = 0\n",
    "        for m in fff1.monomials():\n",
    "            can_be_reduced = False\n",
    "            for lm in lms:\n",
    "                if lm[0].divides(m):\n",
    "                    can_be_reduced = True\n",
    "                    #newS += make_rel(lm[1], lm[2], lm[3])[1] *(m/lm[0]).numerator()*S1.monomial_coefficient(m)\n",
    "                    new_fff += (lm[1](*lm[2]))[1] * (m/lm[0]).numerator()*fff1.monomial_coefficient(m)\n",
    "                    break\n",
    "            if not can_be_reduced:\n",
    "                new_fff += m*fff1.monomial_coefficient(m)\n",
    "\n",
    "\n",
    "        if fff1 == new_fff:\n",
    "            done = True\n",
    "        else:\n",
    "            #print \"need to go again\"\n",
    "            fff1 = new_fff\n",
    "    return new_fff"
   ]
  },
  {
   "cell_type": "code",
   "execution_count": 99,
   "metadata": {
    "collapsed": false
   },
   "outputs": [
    {
     "name": "stdout",
     "output_type": "stream",
     "text": [
      "No relations found\n",
      "No relations found\n",
      "No relations found\n",
      "No relations found\n",
      "No relations found\n",
      "No relations found\n",
      "No relations found\n",
      "No relations found\n"
     ]
    }
   ],
   "source": [
    "doS(h2_rel(\"1\"),fh_rel(\"1\",\"2\"))\n",
    "doS(h2_rel(\"2\"),fh_rel(\"1\",\"2\"))  \n",
    "doS(fh_rel(\"1\",\"2\"), fh_rel(\"2\",\"1\"))\n",
    "doS(hh_rel(\"1\",\"2\"), hh_rel(\"2\",\"1\"))\n",
    "doS(hh_rel(\"1\",\"2\"), fh_rel(\"2\",\"1\"))\n",
    "doS(hh_rel(\"1\",\"2\"), fh_rel(\"1\",\"2\"))\n",
    "doS(hh_rel(\"1\",\"2\"), h2_rel(\"2\"))\n",
    "doS(hh_rel(\"1\",\"2\"), h2_rel(\"1\"))"
   ]
  },
  {
   "cell_type": "code",
   "execution_count": null,
   "metadata": {
    "collapsed": true
   },
   "outputs": [],
   "source": []
  }
 ],
 "metadata": {
  "kernelspec": {
   "display_name": "SageMath 8.0",
   "language": "",
   "name": "sagemath"
  },
  "language_info": {
   "codemirror_mode": {
    "name": "ipython",
    "version": 2
   },
   "file_extension": ".py",
   "mimetype": "text/x-python",
   "name": "python",
   "nbconvert_exporter": "python",
   "pygments_lexer": "ipython2",
   "version": "2.7.13"
  }
 },
 "nbformat": 4,
 "nbformat_minor": 2
}
