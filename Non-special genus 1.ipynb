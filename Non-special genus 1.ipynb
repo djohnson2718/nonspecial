{
 "cells": [
  {
   "cell_type": "code",
   "execution_count": 195,
   "metadata": {
    "collapsed": false
   },
   "outputs": [],
   "source": [
    "n = 3\n",
    "indexes = [str(i) for i in range(1, n+1)]\n",
    "\n",
    "def one_index_names(name):\n",
    "\treturn [name +\"_\"+ i  for i in indexes]\n",
    "\n",
    "def two_index_names(name):\n",
    "\treturn [name +\"_\"+ i + j for i in indexes for j in indexes if i != j]\n",
    "\n",
    "def jjpi_names(name):\n",
    "    return [name +\"_\"+ j + jp + \"_\" + i for j in indexes for jp in indexes for i in indexes if (j !=jp and j != i and jp != i)]\n",
    "\n",
    "def v(name, i, j = None, k=None):\n",
    "    #print name, i, j,k\n",
    "    if name == \"f\" or name == \"h\":\n",
    "        ring = Rring\n",
    "    else:\n",
    "        ring = Uring\n",
    "    if j is None:\n",
    "        return ring(name + \"_\" + i)\n",
    "    if k is None:\n",
    "        return ring(name + \"_\" + i + j)\n",
    "    return Uring(name + \"_\" + i + j  + \"_\" +k)"
   ]
  },
  {
   "cell_type": "code",
   "execution_count": 196,
   "metadata": {
    "collapsed": true
   },
   "outputs": [],
   "source": [
    "def h2_rel(i):\n",
    "    return (v(\"h\",i)^2, v(\"f\",i)^3 + v(\"pi\",i)*v(\"f\",i) + v(\"s\",i))\n",
    "    \n",
    "def fh_rel(i,j):\n",
    "    return (v(\"f\",i)*v(\"h\",i,j), v(\"a\",i,j)*v(\"h\",i) + v(\"b\",i,j)*v(\"h\",i,j) + v(\"a\",i,j)*v(\"e\",i,j))\n",
    "\n",
    "def hh_rel(i,j):\n",
    "    return (v(\"h\",i)*v(\"h\",i,j), v(\"a\",i,j)*v(\"f\",i)^2 + v(\"e\",i,j)*v(\"h\",i,j) + v(\"a\",i,j)*v(\"b\",i,j)*v(\"f\",i) + v(\"a\",i,j)*(v(\"pi\",i) + v(\"b\",i,j)^2))"
   ]
  },
  {
   "cell_type": "code",
   "execution_count": 277,
   "metadata": {
    "collapsed": false
   },
   "outputs": [],
   "source": [
    "Uring = PolynomialRing(QQ, one_index_names(\"pi\") + one_index_names(\"s\") + two_index_names(\"a\") + two_index_names(\"b\") \n",
    "                      +two_index_names(\"e\") + jjpi_names(\"c\") + one_index_names(\"ga\") + one_index_names(\"del\") +\n",
    "                       one_index_names(\"ep\") + one_index_names(\"theta\") + two_index_names(\"ac\") + two_index_names(\"alin\")\n",
    "                      + two_index_names(\"asq\")+ one_index_names(\"xx\") + one_index_names(\"yy\") +  two_index_names(\"blin\") +\n",
    "                       two_index_names(\"elin\") + two_index_names(\"bsq\") + two_index_names(\"esq\") + [\"aaa\",\"bbb\",\"ccc\",\"ddd\"])\n",
    "\n",
    "Rring = PolynomialRing(Uring, one_index_names(\"f\") + one_index_names(\"h\") + two_index_names(\"h\"))"
   ]
  },
  {
   "cell_type": "code",
   "execution_count": 278,
   "metadata": {
    "collapsed": false
   },
   "outputs": [],
   "source": [
    "ExpandRing.<t> = LaurentSeriesRing(Uring)\n",
    "\n",
    "expand_at_dict = dict()\n",
    "\n",
    "for j in indexes: #expand at j\n",
    "    expand_at_dict[j] = dict()\n",
    "    for i in indexes: #looking at f_i, h_i\n",
    "        f = v(\"f\",i)\n",
    "        h = v(\"h\",i)\n",
    "        if i != j:\n",
    "            expand_at_dict[j][f] = v(\"b\",i,j)  + v(\"blin\",i,j)*t +  v(\"bsq\",i,j)*t^2 + O(t^3)\n",
    "            expand_at_dict[j][h] = v(\"e\",i,j)  + v(\"elin\",i,j)*t +  v(\"esq\",i,j)*t^2 + O(t^3)\n",
    "        else:\n",
    "            expand_at_dict[j][f] = 1/t^2  + v(\"del\",j)*t + v(\"pi\",j)*t^2 + O(t^3)\n",
    "            #ga = 0;  v(\"ga\",j)\n",
    "            expand_at_dict[j][h] = 1/t^3 + 3/2*v(\"del\",j) + v(\"theta\",j)*t + O(t^2)\n",
    "            #-3*del_1 + 2*ep_1\n",
    "\n",
    "\n",
    "        \n",
    "        for k in indexes:\n",
    "            if i == k:\n",
    "                continue\n",
    "            hS = v(\"h\",i,k)\n",
    "            \n",
    "            if j == i:\n",
    "                expand_at_dict[j][hS] = v(\"a\",i,k)/t  + v(\"a\",i,k)*v(\"b\",i,k)*t + v(\"a\",i,k)*( v(\"e\",i,k) - 1/2*v(\"del\",i) )*t^2 + O(t^3)\n",
    "                #ac = 0; + v(\"ac\",i,k)\n",
    "                #-a_12*b_12 + alin_12 == 0\n",
    "                #-a_12*e_12 + a_12*del_1 - a_12*ep_1 + asq_12\n",
    "                #asq_12 = -(-a_12*e_12 + a_12*del_1 - a_12*ep_1)\n",
    "                #asq_12 = a_12(e_12 -del_1 + ep_1)\n",
    "                #-3*del_1 + 2*ep_1;; ep_1 = 3/2del_1\n",
    "                #aqs_12 = a_12(e_12 -1/2del_1)\n",
    "                \n",
    "            elif j == k:\n",
    "                expand_at_dict[j][hS] = 1/t + v(\"xx\",j) + v(\"yy\",j)*t + O(t^2)\n",
    "            else:\n",
    "                expand_at_dict[j][hS] = v(\"c\", k, j, i) + O(t)\n",
    "\n",
    "\n",
    "                \n",
    "def expand_at(func, point):\n",
    "    return func.subs(expand_at_dict[point])\n",
    "\n",
    "\n",
    "def find_rels_by_expansion(point_index, eqn):\n",
    "    expansion = expand_at(eqn[0]-eqn[1], point_index)\n",
    "    \n",
    "    print \"Some relations\"\n",
    "    for value in expansion.coefficients():\n",
    "        print value\n"
   ]
  },
  {
   "cell_type": "code",
   "execution_count": 279,
   "metadata": {
    "collapsed": false
   },
   "outputs": [
    {
     "name": "stdout",
     "output_type": "stream",
     "text": [
      "Some relations\n",
      "-4*pi_1 + 2*theta_1\n",
      "Some relations\n",
      "-b_21^3 - pi_2*b_21 + e_21^2 - s_2\n",
      "-3*b_21^2*blin_21 - pi_2*blin_21 + 2*e_21*elin_21\n",
      "-3*b_21*blin_21^2 - 3*b_21^2*bsq_21 + elin_21^2 - pi_2*bsq_21 + 2*e_21*esq_21\n",
      "Some relations\n",
      "-a_12*del_1\n",
      "Some relations\n",
      "-2*a_21*e_21 + blin_21\n",
      "xx_1*blin_21 - a_21*elin_21 + bsq_21\n",
      "Some relations\n",
      "-a_12*del_1\n",
      "Some relations\n",
      "-3*a_21*b_21^2 - pi_2*a_21 + elin_21\n",
      "-3*a_21*b_21*blin_21 + xx_1*elin_21 + esq_21\n"
     ]
    }
   ],
   "source": [
    "find_rels_by_expansion(\"1\",h2_rel(\"1\"))\n",
    "find_rels_by_expansion(\"1\",h2_rel(\"2\"))\n",
    "\n",
    "find_rels_by_expansion(\"1\", fh_rel(\"1\",\"2\"))\n",
    "find_rels_by_expansion(\"1\", fh_rel(\"2\",\"1\"))\n",
    "\n",
    "find_rels_by_expansion(\"1\", hh_rel(\"1\",\"2\"))\n",
    "find_rels_by_expansion(\"1\", hh_rel(\"2\",\"1\"))\n"
   ]
  },
  {
   "cell_type": "code",
   "execution_count": 280,
   "metadata": {
    "collapsed": true
   },
   "outputs": [],
   "source": [
    "def transition(H0gens, f, coefs_to_check):\n",
    "    \"\"\"\n",
    "    This function will find the coefficients of the expression of f in the basis given H0gens. \n",
    "    coefs_to_check is a list of pairs (point, exponent) of terms in the expansion to use to \n",
    "    determine the coefficients.\n",
    "    \n",
    "    Note: The user is responsible for making sure that the parameters are compatible!!\n",
    "    \"\"\"\n",
    "    H0gens = [Rring(g) for g in H0gens]\n",
    "    f = Rring(f)\n",
    "    \n",
    "    M = Matrix(Uring, len(coefs_to_check),len(H0gens),)\n",
    "    b = vector(Uring,len(coefs_to_check))\n",
    "\n",
    "    for i, (point, expon) in enumerate(coefs_to_check):\n",
    "        #print expand_at(f, point), expon\n",
    "        b[i] = expand_at(f,point)[expon]\n",
    "        for j,gen in enumerate(H0gens):\n",
    "            #print expand_at(gen,point), expon\n",
    "            M[i,j] = expand_at(gen,point)[expon]\n",
    "    print\n",
    "    for row in M.rows():\n",
    "        print row\n",
    "    print\n",
    "    print b\n",
    "    print\n",
    "            \n",
    "    result = M.augment(b).echelon_form()\n",
    "    for row in result.rows():\n",
    "        print row\n",
    "        \n",
    "    return result"
   ]
  },
  {
   "cell_type": "code",
   "execution_count": 281,
   "metadata": {
    "collapsed": false
   },
   "outputs": [
    {
     "name": "stdout",
     "output_type": "stream",
     "text": [
      "\n",
      "(1, 0, 0, 0)\n",
      "(a_21^2, 0, 1, 0)\n",
      "(0, a_21, 0, 0)\n",
      "(2*a_21^2*b_21, 0, 0, 1)\n",
      "\n",
      "(1, 0, 0, b_12)\n",
      "\n",
      "(1, 0, 0, 0, 1)\n",
      "(0, 0, 1, 0, -a_21^2)\n",
      "(0, 0, 0, 1, -2*a_21^2*b_21 + b_12)\n",
      "(0, a_21, 0, 0, 0)\n"
     ]
    }
   ],
   "source": [
    "transition([\"h_21^2\", \"h_21\" ,\"f_2\",\"1\"],\n",
    "          \"f_1\",\n",
    "          [(\"1\",-2),(\"2\",-2),(\"2\",-1),(\"2\",0)])\n",
    "f_1_2 = Rring(\"h_21^2 - a_21^2 * f_2  -2*a_21^2*b_21 + b_12\")"
   ]
  },
  {
   "cell_type": "code",
   "execution_count": 282,
   "metadata": {
    "collapsed": false
   },
   "outputs": [
    {
     "name": "stdout",
     "output_type": "stream",
     "text": [
      "\n",
      "(1, 0, 0, 0, 0, 0)\n",
      "(a_21^3, 0, 0, 1, 0, 0)\n",
      "(0, a_21^2, 0, 0, 1, 0)\n",
      "(3*a_21^3*b_21, 0, a_21, 0, 0, 0)\n",
      "(3*a_21^3*e_21 - 3/2*a_21^3*del_2, 2*a_21^2*b_21, 0, 3/2*del_2, 0, 1)\n",
      "\n",
      "(1, 0, 0, 0, e_12)\n",
      "\n",
      "(1, 0, 0, 0, 0, 0, 1)\n",
      "(0, 0, 0, 1, 0, 0, -a_21^3)\n",
      "(0, a_21^2, 0, 0, 1, 0, 0)\n",
      "(0, 2*a_21^2*b_21, 0, 0, 0, 1, -3*a_21^3*e_21 + 3*a_21^3*del_2 + e_12)\n",
      "(0, 0, a_21, 0, 0, 0, -3*a_21^3*b_21)\n"
     ]
    }
   ],
   "source": [
    "transition([\"h_21^3\", \"h_21^2\", \"h_21\",\"h_2\",\"f_2\",\"1\"],\n",
    "          \"h_1\",\n",
    "          [(\"1\",-3),(\"2\",-3),(\"2\",-2),(\"2\",-1),(\"2\",0)])\n",
    "h_1_2 = Rring(\"h_21^3 + aaa*h_21^2-3*a_21^2*b_21*h_21 - a_21^3*h_2 + bbb*f_2 + ccc\")"
   ]
  },
  {
   "cell_type": "code",
   "execution_count": 283,
   "metadata": {
    "collapsed": false
   },
   "outputs": [
    {
     "data": {
      "text/plain": [
       "2*aaa*t^-5 + (3*a_21^2*b_21 + 10*xx_1*aaa + aaa^2 - 3*b_12)*t^-4 + (-2*a_21^3*e_21 + 12*a_21^2*b_21*xx_1 - 6*a_21^2*b_21*aaa + 3*a_21^2*blin_21 + 20*xx_1^2*aaa + 4*xx_1*aaa^2 - 12*b_12*xx_1 + 10*yy_1*aaa + 2*b_21*bbb + 2*ccc)*t^-3 + O(t^-2)"
      ]
     },
     "execution_count": 283,
     "metadata": {},
     "output_type": "execute_result"
    }
   ],
   "source": [
    "expand_at(h_1_2^2 - f_1_2^3,\"1\")"
   ]
  },
  {
   "cell_type": "code",
   "execution_count": 284,
   "metadata": {
    "collapsed": false
   },
   "outputs": [
    {
     "name": "stdout",
     "output_type": "stream",
     "text": [
      "\n",
      "(1, 0, 0, 0, 0)\n",
      "(a_21^3, 0, 1, 0, 0)\n",
      "(0, 0, 0, 1, 0)\n",
      "(3*a_21^3*b_21, a_21, 0, 0, 0)\n",
      "(3*a_21^3*e_21 - 3/2*a_21^3*del_2, 0, 3/2*del_2, 0, 1)\n",
      "\n",
      "(1, 0, 0, 0, e_12)\n",
      "\n",
      "(1, 0, 0, 0, 0, 1)\n",
      "(0, 0, 1, 0, 0, -a_21^3)\n",
      "(0, 0, 0, 1, 0, 0)\n",
      "(0, 0, 0, 0, 1, -3*a_21^3*e_21 + 3*a_21^3*del_2 + e_12)\n",
      "(0, a_21, 0, 0, 0, -3*a_21^3*b_21)\n"
     ]
    }
   ],
   "source": [
    "transition([\"h_21^3\", \"h_21\",\"h_2\",\"f_2\",\"1\"],\n",
    "          \"h_1\",\n",
    "          [(\"1\",-3),(\"2\",-3),(\"2\",-2),(\"2\",-1),(\"2\",0)])\n",
    "h_1_2 = Rring(\"h_21^3 - 3*a_21^2*b_21*h_21 - a_21^3*h_2  + -3*a_21^3*e_21 + 3*a_21^3*del_2 + e_12\")"
   ]
  },
  {
   "cell_type": "code",
   "execution_count": 289,
   "metadata": {
    "collapsed": false
   },
   "outputs": [
    {
     "data": {
      "text/plain": [
       "(3*a_21^2*b_21 - 3*b_12)*t^-4 + (-8*a_21^3*e_21 + 6*a_21^3*del_2 + 12*a_21^2*b_21*xx_1 + 3*a_21^2*blin_21 - 12*b_12*xx_1 + 2*e_12)*t^-3 + (-18*a_21^4*b_21^2 - 24*a_21^3*e_21*xx_1 + 18*a_21^3*del_2*xx_1 + 18*a_21^2*b_21*xx_1^2 + 18*a_21^2*b_12*b_21 + 12*a_21^2*b_21*yy_1 + 12*a_21^2*xx_1*blin_21 - 2*a_21^3*elin_21 - 18*b_12*xx_1^2 + 3*a_21^2*bsq_21 - 3*b_12^2 + 6*e_12*xx_1 - 12*b_12*yy_1)*t^-2 + O(t^-1)"
      ]
     },
     "execution_count": 289,
     "metadata": {},
     "output_type": "execute_result"
    }
   ],
   "source": [
    "expand_at(h_1_2^2 - f_1_2^3,\"1\")"
   ]
  },
  {
   "cell_type": "code",
   "execution_count": 286,
   "metadata": {
    "collapsed": false
   },
   "outputs": [
    {
     "data": {
      "text/plain": [
       "3*a_21^2*f_2*h_21^4 + (-3*a_21^4)*f_2^2*h_21^2 + (-2*a_21^3)*h_2*h_21^3 + (-3*b_12)*h_21^4 + a_21^6*f_2^3 + (-12*a_21^4*b_21 + 6*a_21^2*b_12)*f_2*h_21^2 + (-6*a_21^3*e_21 + 6*a_21^3*del_2 + 2*e_12)*h_21^3 + (6*a_21^6*b_21 - 3*a_21^4*b_12)*f_2^2 + a_21^6*h_2^2 + 6*a_21^5*b_21*h_2*h_21 + (-3*a_21^4*b_21^2 + 12*a_21^2*b_12*b_21 - 3*b_12^2)*h_21^2 + (12*a_21^6*b_21^2 - 12*a_21^4*b_12*b_21 + 3*a_21^2*b_12^2)*f_2 + (6*a_21^6*e_21 - 6*a_21^6*del_2 - 2*a_21^3*e_12)*h_2 + (18*a_21^5*b_21*e_21 - 18*a_21^5*b_21*del_2 - 6*a_21^2*b_21*e_12)*h_21 + 8*a_21^6*b_21^3 + 9*a_21^6*e_21^2 - 18*a_21^6*e_21*del_2 + 9*a_21^6*del_2^2 - 12*a_21^4*b_12*b_21^2 + 6*a_21^2*b_12^2*b_21 - 6*a_21^3*e_12*e_21 + 6*a_21^3*e_12*del_2 - b_12^3 + e_12^2"
      ]
     },
     "execution_count": 286,
     "metadata": {},
     "output_type": "execute_result"
    }
   ],
   "source": [
    "h_1_2^2 - f_1_2^3"
   ]
  },
  {
   "cell_type": "code",
   "execution_count": 287,
   "metadata": {
    "collapsed": false
   },
   "outputs": [
    {
     "data": {
      "text/plain": [
       "-3*b_12*t^-4 + (-2*a_21^3*e_21 - 12*b_12*xx_1 + 2*ccc)*t^-3 + (-18*a_21^4*b_21^2 - 6*a_21^3*e_21*xx_1 + 18*a_21^2*b_12*b_21 - 2*a_21^3*elin_21 - 18*b_12*xx_1^2 - 3*b_12^2 - 12*b_12*yy_1 + 6*xx_1*ccc)*t^-2 + O(t^-1)"
      ]
     },
     "execution_count": 287,
     "metadata": {},
     "output_type": "execute_result"
    }
   ],
   "source": [
    "expand_at(Rring(\"(-3*a_21^4)*f_2^2*h_21^2 + (-2*a_21^3)*h_2*h_21^3 + (-3*b_12)*h_21^4 + a_21^6*f_2^3 + (-12*a_21^4*b_21 + 6*a_21^2*b_12)*f_2*h_21^2 + 2*ccc*h_21^3 + (6*a_21^6*b_21 - 3*a_21^4*b_12)*f_2^2 + a_21^6*h_2^2 + 6*a_21^5*b_21*h_2*h_21 + (-3*a_21^4*b_21^2 + 12*a_21^2*b_12*b_21 - 3*b_12^2)*h_21^2 + (12*a_21^6*b_21^2 - 12*a_21^4*b_12*b_21 + 3*a_21^2*b_12^2)*f_2 + (-2*a_21^3*ccc)*h_2 + (-6*a_21^2*b_21*ccc)*h_21 + 8*a_21^6*b_21^3 - 12*a_21^4*b_12*b_21^2 + 6*a_21^2*b_12^2*b_21 - b_12^3 + ccc^2\"),\"1\")\n"
   ]
  },
  {
   "cell_type": "markdown",
   "metadata": {},
   "source": [
    "Hence aaa = 0 and we get b_12 = a_12^2*b_21 as desired"
   ]
  },
  {
   "cell_type": "code",
   "execution_count": 288,
   "metadata": {
    "collapsed": false
   },
   "outputs": [],
   "source": [
    "lms = [ (Rring(\"h_1^2\"), h2_rel, (\"1\",)),\n",
    "        (Rring(\"h_2^2\"), h2_rel, (\"2\",)),\n",
    "        (Rring(\"f_1*h_12\"), fh_rel, (\"1\",\"2\")),\n",
    "        (Rring(\"f_2*h_21\"), fh_rel, (\"2\",\"1\")),\n",
    "        (Rring(\"h_1*h_12\"), hh_rel, (\"1\",\"2\")),\n",
    "        (Rring(\"h_2*h_21\"), hh_rel, (\"2\",\"1\"))]\n",
    "\n",
    "def doS(r1,r2):\n",
    "    \"\"\"\n",
    "    Implements the Buchberger algorithm to find relations between the coefficients.\n",
    "    \"\"\"\n",
    "    L = lcm(r1[0].change_ring(QQ), r2[0].change_ring(QQ))\n",
    "    factor1 = L.quo_rem(r1[0])[0]\n",
    "    factor2 = L.quo_rem(r2[0])[0]\n",
    "    S = factor1 * r1[1] - factor2 * r2[1]\n",
    "    newS = reduce_lm(S)\n",
    "\n",
    "    if newS == 0:\n",
    "        print \"No relations found\"\n",
    "    else:\n",
    "        for c in newS.coefficients():\n",
    "            print c\n",
    "        \n",
    "def reduce_lm(fff):\n",
    "    \"\"\"\n",
    "    Outsource this code from doS.\n",
    "    \"\"\"\n",
    "    fff1 = fff\n",
    "    done = False\n",
    "    \n",
    "    while not done:\n",
    "        new_fff = 0\n",
    "        for m in fff1.monomials():\n",
    "            can_be_reduced = False\n",
    "            for lm in lms:\n",
    "                if lm[0].divides(m):\n",
    "                    can_be_reduced = True\n",
    "                    #newS += make_rel(lm[1], lm[2], lm[3])[1] *(m/lm[0]).numerator()*S1.monomial_coefficient(m)\n",
    "                    new_fff += (lm[1](*lm[2]))[1] * (m/lm[0]).numerator()*fff1.monomial_coefficient(m)\n",
    "                    break\n",
    "            if not can_be_reduced:\n",
    "                new_fff += m*fff1.monomial_coefficient(m)\n",
    "\n",
    "\n",
    "        if fff1 == new_fff:\n",
    "            done = True\n",
    "        else:\n",
    "            #print \"need to go again\"\n",
    "            fff1 = new_fff\n",
    "    return new_fff"
   ]
  },
  {
   "cell_type": "code",
   "execution_count": 273,
   "metadata": {
    "collapsed": false
   },
   "outputs": [
    {
     "name": "stdout",
     "output_type": "stream",
     "text": [
      "No relations found\n",
      "No relations found\n",
      "No relations found\n",
      "No relations found\n",
      "No relations found\n",
      "-a_12*b_12^3 - pi_1*a_12*b_12 + a_12*e_12^2 - s_1*a_12\n",
      "No relations found\n",
      "-b_12^3 - pi_1*b_12 + e_12^2 - s_1\n"
     ]
    }
   ],
   "source": [
    "doS(h2_rel(\"1\"),fh_rel(\"1\",\"2\"))\n",
    "doS(h2_rel(\"2\"),fh_rel(\"1\",\"2\"))  \n",
    "doS(fh_rel(\"1\",\"2\"), fh_rel(\"2\",\"1\"))\n",
    "doS(hh_rel(\"1\",\"2\"), hh_rel(\"2\",\"1\"))\n",
    "doS(hh_rel(\"1\",\"2\"), fh_rel(\"2\",\"1\"))\n",
    "doS(hh_rel(\"1\",\"2\"), fh_rel(\"1\",\"2\"))\n",
    "doS(hh_rel(\"1\",\"2\"), h2_rel(\"2\"))\n",
    "doS(hh_rel(\"1\",\"2\"), h2_rel(\"1\"))"
   ]
  },
  {
   "cell_type": "code",
   "execution_count": null,
   "metadata": {
    "collapsed": true
   },
   "outputs": [],
   "source": []
  }
 ],
 "metadata": {
  "kernelspec": {
   "display_name": "SageMath 8.0",
   "language": "",
   "name": "sagemath"
  },
  "language_info": {
   "codemirror_mode": {
    "name": "ipython",
    "version": 2
   },
   "file_extension": ".py",
   "mimetype": "text/x-python",
   "name": "python",
   "nbconvert_exporter": "python",
   "pygments_lexer": "ipython2",
   "version": "2.7.13"
  }
 },
 "nbformat": 4,
 "nbformat_minor": 2
}
