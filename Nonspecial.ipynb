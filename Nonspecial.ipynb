{
 "cells": [
  {
   "cell_type": "code",
   "execution_count": 1,
   "metadata": {
    "collapsed": true,
    "deletable": true,
    "editable": true
   },
   "outputs": [],
   "source": [
    "from IPython.core.debugger import Tracer"
   ]
  },
  {
   "cell_type": "code",
   "execution_count": 2,
   "metadata": {
    "collapsed": false,
    "deletable": true,
    "editable": true
   },
   "outputs": [],
   "source": [
    "g = 2\n",
    "n = 4\n",
    "indexes = [str(i) for i in range(1, n+1)]"
   ]
  },
  {
   "cell_type": "markdown",
   "metadata": {
    "deletable": true,
    "editable": true
   },
   "source": [
    "We first create the ring of function on the strongly non-special locus. For now, let's stick to the genus two case, so we don't need the $c_{ij}^k$."
   ]
  },
  {
   "cell_type": "code",
   "execution_count": 119,
   "metadata": {
    "collapsed": false,
    "deletable": true,
    "editable": true
   },
   "outputs": [],
   "source": [
    "def one_index_names(name):\n",
    "\treturn [name +\"_\"+ i  for i in indexes]\n",
    "\t\n",
    "def two_index_names(name):\n",
    "\treturn [name +\"_\"+ i + j for i in indexes for j in indexes if i != j]\n",
    "\n",
    "def two_index_names_repeat(name):\n",
    "    names = []\n",
    "    for i in indexes:\n",
    "        for j in indexes:\n",
    "            if i != j:\n",
    "                names.append(name + \"_\" + i + j)\n",
    "            else:\n",
    "                for k in indexes:\n",
    "                    if k != i:\n",
    "                        T = [i,k]\n",
    "                        T.sort()\n",
    "                        names.append(name + \"_\" + i + i + \"_\" + \"\".join(T))\n",
    "    return names\n",
    "    #return [name +\"_\"+ i + j for i in indexes for j in indexes]\n",
    "\n",
    "def three_index_names(name):\n",
    "\treturn [name +\"_\"+ i + j + k for i in indexes for j in indexes for k in indexes if i != j and i != k and j !=k]\n",
    "\n",
    "def jjpS_names(name):\n",
    "    names = []\n",
    "    for S in Subsets(indexes, g):\n",
    "        Ss = list(S)\n",
    "        Ss.sort()\n",
    "        for jj in Subsets(indexes,2):\n",
    "            jjs = list(jj)\n",
    "            jjs.sort()\n",
    "            j = jjs[0]\n",
    "            jp = jjs[1]\n",
    "            \n",
    "            if j not in S and jp not in S:\n",
    "                names.append(name + \"_\" + j + jp + \"_\" + \"\".join(Ss))\n",
    "                names.append(name + \"_\" + jp + j + \"_\" + \"\".join(Ss))\n",
    "\n",
    "    return names\n",
    "\n",
    "def ijS_names(name):\n",
    "    names = []\n",
    "    for S in Subsets(indexes, g):\n",
    "        Ss = list(S)\n",
    "        Ss.sort()\n",
    "        for i in Ss:\n",
    "            for j in indexes:\n",
    "                if j not in Ss:\n",
    "                    names.append(name + \"_\" + i + j + \"_\" + \"\".join(Ss))\n",
    "\n",
    "    return names\n",
    "\n",
    "def iS_names(name):\n",
    "    names = []\n",
    "    for S in Subsets(indexes, g):\n",
    "        Ss = list(S)\n",
    "        Ss.sort()\n",
    "        for i in Ss:\n",
    "            names.append(name + \"_\" + i + \"_\" + \"\".join(Ss))\n",
    "    return names\n",
    "\n",
    "def inotinS_names(name):\n",
    "    names = []\n",
    "    for S in Subsets(indexes, g):\n",
    "        Ss = list(S)\n",
    "        Ss.sort()\n",
    "        for i in indexes:\n",
    "            if i not in Ss:\n",
    "                names.append(name + \"_\" + i + \"_\" + \"\".join(Ss))\n",
    "    return names\n",
    "\n",
    "def ijlS_names(name):\n",
    "    names = []\n",
    "    for S in Subsets(indexes, g):\n",
    "        Ss = list(S)\n",
    "        Ss.sort()\n",
    "        for i in S:\n",
    "            for l in S:\n",
    "                for j in indexes:\n",
    "                    if not j in S:\n",
    "                        names.append(name + \"_\"+ i + j +l + \"_\" + \"\".join(Ss))\n",
    "    return names\n",
    "                    \n",
    "def hS_names():\n",
    "    names = []\n",
    "    for S in Subsets(indexes, g):\n",
    "        Ss = list(S)\n",
    "        Ss.sort()\n",
    "        for j in indexes:\n",
    "            if not j in S:\n",
    "                names.append(\"h_\" + \"\".join(Ss) + \"_\" + j) \n",
    "    return names\n",
    "        \n",
    "    \n",
    "Uring = PolynomialRing(QQ, two_index_names(\"al\") + two_index_names_repeat(\"ga\") +  two_index_names(\"a\") + two_index_names(\"d\") + two_index_names(\"t\") + two_index_names(\"v\") + two_index_names(\"r\") + two_index_names_repeat(\"del\") + two_index_names(\"b\") + two_index_names(\"be\") + two_index_names_repeat(\"ep\") + two_index_names(\"psi\")  + two_index_names(\"u\") + two_index_names(\"g\") + iS_names(\"pi\") + two_index_names(\"k\") + iS_names(\"s\") \n",
    "                      + jjpS_names(\"c\") + jjpS_names(\"cc\") + ijS_names(\"a\") + ijS_names(\"ac\") + ijS_names(\"alin\") + ijS_names(\"asq\") + jjpS_names(\"hshsc\") + ijS_names(\"b\") +ijlS_names(\"d\") + ijS_names(\"fhsc\") + ijS_names(\"e\") + ijS_names(\"r\") + ijlS_names(\"s\") +ijS_names(\"hhsc\")\n",
    "                      + two_index_names_repeat(\"theta\") + two_index_names_repeat(\"pi\") + inotinS_names(\"x\") + [\"aaa\",\"bbb\",\"ccc\",\"ddd\",\"eee\"])\n",
    "\n",
    "Rring = PolynomialRing(Uring, iS_names(\"f\") + iS_names(\"h\")+ hS_names())\n",
    "    \n",
    "Udict = Uring.gens_dict()\n",
    "Rdict = Rring.gens_dict()\n",
    "ExpandRing.<t> = LaurentSeriesRing(Uring)\n",
    "\n",
    "def v(letter, a, b = \"\", c = \"\", d = None):\n",
    "    #if g==2 and letter in [\"c\",\"e\",\"ell\"] and not type(c) == list:\n",
    "    #    return 0\n",
    "    \n",
    "    #Some normalization\n",
    "    if letter == \"d\" and type(d) == list:\n",
    "        if a == d[0] and c == d[0]:\n",
    "            return 0\n",
    "    \n",
    "    if letter == \"h\" and type(a) == list:\n",
    "        return Rdict[\"h_\" + \"\".join(a) + \"_\" + b]\n",
    "    if type(c) == list:\n",
    "        return Udict[letter + \"_\" + a + b + \"_\" + \"\".join(c)]\n",
    "    if type(b) == list:\n",
    "        try:\n",
    "            return Udict[letter + \"_\" + a + \"_\" + \"\".join(b)]\n",
    "        except:\n",
    "            return Rdict[letter + \"_\" + a + \"_\" + \"\".join(b)]\n",
    "    \n",
    "    if not d is None:\n",
    "        return Udict[letter + \"_\" + a + b + c + \"_\" + \"\".join(d)]\n",
    "    try:\n",
    "        return Udict[letter +\"_\"+ a + b +c]\n",
    "    except KeyError:\n",
    "        return Rdict[letter +\"_\"+ a + b +c]"
   ]
  },
  {
   "cell_type": "markdown",
   "metadata": {
    "deletable": true,
    "editable": true
   },
   "source": [
    "We now create the relations."
   ]
  },
  {
   "cell_type": "code",
   "execution_count": 4,
   "metadata": {
    "collapsed": false,
    "deletable": true,
    "editable": true
   },
   "outputs": [],
   "source": [
    "def make_rel(lh, i, j, S = None):\n",
    "    \"\"\"\n",
    "    lh is one of \"ff\", \"fh\", \"hh\", or \"h2\"\n",
    "    i and j are the indexes appearing in the left hand side\n",
    "    S is the set of indexes with size equal to g, must contain i,j, defaults to [i,j]\n",
    "\n",
    "    j must be None in the case of \"h2\".\n",
    "    \"\"\"\n",
    "    if S is None:\n",
    "        if j is not None and g==2:\n",
    "            S = [i,j]\n",
    "        else:\n",
    "            raise Exception(\"Not able to automatically find S.\")\n",
    "\n",
    "    S.sort()\n",
    "    \n",
    "    if not j is None:\n",
    "        notij = copy(S)\n",
    "        notij.remove(i)\n",
    "        notij.remove(j)\n",
    "\n",
    "    if lh == \"ff\":\n",
    "        return ( v(\"f\",i,S)*v(\"f\",j,S) , v(\"al\",j,i)*v(\"h\",i,S) + v(\"al\",i,j)*v(\"h\",j,S) + v(\"ga\",j,i)*v(\"f\",i,S) + v(\"ga\",i,j)*v(\"f\",j,S) + sum((v(\"c\",i,j,k)*v(\"f\",k,S) for k in notij)) + v(\"a\",i,j) )\n",
    "\n",
    "    elif lh == \"fh\":\n",
    "        return (v(\"f\",i,S)*v(\"h\",j,S) , v(\"d\",i,j)*v(\"f\",j,S)**2 + v(\"t\",j,i)*v(\"h\",i,S) + v(\"v\",i,j)*v(\"h\",j,S) + v(\"r\",j,i)*v(\"f\",i,S) + v(\"del\",i,j)*v(\"f\",j,S) + sum(( v(\"e\", i,j,k)*v(\"f\",k,S) for k in notij)) + v(\"b\",i,j))\n",
    "\n",
    "    elif lh == \"hh\":\n",
    "        return (v(\"h\",i,S)*v(\"h\",j,S) , v(\"be\",j,i)*v(\"f\",i,S)**2 + v(\"be\",i,j)*v(\"f\",j,S)**2 + v(\"ep\",j,i)*v(\"h\",i,S) + v(\"ep\",i,j)*v(\"h\",j,S) + v(\"psi\",j,i)*v(\"f\",i,S) + v(\"psi\",i,j)*v(\"f\",j,S) + sum((v(\"ell\",i,j,k)*v(\"f\",k,S) for k in notij)) + v(\"u\",i,j))\n",
    "\n",
    "    elif lh == \"h2\":\n",
    "        if not j is None:\n",
    "            raise Exception(\"j must be None\")\n",
    "\n",
    "        noti = copy(S)\n",
    "        noti.remove(i)\n",
    "\n",
    "        return (v(\"h\",i,S)**2, v(\"f\",i,S)**3 + sum(( v(\"g\",i,k)*v(\"h\",k,S) for k in noti)) + v(\"pi\",i,S)*v(\"f\",i,S) + sum((v(\"k\",i,k)*v(\"f\",k,S) for k in noti)) + v(\"s\",i,S))"
   ]
  },
  {
   "cell_type": "markdown",
   "metadata": {
    "deletable": true,
    "editable": true
   },
   "source": [
    "\n",
    "First, we want to check the following.\n",
    "### Lemma\n",
    "The ring $\\mathcal U^{ns}_{2,n}(ij)$ is generated by ten variables $\\alpha_{ij}$, $\\beta_{ij}$, $\\gamma_{ij}$, $\\epsilon_{ij}$, $\\pi_i$.\n",
    "\n",
    "We know that the ring is generated by all the coefficients appearing in the equations on page 9 of \"... as moduli of $A_\\infty$-structres\". There are 23 letters appearing there. 3 of them ($c$, $e$, and $l$) do not occur in genus 2, and $q$, $r$, and $u$ (with one subscript), we make 0 by adding constants to $f$ and $g$. Hence, we need to eliminate 12 letters. \n",
    "\n",
    "By symmetry we will just check the case $i,j = 1,2$. We use the Buchberger algorithm to find relations."
   ]
  },
  {
   "cell_type": "code",
   "execution_count": 79,
   "metadata": {
    "collapsed": false,
    "deletable": true,
    "editable": true
   },
   "outputs": [
    {
     "name": "stdout",
     "output_type": "stream",
     "text": [
      "Warning: S is hard coded here!!!!\n"
     ]
    }
   ],
   "source": [
    "lms = []\n",
    "#the leading monomials\n",
    "S = [\"1\",\"2\"]\n",
    "print \"Warning: S is hard coded here!!!!\"\n",
    "\n",
    "for i, j in Combinations(S,2):\n",
    "    lms.append( (v(\"f\",i,S)*v(\"f\",j,S), make_rel , (\"ff\", i, j,S)))\n",
    "    lms.append( (v(\"h\",i,S)*v(\"h\",j,S), make_rel, (\"hh\", i, j,S)))\n",
    "\n",
    "for i in S:\n",
    "    lms.append( (v(\"h\",i,S)^2, make_rel , (\"h2\", i, None, S)))  \n",
    "    for j in S:\n",
    "        if j==i:\n",
    "            continue\n",
    "        lms.append( (v(\"f\",i,S)*v(\"h\",j,S), make_rel,(\"fh\", i, j,S)))\n",
    "\n",
    "def doS(r1,r2):\n",
    "    \"\"\"\n",
    "    Implements the Buchberger algorithm to find relations between the coefficients.\n",
    "    \"\"\"\n",
    "    L = lcm(r1[0].change_ring(QQ), r2[0].change_ring(QQ))\n",
    "    factor1 = L.quo_rem(r1[0])[0]\n",
    "    factor2 = L.quo_rem(r2[0])[0]\n",
    "    S = factor1 * r1[1] - factor2 * r2[1]\n",
    "    newS = reduce_lm(S)\n",
    "\n",
    "    #print \"Relations Found:\"\n",
    "    for c in newS.coefficients():\n",
    "        yield c\n",
    "        \n",
    "def reduce_lm(fff):\n",
    "    \"\"\"\n",
    "    Outsource this code from doS.\n",
    "    \"\"\"\n",
    "    fff1 = fff\n",
    "    done = False\n",
    "    \n",
    "    while not done:\n",
    "        new_fff = 0\n",
    "        for m in fff1.monomials():\n",
    "            can_be_reduced = False\n",
    "            for lm in lms:\n",
    "                if lm[0].divides(m):\n",
    "                    can_be_reduced = True\n",
    "                    #newS += make_rel(lm[1], lm[2], lm[3])[1] *(m/lm[0]).numerator()*S1.monomial_coefficient(m)\n",
    "                    new_fff += (lm[1](*lm[2]))[1] * (m/lm[0]).numerator()*fff1.monomial_coefficient(m)\n",
    "                    break\n",
    "            if not can_be_reduced:\n",
    "                new_fff += m*fff1.monomial_coefficient(m)\n",
    "\n",
    "\n",
    "        if fff1 == new_fff:\n",
    "            done = True\n",
    "        else:\n",
    "            #print \"need to go again\"\n",
    "            fff1 = new_fff\n",
    "    return new_fff\n",
    "\n",
    "monos_to_save = [\"al_12\",\"al_21\", \"be_12\", \"be_21\", \"ga_12\", \"ga_21\", \"pi_1\", \"pi_2\", \"ep_12\", \"ep_21\"]\n",
    "def eliminate_vars(r1,r2):\n",
    "    for rrr in doS(r1,r2):\n",
    "        do_monos =[]\n",
    "        for m in rrr.monomials():\n",
    "            if m.degree() == 1:\n",
    "                do_monos.append(m)\n",
    "\n",
    "        doe_monos = []\n",
    "        for m in do_monos:\n",
    "            if str(m) not in monos_to_save:\n",
    "                doe_monos.append(m)\n",
    "\n",
    "        if len(doe_monos) == 0:\n",
    "            if len(do_monos) >0:\n",
    "                raise Exception(\"Must eliminate reserved var!!!!!\")\n",
    "            #otherwise do nothing, can't eliminate a ver\n",
    "        else:\n",
    "\n",
    "            m = doe_monos[0]\n",
    "\n",
    "            #rels_found[m] = m-1/rrr.monomial_coefficient(m)*rrr\n",
    "            print \"Adding relations of the form:\",m, \"=\",m-1/rrr.monomial_coefficient(m)*rrr\n",
    "            for a,b in make_all_subs([str(m), str(m-1/rrr.monomial_coefficient(m)*rrr)]): \n",
    "                #Don't love this method of making sure we don't double eliminate a relation...\n",
    "                if len(str(m)) == len(str(eval(a))):\n",
    "                    Udict[str(eval(a))] = eval(b)\n",
    "            \n",
    "            reduceUdict()\n",
    "\n",
    "            \n",
    "def reduceUdict():\n",
    "    \n",
    "    vUdict = {Uring(k):val for k,val in Udict.items()}\n",
    "    for k, val in Udict.items(): \n",
    "        Udict[k] = val.subs(vUdict)\n",
    "        \n",
    "import re\n",
    "def make_all_subs(strs):\n",
    "    indexes_involved = set()\n",
    "    for st in strs:\n",
    "        for match in re.finditer(r\"[a-z]+_(\\d+)(?:_(\\d+))?\",st):\n",
    "            indexes_involved.update(match.group(1))\n",
    "            if not match.group(2) is None:\n",
    "                indexes_involved.update(match.group(2))\n",
    "\n",
    "    indexes_involved = list(indexes_involved)\n",
    "\n",
    "    for s in Subsets(indexes, len(indexes_involved)):\n",
    "        for p in Permutations(s):\n",
    "\n",
    "            def permute_indices(matchobj):\n",
    "                #Tracer()()\n",
    "                new_indexes = []\n",
    "                for i in matchobj.group(2):\n",
    "                    new_indexes += p[indexes_involved.index(i)]\n",
    "                if matchobj.group(3) is None:\n",
    "                    return \"v('\" + matchobj.group(1) + \"', '\" +  \"','\".join(new_indexes) + \"')\"\n",
    "                #else\n",
    "                new_indexes2 = []\n",
    "                for i in matchobj.group(3):\n",
    "                    new_indexes2 += p[indexes_involved.index(i)]\n",
    "                    \n",
    "                if matchobj.group(1) == \"h\":\n",
    "                    #it is an S, j type\n",
    "                    new_indexes.sort()\n",
    "                    return \"v('\" + matchobj.group(1) + \"', \" + str(new_indexes) + \"', '\" + \", '\".join(new_indexes2) + \"')\"\n",
    "                #else it is a i, S type\n",
    "                new_indexes2.sort()\n",
    "                return \"v('\" + matchobj.group(1) + \"', '\" +  \"','\".join(new_indexes) + \"', \" + str(new_indexes2) + \")\"\n",
    "                \n",
    "\n",
    "            yield tuple((re.sub(r\"([a-z]+)_(\\d+)(?:_(\\d+))?\", permute_indices, str).replace(\"^\",\"**\") for str in strs))\n",
    "            #yield tuple((re.sub(r\"([a-z]+)_([0-9])([0-9])?([0-9])?\", permute_indices, str).replace(\"^\",\"**\") for str in strs))"
   ]
  },
  {
   "cell_type": "markdown",
   "metadata": {
    "deletable": true,
    "editable": true
   },
   "source": [
    "Doing Buchberger on the $f_1f_2$ and $f_1h_2$ equations elimnates $d_{ij}$, $\\delta_{12}$, 3 more."
   ]
  },
  {
   "cell_type": "code",
   "execution_count": 80,
   "metadata": {
    "collapsed": false,
    "deletable": true,
    "editable": true
   },
   "outputs": [
    {
     "name": "stdout",
     "output_type": "stream",
     "text": [
      "Adding relations of the form: d_12 = al_12\n",
      "Adding relations of the form: del_12 = ga_21*d_12 + al_21*be_12\n",
      "Adding relations of the form: v_12 = ga_12\n",
      "Adding relations of the form: b_12 = -t_21*r_12 - ga_12*r_21 + ga_21*del_12 + al_21*psi_12 + al_12*pi_2_12\n",
      "Adding relations of the form: a_12 = t_12*t_21 - ga_21*v_12 + al_12*r_21 - al_21*ep_12\n"
     ]
    }
   ],
   "source": [
    "eliminate_vars(make_rel(\"ff\",\"1\",\"2\"),make_rel(\"fh\",\"1\",\"2\"))"
   ]
  },
  {
   "cell_type": "markdown",
   "metadata": {
    "deletable": true,
    "editable": true
   },
   "source": [
    "Find 4 more"
   ]
  },
  {
   "cell_type": "code",
   "execution_count": 7,
   "metadata": {
    "collapsed": false,
    "deletable": true,
    "editable": true
   },
   "outputs": [
    {
     "name": "stdout",
     "output_type": "stream",
     "text": [
      "Adding relations of the form: t_21 = be_21\n",
      "Adding relations of the form: psi_21 = 3*al_12*al_21*ga_21 + ga_12*be_21\n",
      "Adding relations of the form: r_21 = -al_12*al_21^2 + ep_21\n",
      "Adding relations of the form: u_12 = 3*al_12*al_21*ga_12*ga_21 + al_12*al_21*t_12*t_21 + 2*al_12^2*al_21*r_21 + 3*al_12^2*ga_21*be_21 - al_12*al_21^2*ep_12 - ga_21^2*be_12 - r_21*ep_12 - ga_21*psi_12 + ga_12*psi_21 + t_21*pi_1_12\n"
     ]
    }
   ],
   "source": [
    "eliminate_vars(make_rel(\"hh\",\"1\",\"2\"),make_rel(\"fh\",\"1\",\"2\"))"
   ]
  },
  {
   "cell_type": "markdown",
   "metadata": {
    "deletable": true,
    "editable": true
   },
   "source": [
    "And here are the last 3:"
   ]
  },
  {
   "cell_type": "code",
   "execution_count": 8,
   "metadata": {
    "collapsed": false,
    "deletable": true,
    "editable": true
   },
   "outputs": [
    {
     "name": "stdout",
     "output_type": "stream",
     "text": [
      "Adding relations of the form: g_12 = -al_12^3\n",
      "Adding relations of the form: k_12 = -3*al_12^2*ga_12 + be_12^2\n",
      "Adding relations of the form: s_1_12 = 2*al_12^4*al_21^2 - 6*al_12^2*ga_12*ga_21 - al_12^2*be_12*be_21 - 2*al_12^3*ep_21 - al_12*al_21^2*g_12 - ga_12^3 + 2*ga_21*be_12^2 + ep_12^2 + ep_21*g_12 - ga_12*pi_1_12\n"
     ]
    }
   ],
   "source": [
    "eliminate_vars(make_rel(\"hh\",\"1\",\"2\"),make_rel(\"h2\",\"1\",None,[\"1\",\"2\"]))"
   ]
  },
  {
   "cell_type": "markdown",
   "metadata": {
    "deletable": true,
    "editable": true
   },
   "source": [
    "Maybe you are worried about cyclic dependencies, but check out the `Udict` to make sure all is legit:"
   ]
  },
  {
   "cell_type": "code",
   "execution_count": 9,
   "metadata": {
    "collapsed": false,
    "deletable": true,
    "editable": true,
    "scrolled": false
   },
   "outputs": [
    {
     "name": "stdout",
     "output_type": "stream",
     "text": [
      "~~~ cc_12_34 = cc_12_34\n",
      "~~~ x_4_12 = x_4_12\n",
      "~~~ r_42_34 = r_42_34\n",
      "~~~ hshsc_23_14 = hshsc_23_14\n",
      "~~~ ac_43_14 = ac_43_14\n",
      "~~~ theta_33_23 = theta_33_23\n",
      "~~~ u_14 = -2*al_14^3*al_41^3 + 3*al_14*al_41*ga_14*ga_41 + 3*al_14^2*ga_41*be_41 + al_14*al_41*be_14*be_41 + 2*al_14^2*al_41*ep_41 - 2*ga_41^2*be_14 + ga_14^2*be_41 - ep_14*ep_41 + be_41*pi_1_14\n",
      "~~~ u_13 = -2*al_13^3*al_31^3 + 3*al_13*al_31*ga_13*ga_31 + 3*al_13^2*ga_31*be_31 + al_13*al_31*be_13*be_31 + 2*al_13^2*al_31*ep_31 - 2*ga_31^2*be_13 + ga_13^2*be_31 - ep_13*ep_31 + be_31*pi_1_13\n",
      "~~~ u_12 = -2*al_12^3*al_21^3 + 3*al_12*al_21*ga_12*ga_21 + 3*al_12^2*ga_21*be_21 + al_12*al_21*be_12*be_21 + 2*al_12^2*al_21*ep_21 - 2*ga_21^2*be_12 + ga_12^2*be_21 - ep_12*ep_21 + be_21*pi_1_12\n",
      "~~~ c_23_14 = c_23_14\n",
      "~~~ s_234_24 = s_234_24\n",
      "~~~ ac_24_23 = ac_24_23\n",
      "~~~ pi_44_24 = pi_44_24\n",
      "~~~ b_23_24 = b_23_24\n",
      "~~~ d_234_24 = d_234_24\n",
      "~~~ s_313_34 = s_313_34\n",
      "~~~ fhsc_31_34 = fhsc_31_34\n",
      "~~~ d_324_34 = d_324_34\n",
      "~~~ ac_32_13 = ac_32_13\n",
      "~~~ pi_33_13 = pi_33_13\n",
      "~~~ a_42_34 = a_42_34\n",
      "~~~ del_22_12 = del_22_12\n",
      "~~~ del_44_14 = del_44_14\n",
      "~~~ fhsc_42_14 = fhsc_42_14\n",
      "~~~ hhsc_41_34 = hhsc_41_34\n",
      "~~~ ga_23 = ga_23\n",
      "~~~ fhsc_14_12 = fhsc_14_12\n",
      "~~~ fhsc_14_13 = fhsc_14_13\n",
      "~~~ alin_42_14 = alin_42_14\n",
      "~~~ e_24_23 = e_24_23\n",
      "~~~ e_41_34 = e_41_34\n",
      "~~~ fhsc_23_24 = fhsc_23_24\n",
      "~~~ s_343_13 = s_343_13\n",
      "~~~ s_214_24 = s_214_24\n",
      "~~~ s_3_13 = 3*al_13^2*al_31^4 - 6*al_31^2*ga_13*ga_31 - al_31^2*be_13*be_31 - 3*al_31^3*ep_13 - ga_31^3 + 2*ga_13*be_31^2 + ep_31^2 - ga_31*pi_3_13\n",
      "~~~ fhsc_43_24 = fhsc_43_24\n",
      "~~~ x_1_34 = x_1_34\n",
      "~~~ r_34_23 = r_34_23\n",
      "~~~ ga_22_23 = ga_22_23\n",
      "~~~ ga_22_24 = ga_22_24\n",
      "~~~ d_342_23 = d_342_23\n",
      "~~~ d_134_14 = d_134_14\n",
      "~~~ c_41_23 = c_41_23\n",
      "~~~ ac_31_34 = ac_31_34\n",
      "~~~ fhsc_12_14 = fhsc_12_14\n",
      "~~~ ep_33_34 = ep_33_34\n",
      "~~~ s_232_12 = s_232_12\n",
      "~~~ fhsc_12_13 = fhsc_12_13\n",
      "~~~ d_24 = al_24\n",
      "~~~ s_241_12 = s_241_12\n",
      "~~~ pi_3_23 = pi_3_23\n",
      "~~~ psi_31 = 3*al_13*al_31*ga_31 + ga_13*be_31\n",
      "~~~ psi_32 = 3*al_23*al_32*ga_32 + ga_23*be_32\n",
      "~~~ hshsc_41_23 = hshsc_41_23\n",
      "~~~ hshsc_34_12 = hshsc_34_12\n",
      "~~~ s_421_14 = s_421_14\n",
      "~~~ ga_44_14 = ga_44_14\n",
      "~~~ a_13 = -al_13^2*al_31^2 - ga_13*ga_31 + be_13*be_31 - al_31*ep_13 + al_13*ep_31\n",
      "~~~ hhsc_42_14 = hhsc_42_14\n",
      "~~~ hhsc_23_12 = hhsc_23_12\n",
      "~~~ b_12_14 = b_12_14\n",
      "~~~ b_12_13 = b_12_13\n",
      "~~~ hshsc_32_14 = hshsc_32_14\n",
      "~~~ del_33_23 = del_33_23\n",
      "~~~ alin_24_12 = alin_24_12\n",
      "~~~ e_23_24 = e_23_24\n",
      "~~~ t_24 = be_24\n",
      "~~~ b_23_12 = b_23_12\n",
      "~~~ b_14_13 = b_14_13\n",
      "~~~ b_14_12 = b_14_12\n",
      "~~~ pi_1_14 = pi_1_14\n",
      "~~~ d_413_34 = d_413_34\n",
      "~~~ alin_32_34 = alin_32_34\n",
      "~~~ pi_1_13 = pi_1_13\n",
      "~~~ c_13_24 = c_13_24\n",
      "~~~ fhsc_41_24 = fhsc_41_24\n",
      "~~~ r_32_13 = r_32_13\n",
      "~~~ ep_32 = ep_32\n",
      "~~~ r_43_14 = r_43_14\n",
      "~~~ ep_31 = ep_31\n",
      "~~~ ep_34 = ep_34\n",
      "~~~ d_132_12 = d_132_12\n",
      "~~~ ep_22_12 = ep_22_12\n",
      "~~~ pi_2_23 = pi_2_23\n",
      "~~~ pi_2_24 = pi_2_24\n",
      "~~~ s_243_23 = s_243_23\n",
      "~~~ hhsc_34_23 = hhsc_34_23\n",
      "~~~ ga_24 = ga_24\n",
      "~~~ be_34 = be_34\n",
      "~~~ be_32 = be_32\n",
      "~~~ ga_21 = ga_21\n",
      "~~~ be_31 = be_31\n",
      "~~~ del_13 = al_13*ga_31 + al_31*be_13\n",
      "~~~ del_12 = al_12*ga_21 + al_21*be_12\n",
      "~~~ r_41_24 = r_41_24\n",
      "~~~ s_4_24 = 3*al_24^2*al_42^4 - 6*al_42^2*ga_24*ga_42 - al_42^2*be_24*be_42 - 3*al_42^3*ep_24 - ga_42^3 + 2*ga_24*be_42^2 + ep_42^2 - ga_42*pi_4_24\n",
      "~~~ hshsc_43_12 = hshsc_43_12\n",
      "~~~ del_14 = al_14*ga_41 + al_41*be_14\n",
      "~~~ hshsc_24_13 = hshsc_24_13\n",
      "~~~ d_21 = al_21\n",
      "~~~ d_23 = al_23\n",
      "~~~ u_41 = -2*al_14^3*al_41^3 + 3*al_14*al_41*ga_14*ga_41 + 3*al_41^2*ga_14*be_14 + al_14*al_41*be_14*be_41 + 2*al_14*al_41^2*ep_14 + ga_41^2*be_14 - 2*ga_14^2*be_41 - ep_14*ep_41 + be_14*pi_4_14\n",
      "~~~ pi_44_14 = pi_44_14\n",
      "~~~ u_42 = -2*al_24^3*al_42^3 + 3*al_24*al_42*ga_24*ga_42 + 3*al_42^2*ga_24*be_24 + al_24*al_42*be_24*be_42 + 2*al_24*al_42^2*ep_24 + ga_42^2*be_24 - 2*ga_24^2*be_42 - ep_24*ep_42 + be_24*pi_4_24\n",
      "~~~ ac_42_34 = ac_42_34\n",
      "~~~ t_21 = be_21\n",
      "~~~ x_2_34 = x_2_34\n",
      "~~~ t_23 = be_23\n",
      "~~~ k_34 = -3*al_34^2*ga_34 + be_34^2\n",
      "~~~ k_32 = -3*al_32^2*ga_32 + be_32^2\n",
      "~~~ k_31 = -3*al_31^2*ga_31 + be_31^2\n",
      "~~~ theta_32 = theta_32\n",
      "~~~ g_32 = -al_32^3\n",
      "~~~ g_31 = -al_31^3\n",
      "~~~ fhsc_21_24 = fhsc_21_24\n",
      "~~~ fhsc_21_23 = fhsc_21_23\n",
      "~~~ g_34 = -al_34^3\n",
      "~~~ r_23_12 = r_23_12\n",
      "~~~ c_32_14 = c_32_14\n",
      "~~~ r_23_24 = r_23_24\n",
      "~~~ s_413_34 = s_413_34\n",
      "~~~ r_34_13 = r_34_13\n",
      "~~~ pi_22_24 = pi_22_24\n",
      "~~~ b_31_34 = b_31_34\n",
      "~~~ del_33_13 = del_33_13\n",
      "~~~ alin_24_23 = alin_24_23\n",
      "~~~ d_141_13 = d_141_13\n",
      "~~~ d_141_12 = d_141_12\n",
      "~~~ r_31_34 = r_31_34\n",
      "~~~ theta_22_12 = theta_22_12\n",
      "~~~ a_43_24 = a_43_24\n",
      "~~~ a_31 = -al_13^2*al_31^2 - ga_13*ga_31 + be_13*be_31 + al_31*ep_13 - al_13*ep_31\n",
      "~~~ a_32 = -al_23^2*al_32^2 - ga_23*ga_32 + be_23*be_32 + al_32*ep_23 - al_23*ep_32\n",
      "~~~ s_232_24 = s_232_24\n",
      "~~~ a_34 = -al_34^2*al_43^2 - ga_34*ga_43 + be_34*be_43 - al_43*ep_34 + al_34*ep_43\n",
      "~~~ pi_11_12 = pi_11_12\n",
      "~~~ fhsc_32_13 = fhsc_32_13\n",
      "~~~ r_23 = -al_23^2*al_32 + ep_23\n",
      "~~~ cc_31_24 = cc_31_24\n",
      "~~~ cc_14_23 = cc_14_23\n",
      "~~~ hhsc_43_24 = hhsc_43_24\n",
      "~~~ pi_14 = pi_14\n",
      "~~~ b_12 = 4*al_12*al_21^2*ga_12 + al_12^2*al_21*be_21 + al_12*ga_21^2 + 2*al_21*ga_21*be_12 - be_21*ep_12 - ga_12*ep_21 + al_12*pi_2_12\n",
      "~~~ b_13 = 4*al_13*al_31^2*ga_13 + al_13^2*al_31*be_31 + al_13*ga_31^2 + 2*al_31*ga_31*be_13 - be_31*ep_13 - ga_13*ep_31 + al_13*pi_3_13\n",
      "~~~ fhsc_42_34 = fhsc_42_34\n",
      "~~~ b_14 = 4*al_14*al_41^2*ga_14 + al_14^2*al_41*be_41 + al_14*ga_41^2 + 2*al_41*ga_41*be_14 - be_41*ep_14 - ga_14*ep_41 + al_14*pi_4_14\n",
      "~~~ x_3_14 = x_3_14\n",
      "~~~ cc_34_12 = cc_34_12\n",
      "~~~ x_3_12 = x_3_12\n",
      "~~~ r_12 = -al_12^2*al_21 + ep_12\n",
      "~~~ r_13 = -al_13^2*al_31 + ep_13\n",
      "~~~ ga_44_24 = ga_44_24\n",
      "~~~ r_14 = -al_14^2*al_41 + ep_14\n",
      "~~~ hshsc_31_24 = hshsc_31_24\n",
      "~~~ ga_33_34 = ga_33_34\n",
      "~~~ fhsc_34_13 = fhsc_34_13\n",
      "~~~ d_341_13 = d_341_13\n",
      "~~~ a_41 = -al_14^2*al_41^2 - ga_14*ga_41 + be_14*be_41 + al_41*ep_14 - al_14*ep_41\n",
      "~~~ a_42 = -al_24^2*al_42^2 - ga_24*ga_42 + be_24*be_42 + al_42*ep_24 - al_24*ep_42\n",
      "~~~ a_43 = -al_34^2*al_43^2 - ga_34*ga_43 + be_34*be_43 + al_43*ep_34 - al_34*ep_43\n",
      "~~~ v_23 = ga_23\n",
      "~~~ v_21 = ga_21\n",
      "~~~ v_24 = ga_24\n",
      "~~~ d_14 = al_14\n",
      "~~~ d_12 = al_12\n",
      "~~~ d_13 = al_13\n",
      "~~~ hhsc_21_23 = hhsc_21_23\n",
      "~~~ hhsc_21_24 = hhsc_21_24\n",
      "~~~ theta_33_34 = theta_33_34\n",
      "~~~ c_31_24 = c_31_24\n",
      "~~~ alin_43_24 = alin_43_24\n",
      "~~~ ep_43 = ep_43\n",
      "~~~ u_23 = -2*al_23^3*al_32^3 + 3*al_23*al_32*ga_23*ga_32 + 3*al_23^2*ga_32*be_32 + al_23*al_32*be_23*be_32 + 2*al_23^2*al_32*ep_32 - 2*ga_32^2*be_23 + ga_23^2*be_32 - ep_23*ep_32 + be_32*pi_2_23\n",
      "~~~ ep_41 = ep_41\n",
      "~~~ u_21 = -2*al_12^3*al_21^3 + 3*al_12*al_21*ga_12*ga_21 + 3*al_21^2*ga_12*be_12 + al_12*al_21*be_12*be_21 + 2*al_12*al_21^2*ep_12 + ga_21^2*be_12 - 2*ga_12^2*be_21 - ep_12*ep_21 + be_12*pi_2_12\n",
      "~~~ alin_13_14 = alin_13_14\n",
      "~~~ u_24 = -2*al_24^3*al_42^3 + 3*al_24*al_42*ga_24*ga_42 + 3*al_24^2*ga_42*be_42 + al_24*al_42*be_24*be_42 + 2*al_24^2*al_42*ep_42 - 2*ga_42^2*be_24 + ga_24^2*be_42 - ep_24*ep_42 + be_42*pi_2_24\n",
      "~~~ pi_33_34 = pi_33_34\n",
      "~~~ ep_44_34 = ep_44_34\n",
      "~~~ pi_22_23 = pi_22_23\n",
      "~~~ s_242_23 = s_242_23\n",
      "~~~ pi_22_12 = pi_22_12\n",
      "~~~ cc_43_12 = cc_43_12\n",
      "~~~ hhsc_31_23 = hhsc_31_23\n",
      "~~~ d_232_12 = d_232_12\n",
      "~~~ s_314_34 = s_314_34\n",
      "~~~ d_421_14 = d_421_14\n",
      "~~~ alin_41_34 = alin_41_34\n",
      "~~~ cc_13_24 = cc_13_24\n",
      "~~~ del_23 = al_23*ga_32 + al_32*be_23\n",
      "~~~ r_14_13 = r_14_13\n",
      "~~~ del_21 = al_21*ga_12 + al_12*be_21\n",
      "~~~ x_1_23 = x_1_23\n",
      "~~~ del_24 = al_24*ga_42 + al_42*be_24\n",
      "~~~ s_3_23 = 3*al_23^2*al_32^4 - 6*al_32^2*ga_23*ga_32 - al_32^2*be_23*be_32 - 3*al_32^3*ep_23 - ga_32^3 + 2*ga_23*be_32^2 + ep_32^2 - ga_32*pi_3_23\n",
      "~~~ x_4_13 = x_4_13\n",
      "~~~ e_24_12 = e_24_12\n",
      "~~~ c_24_13 = c_24_13\n",
      "~~~ cc_32_14 = cc_32_14\n",
      "~~~ fhsc_23_12 = fhsc_23_12\n",
      "~~~ ga_14 = ga_14\n",
      "~~~ ga_13 = ga_13\n",
      "~~~ ga_12 = ga_12\n",
      "~~~ pi_34 = pi_34\n",
      "~~~ d_313_34 = d_313_34\n",
      "~~~ ep_33_23 = ep_33_23\n",
      "~~~ d_423_34 = d_423_34\n",
      "~~~ t_14 = be_14\n",
      "~~~ t_12 = be_12\n",
      "~~~ t_13 = be_13\n",
      "~~~ theta_43 = theta_43\n",
      "~~~ theta_42 = theta_42\n",
      "~~~ theta_41 = theta_41\n",
      "~~~ g_42 = -al_42^3\n",
      "~~~ g_43 = -al_43^3\n",
      "~~~ g_41 = -al_41^3\n",
      "~~~ a_12_13 = a_12_13\n",
      "~~~ b_24_12 = b_24_12\n",
      "~~~ d_232_24 = d_232_24\n",
      "~~~ hshsc_13_24 = hshsc_13_24\n",
      "~~~ psi_23 = 3*al_23*al_32*ga_23 + ga_32*be_23\n",
      "~~~ psi_21 = 3*al_12*al_21*ga_21 + ga_12*be_21\n",
      "~~~ pi_3_34 = pi_3_34\n",
      "~~~ psi_24 = 3*al_24*al_42*ga_24 + ga_42*be_24\n",
      "~~~ al_12 = al_12\n",
      "~~~ al_13 = al_13\n",
      "~~~ al_14 = al_14\n",
      "~~~ e_42_34 = e_42_34\n",
      "~~~ b_32_34 = b_32_34\n",
      "~~~ s_231_12 = s_231_12\n",
      "~~~ a_32_13 = a_32_13\n",
      "~~~ c_42_13 = c_42_13\n",
      "~~~ theta_33_13 = theta_33_13\n",
      "~~~ cc_41_23 = cc_41_23\n",
      "~~~ r_12_14 = r_12_14\n",
      "~~~ r_12_13 = r_12_13\n",
      "~~~ s_343_23 = s_343_23\n",
      "~~~ c_14_23 = c_14_23\n",
      "~~~ s_212_23 = s_212_23\n",
      "~~~ s_212_24 = s_212_24\n",
      "~~~ e_34_13 = e_34_13\n",
      "~~~ e_43_14 = e_43_14\n",
      "~~~ s_2_23 = 3*al_23^4*al_32^2 - 6*al_23^2*ga_23*ga_32 - al_23^2*be_23*be_32 - 3*al_23^3*ep_32 - ga_23^3 + 2*ga_32*be_23^2 + ep_23^2 - ga_23*pi_2_23\n",
      "~~~ s_2_24 = 3*al_24^4*al_42^2 - 6*al_24^2*ga_24*ga_42 - al_24^2*be_24*be_42 - 3*al_24^3*ep_42 - ga_24^3 + 2*ga_42*be_24^2 + ep_24^2 - ga_24*pi_2_24\n",
      "~~~ ac_41_34 = ac_41_34\n",
      "~~~ a_41_24 = a_41_24\n",
      "~~~ hhsc_24_23 = hhsc_24_23\n",
      "~~~ s_213_23 = s_213_23\n",
      "~~~ pi_11_13 = pi_11_13\n",
      "~~~ alin_43_14 = alin_43_14\n",
      "~~~ pi_4_14 = pi_4_14\n",
      "~~~ b_41_34 = b_41_34\n",
      "~~~ fhsc_43_14 = fhsc_43_14\n",
      "~~~ d_142_12 = d_142_12\n",
      "~~~ s_4_14 = 3*al_14^2*al_41^4 - 6*al_41^2*ga_14*ga_41 - al_41^2*be_14*be_41 - 3*al_41^3*ep_14 - ga_41^3 + 2*ga_14*be_41^2 + ep_41^2 - ga_41*pi_4_14\n",
      "~~~ d_242_12 = d_242_12\n",
      "~~~ pi_11_14 = pi_11_14\n",
      "~~~ a_43_14 = a_43_14\n",
      "~~~ hshsc_14_23 = hshsc_14_23\n",
      "~~~ pi_2_12 = pi_2_12\n",
      "~~~ pi_4_34 = pi_4_34\n",
      "~~~ s_414_24 = s_414_24\n",
      "~~~ pi_13 = pi_13\n",
      "~~~ s_434_24 = s_434_24\n",
      "~~~ hhsc_42_34 = hhsc_42_34\n",
      "~~~ s_132_12 = s_132_12\n",
      "~~~ s_342_23 = s_342_23\n",
      "~~~ s_142_12 = s_142_12\n",
      "~~~ theta_22_23 = theta_22_23\n",
      "~~~ d_424_34 = d_424_34\n",
      "~~~ b_24_23 = b_24_23\n",
      "~~~ d_343_13 = d_343_13\n",
      "~~~ s_134_14 = s_134_14\n",
      "~~~ del_44_34 = del_44_34\n",
      "~~~ e_32_13 = e_32_13\n",
      "~~~ e_31_23 = e_31_23\n",
      "~~~ alin_42_34 = alin_42_34\n",
      "~~~ hhsc_23_24 = hhsc_23_24\n",
      "~~~ s_323_34 = s_323_34\n",
      "~~~ d_434_24 = d_434_24\n",
      "~~~ e_13_12 = e_13_12\n",
      "~~~ d_323_13 = d_323_13\n",
      "~~~ e_13_14 = e_13_14\n",
      "~~~ d_231_12 = d_231_12\n",
      "~~~ cc_23_14 = cc_23_14\n",
      "~~~ s_312_23 = s_312_23\n",
      "~~~ ep_33_13 = ep_33_13\n",
      "~~~ s_423_34 = s_423_34\n",
      "~~~ alin_34_23 = alin_34_23\n",
      "~~~ hhsc_12_13 = hhsc_12_13\n",
      "~~~ hhsc_12_14 = hhsc_12_14\n",
      "~~~ theta_34 = theta_34\n",
      "~~~ ac_34_23 = ac_34_23\n",
      "~~~ theta_31 = theta_31\n",
      "~~~ psi_12 = 3*al_12*al_21*ga_12 + ga_21*be_12\n",
      "~~~ psi_13 = 3*al_13*al_31*ga_13 + ga_31*be_13\n",
      "~~~ psi_14 = 3*al_14*al_41*ga_14 + ga_41*be_14\n",
      "~~~ pi_24 = pi_24\n",
      "~~~ pi_23 = pi_23\n",
      "~~~ pi_21 = pi_21\n",
      "~~~ pi_3_13 = pi_3_13\n",
      "~~~ e_14_12 = e_14_12\n",
      "~~~ e_14_13 = e_14_13\n",
      "~~~ ga_44_34 = ga_44_34\n",
      "~~~ psi_34 = 3*al_34*al_43*ga_34 + ga_43*be_34\n",
      "~~~ b_43_24 = b_43_24\n",
      "~~~ hhsc_32_13 = hhsc_32_13\n",
      "~~~ al_21 = al_21\n",
      "~~~ al_23 = al_23\n",
      "~~~ al_24 = al_24\n",
      "~~~ ac_13_14 = ac_13_14\n",
      "~~~ v_14 = ga_14\n",
      "~~~ v_12 = ga_12\n",
      "~~~ v_13 = ga_13\n",
      "~~~ ac_13_12 = ac_13_12\n",
      "~~~ b_13_14 = b_13_14\n",
      "~~~ d_314_34 = d_314_34\n",
      "~~~ b_13_12 = b_13_12\n",
      "~~~ d_424_14 = d_424_14\n",
      "~~~ s_123_13 = s_123_13\n",
      "~~~ s_324_34 = s_324_34\n",
      "~~~ s_313_23 = s_313_23\n",
      "~~~ theta_44_14 = theta_44_14\n",
      "~~~ a_14_12 = a_14_12\n",
      "~~~ a_14_13 = a_14_13\n",
      "~~~ hhsc_43_14 = hhsc_43_14\n",
      "~~~ s_2_12 = 3*al_12^2*al_21^4 - 6*al_21^2*ga_12*ga_21 - al_21^2*be_12*be_21 - 3*al_21^3*ep_12 - ga_21^3 + 2*ga_12*be_21^2 + ep_21^2 - ga_21*pi_2_12\n",
      "~~~ be_43 = be_43\n",
      "~~~ be_42 = be_42\n",
      "~~~ be_41 = be_41\n",
      "~~~ s_121_14 = s_121_14\n",
      "~~~ alin_21_23 = alin_21_23\n",
      "~~~ alin_21_24 = alin_21_24\n",
      "~~~ s_121_13 = s_121_13\n",
      "~~~ r_32_34 = r_32_34\n",
      "~~~ c_12_34 = c_12_34\n",
      "~~~ u_34 = -2*al_34^3*al_43^3 + 3*al_34*al_43*ga_34*ga_43 + 3*al_34^2*ga_43*be_43 + al_34*al_43*be_34*be_43 + 2*al_34^2*al_43*ep_43 - 2*ga_43^2*be_34 + ga_34^2*be_43 - ep_34*ep_43 + be_43*pi_3_34\n",
      "~~~ u_31 = -2*al_13^3*al_31^3 + 3*al_13*al_31*ga_13*ga_31 + 3*al_31^2*ga_13*be_13 + al_13*al_31*be_13*be_31 + 2*al_13*al_31^2*ep_13 + ga_31^2*be_13 - 2*ga_13^2*be_31 - ep_13*ep_31 + be_13*pi_3_13\n",
      "~~~ u_32 = -2*al_23^3*al_32^3 + 3*al_23*al_32*ga_23*ga_32 + 3*al_32^2*ga_23*be_23 + al_23*al_32*be_23*be_32 + 2*al_23*al_32^2*ep_23 + ga_32^2*be_23 - 2*ga_23^2*be_32 - ep_23*ep_32 + be_23*pi_3_23\n",
      "~~~ s_242_12 = s_242_12\n",
      "~~~ ep_44_24 = ep_44_24\n",
      "~~~ s_432_24 = s_432_24\n",
      "~~~ c_21_34 = c_21_34\n",
      "~~~ d_124_14 = d_124_14\n",
      "~~~ hhsc_31_34 = hhsc_31_34\n",
      "~~~ a_42_14 = a_42_14\n",
      "~~~ s_341_13 = s_341_13\n",
      "~~~ alin_41_24 = alin_41_24\n",
      "~~~ del_31 = al_31*ga_13 + al_13*be_31\n",
      "~~~ del_32 = al_32*ga_23 + al_23*be_32\n",
      "~~~ del_34 = al_34*ga_43 + al_43*be_34\n",
      "~~~ s_3_34 = 3*al_34^4*al_43^2 - 6*al_34^2*ga_34*ga_43 - al_34^2*be_34*be_43 - 3*al_34^3*ep_43 - ga_34^3 + 2*ga_43*be_34^2 + ep_34^2 - ga_34*pi_3_34\n",
      "~~~ r_42_14 = r_42_14\n",
      "~~~ s_431_14 = s_431_14\n",
      "~~~ ac_42_14 = ac_42_14\n",
      "~~~ psi_41 = 3*al_14*al_41*ga_41 + ga_14*be_41\n",
      "~~~ psi_43 = 3*al_34*al_43*ga_43 + ga_34*be_43\n",
      "~~~ psi_42 = 3*al_24*al_42*ga_42 + ga_24*be_42\n",
      "~~~ e_31_34 = e_31_34\n",
      "~~~ s_141_12 = s_141_12\n",
      "~~~ s_141_13 = s_141_13\n",
      "~~~ b_41 = 4*al_14^2*al_41*ga_41 + al_14*al_41^2*be_14 + al_41*ga_14^2 + 2*al_14*ga_14*be_41 - ga_41*ep_14 - be_14*ep_41 + al_41*pi_1_14\n",
      "~~~ b_43 = 4*al_34^2*al_43*ga_43 + al_34*al_43^2*be_34 + al_43*ga_34^2 + 2*al_34*ga_34*be_43 - ga_43*ep_34 - be_34*ep_43 + al_43*pi_3_34\n",
      "~~~ a_24_23 = a_24_23\n",
      "~~~ theta_11_14 = theta_11_14\n",
      "~~~ hshsc_21_34 = hshsc_21_34\n",
      "~~~ x_1_24 = x_1_24\n",
      "~~~ theta_11_12 = theta_11_12\n",
      "~~~ theta_11_13 = theta_11_13\n",
      "~~~ a_23_12 = a_23_12\n",
      "~~~ k_42 = -3*al_42^2*ga_42 + be_42^2\n",
      "~~~ k_43 = -3*al_43^2*ga_43 + be_43^2\n",
      "~~~ ac_32_34 = ac_32_34\n",
      "~~~ k_41 = -3*al_41^2*ga_41 + be_41^2\n",
      "~~~ s_424_14 = s_424_14\n",
      "~~~ s_143_13 = s_143_13\n",
      "~~~ theta_44_24 = theta_44_24\n",
      "~~~ a_31_34 = a_31_34\n",
      "~~~ d_414_24 = d_414_24\n",
      "~~~ x_4_23 = x_4_23\n",
      "~~~ alin_23_24 = alin_23_24\n",
      "~~~ d_312_23 = d_312_23\n",
      "~~~ d_432_24 = d_432_24\n",
      "~~~ alin_34_13 = alin_34_13\n",
      "~~~ ac_23_24 = ac_23_24\n",
      "~~~ alin_31_23 = alin_31_23\n",
      "~~~ hshsc_42_13 = hshsc_42_13\n",
      "~~~ b_34 = 4*al_34*al_43^2*ga_34 + al_34^2*al_43*be_43 + al_34*ga_43^2 + 2*al_43*ga_43*be_34 - be_43*ep_34 - ga_34*ep_43 + al_34*pi_4_34\n",
      "~~~ a_12 = -al_12^2*al_21^2 - ga_12*ga_21 + be_12*be_21 - al_21*ep_12 + al_12*ep_21\n",
      "~~~ a_34_13 = a_34_13\n",
      "~~~ b_31 = 4*al_13^2*al_31*ga_31 + al_13*al_31^2*be_13 + al_31*ga_13^2 + 2*al_13*ga_13*be_31 - ga_31*ep_13 - be_13*ep_31 + al_31*pi_1_13\n",
      "~~~ b_32 = 4*al_23^2*al_32*ga_32 + al_23*al_32^2*be_23 + al_32*ga_23^2 + 2*al_23*ga_23*be_32 - ga_32*ep_23 - be_23*ep_32 + al_32*pi_2_23\n",
      "~~~ a_14 = -al_14^2*al_41^2 - ga_14*ga_41 + be_14*be_41 - al_41*ep_14 + al_14*ep_41\n",
      "~~~ r_34 = -al_34^2*al_43 + ep_34\n",
      "~~~ fhsc_13_12 = fhsc_13_12\n",
      "~~~ e_34_23 = e_34_23\n",
      "~~~ d_213_23 = d_213_23\n",
      "~~~ r_31 = -al_13*al_31^2 + ep_31\n",
      "~~~ r_32 = -al_23*al_32^2 + ep_32\n",
      "~~~ fhsc_13_14 = fhsc_13_14\n",
      "~~~ ep_12 = ep_12\n",
      "~~~ ep_13 = ep_13\n",
      "~~~ ep_14 = ep_14\n",
      "~~~ cc_24_13 = cc_24_13\n",
      "~~~ alin_32_13 = alin_32_13\n",
      "~~~ ga_33_13 = ga_33_13\n",
      "~~~ d_121_14 = d_121_14\n",
      "~~~ d_121_13 = d_121_13\n",
      "~~~ ac_41_24 = ac_41_24\n",
      "~~~ a_41_34 = a_41_34\n",
      "~~~ r_41 = -al_14*al_41^2 + ep_41\n",
      "~~~ r_43 = -al_34*al_43^2 + ep_43\n",
      "~~~ r_42 = -al_24*al_42^2 + ep_42\n",
      "~~~ v_41 = ga_41\n",
      "~~~ v_43 = ga_43\n",
      "~~~ v_42 = ga_42\n",
      "~~~ e_21_23 = e_21_23\n",
      "~~~ a_21_24 = a_21_24\n",
      "~~~ a_21_23 = a_21_23\n",
      "~~~ e_21_24 = e_21_24\n",
      "~~~ e_41_24 = e_41_24\n",
      "~~~ d_242_23 = d_242_23\n",
      "~~~ hhsc_14_12 = hhsc_14_12\n",
      "~~~ hhsc_14_13 = hhsc_14_13\n",
      "~~~ hhsc_41_24 = hhsc_41_24\n",
      "~~~ s_414_34 = s_414_34\n",
      "~~~ ga_42 = ga_42\n",
      "~~~ ga_43 = ga_43\n",
      "~~~ ga_41 = ga_41\n",
      "~~~ pi_4_24 = pi_4_24\n",
      "~~~ be_14 = be_14\n",
      "~~~ be_12 = be_12\n",
      "~~~ be_13 = be_13\n",
      "~~~ d_43 = al_43\n",
      "~~~ d_42 = al_42\n",
      "~~~ d_41 = al_41\n",
      "~~~ ac_31_23 = ac_31_23\n",
      "~~~ s_131_14 = s_131_14\n",
      "~~~ pi_44_34 = pi_44_34\n",
      "~~~ b_42_34 = b_42_34\n",
      "~~~ ac_24_12 = ac_24_12\n",
      "~~~ s_131_12 = s_131_12\n",
      "~~~ t_43 = be_43\n",
      "~~~ t_42 = be_42\n",
      "~~~ t_41 = be_41\n",
      "~~~ fhsc_31_23 = fhsc_31_23\n",
      "~~~ x_2_13 = x_2_13\n",
      "~~~ x_2_14 = x_2_14\n",
      "~~~ d_241_12 = d_241_12\n",
      "~~~ d_343_23 = d_343_23\n",
      "~~~ g_13 = -al_13^3\n",
      "~~~ g_12 = -al_12^3\n",
      "~~~ g_14 = -al_14^3\n",
      "~~~ del_44_24 = del_44_24\n",
      "~~~ del_22_24 = del_22_24\n",
      "~~~ del_22_23 = del_22_23\n",
      "~~~ b_34_23 = b_34_23\n",
      "~~~ pi_12 = pi_12\n",
      "~~~ del_41 = al_41*ga_14 + al_14*be_41\n",
      "~~~ del_42 = al_42*ga_24 + al_24*be_42\n",
      "~~~ del_43 = al_43*ga_34 + al_34*be_43\n",
      "~~~ r_24_12 = r_24_12\n",
      "~~~ del_33_34 = del_33_34\n",
      "~~~ ep_42 = ep_42\n",
      "~~~ d_321_13 = d_321_13\n",
      "~~~ hshsc_12_34 = hshsc_12_34\n",
      "~~~ pi_41 = pi_41\n",
      "~~~ a_12_14 = a_12_14\n",
      "~~~ pi_43 = pi_43\n",
      "~~~ pi_42 = pi_42\n",
      "~~~ d_243_23 = d_243_23\n",
      "~~~ alin_13_12 = alin_13_12\n",
      "~~~ d_434_14 = d_434_14\n",
      "~~~ del_11_13 = del_11_13\n",
      "~~~ del_11_12 = del_11_12\n",
      "~~~ del_11_14 = del_11_14\n",
      "~~~ theta_24 = theta_24\n",
      "~~~ theta_21 = theta_21\n",
      "~~~ ac_34_13 = ac_34_13\n",
      "~~~ theta_23 = theta_23\n",
      "~~~ b_42_14 = b_42_14\n",
      "~~~ fhsc_32_34 = fhsc_32_34\n",
      "~~~ s_424_34 = s_424_34\n",
      "~~~ k_14 = -3*al_14^2*ga_14 + be_14^2\n",
      "~~~ k_13 = -3*al_13^2*ga_13 + be_13^2\n",
      "~~~ k_12 = -3*al_12^2*ga_12 + be_12^2\n",
      "~~~ pi_31 = pi_31\n",
      "~~~ pi_32 = pi_32\n",
      "~~~ ga_11_14 = ga_11_14\n",
      "~~~ ga_11_13 = ga_11_13\n",
      "~~~ ga_11_12 = ga_11_12\n",
      "~~~ d_412_24 = d_412_24\n",
      "~~~ cc_42_13 = cc_42_13\n",
      "~~~ b_21_24 = b_21_24\n",
      "~~~ a_32_34 = a_32_34\n",
      "~~~ b_21_23 = b_21_23\n",
      "~~~ al_32 = al_32\n",
      "~~~ b_43_14 = b_43_14\n",
      "~~~ al_31 = al_31\n",
      "~~~ al_34 = al_34\n",
      "~~~ theta_22_24 = theta_22_24\n",
      "~~~ pi_33_23 = pi_33_23\n",
      "~~~ e_43_24 = e_43_24\n",
      "~~~ d_212_23 = d_212_23\n",
      "~~~ pi_1_12 = pi_1_12\n",
      "~~~ d_212_24 = d_212_24\n",
      "~~~ fhsc_24_23 = fhsc_24_23\n",
      "~~~ r_24 = -al_24^2*al_42 + ep_24\n",
      "~~~ e_23_12 = e_23_12\n",
      "~~~ d_32 = al_32\n",
      "~~~ ac_43_24 = ac_43_24\n",
      "~~~ d_31 = al_31\n",
      "~~~ d_34 = al_34\n",
      "~~~ s_321_13 = s_321_13\n",
      "~~~ b_41_24 = b_41_24\n",
      "~~~ fhsc_24_12 = fhsc_24_12\n",
      "~~~ fhsc_41_34 = fhsc_41_34\n",
      "~~~ r_43_24 = r_43_24\n",
      "~~~ ep_21 = ep_21\n",
      "~~~ alin_12_13 = alin_12_13\n",
      "~~~ ep_23 = ep_23\n",
      "~~~ u_43 = -2*al_34^3*al_43^3 + 3*al_34*al_43*ga_34*ga_43 + 3*al_43^2*ga_34*be_34 + al_34*al_43*be_34*be_43 + 2*al_34*al_43^2*ep_34 + ga_43^2*be_34 - 2*ga_34^2*be_43 - ep_34*ep_43 + be_34*pi_4_34\n",
      "~~~ ep_24 = ep_24\n",
      "~~~ alin_12_14 = alin_12_14\n",
      "~~~ ep_44_14 = ep_44_14\n",
      "~~~ s_412_24 = s_412_24\n",
      "~~~ b_42 = 4*al_24^2*al_42*ga_42 + al_24*al_42^2*be_24 + al_42*ga_24^2 + 2*al_24*ga_24*be_42 - ga_42*ep_24 - be_24*ep_42 + al_42*pi_2_24\n",
      "~~~ alin_23_12 = alin_23_12\n",
      "~~~ d_131_14 = d_131_14\n",
      "~~~ d_131_12 = d_131_12\n",
      "~~~ ep_22_24 = ep_22_24\n",
      "~~~ ep_22_23 = ep_22_23\n",
      "~~~ alin_14_12 = alin_14_12\n",
      "~~~ alin_14_13 = alin_14_13\n",
      "~~~ r_21_24 = r_21_24\n",
      "~~~ be_24 = be_24\n",
      "~~~ be_21 = be_21\n",
      "~~~ r_41_34 = r_41_34\n",
      "~~~ be_23 = be_23\n",
      "~~~ r_21_23 = r_21_23\n",
      "~~~ s_4_34 = 3*al_34^2*al_43^4 - 6*al_43^2*ga_34*ga_43 - al_43^2*be_34*be_43 - 3*al_43^3*ep_34 - ga_43^3 + 2*ga_34*be_43^2 + ep_43^2 - ga_43*pi_4_34\n",
      "~~~ ep_11_12 = ep_11_12\n",
      "~~~ ep_11_13 = ep_11_13\n",
      "~~~ ep_11_14 = ep_11_14\n",
      "~~~ r_13_14 = r_13_14\n",
      "~~~ ga_32 = ga_32\n",
      "~~~ ga_31 = ga_31\n",
      "~~~ r_13_12 = r_13_12\n",
      "~~~ ga_34 = ga_34\n",
      "~~~ ga_22_12 = ga_22_12\n",
      "~~~ k_24 = -3*al_24^2*ga_24 + be_24^2\n",
      "~~~ k_21 = -3*al_21^2*ga_21 + be_21^2\n",
      "~~~ k_23 = -3*al_23^2*ga_23 + be_23^2\n",
      "~~~ d_123_13 = d_123_13\n",
      "~~~ g_21 = -al_21^3\n",
      "~~~ g_23 = -al_23^3\n",
      "~~~ g_24 = -al_24^3\n",
      "~~~ a_24_12 = a_24_12\n",
      "~~~ t_32 = be_32\n",
      "~~~ t_31 = be_31\n",
      "~~~ t_34 = be_34\n",
      "~~~ ga_33_23 = ga_33_23\n",
      "~~~ a_23_24 = a_23_24\n",
      "~~~ a_13_14 = a_13_14\n",
      "~~~ b_34_13 = b_34_13\n",
      "~~~ a_13_12 = a_13_12\n",
      "~~~ ac_12_13 = ac_12_13\n",
      "~~~ ac_12_14 = ac_12_14\n",
      "~~~ cc_21_34 = cc_21_34\n",
      "~~~ e_32_34 = e_32_34\n",
      "~~~ d_214_24 = d_214_24\n",
      "~~~ b_31_23 = b_31_23\n",
      "~~~ s_323_13 = s_323_13\n",
      "~~~ theta_44_34 = theta_44_34\n",
      "~~~ d_143_13 = d_143_13\n",
      "~~~ e_42_14 = e_42_14\n",
      "~~~ c_43_12 = c_43_12\n",
      "~~~ d_323_34 = d_323_34\n",
      "~~~ r_31_23 = r_31_23\n",
      "~~~ d_414_34 = d_414_34\n",
      "~~~ b_32_13 = b_32_13\n",
      "~~~ d_313_23 = d_313_23\n",
      "~~~ r_24_23 = r_24_23\n",
      "~~~ s_124_14 = s_124_14\n",
      "~~~ ac_23_12 = ac_23_12\n",
      "~~~ a_24 = -al_24^2*al_42^2 - ga_24*ga_42 + be_24*be_42 - al_42*ep_24 + al_24*ep_42\n",
      "~~~ a_23 = -al_23^2*al_32^2 - ga_23*ga_32 + be_23*be_32 - al_32*ep_23 + al_23*ep_32\n",
      "~~~ a_34_23 = a_34_23\n",
      "~~~ a_21 = -al_12^2*al_21^2 - ga_12*ga_21 + be_12*be_21 + al_21*ep_12 - al_12*ep_21\n",
      "~~~ theta_12 = theta_12\n",
      "~~~ theta_13 = theta_13\n",
      "~~~ theta_14 = theta_14\n",
      "~~~ ac_14_12 = ac_14_12\n",
      "~~~ ac_14_13 = ac_14_13\n",
      "~~~ alin_31_34 = alin_31_34\n",
      "~~~ hhsc_24_12 = hhsc_24_12\n",
      "~~~ c_34_12 = c_34_12\n",
      "~~~ b_24 = 4*al_24*al_42^2*ga_24 + al_24^2*al_42*be_42 + al_24*ga_42^2 + 2*al_42*ga_42*be_24 - be_42*ep_24 - ga_24*ep_42 + al_24*pi_4_24\n",
      "~~~ b_23 = 4*al_23*al_32^2*ga_23 + al_23^2*al_32*be_32 + al_23*ga_32^2 + 2*al_32*ga_32*be_23 - be_32*ep_23 - ga_23*ep_32 + al_23*pi_3_23\n",
      "~~~ b_21 = 4*al_12^2*al_21*ga_21 + al_12*al_21^2*be_12 + al_21*ga_12^2 + 2*al_12*ga_12*be_21 - ga_21*ep_12 - be_12*ep_21 + al_21*pi_1_12\n",
      "~~~ hhsc_34_13 = hhsc_34_13\n",
      "~~~ s_1_14 = 3*al_14^4*al_41^2 - 6*al_14^2*ga_14*ga_41 - al_14^2*be_14*be_41 - 3*al_14^3*ep_41 - ga_14^3 + 2*ga_41*be_14^2 + ep_14^2 - ga_14*pi_1_14\n",
      "~~~ s_1_13 = 3*al_13^4*al_31^2 - 6*al_13^2*ga_13*ga_31 - al_13^2*be_13*be_31 - 3*al_13^3*ep_31 - ga_13^3 + 2*ga_31*be_13^2 + ep_13^2 - ga_13*pi_1_13\n",
      "~~~ s_1_12 = 3*al_12^4*al_21^2 - 6*al_12^2*ga_12*ga_21 - al_12^2*be_12*be_21 - 3*al_12^3*ep_21 - ga_12^3 + 2*ga_21*be_12^2 + ep_12^2 - ga_12*pi_1_12\n",
      "~~~ r_21 = -al_12*al_21^2 + ep_21\n",
      "~~~ al_43 = al_43\n",
      "~~~ al_42 = al_42\n",
      "~~~ al_41 = al_41\n",
      "~~~ r_14_12 = r_14_12\n",
      "~~~ hhsc_32_34 = hhsc_32_34\n",
      "~~~ d_431_14 = d_431_14\n",
      "~~~ fhsc_34_23 = fhsc_34_23\n",
      "~~~ x_3_24 = x_3_24\n",
      "~~~ ac_21_23 = ac_21_23\n",
      "~~~ ac_21_24 = ac_21_24\n",
      "~~~ e_12_13 = e_12_13\n",
      "~~~ e_12_14 = e_12_14\n",
      "~~~ a_31_23 = a_31_23\n",
      "~~~ s_434_14 = s_434_14\n",
      "~~~ v_31 = ga_31\n",
      "~~~ v_32 = ga_32\n",
      "~~~ hhsc_13_12 = hhsc_13_12\n",
      "~~~ v_34 = ga_34\n",
      "~~~ hhsc_13_14 = hhsc_13_14\n"
     ]
    }
   ],
   "source": [
    "for k, val in Udict.items():\n",
    "    print \"~~~\", k, \"=\", val"
   ]
  },
  {
   "cell_type": "markdown",
   "metadata": {
    "deletable": true,
    "editable": true
   },
   "source": [
    "Now, let us see what other relations we have."
   ]
  },
  {
   "cell_type": "code",
   "execution_count": 10,
   "metadata": {
    "collapsed": false,
    "deletable": true,
    "editable": true
   },
   "outputs": [
    {
     "name": "stdout",
     "output_type": "stream",
     "text": [
      "(4) * al_12 * al_21^2 * (-al_21*ep_12 + al_12*ep_21)\n",
      "\n"
     ]
    }
   ],
   "source": [
    "for r in doS(make_rel(\"ff\",\"1\",\"2\"),make_rel(\"fh\",\"1\",\"2\")):\n",
    "    print factor(r)\n",
    "    print"
   ]
  },
  {
   "cell_type": "code",
   "execution_count": 11,
   "metadata": {
    "collapsed": false,
    "deletable": true,
    "editable": true
   },
   "outputs": [
    {
     "name": "stdout",
     "output_type": "stream",
     "text": [
      "(-1) * al_12 * (3*al_12^2*al_21*ga_21 + 3*al_12*al_21^2*be_12 + 3*al_21*ga_12^2 - 2*be_12*ep_21 + al_21*pi_1_12)\n",
      "\n",
      "(-1) * (3*al_12*al_21^2*ga_12 + 3*al_12^2*al_21*be_21 + 3*al_12*ga_21^2 - 2*be_21*ep_12 + al_12*pi_2_12)\n",
      "\n",
      "-3*al_12^3*al_21^3*ga_12 - 3*al_12^4*al_21^2*be_21 - 9*al_12^3*al_21*ga_21^2 - 6*al_12^2*al_21^2*ga_21*be_12 - 6*al_12*al_21*ga_12^2*ga_21 + 3*al_12*al_21^2*ga_12*ep_12 + 3*al_12^2*al_21*be_21*ep_12 + 2*al_12^3*be_21*ep_21 - al_12^3*al_21*pi_2_12 + 3*al_12*ga_21^2*ep_12 + 4*al_12*ga_21*be_12*ep_21 - 2*al_12*al_21*ga_21*pi_1_12 - 2*be_21*ep_12^2 + al_12*ep_12*pi_2_12\n",
      "\n"
     ]
    }
   ],
   "source": [
    "for r in doS(make_rel(\"hh\",\"1\",\"2\"),make_rel(\"fh\",\"1\",\"2\")):\n",
    "    print factor(r)\n",
    "    print"
   ]
  },
  {
   "cell_type": "code",
   "execution_count": 12,
   "metadata": {
    "collapsed": false,
    "deletable": true,
    "editable": true
   },
   "outputs": [
    {
     "name": "stdout",
     "output_type": "stream",
     "text": [
      "(-1) * (3*al_12*al_21^2*ga_12 + 3*al_12^2*al_21*be_21 + 3*al_12*ga_21^2 - 2*be_21*ep_12 + al_12*pi_2_12)\n",
      "\n",
      "(-1) * (3*al_12^3*ga_21 + 3*al_12^2*al_21*be_12 + 3*al_12*ga_12^2 - 2*be_12*ep_12 + al_12*pi_1_12)\n",
      "\n",
      "(-1) * (3*al_12*al_21^2*ga_12^2 + 3*al_12^2*al_21*ga_12*be_21 + 3*al_12*ga_12*ga_21^2 - 6*al_12*al_21*ga_21*ep_12 + 6*al_12^2*ga_21*ep_21 - 2*ga_12*be_21*ep_12 + al_12*ga_12*pi_2_12)\n",
      "\n",
      "(-1) * (3*al_12^3*ga_21^2 + 3*al_12^2*al_21*ga_21*be_12 + 3*al_12*ga_12^2*ga_21 - 6*al_12*al_21*ga_12*ep_12 + 6*al_12^2*ga_12*ep_21 - 2*ga_21*be_12*ep_12 + al_12*ga_21*pi_1_12)\n",
      "\n",
      "(-2) * al_21 * al_12 * (-al_21*ep_12 + al_12*ep_21)\n",
      "\n",
      "(-1) * (9*al_12^3*al_21^2*ga_12*ga_21 + 9*al_12^4*al_21*ga_21*be_21 + 4*al_12^3*al_21^3*ep_12 - 4*al_12^4*al_21^2*ep_21 + 3*al_12*al_21^2*ga_12^3 + 3*al_12^3*ga_21^3 - 6*al_12^2*al_21*ga_21^2*be_12 + 3*al_12^2*al_21*ga_12^2*be_21 - 3*al_12*ga_12^2*ga_21^2 - 6*al_12*al_21*ga_12*ga_21*ep_12 - 6*al_12^2*ga_21*be_21*ep_12 - 2*al_12*al_21*be_12*be_21*ep_12 + 2*al_12*al_21^2*ep_12^2 + 6*al_12^2*ga_12*ga_21*ep_21 + 2*al_12^2*be_12*be_21*ep_21 - 6*al_12^2*al_21*ep_12*ep_21 + 4*al_12^3*ep_21^2 + 3*al_12*al_21^2*ga_12*pi_1_12 + 3*al_12^2*al_21*be_21*pi_1_12 + 3*al_12^3*ga_21*pi_2_12 + 4*ga_21^2*be_12*ep_12 - 2*ga_12^2*be_21*ep_12 + al_12*ga_21^2*pi_1_12 + al_12*ga_12^2*pi_2_12 - 2*be_21*ep_12*pi_1_12 + al_12*pi_1_12*pi_2_12)\n",
      "\n"
     ]
    }
   ],
   "source": [
    "for r in doS(make_rel(\"hh\",\"1\",\"2\"),make_rel(\"h2\",\"1\",None,[\"1\",\"2\"])):\n",
    "    print factor(r)\n",
    "    print"
   ]
  },
  {
   "cell_type": "code",
   "execution_count": 13,
   "metadata": {
    "collapsed": false,
    "deletable": true,
    "editable": true
   },
   "outputs": [],
   "source": [
    "str_relations = (list(make_all_subs([\"al_21 *( 3*al_12^2*ga_21 + 3*al_12*al_21*be_12 + 3*ga_12^2 + pi_1_12) - 2*be_12*ep_21\"])) +\n",
    "                 list(make_all_subs([\"al_12*(3*al_12^2*ga_21 + 3*al_12*al_21*be_12 + 3*ga_12^2 + pi_1_12 )- 2*be_12*ep_12\"])))\n",
    "\n",
    "relations_in_A10 = [eval(r[0]) for r in str_relations]\n",
    "relations_in_A10 += [Uring(\"al_12*ep_21 - al_21*ep_12\"),\n",
    "                  Uring(\"be_21*(3*al_12^2*ga_21 + 3*al_12*al_21*be_12 + 3*ga_12^2 + pi_1_12) - be_12*( 3*al_21^2*ga_12 + 3*al_21*al_12*be_21 + 3*ga_21^2 + pi_2_12)\")]\n",
    "\n",
    "Uring_quo = Uring.quotient(relations_in_A10)"
   ]
  },
  {
   "cell_type": "markdown",
   "metadata": {
    "deletable": true,
    "editable": true
   },
   "source": [
    "This shows that the $\\tilde{\\pi_i}$ for this normalization differs from the \"all zero\" normalization by replacing the 3/2 coefficient with 3."
   ]
  },
  {
   "cell_type": "code",
   "execution_count": 14,
   "metadata": {
    "collapsed": false,
    "deletable": true,
    "editable": true
   },
   "outputs": [
    {
     "name": "stdout",
     "output_type": "stream",
     "text": [
      "0\n"
     ]
    }
   ],
   "source": [
    "for r in doS(make_rel(\"ff\",\"1\",\"2\"),make_rel(\"fh\",\"1\",\"2\")):\n",
    "    print Uring_quo(r)"
   ]
  },
  {
   "cell_type": "code",
   "execution_count": 15,
   "metadata": {
    "collapsed": false,
    "deletable": true,
    "editable": true
   },
   "outputs": [
    {
     "name": "stdout",
     "output_type": "stream",
     "text": [
      "0\n",
      "0\n",
      "0\n"
     ]
    }
   ],
   "source": [
    "for r in doS(make_rel(\"hh\",\"1\",\"2\"),make_rel(\"fh\",\"1\",\"2\")):\n",
    "    print Uring_quo(r)"
   ]
  },
  {
   "cell_type": "code",
   "execution_count": 16,
   "metadata": {
    "collapsed": false,
    "deletable": true,
    "editable": true
   },
   "outputs": [
    {
     "name": "stdout",
     "output_type": "stream",
     "text": [
      "0\n",
      "0\n",
      "0\n",
      "0\n",
      "0\n",
      "0\n"
     ]
    }
   ],
   "source": [
    "for r in doS(make_rel(\"hh\",\"1\",\"2\"),make_rel(\"h2\",\"1\",None,[\"1\",\"2\"])):\n",
    "    print Uring_quo(r)"
   ]
  },
  {
   "cell_type": "code",
   "execution_count": 17,
   "metadata": {
    "collapsed": false,
    "deletable": true,
    "editable": true
   },
   "outputs": [
    {
     "name": "stdout",
     "output_type": "stream",
     "text": [
      "0\n",
      "0\n",
      "0\n",
      "0\n"
     ]
    }
   ],
   "source": [
    "for r in doS(make_rel(\"hh\",\"1\",\"2\"),make_rel(\"fh\",\"2\",\"1\")):\n",
    "    print Uring_quo(r)"
   ]
  },
  {
   "cell_type": "markdown",
   "metadata": {
    "deletable": true,
    "editable": true
   },
   "source": [
    "Now, let us check that the point that we computed in our paper lies on the equations."
   ]
  },
  {
   "cell_type": "code",
   "execution_count": 18,
   "metadata": {
    "collapsed": false,
    "deletable": true,
    "editable": true
   },
   "outputs": [
    {
     "name": "stdout",
     "output_type": "stream",
     "text": [
      "3*al_12^2*al_21*ga_21 + 3*al_12*al_21^2*be_12 + 3*al_21*ga_12^2 - 2*be_12*ep_21 + al_21*pi_1_12\n",
      "0\n",
      "*  *  *\n",
      "3*al_12*al_21^2*ga_12 + 3*al_12^2*al_21*be_21 + 3*al_12*ga_21^2 - 2*be_21*ep_12 + al_12*pi_2_12\n",
      "0\n",
      "*  *  *\n",
      "3*al_13^2*al_31*ga_31 + 3*al_13*al_31^2*be_13 + 3*al_31*ga_13^2 - 2*be_13*ep_31 + al_31*pi_1_13\n",
      "3*al_13^2*al_31*ga_31 + 3*al_13*al_31^2*be_13 + 3*al_31*ga_13^2 - 2*be_13*ep_31 + al_31*pi_1_13\n",
      "*  *  *\n",
      "3*al_13*al_31^2*ga_13 + 3*al_13^2*al_31*be_31 + 3*al_13*ga_31^2 - 2*be_31*ep_13 + al_13*pi_3_13\n",
      "3*al_13*al_31^2*ga_13 + 3*al_13^2*al_31*be_31 + 3*al_13*ga_31^2 - 2*be_31*ep_13 + al_13*pi_3_13\n",
      "*  *  *\n",
      "3*al_14^2*al_41*ga_41 + 3*al_14*al_41^2*be_14 + 3*al_41*ga_14^2 - 2*be_14*ep_41 + al_41*pi_1_14\n",
      "3*al_14^2*al_41*ga_41 + 3*al_14*al_41^2*be_14 + 3*al_41*ga_14^2 - 2*be_14*ep_41 + al_41*pi_1_14\n",
      "*  *  *\n",
      "3*al_14*al_41^2*ga_14 + 3*al_14^2*al_41*be_41 + 3*al_14*ga_41^2 - 2*be_41*ep_14 + al_14*pi_4_14\n",
      "3*al_14*al_41^2*ga_14 + 3*al_14^2*al_41*be_41 + 3*al_14*ga_41^2 - 2*be_41*ep_14 + al_14*pi_4_14\n",
      "*  *  *\n",
      "3*al_23*al_32^2*ga_23 + 3*al_23^2*al_32*be_32 + 3*al_23*ga_32^2 - 2*be_32*ep_23 + al_23*pi_3_23\n",
      "3*al_23*al_32^2*ga_23 + 3*al_23^2*al_32*be_32 + 3*al_23*ga_32^2 - 2*be_32*ep_23 + al_23*pi_3_23\n",
      "*  *  *\n",
      "3*al_23^2*al_32*ga_32 + 3*al_23*al_32^2*be_23 + 3*al_32*ga_23^2 - 2*be_23*ep_32 + al_32*pi_2_23\n",
      "3*al_23^2*al_32*ga_32 + 3*al_23*al_32^2*be_23 + 3*al_32*ga_23^2 - 2*be_23*ep_32 + al_32*pi_2_23\n",
      "*  *  *\n",
      "3*al_24^2*al_42*ga_42 + 3*al_24*al_42^2*be_24 + 3*al_42*ga_24^2 - 2*be_24*ep_42 + al_42*pi_2_24\n",
      "3*al_24^2*al_42*ga_42 + 3*al_24*al_42^2*be_24 + 3*al_42*ga_24^2 - 2*be_24*ep_42 + al_42*pi_2_24\n",
      "*  *  *\n",
      "3*al_24*al_42^2*ga_24 + 3*al_24^2*al_42*be_42 + 3*al_24*ga_42^2 - 2*be_42*ep_24 + al_24*pi_4_24\n",
      "3*al_24*al_42^2*ga_24 + 3*al_24^2*al_42*be_42 + 3*al_24*ga_42^2 - 2*be_42*ep_24 + al_24*pi_4_24\n",
      "*  *  *\n",
      "3*al_34^2*al_43*ga_43 + 3*al_34*al_43^2*be_34 + 3*al_43*ga_34^2 - 2*be_34*ep_43 + al_43*pi_3_34\n",
      "3*al_34^2*al_43*ga_43 + 3*al_34*al_43^2*be_34 + 3*al_43*ga_34^2 - 2*be_34*ep_43 + al_43*pi_3_34\n",
      "*  *  *\n",
      "3*al_34*al_43^2*ga_34 + 3*al_34^2*al_43*be_43 + 3*al_34*ga_43^2 - 2*be_43*ep_34 + al_34*pi_4_34\n",
      "3*al_34*al_43^2*ga_34 + 3*al_34^2*al_43*be_43 + 3*al_34*ga_43^2 - 2*be_43*ep_34 + al_34*pi_4_34\n",
      "*  *  *\n",
      "3*al_12^3*ga_21 + 3*al_12^2*al_21*be_12 + 3*al_12*ga_12^2 - 2*be_12*ep_12 + al_12*pi_1_12\n",
      "0\n",
      "*  *  *\n",
      "3*al_21^3*ga_12 + 3*al_12*al_21^2*be_21 + 3*al_21*ga_21^2 - 2*be_21*ep_21 + al_21*pi_2_12\n",
      "0\n",
      "*  *  *\n",
      "3*al_13^3*ga_31 + 3*al_13^2*al_31*be_13 + 3*al_13*ga_13^2 - 2*be_13*ep_13 + al_13*pi_1_13\n",
      "3*al_13^3*ga_31 + 3*al_13^2*al_31*be_13 + 3*al_13*ga_13^2 - 2*be_13*ep_13 + al_13*pi_1_13\n",
      "*  *  *\n",
      "3*al_31^3*ga_13 + 3*al_13*al_31^2*be_31 + 3*al_31*ga_31^2 - 2*be_31*ep_31 + al_31*pi_3_13\n",
      "3*al_31^3*ga_13 + 3*al_13*al_31^2*be_31 + 3*al_31*ga_31^2 - 2*be_31*ep_31 + al_31*pi_3_13\n",
      "*  *  *\n",
      "3*al_14^3*ga_41 + 3*al_14^2*al_41*be_14 + 3*al_14*ga_14^2 - 2*be_14*ep_14 + al_14*pi_1_14\n",
      "3*al_14^3*ga_41 + 3*al_14^2*al_41*be_14 + 3*al_14*ga_14^2 - 2*be_14*ep_14 + al_14*pi_1_14\n",
      "*  *  *\n",
      "3*al_41^3*ga_14 + 3*al_14*al_41^2*be_41 + 3*al_41*ga_41^2 - 2*be_41*ep_41 + al_41*pi_4_14\n",
      "3*al_41^3*ga_14 + 3*al_14*al_41^2*be_41 + 3*al_41*ga_41^2 - 2*be_41*ep_41 + al_41*pi_4_14\n",
      "*  *  *\n",
      "3*al_32^3*ga_23 + 3*al_23*al_32^2*be_32 + 3*al_32*ga_32^2 - 2*be_32*ep_32 + al_32*pi_3_23\n",
      "3*al_32^3*ga_23 + 3*al_23*al_32^2*be_32 + 3*al_32*ga_32^2 - 2*be_32*ep_32 + al_32*pi_3_23\n",
      "*  *  *\n",
      "3*al_23^3*ga_32 + 3*al_23^2*al_32*be_23 + 3*al_23*ga_23^2 - 2*be_23*ep_23 + al_23*pi_2_23\n",
      "3*al_23^3*ga_32 + 3*al_23^2*al_32*be_23 + 3*al_23*ga_23^2 - 2*be_23*ep_23 + al_23*pi_2_23\n",
      "*  *  *\n",
      "3*al_24^3*ga_42 + 3*al_24^2*al_42*be_24 + 3*al_24*ga_24^2 - 2*be_24*ep_24 + al_24*pi_2_24\n",
      "3*al_24^3*ga_42 + 3*al_24^2*al_42*be_24 + 3*al_24*ga_24^2 - 2*be_24*ep_24 + al_24*pi_2_24\n",
      "*  *  *\n",
      "3*al_42^3*ga_24 + 3*al_24*al_42^2*be_42 + 3*al_42*ga_42^2 - 2*be_42*ep_42 + al_42*pi_4_24\n",
      "3*al_42^3*ga_24 + 3*al_24*al_42^2*be_42 + 3*al_42*ga_42^2 - 2*be_42*ep_42 + al_42*pi_4_24\n",
      "*  *  *\n",
      "3*al_34^3*ga_43 + 3*al_34^2*al_43*be_34 + 3*al_34*ga_34^2 - 2*be_34*ep_34 + al_34*pi_3_34\n",
      "3*al_34^3*ga_43 + 3*al_34^2*al_43*be_34 + 3*al_34*ga_34^2 - 2*be_34*ep_34 + al_34*pi_3_34\n",
      "*  *  *\n",
      "3*al_43^3*ga_34 + 3*al_34*al_43^2*be_43 + 3*al_43*ga_43^2 - 2*be_43*ep_43 + al_43*pi_4_34\n",
      "3*al_43^3*ga_34 + 3*al_34*al_43^2*be_43 + 3*al_43*ga_43^2 - 2*be_43*ep_43 + al_43*pi_4_34\n",
      "*  *  *\n",
      "-al_21*ep_12 + al_12*ep_21\n",
      "0\n",
      "*  *  *\n",
      "-3*al_21^2*ga_12*be_12 + 3*al_12^2*ga_21*be_21 - 3*ga_21^2*be_12 + 3*ga_12^2*be_21 + be_21*pi_1_12 - be_12*pi_2_12\n",
      "0\n",
      "*  *  *\n"
     ]
    }
   ],
   "source": [
    "c_point_dict ={\n",
    "    v(\"al\",\"1\",\"2\") :-1,\n",
    "    v(\"al\",\"2\",\"1\") :1,\n",
    "    v(\"be\",\"1\",\"2\") : 3/2,\n",
    "    v(\"be\",\"2\",\"1\") :3/2,\n",
    "    v(\"ga\",\"1\",\"2\") : 5/4,\n",
    "    v(\"ga\",\"2\",\"1\") :5/4,\n",
    "    v(\"ep\",\"1\",\"2\") :-5/4,\n",
    "    v(\"ep\",\"2\",\"1\") :5/4,\n",
    "    v(\"pi\",\"1\",[\"1\",\"2\"]) : -3/16,\n",
    "    v(\"pi\",\"2\",[\"1\",\"2\"]) : -3/16,\n",
    "}\n",
    "\n",
    "for r in relations_in_A10:\n",
    "    print r\n",
    "    print r.subs(c_point_dict)\n",
    "    print \"*  *  *\"\n",
    "#NOTE: This will have some things you don't want for n > 2 "
   ]
  },
  {
   "cell_type": "markdown",
   "metadata": {
    "deletable": true,
    "editable": true
   },
   "source": [
    "Let us make sure that u is symmetric."
   ]
  },
  {
   "cell_type": "code",
   "execution_count": 19,
   "metadata": {
    "collapsed": false,
    "deletable": true,
    "editable": true
   },
   "outputs": [
    {
     "data": {
      "text/plain": [
       "0"
      ]
     },
     "execution_count": 19,
     "metadata": {},
     "output_type": "execute_result"
    }
   ],
   "source": [
    "Uring_quo(Udict[\"u_21\"]-Udict[\"u_12\"])"
   ]
  },
  {
   "cell_type": "code",
   "execution_count": 20,
   "metadata": {
    "collapsed": false,
    "deletable": true,
    "editable": true
   },
   "outputs": [
    {
     "data": {
      "text/plain": [
       "-2*al_12^3*al_21^3 + 3*al_12*al_21*ga_12*ga_21 + 3/2*al_21^2*ga_12*be_12 + 3/2*al_12^2*ga_21*be_21 + al_12*al_21*be_12*be_21 + al_12*al_21^2*ep_12 + al_12^2*al_21*ep_21 - 1/2*ga_21^2*be_12 - 1/2*ga_12^2*be_21 - ep_12*ep_21 + 1/2*be_21*pi_1_12 + 1/2*be_12*pi_2_12"
      ]
     },
     "execution_count": 20,
     "metadata": {},
     "output_type": "execute_result"
    }
   ],
   "source": [
    "(Udict[\"u_21\"]+Udict[\"u_12\"])/2"
   ]
  },
  {
   "cell_type": "code",
   "execution_count": 21,
   "metadata": {
    "collapsed": false,
    "deletable": true,
    "editable": true
   },
   "outputs": [
    {
     "name": "stdout",
     "output_type": "stream",
     "text": [
      "4*al_12*al_21^2*ga_12 + al_12^2*al_21*be_21 + al_12*ga_21^2 + 2*al_21*ga_21*be_12 - be_21*ep_12 - ga_12*ep_21 + al_12*pi_2_12\n",
      "\n",
      "al_12*al_21^2*ga_12 - 2*al_12^2*al_21*be_21 - 2*al_12*ga_21^2 + 2*al_21*ga_21*be_12 + be_21*ep_12 - ga_12*ep_21\n"
     ]
    }
   ],
   "source": [
    "print Udict[\"b_12\"]\n",
    "print\n",
    "print Udict[\"b_12\"].subs({v(\"pi\",\"2\",[\"1\",\"2\"]): Uring(\"-3*al_21^2*ga_12 - 3*al_21*al_12*be_21 - 3*ga_21^2 + pi_2_12\") }) + Uring(\"2*be_21*ep_12- al_12*pi_2_12\")"
   ]
  },
  {
   "cell_type": "markdown",
   "metadata": {
    "deletable": true,
    "editable": true
   },
   "source": [
    "Now, let us find formulas for all the coefficients in the expansions."
   ]
  },
  {
   "cell_type": "code",
   "execution_count": 133,
   "metadata": {
    "collapsed": false,
    "deletable": true,
    "editable": true
   },
   "outputs": [],
   "source": [
    "expand_at_dict = dict()\n",
    "for j in indexes:\n",
    "    expand_at_dict[j] = dict()\n",
    "    for T in Subsets(indexes,2):\n",
    "        Ts = list(T)\n",
    "        Ts.sort()\n",
    "        \n",
    "        for i in indexes:\n",
    "            if i in Ts:\n",
    "                f = v(\"f\",i,Ts)\n",
    "                h = v(\"h\",i,Ts)\n",
    "                if j in Ts:\n",
    "                    if i != j:\n",
    "                        expand_at_dict[j][f] = v(\"al\",i,j)/t + v(\"ga\",i,j) + v(\"del\",i,j)*t + v(\"pi\",i,j)*t^2 + O(t^3)\n",
    "                        expand_at_dict[j][h] = v(\"be\",i,j)/t + v(\"ep\",i,j) + v(\"theta\",i,j)*t + O(t^2)\n",
    "                    else:\n",
    "                        expand_at_dict[j][f] = 1/t^2 + v(\"ga\",i,j,Ts) + v(\"del\",i,j,Ts)*t + v(\"pi\",i,j,Ts)*t^2 + O(t^3)\n",
    "                        expand_at_dict[j][h] = 1/t^3 + v(\"ep\",i,j,Ts) + v(\"theta\",i,j,Ts)*t + O(t^2)\n",
    "                else: #j is not in Ts\n",
    "                    expand_at_dict[j][f] = v(\"b\",i,j,Ts) + O(t)\n",
    "                    expand_at_dict[j][h] = v(\"e\",i,j,Ts) + O(t)\n",
    "            else: #i is not in Ts\n",
    "                hS = v(\"h\",Ts,i)\n",
    "                if j in Ts:\n",
    "                    expand_at_dict[j][hS] = v(\"a\",j,i,Ts)/t + v(\"ac\",j,i,Ts) + v(\"alin\",j,i,Ts)*t + v(\"asq\", j,i,Ts)*t^2 + O(t^3) #check the index order one more time!!!\n",
    "\n",
    "                        \n",
    "                else: #j not in Ts\n",
    "                    if i != j:\n",
    "                        expand_at_dict[j][hS] = v(\"c\",i,j,Ts) + v(\"cc\",i,j,Ts)*t + O(t^2)\n",
    "                    else:\n",
    "                        expand_at_dict[j][hS] = 1/t + v(\"x\",i,Ts) + O(t)\n",
    "                        \n",
    "\n",
    "                \n",
    "def expand_at(func, point):\n",
    "    return func.subs(expand_at_dict[point])\n",
    "\n",
    "\n",
    "def find_rels_by_expansion(point_index, eqn):\n",
    "    expansion = expand_at(eqn[0]-eqn[1], point_index)\n",
    "    \n",
    "    print \"Some relations\"\n",
    "    for value in expansion.coefficients():\n",
    "        print value"
   ]
  },
  {
   "cell_type": "code",
   "execution_count": 134,
   "metadata": {
    "collapsed": false,
    "deletable": true,
    "editable": true
   },
   "outputs": [
    {
     "name": "stdout",
     "output_type": "stream",
     "text": [
      "Some relations\n",
      "al_21*ga_11_12 - al_21*ga_12 - al_12*be_21 + del_21\n",
      "-ga_12*ga_21 + al_21*del_11_12 - al_21*ep_11_12 - al_12*ep_21 - a_12 + pi_21\n",
      "Some relations\n",
      "-t_21 + be_21\n",
      "-al_21^2*d_12 - r_21 + ep_21\n",
      "-2*al_21*ga_21*d_12 - al_21*del_12 + ga_11_12*be_21 - v_12*be_21 + theta_21\n",
      "Some relations\n",
      "al_12 - d_12\n",
      "ga_12 - v_12\n",
      "-2*ga_22_12*d_12\n",
      "-al_12*r_21 - 2*d_12*del_22_12 - t_21*be_12 + al_12*ep_22_12 + pi_12\n",
      "Some relations\n",
      "-al_21^2*be_12 - 2*ga_11_12*be_21 - psi_21 + theta_21\n",
      "Some relations\n",
      "-3*ga_11_12\n",
      "-3*del_11_12 + 2*ep_11_12\n",
      "-3*ga_11_12^2 - pi_1_12 + 2*theta_11_12 - 3*pi_11_12\n",
      "Some relations\n",
      "-al_12^3 - g_12\n",
      "-3*al_12^2*ga_12 + be_12^2 - k_12\n",
      "-3*al_12*ga_12^2 - 3*al_12^2*del_12 + 2*be_12*ep_12 - al_12*pi_1_12\n",
      "-ga_12^3 - 6*al_12*ga_12*del_12 - 3*al_12^2*pi_12 + ep_12^2 - ep_22_12*g_12 - ga_12*pi_1_12 - ga_22_12*k_12 + 2*be_12*theta_12 - s_1_12\n",
      "Some relations\n",
      "-ga_21*b_13_12 - ga_12*b_23_12 + b_13_12*b_23_12 - al_21*e_13_12 - al_12*e_23_12 - a_12\n"
     ]
    }
   ],
   "source": [
    "find_rels_by_expansion(\"1\", make_rel(\"ff\",\"1\",\"2\"))\n",
    "find_rels_by_expansion(\"1\", make_rel(\"fh\",\"1\",\"2\"))\n",
    "find_rels_by_expansion(\"2\", make_rel(\"fh\",\"1\",\"2\"))\n",
    "find_rels_by_expansion(\"1\", make_rel(\"hh\",\"1\",\"2\"))\n",
    "find_rels_by_expansion(\"1\", make_rel(\"h2\",\"1\",None,[\"1\",\"2\"]))\n",
    "find_rels_by_expansion(\"2\", make_rel(\"h2\",\"1\",None,[\"1\",\"2\"]))\n",
    "find_rels_by_expansion(\"3\", make_rel(\"ff\",\"1\",\"2\"))\n",
    "#expand_at(\"3\", make_rel(\"ff\",\"1\",\"2\")) Don't do this, we are in genus 2 for now.\n",
    "#TODO: put these relations in the Udict???"
   ]
  },
  {
   "cell_type": "code",
   "execution_count": 135,
   "metadata": {
    "collapsed": false,
    "deletable": true,
    "editable": true
   },
   "outputs": [],
   "source": [
    "def hShS(S, j, jp): #not tested, not needed for g=2\n",
    "    return (v(\"h\", S, j)*v(\"h\",S,jp), v(\"c\", jp, j, S)*v(\"h\",S,j) +  v(\"c\", j, jp, S)*v(\"h\",S,jp) + sum((v(\"a\", i,j,S)*v(\"a\",i,jp,S)*v(\"f\",i,S) for i in S)) +  v(\"hshsc\",jp,j,S))\n",
    "            \n",
    "def fhS(S, i,j):\n",
    "    if not i in S:\n",
    "        raise Excpetion(\"i should be in S\")\n",
    "    return (v(\"f\",i,S)*v(\"h\", S, j), v(\"b\",i,j,S)*v(\"h\",S,j) + v(\"a\",i,j,S)*v(\"h\",i,S) + sum((v(\"d\",i,j,l,S)*v(\"f\",l,S) for l in S)) + v(\"fhsc\",i,j,S))\n",
    "            \n",
    "def hhS(S,i,j):\n",
    "    if not i in S:\n",
    "        raise Excpetion(\"i should be in S\")\n",
    "    return (v(\"h\",i,S)*v(\"h\",S,j), v(\"e\",i,j,S)*v(\"h\",S,j) +  v(\"a\",i,j,S)*v(\"f\",i,S)**2 + v(\"r\",i,j,S)*v(\"h\",i,S) + sum((v(\"s\",i,j,l,S)*v(\"f\",l,S) for l in S)) + v(\"hhsc\",i,j,S))\n"
   ]
  },
  {
   "cell_type": "code",
   "execution_count": 136,
   "metadata": {
    "collapsed": false,
    "deletable": true,
    "editable": true,
    "scrolled": true
   },
   "outputs": [],
   "source": [
    "for S in Subsets(indexes,g):\n",
    "    Ss = list(S)\n",
    "    Ss.sort()\n",
    "    for j in indexes:\n",
    "        if j in S:\n",
    "            continue\n",
    "        for i in S:\n",
    "            lms.append((v(\"f\",i,Ss)*v(\"h\",Ss,j,Ss), fhS, (Ss,i,j)))\n",
    "            lms.append((v(\"h\",i,Ss)*v(\"h\",Ss,j,Ss), hhS, (Ss,i,j)))\n",
    "            \n",
    "        for jp in indexes:\n",
    "            if jp in S or jp == j:\n",
    "                continue\n",
    "            lms.append((v(\"h\",Ss,j)*v(\"h\",Ss,jp), hShS, (Ss,j,jp)))\n"
   ]
  },
  {
   "cell_type": "code",
   "execution_count": 137,
   "metadata": {
    "collapsed": false,
    "deletable": true,
    "editable": true
   },
   "outputs": [
    {
     "name": "stdout",
     "output_type": "stream",
     "text": [
      "Some relations\n",
      "-al_21^2*a_23_12 + be_21*a_13_12 - s_231_12\n",
      "-2*al_21*ga_21*a_23_12 + ep_21*a_13_12 + be_21*ac_13_12 - a_13_12*e_23_12 - be_21*r_23_12 - al_21*s_232_12\n",
      "-ga_21^2*a_23_12 - 2*al_21*del_21*a_23_12 + ep_21*ac_13_12 + be_21*alin_13_12 - ac_13_12*e_23_12 - ep_21*r_23_12 - ga_11_12*s_231_12 - ga_21*s_232_12 + a_13_12*theta_21 - hhsc_23_12\n",
      "Some relations\n",
      "ac_23_12 - r_23_12\n",
      "-2*ga_22_12*a_23_12 + alin_23_12 - s_232_12\n",
      "-2*del_22_12*a_23_12 + ep_22_12*a_23_12 - a_23_12*e_23_12 - al_12*s_231_12 + asq_23_12\n",
      "Some relations\n",
      "Some relations\n",
      "al_21*a_13_12 - d_231_12\n",
      "ga_21*a_13_12 - be_21*a_23_12 + al_21*ac_13_12 - a_13_12*b_23_12 - al_21*d_232_12\n",
      "del_21*a_13_12 - ep_21*a_23_12 + ga_21*ac_13_12 + al_21*alin_13_12 - ac_13_12*b_23_12 - ga_11_12*d_231_12 - ga_21*d_232_12 - fhsc_23_12\n",
      "del_21*ac_13_12 + ga_21*alin_13_12 + al_21*asq_13_12 - alin_13_12*b_23_12 - del_11_12*d_231_12 - del_21*d_232_12 - a_23_12*theta_21 + a_13_12*pi_21\n",
      "Some relations\n",
      "ac_23_12 - d_232_12\n",
      "ga_22_12*a_23_12 - a_23_12*b_23_12 - al_12*d_231_12 + alin_23_12\n",
      "del_22_12*a_23_12 - ep_22_12*a_23_12 + ga_22_12*ac_23_12 - ac_23_12*b_23_12 - ga_12*d_231_12 - ga_22_12*d_232_12 + asq_23_12 - fhsc_23_12\n",
      "Some relations\n"
     ]
    }
   ],
   "source": [
    "find_rels_by_expansion(\"1\", hhS([\"1\",\"2\"],\"2\",\"3\"))\n",
    "find_rels_by_expansion(\"2\", hhS([\"1\",\"2\"],\"2\",\"3\"))\n",
    "find_rels_by_expansion(\"3\", hhS([\"1\",\"2\"],\"2\",\"3\"))\n",
    "\n",
    "find_rels_by_expansion(\"1\", fhS([\"1\",\"2\"],\"2\",\"3\"))\n",
    "find_rels_by_expansion(\"2\", fhS([\"1\",\"2\"],\"2\",\"3\"))\n",
    "find_rels_by_expansion(\"3\", fhS([\"1\",\"2\"],\"2\",\"3\"))"
   ]
  },
  {
   "cell_type": "code",
   "execution_count": 138,
   "metadata": {
    "collapsed": true
   },
   "outputs": [],
   "source": [
    "def transition(H0gens, f, coefs_to_check):\n",
    "    \"\"\"\n",
    "    This function will find the coefficients of the expression of f in the basis given H0gens. \n",
    "    coefs_to_check is a list of pairs (point, exponent) of terms in the expansion to use to \n",
    "    determine the coefficients.\n",
    "    \n",
    "    Note: The user is responsible for making sure that the parameters are compatible!!\n",
    "    \"\"\"\n",
    "    H0gens = [Rring(g) for g in H0gens]\n",
    "    f = Rring(f)\n",
    "    \n",
    "    M = Matrix(Uring, len(coefs_to_check),len(H0gens),)\n",
    "    b = vector(Uring,len(coefs_to_check))\n",
    "\n",
    "    for i, (point, expon) in enumerate(coefs_to_check):\n",
    "        b[i] = expand_at(f,point)[expon]\n",
    "        for j,gen in enumerate(H0gens):\n",
    "            M[i,j] = expand_at(gen,point)[expon]\n",
    "            \n",
    "    result = M.augment(b).echelon_form()\n",
    "    for row in result.rows():\n",
    "        print row\n",
    "        \n",
    "    return result"
   ]
  },
  {
   "cell_type": "markdown",
   "metadata": {
    "collapsed": true,
    "deletable": true,
    "editable": true
   },
   "source": [
    "First, let's compute $f_{1,12}$ restricted to $\\tilde{\\mathcal U}(13)$. The space $H^0(2p_1 + p_2 + p_3)$ is spanned by $1$, $f_{1,13}$, and $h_2(13)$. We are going to skip computing the constant for now."
   ]
  },
  {
   "cell_type": "code",
   "execution_count": 145,
   "metadata": {
    "collapsed": false
   },
   "outputs": [
    {
     "name": "stdout",
     "output_type": "stream",
     "text": [
      "(1, 0, 0, 1)\n",
      "(0, 1, 0, al_13)\n",
      "(0, 0, 1, -al_13*ac_23_12 - ga_12 + b_12_13)\n",
      "(0, 0, 0, -al_13*a_23_12 - al_12)\n"
     ]
    }
   ],
   "source": [
    "M=transition([\"f_1_12\",\"h_12_3\",\"1\"],\n",
    "          \"f_1_13\",\n",
    "          [(\"1\",-2),(\"2\",-1),(\"3\",-1),(\"2\",0)]);\n",
    "f_1_13_12 = Rring(\"f_1_12 + al_13*h_12_3 -al_13*ac_23_12 - ga_12 + b_12_13\")"
   ]
  },
  {
   "cell_type": "code",
   "execution_count": 147,
   "metadata": {
    "collapsed": false
   },
   "outputs": [
    {
     "name": "stdout",
     "output_type": "stream",
     "text": [
      "(1, 0, 0, 0, 1)\n",
      "(0, 0, 1, 0, be_13)\n",
      "(0, ga_12, 0, 1, -be_13*ac_23_12 - ep_12 + e_12_13)\n",
      "(0, al_12, 0, 0, -be_13*a_23_12 - be_12)\n"
     ]
    }
   ],
   "source": [
    "M=transition([\"h_1_12\",\"f_1_12\",\"h_12_3\",\"1\"],\n",
    "            \"h_1_13\",\n",
    "            [(\"1\",-3),(\"3\",-1),(\"2\",-1),(\"2\",0)]);\n",
    "h_1_13_12 = Rring(\"h_1_12 + bbb*f_1_12 + be_13*h_12_3 + ccc\")"
   ]
  },
  {
   "cell_type": "code",
   "execution_count": 148,
   "metadata": {
    "collapsed": false
   },
   "outputs": [
    {
     "name": "stdout",
     "output_type": "stream",
     "text": [
      "-f_1_12^3 + (-3*al_13)*f_1_12^2*h_12_3 + (-3*al_13^2)*f_1_12*h_12_3^2 + (-al_13^3)*h_12_3^3 + (3*al_13*ac_23_12 + bbb^2 + 3*ga_12 - 3*b_12_13)*f_1_12^2 + 2*bbb*f_1_12*h_1_12 + h_1_12^2 + (6*al_13^2*ac_23_12 + 6*al_13*ga_12 - 6*al_13*b_12_13 + 2*be_13*bbb)*f_1_12*h_12_3 + 2*be_13*h_1_12*h_12_3 + (3*al_13^3*ac_23_12 + 3*al_13^2*ga_12 - 3*al_13^2*b_12_13 + be_13^2)*h_12_3^2 + (-3*al_13^2*ac_23_12^2 - 6*al_13*ga_12*ac_23_12 + 6*al_13*ac_23_12*b_12_13 - 3*ga_12^2 + 6*ga_12*b_12_13 - 3*b_12_13^2 + 2*bbb*ccc)*f_1_12 + 2*ccc*h_1_12 + (-3*al_13^3*ac_23_12^2 - 6*al_13^2*ga_12*ac_23_12 + 6*al_13^2*ac_23_12*b_12_13 - 3*al_13*ga_12^2 + 6*al_13*ga_12*b_12_13 - 3*al_13*b_12_13^2 + 2*be_13*ccc)*h_12_3 + al_13^3*ac_23_12^3 + 3*al_13^2*ga_12*ac_23_12^2 - 3*al_13^2*ac_23_12^2*b_12_13 + 3*al_13*ga_12^2*ac_23_12 - 6*al_13*ga_12*ac_23_12*b_12_13 + 3*al_13*ac_23_12*b_12_13^2 + ga_12^3 - 3*ga_12^2*b_12_13 + 3*ga_12*b_12_13^2 - b_12_13^3 + ccc^2\n"
     ]
    },
    {
     "data": {
      "text/plain": [
       "(-3*al_13*a_13_12 + 2*bbb)*t^-5 + (-3*al_13^2*a_13_12^2 + 2*be_13*a_13_12 - 3*al_13*ac_13_12 + 3*al_13*ac_23_12 + bbb^2 - 3*ga_11_12 + 3*ga_12 - 3*b_12_13)*t^-4 + (-al_13^3*a_13_12^3 - 6*al_13^2*a_13_12*ac_13_12 + 6*al_13^2*a_13_12*ac_23_12 - 6*al_13*ga_11_12*a_13_12 + 6*al_13*ga_12*a_13_12 - 6*al_13*a_13_12*b_12_13 + 2*be_13*a_13_12*bbb + 2*be_13*ac_13_12 - 3*al_13*alin_13_12 + 2*ga_11_12*bbb - 3*del_11_12 + 2*ep_11_12 + 2*ccc)*t^-3 + (-3*al_13^3*a_13_12^2*ac_13_12 + 3*al_13^3*a_13_12^2*ac_23_12 - 3*al_13^2*ga_11_12*a_13_12^2 + 3*al_13^2*ga_12*a_13_12^2 - 3*al_13^2*a_13_12^2*b_12_13 + be_13^2*a_13_12^2 - 3*al_13^2*ac_13_12^2 + 6*al_13^2*ac_13_12*ac_23_12 - 3*al_13^2*ac_23_12^2 - 6*al_13^2*a_13_12*alin_13_12 - 6*al_13*del_11_12*a_13_12 - 6*al_13*ga_11_12*ac_13_12 + 6*al_13*ga_12*ac_13_12 + 6*al_13*ga_11_12*ac_23_12 - 6*al_13*ga_12*ac_23_12 - 6*al_13*ac_13_12*b_12_13 + 6*al_13*ac_23_12*b_12_13 + 2*be_13*ac_13_12*bbb + 2*ga_11_12*bbb^2 - 3*ga_11_12^2 + 6*ga_11_12*ga_12 - 3*ga_12^2 + 2*be_13*alin_13_12 - 3*al_13*asq_13_12 - 6*ga_11_12*b_12_13 + 6*ga_12*b_12_13 - 3*b_12_13^2 + 2*del_11_12*bbb + 2*ep_11_12*bbb + 2*bbb*ccc + 2*theta_11_12 - 3*pi_11_12)*t^-2 + O(t^-1)"
      ]
     },
     "execution_count": 148,
     "metadata": {},
     "output_type": "execute_result"
    }
   ],
   "source": [
    "#r=make_rel(\"h2\",\"1\",None,[\"1\",\"3\"])\n",
    "\n",
    "ff=h_1_13_12^2 - f_1_13_12^3 #-  Rring(\"pi_1_13*f_1_13 + k_13*f_3_13 + g_13*h_3_13 + s_1_13\")\n",
    "\n",
    "print ff\n",
    "\n",
    "expand_at(ff,\"1\")"
   ]
  },
  {
   "cell_type": "code",
   "execution_count": 142,
   "metadata": {
    "collapsed": false
   },
   "outputs": [
    {
     "data": {
      "text/plain": [
       "a_13_12*t^-5 + ac_13_12*t^-4 + (2*ga_11_12*a_13_12 + alin_13_12)*t^-3 + (2*del_11_12*a_13_12 + 2*ga_11_12*ac_13_12 + asq_13_12)*t^-2 + O(t^-1)"
      ]
     },
     "execution_count": 142,
     "metadata": {},
     "output_type": "execute_result"
    }
   ],
   "source": [
    "expand_at(Rring(\"f_1_12^2*h_12_3\"),\"1\")"
   ]
  },
  {
   "cell_type": "code",
   "execution_count": null,
   "metadata": {
    "collapsed": true
   },
   "outputs": [],
   "source": []
  },
  {
   "cell_type": "code",
   "execution_count": 104,
   "metadata": {
    "collapsed": false
   },
   "outputs": [
    {
     "data": {
      "text/plain": [
       "(-3*al_13)*f_1_12^2*h_12_3 + (-3*al_13^2)*f_1_12*h_12_3^2 + (-al_13^3)*h_12_3^3 + bbb^2*f_1_12^2 + 2*bbb*f_1_12*h_1_12 + 2*be_13*bbb*f_1_12*h_12_3 + 2*be_13*h_1_12*h_12_3 + be_13^2*h_12_3^2 + pi_1_12*f_1_12 + k_12*f_2_12 + (-pi_1_13)*f_1_13 + (-k_13)*f_3_13 + g_12*h_2_12 + (-g_13)*h_3_13 + s_1_12 - s_1_13"
      ]
     },
     "execution_count": 104,
     "metadata": {},
     "output_type": "execute_result"
    }
   ],
   "source": [
    "reduce_lm(ff)"
   ]
  },
  {
   "cell_type": "markdown",
   "metadata": {
    "collapsed": true,
    "deletable": true,
    "editable": true
   },
   "source": [
    "Now, let us compute $f_{1,12}$ restricted to $\\tilde{\\mathcal U}(23)$. Again, we may omit the constants."
   ]
  },
  {
   "cell_type": "code",
   "execution_count": 40,
   "metadata": {
    "collapsed": false,
    "deletable": true,
    "editable": true
   },
   "outputs": [
    {
     "name": "stdout",
     "output_type": "stream",
     "text": [
      "(1, 0, 0, 0, -a_21_23^2)\n",
      "(0, 1, 0, 0, -a_31_23^2)\n",
      "(0, 0, 0, 1, 1)\n",
      "(0, 0, a_21_23, 0, al_32*a_31_23^2 - 2*a_21_23*ac_21_23 + al_12)\n",
      "(0, 0, a_31_23, 0, al_23*a_21_23^2 - 2*a_31_23*ac_31_23)\n"
     ]
    }
   ],
   "source": [
    "M=transition([\"f_2_23\",\"f_3_23\", \"h_23_1\", \"h_23_1^2\"],\n",
    "          \"f_1_12\",\n",
    "          [(\"1\",-2),(\"2\",-2),(\"2\",-1),(\"3\",-2),(\"3\",-1)]);"
   ]
  },
  {
   "cell_type": "code",
   "execution_count": 43,
   "metadata": {
    "collapsed": false,
    "deletable": true,
    "editable": true
   },
   "outputs": [
    {
     "data": {
      "text/plain": [
       "-al_23*a_23_12*a_21_23^2 + al_32*a_31_23^2 + 2*a_23_12*a_31_23*ac_31_23 - 2*a_21_23*ac_21_23 + al_12"
      ]
     },
     "execution_count": 43,
     "metadata": {},
     "output_type": "execute_result"
    }
   ],
   "source": [
    "#Note that a_21_23/a_31_23 = a_23_12\n",
    "#This is the formula for al_12!!!!!!\n",
    "M[4,4]*Uring(\"-a_23_12\") + M[3,4]"
   ]
  },
  {
   "cell_type": "markdown",
   "metadata": {},
   "source": [
    "From the equation above, we see that \n",
    "\n",
    "$\\alpha_{12}x_{12}= \\alpha_{23} x_{31} a_{21}(23)^2 - \\alpha_{32} a_{31}(23)^2 x_{12} - 2 x_{31} a_{31}(23) \\tilde{a}_{31}(23)$$ + 2 a_{21}(23) \\tilde{a}_{21}(23)x_{12}$"
   ]
  },
  {
   "cell_type": "code",
   "execution_count": 47,
   "metadata": {
    "collapsed": false,
    "deletable": true,
    "editable": true
   },
   "outputs": [
    {
     "name": "stdout",
     "output_type": "stream",
     "text": [
      "(0, 1, 0, 0, 0, 1)\n",
      "(0, 0, 1, 0, 0, al_12)\n",
      "(0, 0, 0, 1, 0, -a_31_34^2)\n",
      "(0, 0, 0, 0, 1, -a_41_34^2)\n",
      "(a_31_34, 0, 0, 0, 0, al_43*a_41_34^2 - al_12*a_32_34 - 2*a_31_34*ac_31_34)\n",
      "(a_41_34, 0, 0, 0, 0, al_34*a_31_34^2 - al_12*a_42_34 - 2*a_41_34*ac_41_34)\n"
     ]
    }
   ],
   "source": [
    "M=transition([\"h_34_1\",\"h_34_1^2\",\"h_34_2\", \"f_3_34\", \"f_4_34\"],\n",
    "          \"f_1_12\",\n",
    "          [(\"1\",-2),(\"2\",-1),(\"3\",-2),(\"3\",-1),(\"4\",-2),(\"4\",-1)])"
   ]
  },
  {
   "cell_type": "code",
   "execution_count": 50,
   "metadata": {
    "collapsed": false
   },
   "outputs": [
    {
     "data": {
      "text/plain": [
       "-al_34*a_31_34^3 + al_43*a_41_34^3 - al_12*a_32_34*a_41_34 + al_12*a_31_34*a_42_34 - 2*a_31_34*a_41_34*ac_31_34 + 2*a_31_34*a_41_34*ac_41_34"
      ]
     },
     "execution_count": 50,
     "metadata": {},
     "output_type": "execute_result"
    }
   ],
   "source": [
    "M[4,5]*Rring(\"a_41_34\") - M[5,5]*Rring(\"a_31_34\")"
   ]
  },
  {
   "cell_type": "markdown",
   "metadata": {},
   "source": [
    "Apply a Plucker relation to the coefficient of $\\alpha_{12}$ to turn it into $\\pm x_{12}/x_{34}$. Multiply by $x_{34}$ and we should get our formula for $\\alpha_{12}x_{12}$ on $\\mathcal{U}(34)$.\n",
    "\n",
    "So we get\n",
    "$\\alpha_{12}x_{12} = \\pm x_{34}(-\\alpha_{34}a_{31}(34)^3 + \\alpha_{43}a_{41}(34)^3  - 2 a_{31}(34)a_{41}(34)\\tilde{a}_{31}(34) + 2a_{31}(34)a_{41}(34)\\tilde{a}_{41}(34))$\n",
    "\n",
    "Question to self: Do we need to check that the formulas on $\\mathcal{U}(23)$ and $\\mathcal{U}(34)$ are compatible on the intersection?\n",
    "\n",
    "Answer: Yes, compatibility is relevant. But let's shelve this for now because we think $\\alpha_{ij}$ is going to be in an integral dependence, not be a generator."
   ]
  },
  {
   "cell_type": "code",
   "execution_count": null,
   "metadata": {
    "collapsed": true
   },
   "outputs": [],
   "source": []
  }
 ],
 "metadata": {
  "kernelspec": {
   "display_name": "SageMath 8.0",
   "language": "",
   "name": "sagemath"
  }
 },
 "nbformat": 4,
 "nbformat_minor": 2
}
