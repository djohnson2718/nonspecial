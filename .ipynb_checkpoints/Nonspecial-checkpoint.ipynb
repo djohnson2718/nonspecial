{
 "cells": [
  {
   "cell_type": "code",
   "execution_count": 1,
   "metadata": {
    "collapsed": true,
    "deletable": true,
    "editable": true
   },
   "outputs": [],
   "source": [
    "from IPython.core.debugger import Tracer"
   ]
  },
  {
   "cell_type": "code",
   "execution_count": 86,
   "metadata": {
    "collapsed": false,
    "deletable": true,
    "editable": true
   },
   "outputs": [],
   "source": [
    "g = 2\n",
    "n = 4\n",
    "indexes = [str(i) for i in range(1, n+1)]"
   ]
  },
  {
   "cell_type": "markdown",
   "metadata": {
    "deletable": true,
    "editable": true
   },
   "source": [
    "We first create the ring of function on the strongly non-special locus. For now, let's stick to the genus two case, so we don't need the $c_{ij}^k$."
   ]
  },
  {
   "cell_type": "code",
   "execution_count": 87,
   "metadata": {
    "collapsed": false,
    "deletable": true,
    "editable": true
   },
   "outputs": [],
   "source": [
    "def one_index_names(name):\n",
    "\treturn [name +\"_\"+ i  for i in indexes]\n",
    "\t\n",
    "def two_index_names(name):\n",
    "\treturn [name +\"_\"+ i + j for i in indexes for j in indexes if i != j]\n",
    "\n",
    "def two_index_names_repeat(name):\n",
    "    names = []\n",
    "    for i in indexes:\n",
    "        for j in indexes:\n",
    "            if i != j:\n",
    "                names.append(name + \"_\" + i + j)\n",
    "            else:\n",
    "                for k in indexes:\n",
    "                    if k != i:\n",
    "                        T = [i,k]\n",
    "                        T.sort()\n",
    "                        names.append(name + \"_\" + i + i + \"_\" + \"\".join(T))\n",
    "    return names\n",
    "    #return [name +\"_\"+ i + j for i in indexes for j in indexes]\n",
    "\n",
    "def three_index_names(name):\n",
    "\treturn [name +\"_\"+ i + j + k for i in indexes for j in indexes for k in indexes if i != j and i != k and j !=k]\n",
    "\n",
    "def jjpS_names(name):\n",
    "    names = []\n",
    "    for S in Subsets(indexes, g):\n",
    "        Ss = list(S)\n",
    "        Ss.sort()\n",
    "        for jj in Subsets(indexes,2):\n",
    "            jjs = list(jj)\n",
    "            jjs.sort()\n",
    "            j = jjs[0]\n",
    "            jp = jjs[1]\n",
    "            \n",
    "            if j not in S and jp not in S:\n",
    "                names.append(name + \"_\" + j + jp + \"_\" + \"\".join(Ss))\n",
    "                names.append(name + \"_\" + jp + j + \"_\" + \"\".join(Ss))\n",
    "\n",
    "    return names\n",
    "\n",
    "def ijS_names(name):\n",
    "    names = []\n",
    "    for S in Subsets(indexes, g):\n",
    "        Ss = list(S)\n",
    "        Ss.sort()\n",
    "        for i in Ss:\n",
    "            for j in indexes:\n",
    "                if j not in Ss:\n",
    "                    names.append(name + \"_\" + i + j + \"_\" + \"\".join(Ss))\n",
    "\n",
    "    return names\n",
    "\n",
    "def iS_names(name):\n",
    "    names = []\n",
    "    for S in Subsets(indexes, g):\n",
    "        Ss = list(S)\n",
    "        Ss.sort()\n",
    "        for i in Ss:\n",
    "            names.append(name + \"_\" + i + \"_\" + \"\".join(Ss))\n",
    "    return names\n",
    "\n",
    "def inotinS_names(name):\n",
    "    names = []\n",
    "    for S in Subsets(indexes, g):\n",
    "        Ss = list(S)\n",
    "        Ss.sort()\n",
    "        for i in indexes:\n",
    "            if i not in Ss:\n",
    "                names.append(name + \"_\" + i + \"_\" + \"\".join(Ss))\n",
    "    return names\n",
    "\n",
    "def ijlS_names(name):\n",
    "    names = []\n",
    "    for S in Subsets(indexes, g):\n",
    "        Ss = list(S)\n",
    "        Ss.sort()\n",
    "        for i in S:\n",
    "            for l in S:\n",
    "                for j in indexes:\n",
    "                    if not j in S:\n",
    "                        names.append(name + \"_\"+ i + j +l + \"_\" + \"\".join(Ss))\n",
    "    return names\n",
    "                    \n",
    "def hS_names():\n",
    "    names = []\n",
    "    for S in Subsets(indexes, g):\n",
    "        Ss = list(S)\n",
    "        Ss.sort()\n",
    "        for j in indexes:\n",
    "            if not j in S:\n",
    "                names.append(\"h_\" + \"\".join(Ss) + \"_\" + j) \n",
    "    return names\n",
    "        \n",
    "    \n",
    "Uring = PolynomialRing(QQ, two_index_names(\"al\") + two_index_names_repeat(\"ga\") +  two_index_names(\"a\") + two_index_names(\"d\") + two_index_names(\"t\") + two_index_names(\"v\") + two_index_names(\"r\") + two_index_names_repeat(\"del\") + two_index_names(\"b\") + two_index_names(\"be\") + two_index_names_repeat(\"ep\") + two_index_names(\"psi\")  + two_index_names(\"u\") + two_index_names(\"g\") + iS_names(\"pi\") + two_index_names(\"k\") + iS_names(\"s\") \n",
    "                      + jjpS_names(\"c\") + jjpS_names(\"cc\") + ijS_names(\"a\") + ijS_names(\"ac\") + ijS_names(\"alin\") + jjpS_names(\"hshsc\") + ijS_names(\"b\") +ijlS_names(\"d\") + ijS_names(\"fhsc\") + ijS_names(\"e\") + ijS_names(\"r\") + ijlS_names(\"s\") +ijS_names(\"hhsc\")\n",
    "                      + two_index_names_repeat(\"theta\") + two_index_names_repeat(\"pi\") + inotinS_names(\"x\"))\n",
    "\n",
    "Rring = PolynomialRing(Uring, iS_names(\"f\") + iS_names(\"h\")+ hS_names())\n",
    "    \n",
    "Udict = Uring.gens_dict()\n",
    "Rdict = Rring.gens_dict()\n",
    "ExpandRing.<t> = LaurentSeriesRing(Uring)\n",
    "\n",
    "def v(letter, a, b = \"\", c = \"\", d = None):\n",
    "    #if g==2 and letter in [\"c\",\"e\",\"ell\"] and not type(c) == list:\n",
    "    #    return 0\n",
    "    \n",
    "    #Some normalization\n",
    "    if letter == \"d\" and type(d) == list:\n",
    "        if a == d[0] and c == d[0]:\n",
    "            return 0\n",
    "    \n",
    "    if letter == \"h\" and type(a) == list:\n",
    "        return Rdict[\"h_\" + \"\".join(a) + \"_\" + b]\n",
    "    if type(c) == list:\n",
    "        return Udict[letter + \"_\" + a + b + \"_\" + \"\".join(c)]\n",
    "    if type(b) == list:\n",
    "        try:\n",
    "            return Udict[letter + \"_\" + a + \"_\" + \"\".join(b)]\n",
    "        except:\n",
    "            return Rdict[letter + \"_\" + a + \"_\" + \"\".join(b)]\n",
    "    \n",
    "    if not d is None:\n",
    "        return Udict[letter + \"_\" + a + b + c + \"_\" + \"\".join(d)]\n",
    "    try:\n",
    "        return Udict[letter +\"_\"+ a + b +c]\n",
    "    except KeyError:\n",
    "        return Rdict[letter +\"_\"+ a + b +c]"
   ]
  },
  {
   "cell_type": "markdown",
   "metadata": {
    "deletable": true,
    "editable": true
   },
   "source": [
    "We now create the relations."
   ]
  },
  {
   "cell_type": "code",
   "execution_count": 4,
   "metadata": {
    "collapsed": false,
    "deletable": true,
    "editable": true
   },
   "outputs": [],
   "source": [
    "def make_rel(lh, i, j, S = None):\n",
    "    \"\"\"\n",
    "    lh is one of \"ff\", \"fh\", \"hh\", or \"h2\"\n",
    "    i and j are the indexes appearing in the left hand side\n",
    "    S is the set of indexes with size equal to g, must contain i,j, defaults to [i,j]\n",
    "\n",
    "    j must be None in the case of \"h2\".\n",
    "    \"\"\"\n",
    "    if S is None:\n",
    "        if j is not None and g==2:\n",
    "            S = [i,j]\n",
    "        else:\n",
    "            raise Exception(\"Not able to automatically find S.\")\n",
    "\n",
    "    S.sort()\n",
    "    \n",
    "    if not j is None:\n",
    "        notij = copy(S)\n",
    "        notij.remove(i)\n",
    "        notij.remove(j)\n",
    "\n",
    "    if lh == \"ff\":\n",
    "        return ( v(\"f\",i,S)*v(\"f\",j,S) , v(\"al\",j,i)*v(\"h\",i,S) + v(\"al\",i,j)*v(\"h\",j,S) + v(\"ga\",j,i)*v(\"f\",i,S) + v(\"ga\",i,j)*v(\"f\",j,S) + sum((v(\"c\",i,j,k)*v(\"f\",k,S) for k in notij)) + v(\"a\",i,j) )\n",
    "\n",
    "    elif lh == \"fh\":\n",
    "        return (v(\"f\",i,S)*v(\"h\",j,S) , v(\"d\",i,j)*v(\"f\",j,S)**2 + v(\"t\",j,i)*v(\"h\",i,S) + v(\"v\",i,j)*v(\"h\",j,S) + v(\"r\",j,i)*v(\"f\",i,S) + v(\"del\",i,j)*v(\"f\",j,S) + sum(( v(\"e\", i,j,k)*v(\"f\",k,S) for k in notij)) + v(\"b\",i,j))\n",
    "\n",
    "    elif lh == \"hh\":\n",
    "        return (v(\"h\",i,S)*v(\"h\",j,S) , v(\"be\",j,i)*v(\"f\",i,S)**2 + v(\"be\",i,j)*v(\"f\",j,S)**2 + v(\"ep\",j,i)*v(\"h\",i,S) + v(\"ep\",i,j)*v(\"h\",j,S) + v(\"psi\",j,i)*v(\"f\",i,S) + v(\"psi\",i,j)*v(\"f\",j,S) + sum((v(\"ell\",i,j,k)*v(\"f\",k,S) for k in notij)) + v(\"u\",i,j))\n",
    "\n",
    "    elif lh == \"h2\":\n",
    "        if not j is None:\n",
    "            raise Exception(\"j must be None\")\n",
    "\n",
    "        noti = copy(S)\n",
    "        noti.remove(i)\n",
    "\n",
    "        return (v(\"h\",i,S)**2, v(\"f\",i,S)**3 + sum(( v(\"g\",i,k)*v(\"h\",k,S) for k in noti)) + v(\"pi\",i,S)*v(\"f\",i,S) + sum((v(\"k\",i,k)*v(\"f\",k,S) for k in noti)) + v(\"s\",i,S))"
   ]
  },
  {
   "cell_type": "markdown",
   "metadata": {
    "deletable": true,
    "editable": true
   },
   "source": [
    "\n",
    "First, we want to check the following.\n",
    "### Lemma\n",
    "The ring $\\mathcal U^{ns}_{2,n}(ij)$ is generated by ten variables $\\alpha_{ij}$, $\\beta_{ij}$, $\\gamma_{ij}$, $\\epsilon_{ij}$, $\\pi_i$.\n",
    "\n",
    "We know that the ring is generated by all the coefficients appearing in the equations on page 9 of \"... as moduli of $A_\\infty$-structres\". There are 23 letters appearing there. 3 of them ($c$, $e$, and $l$) do not occur in genus 2, and $q$, $r$, and $u$ (with one subscript), we make 0 by adding constants to $f$ and $g$. Hence, we need to eliminate 12 letters. \n",
    "\n",
    "By symmetry we will just check the case $i,j = 1,2$. We use the Buchberger algorithm to find relations."
   ]
  },
  {
   "cell_type": "code",
   "execution_count": 5,
   "metadata": {
    "collapsed": false,
    "deletable": true,
    "editable": true
   },
   "outputs": [
    {
     "name": "stdout",
     "output_type": "stream",
     "text": [
      "Warning: S is hard coded here!!!!\n"
     ]
    }
   ],
   "source": [
    "lms = []\n",
    "#the leading monomials\n",
    "S = [\"1\",\"2\"]\n",
    "print \"Warning: S is hard coded here!!!!\"\n",
    "\n",
    "for i, j in Combinations(S,2):\n",
    "    lms.append( (v(\"f\",i,S)*v(\"f\",j,S), make_rel , (\"ff\", i, j,S)))\n",
    "    lms.append( (v(\"h\",i,S)*v(\"h\",j,S), make_rel, (\"hh\", i, j,S)))\n",
    "\n",
    "for i in S:\n",
    "    lms.append( (v(\"h\",i,S)^2, make_rel , (\"h2\", i, None, S)))  \n",
    "    for j in S:\n",
    "        if j==i:\n",
    "            continue\n",
    "        lms.append( (v(\"f\",i,S)*v(\"h\",j,S), make_rel,(\"fh\", i, j,S)))\n",
    "\n",
    "def doS(r1,r2):\n",
    "    \"\"\"\n",
    "    Implements the Buchberger algorithm to find relations between the coefficients.\n",
    "    \"\"\"\n",
    "    L = lcm(r1[0].change_ring(QQ), r2[0].change_ring(QQ))\n",
    "    factor1 = L.quo_rem(r1[0])[0]\n",
    "    factor2 = L.quo_rem(r2[0])[0]\n",
    "    S = factor1 * r1[1] - factor2 * r2[1]\n",
    "    S1 = S\n",
    "    done = False\n",
    "    while not done:\n",
    "        newS = 0\n",
    "        for m in S1.monomials():\n",
    "            can_be_reduced = False\n",
    "            for lm in lms:\n",
    "                if lm[0].divides(m):\n",
    "                    can_be_reduced = True\n",
    "                    #newS += make_rel(lm[1], lm[2], lm[3])[1] *(m/lm[0]).numerator()*S1.monomial_coefficient(m)\n",
    "                    newS += (lm[1](*lm[2]))[1] * (m/lm[0]).numerator()*S1.monomial_coefficient(m)\n",
    "                    break\n",
    "            if not can_be_reduced:\n",
    "                newS += m*S1.monomial_coefficient(m)\n",
    "\n",
    "\n",
    "        if S1 == newS:\n",
    "            done = True\n",
    "        else:\n",
    "            #print \"need to go again\"\n",
    "            S1 = newS\n",
    "\n",
    "    #print \"Relations Found:\"\n",
    "    for c in newS.coefficients():\n",
    "        yield c\n",
    "\n",
    "monos_to_save = [\"al_12\",\"al_21\", \"be_12\", \"be_21\", \"ga_12\", \"ga_21\", \"pi_1\", \"pi_2\", \"ep_12\", \"ep_21\"]\n",
    "def eliminate_vars(r1,r2):\n",
    "    for rrr in doS(r1,r2):\n",
    "        do_monos =[]\n",
    "        for m in rrr.monomials():\n",
    "            if m.degree() == 1:\n",
    "                do_monos.append(m)\n",
    "\n",
    "        doe_monos = []\n",
    "        for m in do_monos:\n",
    "            if str(m) not in monos_to_save:\n",
    "                doe_monos.append(m)\n",
    "\n",
    "        if len(doe_monos) == 0:\n",
    "            if len(do_monos) >0:\n",
    "                raise Exception(\"Must eliminate reserved var!!!!!\")\n",
    "            #otherwise do nothing, can't eliminate a ver\n",
    "        else:\n",
    "\n",
    "            m = doe_monos[0]\n",
    "\n",
    "            #rels_found[m] = m-1/rrr.monomial_coefficient(m)*rrr\n",
    "            print \"Adding relations of the form:\",m, \"=\",m-1/rrr.monomial_coefficient(m)*rrr\n",
    "            for a,b in make_all_subs([str(m), str(m-1/rrr.monomial_coefficient(m)*rrr)]): \n",
    "                #Don't love this method of making sure we don't double eliminate a relation...\n",
    "                if len(str(m)) == len(str(eval(a))):\n",
    "                    Udict[str(eval(a))] = eval(b)\n",
    "            \n",
    "            reduceUdict()\n",
    "\n",
    "            \n",
    "def reduceUdict():\n",
    "    \n",
    "    vUdict = {Uring(k):val for k,val in Udict.items()}\n",
    "    for k, val in Udict.items(): \n",
    "        Udict[k] = val.subs(vUdict)\n",
    "        \n",
    "import re\n",
    "def make_all_subs(strs):\n",
    "    indexes_involved = set()\n",
    "    for st in strs:\n",
    "        for match in re.finditer(r\"[a-z]+_(\\d+)(?:_(\\d+))?\",st):\n",
    "            indexes_involved.update(match.group(1))\n",
    "            if not match.group(2) is None:\n",
    "                indexes_involved.update(match.group(2))\n",
    "\n",
    "    indexes_involved = list(indexes_involved)\n",
    "\n",
    "    for s in Subsets(indexes, len(indexes_involved)):\n",
    "        for p in Permutations(s):\n",
    "\n",
    "            def permute_indices(matchobj):\n",
    "                #Tracer()()\n",
    "                new_indexes = []\n",
    "                for i in matchobj.group(2):\n",
    "                    new_indexes += p[indexes_involved.index(i)]\n",
    "                if matchobj.group(3) is None:\n",
    "                    return \"v('\" + matchobj.group(1) + \"', '\" +  \"','\".join(new_indexes) + \"')\"\n",
    "                #else\n",
    "                new_indexes2 = []\n",
    "                for i in matchobj.group(3):\n",
    "                    new_indexes2 += p[indexes_involved.index(i)]\n",
    "                    \n",
    "                if matchobj.group(1) == \"h\":\n",
    "                    #it is an S, j type\n",
    "                    new_indexes.sort()\n",
    "                    return \"v('\" + matchobj.group(1) + \"', \" + str(new_indexes) + \"', '\" + \", '\".join(new_indexes2) + \"')\"\n",
    "                #else it is a i, S type\n",
    "                new_indexes2.sort()\n",
    "                return \"v('\" + matchobj.group(1) + \"', '\" +  \"','\".join(new_indexes) + \"', \" + str(new_indexes2) + \")\"\n",
    "                \n",
    "\n",
    "            yield tuple((re.sub(r\"([a-z]+)_(\\d+)(?:_(\\d+))?\", permute_indices, str).replace(\"^\",\"**\") for str in strs))\n",
    "            #yield tuple((re.sub(r\"([a-z]+)_([0-9])([0-9])?([0-9])?\", permute_indices, str).replace(\"^\",\"**\") for str in strs))"
   ]
  },
  {
   "cell_type": "markdown",
   "metadata": {
    "deletable": true,
    "editable": true
   },
   "source": [
    "Doing Buchberger on the $f_1f_2$ and $f_1h_2$ equations elimnates $d_{ij}$, $\\delta_{12}$, 3 more."
   ]
  },
  {
   "cell_type": "code",
   "execution_count": 6,
   "metadata": {
    "collapsed": false,
    "deletable": true,
    "editable": true
   },
   "outputs": [
    {
     "name": "stdout",
     "output_type": "stream",
     "text": [
      "Adding relations of the form: d_12 = al_12\n",
      "Adding relations of the form: del_12 = ga_21*d_12 + al_21*be_12\n",
      "Adding relations of the form: v_12 = ga_12\n",
      "Adding relations of the form: b_12 = -t_21*r_12 - ga_12*r_21 + ga_21*del_12 + al_21*psi_12 + al_12*pi_2_12\n",
      "Adding relations of the form: a_12 = t_12*t_21 - ga_21*v_12 + al_12*r_21 - al_21*ep_12\n"
     ]
    }
   ],
   "source": [
    "eliminate_vars(make_rel(\"ff\",\"1\",\"2\"),make_rel(\"fh\",\"1\",\"2\"))"
   ]
  },
  {
   "cell_type": "markdown",
   "metadata": {
    "deletable": true,
    "editable": true
   },
   "source": [
    "Find 4 more"
   ]
  },
  {
   "cell_type": "code",
   "execution_count": 7,
   "metadata": {
    "collapsed": false,
    "deletable": true,
    "editable": true
   },
   "outputs": [
    {
     "name": "stdout",
     "output_type": "stream",
     "text": [
      "Adding relations of the form: t_21 = be_21\n",
      "Adding relations of the form: psi_21 = 3*al_12*al_21*ga_21 + ga_12*be_21\n",
      "Adding relations of the form: r_21 = -al_12*al_21^2 + ep_21\n",
      "Adding relations of the form: u_12 = 3*al_12*al_21*ga_12*ga_21 + al_12*al_21*t_12*t_21 + 2*al_12^2*al_21*r_21 + 3*al_12^2*ga_21*be_21 - al_12*al_21^2*ep_12 - ga_21^2*be_12 - r_21*ep_12 - ga_21*psi_12 + ga_12*psi_21 + t_21*pi_1_12\n"
     ]
    }
   ],
   "source": [
    "eliminate_vars(make_rel(\"hh\",\"1\",\"2\"),make_rel(\"fh\",\"1\",\"2\"))"
   ]
  },
  {
   "cell_type": "markdown",
   "metadata": {
    "deletable": true,
    "editable": true
   },
   "source": [
    "And here are the last 3:"
   ]
  },
  {
   "cell_type": "code",
   "execution_count": 8,
   "metadata": {
    "collapsed": false,
    "deletable": true,
    "editable": true
   },
   "outputs": [
    {
     "name": "stdout",
     "output_type": "stream",
     "text": [
      "Adding relations of the form: g_12 = -al_12^3\n",
      "Adding relations of the form: k_12 = -3*al_12^2*ga_12 + be_12^2\n",
      "Adding relations of the form: s_1_12 = 2*al_12^4*al_21^2 - 6*al_12^2*ga_12*ga_21 - al_12^2*be_12*be_21 - 2*al_12^3*ep_21 - al_12*al_21^2*g_12 - ga_12^3 + 2*ga_21*be_12^2 + ep_12^2 + ep_21*g_12 - ga_12*pi_1_12\n"
     ]
    }
   ],
   "source": [
    "eliminate_vars(make_rel(\"hh\",\"1\",\"2\"),make_rel(\"h2\",\"1\",None,[\"1\",\"2\"]))"
   ]
  },
  {
   "cell_type": "markdown",
   "metadata": {
    "deletable": true,
    "editable": true
   },
   "source": [
    "Maybe you are worried about cyclic dependencies, but check out the `Udict` to make sure all is legit:"
   ]
  },
  {
   "cell_type": "code",
   "execution_count": 9,
   "metadata": {
    "collapsed": false,
    "deletable": true,
    "editable": true,
    "scrolled": false
   },
   "outputs": [
    {
     "name": "stdout",
     "output_type": "stream",
     "text": [
      "~~~ e_13_12 = e_13_12\n",
      "~~~ fhsc_31_23 = fhsc_31_23\n",
      "~~~ d_323_13 = d_323_13\n",
      "~~~ r_12 = -al_12^2*al_21 + ep_12\n",
      "~~~ r_13 = -al_13^2*al_31 + ep_13\n",
      "~~~ ac_12_13 = ac_12_13\n",
      "~~~ s_2_23 = 3*al_23^4*al_32^2 - 6*al_23^2*ga_23*ga_32 - al_23^2*be_23*be_32 - 3*al_23^3*ep_32 - ga_23^3 + 2*ga_32*be_23^2 + ep_23^2 - ga_23*pi_2_23\n",
      "~~~ d_121_13 = d_121_13\n",
      "~~~ d_231_12 = d_231_12\n",
      "~~~ g_13 = -al_13^3\n",
      "~~~ ep_33_13 = ep_33_13\n",
      "~~~ al_23 = al_23\n",
      "~~~ theta_33_23 = theta_33_23\n",
      "~~~ hhsc_12_13 = hhsc_12_13\n",
      "~~~ pi_33_23 = pi_33_23\n",
      "~~~ u_13 = -2*al_13^3*al_31^3 + 3*al_13*al_31*ga_13*ga_31 + 3*al_13^2*ga_31*be_31 + al_13*al_31*be_13*be_31 + 2*al_13^2*al_31*ep_31 - 2*ga_31^2*be_13 + ga_13^2*be_31 - ep_13*ep_31 + be_31*pi_1_13\n",
      "~~~ del_22_23 = del_22_23\n",
      "~~~ theta_32 = theta_32\n",
      "~~~ theta_31 = theta_31\n",
      "~~~ psi_12 = 3*al_12*al_21*ga_12 + ga_21*be_12\n",
      "~~~ psi_13 = 3*al_13*al_31*ga_13 + ga_31*be_13\n",
      "~~~ v_23 = ga_23\n",
      "~~~ v_21 = ga_21\n",
      "~~~ pi_23 = pi_23\n",
      "~~~ pi_21 = pi_21\n",
      "~~~ theta_21 = theta_21\n",
      "~~~ ac_32_13 = ac_32_13\n",
      "~~~ d_321_13 = d_321_13\n",
      "~~~ d_12 = al_12\n",
      "~~~ d_13 = al_13\n",
      "~~~ hhsc_21_23 = hhsc_21_23\n",
      "~~~ ac_31_23 = ac_31_23\n",
      "~~~ hhsc_32_13 = hhsc_32_13\n",
      "~~~ al_21 = al_21\n",
      "~~~ del_22_12 = del_22_12\n",
      "~~~ del_11_13 = del_11_13\n",
      "~~~ del_11_12 = del_11_12\n",
      "~~~ a_13_12 = a_13_12\n",
      "~~~ g_12 = -al_12^3\n",
      "~~~ u_23 = -2*al_23^3*al_32^3 + 3*al_23*al_32*ga_23*ga_32 + 3*al_23^2*ga_32*be_32 + al_23*al_32*be_23*be_32 + 2*al_23^2*al_32*ep_32 - 2*ga_32^2*be_23 + ga_23^2*be_32 - ep_23*ep_32 + be_32*pi_2_23\n",
      "~~~ theta_23 = theta_23\n",
      "~~~ u_21 = -2*al_12^3*al_21^3 + 3*al_12*al_21*ga_12*ga_21 + 3*al_21^2*ga_12*be_12 + al_12*al_21*be_12*be_21 + 2*al_12*al_21^2*ep_12 + ga_21^2*be_12 - 2*ga_12^2*be_21 - ep_12*ep_21 + be_12*pi_2_12\n",
      "~~~ v_12 = ga_12\n",
      "~~~ v_13 = ga_13\n",
      "~~~ r_31_23 = r_31_23\n",
      "~~~ ac_13_12 = ac_13_12\n",
      "~~~ be_31 = be_31\n",
      "~~~ b_13_12 = b_13_12\n",
      "~~~ psi_32 = 3*al_23*al_32*ga_32 + ga_23*be_32\n",
      "~~~ k_13 = -3*al_13^2*ga_13 + be_13^2\n",
      "~~~ k_12 = -3*al_12^2*ga_12 + be_12^2\n",
      "~~~ pi_31 = pi_31\n",
      "~~~ s_3_13 = 3*al_13^2*al_31^4 - 6*al_31^2*ga_13*ga_31 - al_31^2*be_13*be_31 - 3*al_31^3*ep_13 - ga_31^3 + 2*ga_13*be_31^2 + ep_31^2 - ga_31*pi_3_13\n",
      "~~~ ga_11_13 = ga_11_13\n",
      "~~~ ga_11_12 = ga_11_12\n",
      "~~~ theta_22_23 = theta_22_23\n",
      "~~~ pi_22_12 = pi_22_12\n",
      "~~~ ga_22_23 = ga_22_23\n",
      "~~~ d_232_12 = d_232_12\n",
      "~~~ s_2_12 = 3*al_12^2*al_21^4 - 6*al_21^2*ga_12*ga_21 - al_21^2*be_12*be_21 - 3*al_21^3*ep_12 - ga_21^3 + 2*ga_12*be_21^2 + ep_21^2 - ga_21*pi_2_12\n",
      "~~~ b_21_23 = b_21_23\n",
      "~~~ al_32 = al_32\n",
      "~~~ alin_21_23 = alin_21_23\n",
      "~~~ al_31 = al_31\n",
      "~~~ s_312_23 = s_312_23\n",
      "~~~ b_32_13 = b_32_13\n",
      "~~~ fhsc_12_13 = fhsc_12_13\n",
      "~~~ del_23 = al_23*ga_32 + al_32*be_23\n",
      "~~~ del_21 = al_21*ga_12 + al_12*be_21\n",
      "~~~ x_1_23 = x_1_23\n",
      "~~~ s_3_23 = 3*al_23^2*al_32^4 - 6*al_32^2*ga_23*ga_32 - al_32^2*be_23*be_32 - 3*al_32^3*ep_23 - ga_32^3 + 2*ga_23*be_32^2 + ep_32^2 - ga_32*pi_3_23\n",
      "~~~ u_31 = -2*al_13^3*al_31^3 + 3*al_13*al_31*ga_13*ga_31 + 3*al_31^2*ga_13*be_13 + al_13*al_31*be_13*be_31 + 2*al_13*al_31^2*ep_13 + ga_31^2*be_13 - 2*ga_13^2*be_31 - ep_13*ep_31 + be_13*pi_3_13\n",
      "~~~ u_32 = -2*al_23^3*al_32^3 + 3*al_23*al_32*ga_23*ga_32 + 3*al_32^2*ga_23*be_23 + al_23*al_32*be_23*be_32 + 2*al_23*al_32^2*ep_23 + ga_32^2*be_23 - 2*ga_23^2*be_32 - ep_23*ep_32 + be_23*pi_3_23\n",
      "~~~ d_212_23 = d_212_23\n",
      "~~~ fhsc_23_12 = fhsc_23_12\n",
      "~~~ pi_3_23 = pi_3_23\n",
      "~~~ psi_31 = 3*al_13*al_31*ga_31 + ga_13*be_31\n",
      "~~~ ga_13 = ga_13\n",
      "~~~ ga_12 = ga_12\n",
      "~~~ s_213_23 = s_213_23\n",
      "~~~ e_23_12 = e_23_12\n",
      "~~~ d_32 = al_32\n",
      "~~~ s_1_13 = 3*al_13^4*al_31^2 - 6*al_13^2*ga_13*ga_31 - al_13^2*be_13*be_31 - 3*al_13^3*ep_31 - ga_13^3 + 2*ga_31*be_13^2 + ep_13^2 - ga_13*pi_1_13\n",
      "~~~ d_31 = al_31\n",
      "~~~ ep_33_23 = ep_33_23\n",
      "~~~ s_321_13 = s_321_13\n",
      "~~~ pi_32 = pi_32\n",
      "~~~ t_12 = be_12\n",
      "~~~ t_13 = be_13\n",
      "~~~ del_31 = al_31*ga_13 + al_13*be_31\n",
      "~~~ pi_33_13 = pi_33_13\n",
      "~~~ del_32 = al_32*ga_23 + al_23*be_32\n",
      "~~~ b_12_13 = b_12_13\n",
      "~~~ ep_21 = ep_21\n",
      "~~~ alin_12_13 = alin_12_13\n",
      "~~~ ep_23 = ep_23\n",
      "~~~ a_12_13 = a_12_13\n",
      "~~~ alin_13_12 = alin_13_12\n",
      "~~~ b_31_23 = b_31_23\n",
      "~~~ psi_23 = 3*al_23*al_32*ga_23 + ga_32*be_23\n",
      "~~~ psi_21 = 3*al_12*al_21*ga_21 + ga_12*be_21\n",
      "~~~ del_33_23 = del_33_23\n",
      "~~~ al_12 = al_12\n",
      "~~~ al_13 = al_13\n",
      "~~~ alin_23_12 = alin_23_12\n",
      "~~~ b_23_12 = b_23_12\n",
      "~~~ d_313_23 = d_313_23\n",
      "~~~ d_131_12 = d_131_12\n",
      "~~~ s_231_12 = s_231_12\n",
      "~~~ a_32_13 = a_32_13\n",
      "~~~ ep_22_23 = ep_22_23\n",
      "~~~ x_2_13 = x_2_13\n",
      "~~~ pi_1_12 = pi_1_12\n",
      "~~~ pi_1_13 = pi_1_13\n",
      "~~~ r_32_13 = r_32_13\n",
      "~~~ be_21 = be_21\n",
      "~~~ be_23 = be_23\n",
      "~~~ r_21_23 = r_21_23\n",
      "~~~ ep_32 = ep_32\n",
      "~~~ ep_31 = ep_31\n",
      "~~~ ep_11_12 = ep_11_12\n",
      "~~~ ep_11_13 = ep_11_13\n",
      "~~~ r_12_13 = r_12_13\n",
      "~~~ theta_11_12 = theta_11_12\n",
      "~~~ theta_11_13 = theta_11_13\n",
      "~~~ ga_32 = ga_32\n",
      "~~~ ga_31 = ga_31\n",
      "~~~ hhsc_23_12 = hhsc_23_12\n",
      "~~~ r_13_12 = r_13_12\n",
      "~~~ pi_22_23 = pi_22_23\n",
      "~~~ ga_22_12 = ga_22_12\n",
      "~~~ s_212_23 = s_212_23\n",
      "~~~ k_21 = -3*al_21^2*ga_21 + be_21^2\n",
      "~~~ k_23 = -3*al_23^2*ga_23 + be_23^2\n",
      "~~~ ep_22_12 = ep_22_12\n",
      "~~~ g_21 = -al_21^3\n",
      "~~~ g_23 = -al_23^3\n",
      "~~~ k_31 = -3*al_31^2*ga_31 + be_31^2\n",
      "~~~ t_32 = be_32\n",
      "~~~ t_31 = be_31\n",
      "~~~ u_12 = -2*al_12^3*al_21^3 + 3*al_12*al_21*ga_12*ga_21 + 3*al_12^2*ga_21*be_21 + al_12*al_21*be_12*be_21 + 2*al_12^2*al_21*ep_21 - 2*ga_21^2*be_12 + ga_12^2*be_21 - ep_12*ep_21 + be_21*pi_1_12\n",
      "~~~ e_32_13 = e_32_13\n",
      "~~~ pi_3_13 = pi_3_13\n",
      "~~~ be_32 = be_32\n",
      "~~~ ga_21 = ga_21\n",
      "~~~ ga_23 = ga_23\n",
      "~~~ del_13 = al_13*ga_31 + al_31*be_13\n",
      "~~~ del_12 = al_12*ga_21 + al_21*be_12\n",
      "~~~ g_31 = -al_31^3\n",
      "~~~ pi_11_12 = pi_11_12\n",
      "~~~ alin_31_23 = alin_31_23\n",
      "~~~ d_21 = al_21\n",
      "~~~ s_123_13 = s_123_13\n",
      "~~~ d_23 = al_23\n",
      "~~~ pi_11_13 = pi_11_13\n",
      "~~~ a_13 = -al_13^2*al_31^2 - ga_13*ga_31 + be_13*be_31 - al_31*ep_13 + al_13*ep_31\n",
      "~~~ a_12 = -al_12^2*al_21^2 - ga_12*ga_21 + be_12*be_21 - al_21*ep_12 + al_12*ep_21\n",
      "~~~ b_31 = 4*al_13^2*al_31*ga_31 + al_13*al_31^2*be_13 + al_31*ga_13^2 + 2*al_13*ga_13*be_31 - ga_31*ep_13 - be_13*ep_31 + al_31*pi_1_13\n",
      "~~~ b_32 = 4*al_23^2*al_32*ga_32 + al_23*al_32^2*be_23 + al_32*ga_23^2 + 2*al_23*ga_23*be_32 - ga_32*ep_23 - be_23*ep_32 + al_32*pi_2_23\n",
      "~~~ s_323_13 = s_323_13\n",
      "~~~ t_21 = be_21\n",
      "~~~ t_23 = be_23\n",
      "~~~ fhsc_13_12 = fhsc_13_12\n",
      "~~~ d_213_23 = d_213_23\n",
      "~~~ r_31 = -al_13*al_31^2 + ep_31\n",
      "~~~ r_32 = -al_23*al_32^2 + ep_32\n",
      "~~~ g_32 = -al_32^3\n",
      "~~~ ep_12 = ep_12\n",
      "~~~ ep_13 = ep_13\n",
      "~~~ fhsc_21_23 = fhsc_21_23\n",
      "~~~ r_23_12 = r_23_12\n",
      "~~~ pi_2_12 = pi_2_12\n",
      "~~~ ga_33_13 = ga_33_13\n",
      "~~~ s_232_12 = s_232_12\n",
      "~~~ hhsc_31_23 = hhsc_31_23\n",
      "~~~ a_23 = -al_23^2*al_32^2 - ga_23*ga_32 + be_23*be_32 - al_32*ep_23 + al_23*ep_32\n",
      "~~~ a_21 = -al_12^2*al_21^2 - ga_12*ga_21 + be_12*be_21 + al_21*ep_12 - al_12*ep_21\n",
      "~~~ s_132_12 = s_132_12\n",
      "~~~ theta_13 = theta_13\n",
      "~~~ d_132_12 = d_132_12\n",
      "~~~ d_312_23 = d_312_23\n",
      "~~~ alin_32_13 = alin_32_13\n",
      "~~~ b_23 = 4*al_23*al_32^2*ga_23 + al_23^2*al_32*be_32 + al_23*ga_32^2 + 2*al_32*ga_32*be_23 - be_32*ep_23 - ga_23*ep_32 + al_23*pi_3_23\n",
      "~~~ b_21 = 4*al_12^2*al_21*ga_21 + al_12*al_21^2*be_12 + al_21*ga_12^2 + 2*al_12*ga_12*be_21 - ga_21*ep_12 - be_12*ep_21 + al_21*pi_1_12\n",
      "~~~ e_21_23 = e_21_23\n",
      "~~~ ac_23_12 = ac_23_12\n",
      "~~~ del_33_13 = del_33_13\n",
      "~~~ a_21_23 = a_21_23\n",
      "~~~ x_3_12 = x_3_12\n",
      "~~~ a_23_12 = a_23_12\n",
      "~~~ r_23 = -al_23^2*al_32 + ep_23\n",
      "~~~ s_1_12 = 3*al_12^4*al_21^2 - 6*al_12^2*ga_12*ga_21 - al_12^2*be_12*be_21 - 3*al_12^3*ep_21 - ga_12^3 + 2*ga_21*be_12^2 + ep_12^2 - ga_12*pi_1_12\n",
      "~~~ r_21 = -al_12*al_21^2 + ep_21\n",
      "~~~ s_313_23 = s_313_23\n",
      "~~~ theta_22_12 = theta_22_12\n",
      "~~~ v_31 = ga_31\n",
      "~~~ k_32 = -3*al_32^2*ga_32 + be_32^2\n",
      "~~~ theta_33_13 = theta_33_13\n",
      "~~~ a_31 = -al_13^2*al_31^2 - ga_13*ga_31 + be_13*be_31 + al_31*ep_13 - al_13*ep_31\n",
      "~~~ d_123_13 = d_123_13\n",
      "~~~ ac_21_23 = ac_21_23\n",
      "~~~ a_32 = -al_23^2*al_32^2 - ga_23*ga_32 + be_23*be_32 + al_32*ep_23 - al_23*ep_32\n",
      "~~~ ga_33_23 = ga_33_23\n",
      "~~~ e_31_23 = e_31_23\n",
      "~~~ s_121_13 = s_121_13\n",
      "~~~ fhsc_32_13 = fhsc_32_13\n",
      "~~~ e_12_13 = e_12_13\n",
      "~~~ be_12 = be_12\n",
      "~~~ be_13 = be_13\n",
      "~~~ pi_12 = pi_12\n",
      "~~~ pi_13 = pi_13\n",
      "~~~ pi_2_23 = pi_2_23\n",
      "~~~ a_31_23 = a_31_23\n",
      "~~~ b_12 = 4*al_12*al_21^2*ga_12 + al_12^2*al_21*be_21 + al_12*ga_21^2 + 2*al_21*ga_21*be_12 - be_21*ep_12 - ga_12*ep_21 + al_12*pi_2_12\n",
      "~~~ b_13 = 4*al_13*al_31^2*ga_13 + al_13^2*al_31*be_31 + al_13*ga_31^2 + 2*al_31*ga_31*be_13 - be_31*ep_13 - ga_13*ep_31 + al_13*pi_3_13\n",
      "~~~ v_32 = ga_32\n",
      "~~~ hhsc_13_12 = hhsc_13_12\n",
      "~~~ theta_12 = theta_12\n",
      "~~~ s_131_12 = s_131_12\n"
     ]
    }
   ],
   "source": [
    "for k, val in Udict.items():\n",
    "    print \"~~~\", k, \"=\", val"
   ]
  },
  {
   "cell_type": "markdown",
   "metadata": {
    "deletable": true,
    "editable": true
   },
   "source": [
    "Now, let us see what other relations we have."
   ]
  },
  {
   "cell_type": "code",
   "execution_count": 10,
   "metadata": {
    "collapsed": false,
    "deletable": true,
    "editable": true
   },
   "outputs": [
    {
     "name": "stdout",
     "output_type": "stream",
     "text": [
      "(4) * al_12 * al_21^2 * (-al_21*ep_12 + al_12*ep_21)\n",
      "\n"
     ]
    }
   ],
   "source": [
    "for r in doS(make_rel(\"ff\",\"1\",\"2\"),make_rel(\"fh\",\"1\",\"2\")):\n",
    "    print factor(r)\n",
    "    print"
   ]
  },
  {
   "cell_type": "code",
   "execution_count": 11,
   "metadata": {
    "collapsed": false,
    "deletable": true,
    "editable": true
   },
   "outputs": [
    {
     "name": "stdout",
     "output_type": "stream",
     "text": [
      "(-1) * al_12 * (3*al_12^2*al_21*ga_21 + 3*al_12*al_21^2*be_12 + 3*al_21*ga_12^2 - 2*be_12*ep_21 + al_21*pi_1_12)\n",
      "\n",
      "(-1) * (3*al_12*al_21^2*ga_12 + 3*al_12^2*al_21*be_21 + 3*al_12*ga_21^2 - 2*be_21*ep_12 + al_12*pi_2_12)\n",
      "\n",
      "-3*al_12^3*al_21^3*ga_12 - 3*al_12^4*al_21^2*be_21 - 9*al_12^3*al_21*ga_21^2 - 6*al_12^2*al_21^2*ga_21*be_12 - 6*al_12*al_21*ga_12^2*ga_21 + 3*al_12*al_21^2*ga_12*ep_12 + 3*al_12^2*al_21*be_21*ep_12 + 2*al_12^3*be_21*ep_21 - al_12^3*al_21*pi_2_12 + 3*al_12*ga_21^2*ep_12 + 4*al_12*ga_21*be_12*ep_21 - 2*al_12*al_21*ga_21*pi_1_12 - 2*be_21*ep_12^2 + al_12*ep_12*pi_2_12\n",
      "\n"
     ]
    }
   ],
   "source": [
    "for r in doS(make_rel(\"hh\",\"1\",\"2\"),make_rel(\"fh\",\"1\",\"2\")):\n",
    "    print factor(r)\n",
    "    print"
   ]
  },
  {
   "cell_type": "code",
   "execution_count": 12,
   "metadata": {
    "collapsed": false,
    "deletable": true,
    "editable": true
   },
   "outputs": [
    {
     "name": "stdout",
     "output_type": "stream",
     "text": [
      "(-1) * (3*al_12*al_21^2*ga_12 + 3*al_12^2*al_21*be_21 + 3*al_12*ga_21^2 - 2*be_21*ep_12 + al_12*pi_2_12)\n",
      "\n",
      "(-1) * (3*al_12^3*ga_21 + 3*al_12^2*al_21*be_12 + 3*al_12*ga_12^2 - 2*be_12*ep_12 + al_12*pi_1_12)\n",
      "\n",
      "(-1) * (3*al_12*al_21^2*ga_12^2 + 3*al_12^2*al_21*ga_12*be_21 + 3*al_12*ga_12*ga_21^2 - 6*al_12*al_21*ga_21*ep_12 + 6*al_12^2*ga_21*ep_21 - 2*ga_12*be_21*ep_12 + al_12*ga_12*pi_2_12)\n",
      "\n",
      "(-1) * (3*al_12^3*ga_21^2 + 3*al_12^2*al_21*ga_21*be_12 + 3*al_12*ga_12^2*ga_21 - 6*al_12*al_21*ga_12*ep_12 + 6*al_12^2*ga_12*ep_21 - 2*ga_21*be_12*ep_12 + al_12*ga_21*pi_1_12)\n",
      "\n",
      "(-2) * al_21 * al_12 * (-al_21*ep_12 + al_12*ep_21)\n",
      "\n",
      "(-1) * (9*al_12^3*al_21^2*ga_12*ga_21 + 9*al_12^4*al_21*ga_21*be_21 + 4*al_12^3*al_21^3*ep_12 - 4*al_12^4*al_21^2*ep_21 + 3*al_12*al_21^2*ga_12^3 + 3*al_12^3*ga_21^3 - 6*al_12^2*al_21*ga_21^2*be_12 + 3*al_12^2*al_21*ga_12^2*be_21 - 3*al_12*ga_12^2*ga_21^2 - 6*al_12*al_21*ga_12*ga_21*ep_12 - 6*al_12^2*ga_21*be_21*ep_12 - 2*al_12*al_21*be_12*be_21*ep_12 + 2*al_12*al_21^2*ep_12^2 + 6*al_12^2*ga_12*ga_21*ep_21 + 2*al_12^2*be_12*be_21*ep_21 - 6*al_12^2*al_21*ep_12*ep_21 + 4*al_12^3*ep_21^2 + 3*al_12*al_21^2*ga_12*pi_1_12 + 3*al_12^2*al_21*be_21*pi_1_12 + 3*al_12^3*ga_21*pi_2_12 + 4*ga_21^2*be_12*ep_12 - 2*ga_12^2*be_21*ep_12 + al_12*ga_21^2*pi_1_12 + al_12*ga_12^2*pi_2_12 - 2*be_21*ep_12*pi_1_12 + al_12*pi_1_12*pi_2_12)\n",
      "\n"
     ]
    }
   ],
   "source": [
    "for r in doS(make_rel(\"hh\",\"1\",\"2\"),make_rel(\"h2\",\"1\",None,[\"1\",\"2\"])):\n",
    "    print factor(r)\n",
    "    print"
   ]
  },
  {
   "cell_type": "code",
   "execution_count": 13,
   "metadata": {
    "collapsed": false,
    "deletable": true,
    "editable": true
   },
   "outputs": [],
   "source": [
    "str_relations = (list(make_all_subs([\"al_21 *( 3*al_12^2*ga_21 + 3*al_12*al_21*be_12 + 3*ga_12^2 + pi_1_12) - 2*be_12*ep_21\"])) +\n",
    "                 list(make_all_subs([\"al_12*(3*al_12^2*ga_21 + 3*al_12*al_21*be_12 + 3*ga_12^2 + pi_1_12 )- 2*be_12*ep_12\"])))\n",
    "\n",
    "relations_in_A10 = [eval(r[0]) for r in str_relations]\n",
    "relations_in_A10 += [Uring(\"al_12*ep_21 - al_21*ep_12\"),\n",
    "                  Uring(\"be_21*(3*al_12^2*ga_21 + 3*al_12*al_21*be_12 + 3*ga_12^2 + pi_1_12) - be_12*( 3*al_21^2*ga_12 + 3*al_21*al_12*be_21 + 3*ga_21^2 + pi_2_12)\")]\n",
    "\n",
    "Uring_quo = Uring.quotient(relations_in_A10)"
   ]
  },
  {
   "cell_type": "markdown",
   "metadata": {
    "deletable": true,
    "editable": true
   },
   "source": [
    "This shows that the $\\tilde{\\pi_i}$ for this normalization differs from the \"all zero\" normalization by replacing the 3/2 coefficient with 3."
   ]
  },
  {
   "cell_type": "code",
   "execution_count": 14,
   "metadata": {
    "collapsed": false,
    "deletable": true,
    "editable": true
   },
   "outputs": [
    {
     "name": "stdout",
     "output_type": "stream",
     "text": [
      "0\n"
     ]
    }
   ],
   "source": [
    "for r in doS(make_rel(\"ff\",\"1\",\"2\"),make_rel(\"fh\",\"1\",\"2\")):\n",
    "    print Uring_quo(r)"
   ]
  },
  {
   "cell_type": "code",
   "execution_count": 15,
   "metadata": {
    "collapsed": false,
    "deletable": true,
    "editable": true
   },
   "outputs": [
    {
     "name": "stdout",
     "output_type": "stream",
     "text": [
      "0\n",
      "0\n",
      "0\n"
     ]
    }
   ],
   "source": [
    "for r in doS(make_rel(\"hh\",\"1\",\"2\"),make_rel(\"fh\",\"1\",\"2\")):\n",
    "    print Uring_quo(r)"
   ]
  },
  {
   "cell_type": "code",
   "execution_count": 16,
   "metadata": {
    "collapsed": false,
    "deletable": true,
    "editable": true
   },
   "outputs": [
    {
     "name": "stdout",
     "output_type": "stream",
     "text": [
      "0\n",
      "0\n",
      "0\n",
      "0\n",
      "0\n",
      "0\n"
     ]
    }
   ],
   "source": [
    "for r in doS(make_rel(\"hh\",\"1\",\"2\"),make_rel(\"h2\",\"1\",None,[\"1\",\"2\"])):\n",
    "    print Uring_quo(r)"
   ]
  },
  {
   "cell_type": "code",
   "execution_count": 17,
   "metadata": {
    "collapsed": false,
    "deletable": true,
    "editable": true
   },
   "outputs": [
    {
     "name": "stdout",
     "output_type": "stream",
     "text": [
      "0\n",
      "0\n",
      "0\n",
      "0\n"
     ]
    }
   ],
   "source": [
    "for r in doS(make_rel(\"hh\",\"1\",\"2\"),make_rel(\"fh\",\"2\",\"1\")):\n",
    "    print Uring_quo(r)"
   ]
  },
  {
   "cell_type": "markdown",
   "metadata": {
    "deletable": true,
    "editable": true
   },
   "source": [
    "Now, let us check that the point that we computed in our paper lies on the equations."
   ]
  },
  {
   "cell_type": "code",
   "execution_count": 18,
   "metadata": {
    "collapsed": false,
    "deletable": true,
    "editable": true
   },
   "outputs": [
    {
     "name": "stdout",
     "output_type": "stream",
     "text": [
      "3*al_12^2*al_21*ga_21 + 3*al_12*al_21^2*be_12 + 3*al_21*ga_12^2 - 2*be_12*ep_21 + al_21*pi_1_12\n",
      "0\n",
      "*  *  *\n",
      "3*al_12*al_21^2*ga_12 + 3*al_12^2*al_21*be_21 + 3*al_12*ga_21^2 - 2*be_21*ep_12 + al_12*pi_2_12\n",
      "0\n",
      "*  *  *\n",
      "3*al_13^2*al_31*ga_31 + 3*al_13*al_31^2*be_13 + 3*al_31*ga_13^2 - 2*be_13*ep_31 + al_31*pi_1_13\n",
      "3*al_13^2*al_31*ga_31 + 3*al_13*al_31^2*be_13 + 3*al_31*ga_13^2 - 2*be_13*ep_31 + al_31*pi_1_13\n",
      "*  *  *\n",
      "3*al_13*al_31^2*ga_13 + 3*al_13^2*al_31*be_31 + 3*al_13*ga_31^2 - 2*be_31*ep_13 + al_13*pi_3_13\n",
      "3*al_13*al_31^2*ga_13 + 3*al_13^2*al_31*be_31 + 3*al_13*ga_31^2 - 2*be_31*ep_13 + al_13*pi_3_13\n",
      "*  *  *\n",
      "3*al_23*al_32^2*ga_23 + 3*al_23^2*al_32*be_32 + 3*al_23*ga_32^2 - 2*be_32*ep_23 + al_23*pi_3_23\n",
      "3*al_23*al_32^2*ga_23 + 3*al_23^2*al_32*be_32 + 3*al_23*ga_32^2 - 2*be_32*ep_23 + al_23*pi_3_23\n",
      "*  *  *\n",
      "3*al_23^2*al_32*ga_32 + 3*al_23*al_32^2*be_23 + 3*al_32*ga_23^2 - 2*be_23*ep_32 + al_32*pi_2_23\n",
      "3*al_23^2*al_32*ga_32 + 3*al_23*al_32^2*be_23 + 3*al_32*ga_23^2 - 2*be_23*ep_32 + al_32*pi_2_23\n",
      "*  *  *\n",
      "3*al_12^3*ga_21 + 3*al_12^2*al_21*be_12 + 3*al_12*ga_12^2 - 2*be_12*ep_12 + al_12*pi_1_12\n",
      "0\n",
      "*  *  *\n",
      "3*al_21^3*ga_12 + 3*al_12*al_21^2*be_21 + 3*al_21*ga_21^2 - 2*be_21*ep_21 + al_21*pi_2_12\n",
      "0\n",
      "*  *  *\n",
      "3*al_13^3*ga_31 + 3*al_13^2*al_31*be_13 + 3*al_13*ga_13^2 - 2*be_13*ep_13 + al_13*pi_1_13\n",
      "3*al_13^3*ga_31 + 3*al_13^2*al_31*be_13 + 3*al_13*ga_13^2 - 2*be_13*ep_13 + al_13*pi_1_13\n",
      "*  *  *\n",
      "3*al_31^3*ga_13 + 3*al_13*al_31^2*be_31 + 3*al_31*ga_31^2 - 2*be_31*ep_31 + al_31*pi_3_13\n",
      "3*al_31^3*ga_13 + 3*al_13*al_31^2*be_31 + 3*al_31*ga_31^2 - 2*be_31*ep_31 + al_31*pi_3_13\n",
      "*  *  *\n",
      "3*al_32^3*ga_23 + 3*al_23*al_32^2*be_32 + 3*al_32*ga_32^2 - 2*be_32*ep_32 + al_32*pi_3_23\n",
      "3*al_32^3*ga_23 + 3*al_23*al_32^2*be_32 + 3*al_32*ga_32^2 - 2*be_32*ep_32 + al_32*pi_3_23\n",
      "*  *  *\n",
      "3*al_23^3*ga_32 + 3*al_23^2*al_32*be_23 + 3*al_23*ga_23^2 - 2*be_23*ep_23 + al_23*pi_2_23\n",
      "3*al_23^3*ga_32 + 3*al_23^2*al_32*be_23 + 3*al_23*ga_23^2 - 2*be_23*ep_23 + al_23*pi_2_23\n",
      "*  *  *\n",
      "-al_21*ep_12 + al_12*ep_21\n",
      "0\n",
      "*  *  *\n",
      "-3*al_21^2*ga_12*be_12 + 3*al_12^2*ga_21*be_21 - 3*ga_21^2*be_12 + 3*ga_12^2*be_21 + be_21*pi_1_12 - be_12*pi_2_12\n",
      "0\n",
      "*  *  *\n"
     ]
    }
   ],
   "source": [
    "c_point_dict ={\n",
    "    v(\"al\",\"1\",\"2\") :-1,\n",
    "    v(\"al\",\"2\",\"1\") :1,\n",
    "    v(\"be\",\"1\",\"2\") : 3/2,\n",
    "    v(\"be\",\"2\",\"1\") :3/2,\n",
    "    v(\"ga\",\"1\",\"2\") : 5/4,\n",
    "    v(\"ga\",\"2\",\"1\") :5/4,\n",
    "    v(\"ep\",\"1\",\"2\") :-5/4,\n",
    "    v(\"ep\",\"2\",\"1\") :5/4,\n",
    "    v(\"pi\",\"1\",[\"1\",\"2\"]) : -3/16,\n",
    "    v(\"pi\",\"2\",[\"1\",\"2\"]) : -3/16,\n",
    "}\n",
    "\n",
    "for r in relations_in_A10:\n",
    "    print r\n",
    "    print r.subs(c_point_dict)\n",
    "    print \"*  *  *\"\n",
    "#NOTE: This will have some things you don't want for n > 2 "
   ]
  },
  {
   "cell_type": "markdown",
   "metadata": {
    "deletable": true,
    "editable": true
   },
   "source": [
    "Let us make sure that u is symmetric."
   ]
  },
  {
   "cell_type": "code",
   "execution_count": 19,
   "metadata": {
    "collapsed": false,
    "deletable": true,
    "editable": true
   },
   "outputs": [
    {
     "data": {
      "text/plain": [
       "0"
      ]
     },
     "execution_count": 19,
     "metadata": {},
     "output_type": "execute_result"
    }
   ],
   "source": [
    "Uring_quo(Udict[\"u_21\"]-Udict[\"u_12\"])"
   ]
  },
  {
   "cell_type": "code",
   "execution_count": 20,
   "metadata": {
    "collapsed": false,
    "deletable": true,
    "editable": true
   },
   "outputs": [
    {
     "data": {
      "text/plain": [
       "-2*al_12^3*al_21^3 + 3*al_12*al_21*ga_12*ga_21 + 3/2*al_21^2*ga_12*be_12 + 3/2*al_12^2*ga_21*be_21 + al_12*al_21*be_12*be_21 + al_12*al_21^2*ep_12 + al_12^2*al_21*ep_21 - 1/2*ga_21^2*be_12 - 1/2*ga_12^2*be_21 - ep_12*ep_21 + 1/2*be_21*pi_1_12 + 1/2*be_12*pi_2_12"
      ]
     },
     "execution_count": 20,
     "metadata": {},
     "output_type": "execute_result"
    }
   ],
   "source": [
    "(Udict[\"u_21\"]+Udict[\"u_12\"])/2"
   ]
  },
  {
   "cell_type": "code",
   "execution_count": 21,
   "metadata": {
    "collapsed": false,
    "deletable": true,
    "editable": true
   },
   "outputs": [
    {
     "name": "stdout",
     "output_type": "stream",
     "text": [
      "4*al_12*al_21^2*ga_12 + al_12^2*al_21*be_21 + al_12*ga_21^2 + 2*al_21*ga_21*be_12 - be_21*ep_12 - ga_12*ep_21 + al_12*pi_2_12\n",
      "\n",
      "al_12*al_21^2*ga_12 - 2*al_12^2*al_21*be_21 - 2*al_12*ga_21^2 + 2*al_21*ga_21*be_12 + be_21*ep_12 - ga_12*ep_21\n"
     ]
    }
   ],
   "source": [
    "print Udict[\"b_12\"]\n",
    "print\n",
    "print Udict[\"b_12\"].subs({v(\"pi\",\"2\",[\"1\",\"2\"]): Uring(\"-3*al_21^2*ga_12 - 3*al_21*al_12*be_21 - 3*ga_21^2 + pi_2_12\") }) + Uring(\"2*be_21*ep_12- al_12*pi_2_12\")"
   ]
  },
  {
   "cell_type": "markdown",
   "metadata": {
    "deletable": true,
    "editable": true
   },
   "source": [
    "Now, let us find formulas for all the coefficients in the expansions."
   ]
  },
  {
   "cell_type": "code",
   "execution_count": 89,
   "metadata": {
    "collapsed": false,
    "deletable": true,
    "editable": true
   },
   "outputs": [],
   "source": [
    "expand_at_dict = dict()\n",
    "for j in indexes:\n",
    "    expand_at_dict[j] = dict()\n",
    "    for T in Subsets(indexes,2):\n",
    "        Ts = list(T)\n",
    "        Ts.sort()\n",
    "        \n",
    "        for i in indexes:\n",
    "            if i in Ts:\n",
    "                f = v(\"f\",i,Ts)\n",
    "                h = v(\"h\",i,Ts)\n",
    "                if j in Ts:\n",
    "                    if i != j:\n",
    "                        expand_at_dict[j][f] = v(\"al\",i,j)/t + v(\"ga\",i,j) + v(\"del\",i,j)*t + v(\"pi\",i,j)*t^2 + O(t^3)\n",
    "                        expand_at_dict[j][h] = v(\"be\",i,j)/t + v(\"ep\",i,j) + v(\"theta\",i,j)*t + O(t^2)\n",
    "                    else:\n",
    "                        expand_at_dict[j][f] = 1/t^2 + v(\"ga\",i,j,Ts) + v(\"del\",i,j,Ts)*t + v(\"pi\",i,j,Ts)*t^2 + O(t^3)\n",
    "                        expand_at_dict[j][h] = 1/t^3 + v(\"ep\",i,j,Ts) + v(\"theta\",i,j,Ts)*t + O(t^2)\n",
    "                else: #j is not in Ts\n",
    "                    expand_at_dict[j][f] = v(\"b\",i,j,Ts) + O(t)\n",
    "                    expand_at_dict[j][h] = v(\"e\",i,j,Ts) + O(t)\n",
    "            else: #i is not in Ts\n",
    "                hS = v(\"h\",Ts,i)\n",
    "                if j in Ts:\n",
    "                    expand_at_dict[j][hS] = v(\"a\",j,i,Ts)/t + v(\"ac\",j,i,Ts) + v(\"alin\",j,i,Ts)*t + O(t^2) #check the index order one more time!!!\n",
    "\n",
    "                        \n",
    "                else: #j not in Ts\n",
    "                    if i != j:\n",
    "                        expand_at_dict[j][hS] = v(\"c\",i,j,Ts) + v(\"cc\",i,j,Ts)*t + O(t^2)\n",
    "                    else:\n",
    "                        expand_at_dict[j][hS] = 1/t + v(\"x\",i,Ts) + O(t)\n",
    "                        \n",
    "\n",
    "                \n",
    "def expand_at(func, point):\n",
    "    return func.subs(expand_at_dict[point])\n",
    "\n",
    "\n",
    "def find_rels_by_expansion(point_index, eqn):\n",
    "    expansion = expand_at(eqn[0]-eqn[1], point_index)\n",
    "    \n",
    "    print \"Some relations\"\n",
    "    for value in expansion.coefficients():\n",
    "        print value"
   ]
  },
  {
   "cell_type": "code",
   "execution_count": 23,
   "metadata": {
    "collapsed": false,
    "deletable": true,
    "editable": true
   },
   "outputs": [
    {
     "name": "stdout",
     "output_type": "stream",
     "text": [
      "Some relations\n",
      "al_21*ga_11_12\n",
      "al_12^2*al_21^2 + al_21*del_11_12 - be_12*be_21 - al_21*ep_11_12 + al_21*ep_12 - 2*al_12*ep_21 + pi_21\n",
      "Some relations\n",
      "-3*al_12*al_21*ga_21 - al_21^2*be_12 + ga_11_12*be_21 - ga_12*be_21 + theta_21\n",
      "Some relations\n",
      "-2*al_12*ga_22_12\n",
      "al_12^2*al_21^2 - 2*al_12*del_22_12 - be_12*be_21 - al_12*ep_21 + al_12*ep_22_12 + pi_12\n",
      "Some relations\n",
      "-3*al_12*al_21*ga_21 - al_21^2*be_12 - 2*ga_11_12*be_21 - ga_12*be_21 + theta_21\n",
      "Some relations\n",
      "-3*ga_11_12\n",
      "-3*del_11_12 + 2*ep_11_12\n",
      "-3*ga_11_12^2 - pi_1_12 + 2*theta_11_12 - 3*pi_11_12\n",
      "Some relations\n",
      "-3*al_12^3*ga_21 - 3*al_12^2*al_21*be_12 - 3*al_12*ga_12^2 + 2*be_12*ep_12 - al_12*pi_1_12\n",
      "-3*al_12^4*al_21^2 + 3*al_12^2*ga_12*ga_22_12 - 6*al_12*al_21*ga_12*be_12 + al_12^2*be_12*be_21 + 3*al_12^3*ep_21 + al_12^3*ep_22_12 - 2*ga_21*be_12^2 - ga_22_12*be_12^2 - 3*al_12^2*pi_12 + 2*be_12*theta_12\n",
      "Some relations\n",
      "al_12^2*al_21^2 + ga_12*ga_21 - be_12*be_21 + al_21*ep_12 - al_12*ep_21 - ga_21*b_13_12 - ga_12*b_23_12 + b_13_12*b_23_12 - al_21*e_13_12 - al_12*e_23_12\n"
     ]
    }
   ],
   "source": [
    "find_rels_by_expansion(\"1\", make_rel(\"ff\",\"1\",\"2\"))\n",
    "find_rels_by_expansion(\"1\", make_rel(\"fh\",\"1\",\"2\"))\n",
    "find_rels_by_expansion(\"2\", make_rel(\"fh\",\"1\",\"2\"))\n",
    "find_rels_by_expansion(\"1\", make_rel(\"hh\",\"1\",\"2\"))\n",
    "find_rels_by_expansion(\"1\", make_rel(\"h2\",\"1\",None,[\"1\",\"2\"]))\n",
    "find_rels_by_expansion(\"2\", make_rel(\"h2\",\"1\",None,[\"1\",\"2\"]))\n",
    "find_rels_by_expansion(\"3\", make_rel(\"ff\",\"1\",\"2\"))\n",
    "#expand_at(\"3\", make_rel(\"ff\",\"1\",\"2\")) Don't do this, we are in genus 2 for now.\n",
    "#TODO: put these relations in the Udict???"
   ]
  },
  {
   "cell_type": "code",
   "execution_count": 24,
   "metadata": {
    "collapsed": false,
    "deletable": true,
    "editable": true
   },
   "outputs": [],
   "source": [
    "def hShS(S, j, jp): #not tested, not needed for g=2\n",
    "    return (v(\"h\", S, j)*v(\"h\",S,jp), v(\"c\", jp, j, S)*v(\"h\",S,j) +  v(\"c\", j, jp, S)*v(\"h\",S,jp) + sum((v(\"a\", i,j,S)*v(\"a\",i,jp,S)*v(\"f\",i,S) for i in S)) +  v(\"hshsc\",jp,j,S))\n",
    "            \n",
    "def fhS(S, i,j):\n",
    "    if not i in S:\n",
    "        raise Excpetion(\"i should be in S\")\n",
    "    return (v(\"f\",i,S)*v(\"h\", S, j), v(\"b\",i,j,S)*v(\"h\",S,j) + v(\"a\",i,j,S)*v(\"h\",i,S) + sum((v(\"d\",i,j,l,S)*v(\"f\",l,S) for l in S)) + v(\"fhsc\",i,j,S))\n",
    "            \n",
    "def hhS(S,i,j):\n",
    "    if not i in S:\n",
    "        raise Excpetion(\"i should be in S\")\n",
    "    return (v(\"h\",i,S)*v(\"h\",S,j), v(\"e\",i,j,S)*v(\"h\",S,j) +  v(\"a\",i,j,S)*v(\"f\",i,S)**2 + v(\"r\",i,j,S)*v(\"h\",i,S) + sum((v(\"s\",i,j,l,S)*v(\"f\",l,S) for l in S)) + v(\"hhsc\",i,j,S))\n"
   ]
  },
  {
   "cell_type": "code",
   "execution_count": 25,
   "metadata": {
    "collapsed": false,
    "deletable": true,
    "editable": true,
    "scrolled": true
   },
   "outputs": [],
   "source": [
    "for S in Subsets(indexes,g):\n",
    "    Ss = list(S)\n",
    "    Ss.sort()\n",
    "    for j in indexes:\n",
    "        if j in S:\n",
    "            continue\n",
    "        for i in S:\n",
    "            lms.append((v(\"f\",i,Ss)*v(\"h\",Ss,j,Ss), fhS, (Ss,i,j)))\n",
    "            lms.append((v(\"h\",i,Ss)*v(\"h\",Ss,j,Ss), hhS, (Ss,i,j)))\n",
    "            \n",
    "        for jp in indexes:\n",
    "            if jp in S or jp == j:\n",
    "                continue\n",
    "            lms.append((v(\"h\",Ss,j)*v(\"h\",Ss,jp), hShS, (Ss,j,jp)))\n"
   ]
  },
  {
   "cell_type": "code",
   "execution_count": 26,
   "metadata": {
    "collapsed": false,
    "deletable": true,
    "editable": true
   },
   "outputs": [
    {
     "name": "stdout",
     "output_type": "stream",
     "text": [
      "Some relations\n",
      "-al_21^2*a_23_12 + be_21*a_13_12 - s_231_12\n",
      "-2*al_21*ga_21*a_23_12 + ep_21*a_13_12 + be_21*ac_13_12 - a_13_12*e_23_12 - be_21*r_23_12 - al_21*s_232_12\n",
      "-2*al_21^2*ga_12*a_23_12 - 2*al_12*al_21*be_21*a_23_12 - ga_21^2*a_23_12 + ep_21*ac_13_12 + be_21*alin_13_12 - ac_13_12*e_23_12 - ep_21*r_23_12 - ga_11_12*s_231_12 - ga_21*s_232_12 + a_13_12*theta_21 - hhsc_23_12\n",
      "Some relations\n",
      "ac_23_12 - r_23_12\n",
      "-2*ga_22_12*a_23_12 + alin_23_12 - s_232_12\n",
      "Some relations\n",
      "Some relations\n",
      "al_21*a_13_12 - d_231_12\n",
      "ga_21*a_13_12 - be_21*a_23_12 + al_21*ac_13_12 - a_13_12*b_23_12 - al_21*d_232_12\n",
      "al_21*ga_12*a_13_12 + al_12*be_21*a_13_12 - ep_21*a_23_12 + ga_21*ac_13_12 + al_21*alin_13_12 - ac_13_12*b_23_12 - ga_11_12*d_231_12 - ga_21*d_232_12 - fhsc_23_12\n",
      "Some relations\n",
      "ac_23_12 - d_232_12\n",
      "ga_22_12*a_23_12 - a_23_12*b_23_12 - al_12*d_231_12 + alin_23_12\n",
      "Some relations\n"
     ]
    }
   ],
   "source": [
    "find_rels_by_expansion(\"1\", hhS([\"1\",\"2\"],\"2\",\"3\"))\n",
    "find_rels_by_expansion(\"2\", hhS([\"1\",\"2\"],\"2\",\"3\"))\n",
    "find_rels_by_expansion(\"3\", hhS([\"1\",\"2\"],\"2\",\"3\"))\n",
    "\n",
    "find_rels_by_expansion(\"1\", fhS([\"1\",\"2\"],\"2\",\"3\"))\n",
    "find_rels_by_expansion(\"2\", fhS([\"1\",\"2\"],\"2\",\"3\"))\n",
    "find_rels_by_expansion(\"3\", fhS([\"1\",\"2\"],\"2\",\"3\"))"
   ]
  },
  {
   "cell_type": "markdown",
   "metadata": {
    "collapsed": true,
    "deletable": true,
    "editable": true
   },
   "source": [
    "First, let's compute $f_{1,12}$ restricted to $\\tilde{\\mathcal U}(13)$. The space $H^0(2p_1 + p_2 + p_3)$ is spanned by $1$, $f_{1,13}$, and $h_2(13)$. We are going to skip computing the constant for now."
   ]
  },
  {
   "cell_type": "code",
   "execution_count": 65,
   "metadata": {
    "collapsed": false,
    "deletable": true,
    "editable": true
   },
   "outputs": [
    {
     "name": "stdout",
     "output_type": "stream",
     "text": [
      "[                     1                      0                      1]\n",
      "[                     0                      1                  al_12]\n",
      "[                     0                      0 -al_12*a_32_13 - al_13]\n"
     ]
    }
   ],
   "source": [
    "M = Matrix(Uring,3,2)\n",
    "b = vector(Uring, 3)\n",
    "\n",
    "#t_1^-2\n",
    "b[0] = expand_at(Rring(\"f_1_12\"),\"1\")[-2]\n",
    "M[0,0] = expand_at(Rring(\"f_1_13\"),\"1\")[-2]\n",
    "M[0,1] = 0 #expand_at(Rring(\"h_13_2\"),\"1\")[-2]\n",
    "\n",
    "\n",
    "#t_2^-1\n",
    "b[1] = expand_at(Rring(\"f_1_12\"), \"2\")[-1]\n",
    "M[1,0] = expand_at(Rring(\"f_1_13\"),\"2\")[-1]\n",
    "M[1,1] = expand_at(Rring(\"h_13_2\"),\"2\")[-1]\n",
    "\n",
    "#t_3^-1\n",
    "b[2] = expand_at(Rring(\"f_1_12\"), \"3\")[-1]\n",
    "M[2,0] = expand_at(Rring(\"f_1_13\"),\"3\")[-1]\n",
    "M[2,1] = expand_at(Rring(\"h_13_2\"),\"3\")[-1]\n",
    "\n",
    "print M.augment(b).echelon_form()"
   ]
  },
  {
   "cell_type": "markdown",
   "metadata": {
    "collapsed": true,
    "deletable": true,
    "editable": true
   },
   "source": [
    "Now, let us compute $f_{1,12}$ restricted to $\\tilde{\\mathcal U}(23)$. Again, we may omit the constants."
   ]
  },
  {
   "cell_type": "code",
   "execution_count": 94,
   "metadata": {
    "collapsed": false
   },
   "outputs": [],
   "source": [
    "def transition(H0gens, f, coefs_to_check):\n",
    "    H0gens = [Rring(g) for g in H0gens]\n",
    "    f = Rring(f)\n",
    "    \n",
    "    M = Matrix(Uring, len(coefs_to_check),len(H0gens),)\n",
    "    b = vector(Uring,len(coefs_to_check))\n",
    "\n",
    "    for i, (point, expon) in enumerate(coefs_to_check):\n",
    "        b[i] = expand_at(f,point)[expon]\n",
    "        for j,gen in enumerate(H0gens):\n",
    "            M[i,j] = expand_at(gen,point)[expon]\n",
    "\n",
    "    for row in M.augment(b).echelon_form().rows():\n",
    "        print row\n",
    "    "
   ]
  },
  {
   "cell_type": "code",
   "execution_count": 95,
   "metadata": {
    "collapsed": false
   },
   "outputs": [
    {
     "name": "stdout",
     "output_type": "stream",
     "text": [
      "(1, 0, 1)\n",
      "(0, 1, al_12)\n",
      "(0, 0, -al_12*a_32_13 - al_13)\n"
     ]
    }
   ],
   "source": [
    "transition([\"f_1_13\",\"h_13_2\"],\n",
    "          \"f_1_12\",\n",
    "          [(\"1\",-2),(\"2\",-1),(\"3\",-1)])"
   ]
  },
  {
   "cell_type": "code",
   "execution_count": 96,
   "metadata": {
    "collapsed": false
   },
   "outputs": [
    {
     "name": "stdout",
     "output_type": "stream",
     "text": [
      "(1, 0, 0, 0, -a_21_23^2)\n",
      "(0, 1, 0, 0, -a_31_23^2)\n",
      "(0, 0, 0, 1, 1)\n",
      "(0, 0, a_21_23, 0, al_32*a_31_23^2 - 2*a_21_23*ac_21_23 + al_12)\n",
      "(0, 0, a_31_23, 0, al_23*a_21_23^2 - 2*a_31_23*ac_31_23)\n"
     ]
    }
   ],
   "source": [
    "transition([\"f_2_23\",\"f_3_23\", \"h_23_1\", \"h_23_1^2\"],\n",
    "          \"f_1_12\",\n",
    "          [(\"1\",-2),(\"2\",-2),(\"2\",-1),(\"3\",-2),(\"3\",-1)])"
   ]
  },
  {
   "cell_type": "code",
   "execution_count": 97,
   "metadata": {
    "collapsed": false
   },
   "outputs": [
    {
     "name": "stdout",
     "output_type": "stream",
     "text": [
      "(0, 1, 0, 0, 0, 1)\n",
      "(0, 0, 1, 0, 0, al_12)\n",
      "(0, 0, 0, 1, 0, -a_31_34^2)\n",
      "(0, 0, 0, 0, 1, -a_41_34^2)\n",
      "(a_31_34, 0, 0, 0, 0, al_43*a_41_34^2 - al_12*a_32_34 - 2*a_31_34*ac_31_34)\n",
      "(a_41_34, 0, 0, 0, 0, al_34*a_31_34^2 - al_12*a_42_34 - 2*a_41_34*ac_41_34)\n"
     ]
    }
   ],
   "source": [
    "transition([\"h_34_1\",\"h_34_1^2\",\"h_34_2\", \"f_3_34\", \"f_4_34\"],\n",
    "          \"f_1_12\",\n",
    "          [(\"1\",-2),(\"2\",-1),(\"3\",-2),(\"3\",-1),(\"4\",-2),(\"4\",-1)])"
   ]
  },
  {
   "cell_type": "code",
   "execution_count": null,
   "metadata": {
    "collapsed": true
   },
   "outputs": [],
   "source": []
  }
 ],
 "metadata": {
  "kernelspec": {
   "display_name": "SageMath 8.0",
   "language": "",
   "name": "sagemath"
  },
  "language_info": {
   "codemirror_mode": {
    "name": "ipython",
    "version": 2
   },
   "file_extension": ".py",
   "mimetype": "text/x-python",
   "name": "python",
   "nbconvert_exporter": "python",
   "pygments_lexer": "ipython2",
   "version": "2.7.13"
  }
 },
 "nbformat": 4,
 "nbformat_minor": 2
}
