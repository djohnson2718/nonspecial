{
 "cells": [
  {
   "cell_type": "code",
   "execution_count": 4,
   "metadata": {
    "collapsed": false
   },
   "outputs": [],
   "source": [
    "n = 3\n",
    "indexes = [str(i) for i in range(1, n+1)]\n",
    "\n",
    "def one_index_names(name):\n",
    "\treturn [name +\"_\"+ i  for i in indexes]\n",
    "\n",
    "def two_index_names(name):\n",
    "\treturn [name +\"_\"+ i + j for i in indexes for j in indexes if i != j]\n",
    "\n",
    "def jjpi_names(name):\n",
    "    return [name +\"_\"+ j + jp + \"_\" + i for j in indexes for jp in indexes for i in indexes if (j !=jp and j != i and jp != i)]"
   ]
  },
  {
   "cell_type": "code",
   "execution_count": 10,
   "metadata": {
    "collapsed": false
   },
   "outputs": [],
   "source": [
    "Uring = PolynomialRing(QQ, one_index_names(\"pi\") + one_index_names(\"s\") + two_index_names(\"a\") + two_index_names(\"b\") \n",
    "                      +two_index_names(\"e\") + jjpi_names(\"c\") + one_index_names(\"ga\") + one_index_names(\"del\") +\n",
    "                      one_index_names(\"pi\") + one_index_names(\"ep\") + one_index_names(\"theta\"))\n",
    "\n",
    "Rring = PolynomialRing(Uring, one_index_names(\"f\") + one_index_names(\"h\") + two_index_names(\"h\"))"
   ]
  },
  {
   "cell_type": "code",
   "execution_count": null,
   "metadata": {
    "collapsed": false
   },
   "outputs": [],
   "source": [
    "expand_at_dict = dict()\n",
    "\n",
    "for j in indexes: #expand at j\n",
    "    expand_at_dict[j] = dict()\n",
    "        for i in indexes: #looking at f_i, h_i\n",
    "            f = v(\"f\",i,Ts)\n",
    "            h = v(\"h\",i,Ts)\n",
    "            if i != j:\n",
    "                expand_at_dict[j][f] = v(\"b\",i,j)  + O(t^0)\n",
    "                expand_at_dict[j][h] = v(\"e\",i,j)  + O(t^0)\n",
    "            else:\n",
    "                expand_at_dict[j][f] = 1/t^2 + v(\"ga\",j) + v(\"del\",j)*t + v(\"pi\",j)*t^2 + O(t^3)\n",
    "                expand_at_dict[j][h] = 1/t^3 + v(\"ep\",j) + v(\"theta\",j)*t + O(t^2)\n",
    "                \n",
    "\n",
    "            hS = v(\"h\",j,i)\n",
    "            \n",
    "            if j != i:\n",
    "                expand_at_dict[j][hS] = v(\"a\",j,i)/t + v(\"ac\",j,i,Ts) + v(\"alin\",j,i,Ts)*t + v(\"asq\", j,i,Ts)*t^2 + O(t^3) #check the index order one more time!!!\n",
    "            if j == i:\n",
    "                expand_at_dict[i][hS] = 1/t + v(\"xx\",i) + O(t)\n",
    "                        \n",
    "\n",
    "                \n",
    "def expand_at(func, point):\n",
    "    return func.subs(expand_at_dict[point])\n",
    "\n",
    "\n",
    "def find_rels_by_expansion(point_index, eqn):\n",
    "    expansion = expand_at(eqn[0]-eqn[1], point_index)\n",
    "    \n",
    "    print \"Some relations\"\n",
    "    for value in expansion.coefficients():\n",
    "        print value\n"
   ]
  },
  {
   "cell_type": "code",
   "execution_count": null,
   "metadata": {
    "collapsed": true
   },
   "outputs": [],
   "source": []
  }
 ],
 "metadata": {
  "kernelspec": {
   "display_name": "SageMath 8.0",
   "language": "",
   "name": "sagemath"
  },
  "language_info": {
   "codemirror_mode": {
    "name": "ipython",
    "version": 2
   },
   "file_extension": ".py",
   "mimetype": "text/x-python",
   "name": "python",
   "nbconvert_exporter": "python",
   "pygments_lexer": "ipython2",
   "version": "2.7.13"
  }
 },
 "nbformat": 4,
 "nbformat_minor": 2
}
