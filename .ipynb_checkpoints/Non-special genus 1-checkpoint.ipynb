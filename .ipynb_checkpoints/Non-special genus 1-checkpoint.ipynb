{
 "cells": [
  {
   "cell_type": "code",
   "execution_count": 65,
   "metadata": {
    "collapsed": false
   },
   "outputs": [],
   "source": [
    "n = 3\n",
    "indexes = [str(i) for i in range(1, n+1)]\n",
    "\n",
    "def one_index_names(name):\n",
    "\treturn [name +\"_\"+ i  for i in indexes]\n",
    "\n",
    "def two_index_names(name):\n",
    "\treturn [name +\"_\"+ i + j for i in indexes for j in indexes if i != j]\n",
    "\n",
    "def jjpi_names(name):\n",
    "    return [name +\"_\"+ j + jp + \"_\" + i for j in indexes for jp in indexes for i in indexes if (j !=jp and j != i and jp != i)]\n",
    "\n",
    "def v(name, i, j = None, k=None):\n",
    "    #print name, i, j,k\n",
    "    if name == \"f\" or name == \"h\":\n",
    "        ring = Rring\n",
    "    else:\n",
    "        ring = Uring\n",
    "    if j is None:\n",
    "        return ring(name + \"_\" + i)\n",
    "    if k is None:\n",
    "        return ring(name + \"_\" + i + j)\n",
    "    return Uring(name + \"_\" + i +j  + \"_\" +k)"
   ]
  },
  {
   "cell_type": "code",
   "execution_count": 66,
   "metadata": {
    "collapsed": false
   },
   "outputs": [],
   "source": [
    "Uring = PolynomialRing(QQ, one_index_names(\"pi\") + one_index_names(\"s\") + two_index_names(\"a\") + two_index_names(\"b\") \n",
    "                      +two_index_names(\"e\") + jjpi_names(\"c\") + one_index_names(\"ga\") + one_index_names(\"del\") +\n",
    "                       one_index_names(\"ep\") + one_index_names(\"theta\") + two_index_names(\"ac\") + two_index_names(\"alin\")\n",
    "                      + two_index_names(\"asq\")+ one_index_names(\"xx\"))\n",
    "\n",
    "Rring = PolynomialRing(Uring, one_index_names(\"f\") + one_index_names(\"h\") + two_index_names(\"h\"))"
   ]
  },
  {
   "cell_type": "code",
   "execution_count": 67,
   "metadata": {
    "collapsed": false
   },
   "outputs": [],
   "source": [
    "ExpandRing.<t> = LaurentSeriesRing(Uring)\n",
    "\n",
    "expand_at_dict = dict()\n",
    "\n",
    "for j in indexes: #expand at j\n",
    "    expand_at_dict[j] = dict()\n",
    "    for i in indexes: #looking at f_i, h_i\n",
    "        f = v(\"f\",i)\n",
    "        h = v(\"h\",i)\n",
    "        if i != j:\n",
    "            expand_at_dict[j][f] = v(\"b\",i,j)  + O(t^0)\n",
    "            expand_at_dict[j][h] = v(\"e\",i,j)  + O(t^0)\n",
    "        else:\n",
    "            expand_at_dict[j][f] = 1/t^2 + v(\"ga\",j) + v(\"del\",j)*t + v(\"pi\",j)*t^2 + O(t^3)\n",
    "            expand_at_dict[j][h] = 1/t^3 + v(\"ep\",j) + v(\"theta\",j)*t + O(t^2)\n",
    "\n",
    "\n",
    "        \n",
    "        for k in indexes:\n",
    "            if i == k:\n",
    "                continue\n",
    "            hS = v(\"h\",i,k)\n",
    "            \n",
    "            if j == k:\n",
    "                expand_at_dict[j][hS] = v(\"a\",i,j)/t + v(\"ac\",i,j) + v(\"alin\",i,j)*t + v(\"asq\", i,j)*t^2 + O(t^3) #check the index order one more time!!!\n",
    "            elif j == i:\n",
    "                expand_at_dict[j][hS] = 1/t + v(\"xx\",i) + O(t)\n",
    "            else:\n",
    "                expand_at_dict[j][hS] = v(\"c\", k, j, i) + O(t)\n",
    "\n",
    "\n",
    "                \n",
    "def expand_at(func, point):\n",
    "    return func.subs(expand_at_dict[point])\n",
    "\n",
    "\n",
    "def find_rels_by_expansion(point_index, eqn):\n",
    "    expansion = expand_at(eqn[0]-eqn[1], point_index)\n",
    "    \n",
    "    print \"Some relations\"\n",
    "    for value in expansion.coefficients():\n",
    "        print value\n"
   ]
  },
  {
   "cell_type": "code",
   "execution_count": 74,
   "metadata": {
    "collapsed": true
   },
   "outputs": [],
   "source": [
    "def transition(H0gens, f, coefs_to_check):\n",
    "    \"\"\"\n",
    "    This function will find the coefficients of the expression of f in the basis given H0gens. \n",
    "    coefs_to_check is a list of pairs (point, exponent) of terms in the expansion to use to \n",
    "    determine the coefficients.\n",
    "    \n",
    "    Note: The user is responsible for making sure that the parameters are compatible!!\n",
    "    \"\"\"\n",
    "    H0gens = [Rring(g) for g in H0gens]\n",
    "    f = Rring(f)\n",
    "    \n",
    "    M = Matrix(Uring, len(coefs_to_check),len(H0gens),)\n",
    "    b = vector(Uring,len(coefs_to_check))\n",
    "\n",
    "    for i, (point, expon) in enumerate(coefs_to_check):\n",
    "        b[i] = expand_at(f,point)[expon]\n",
    "        for j,gen in enumerate(H0gens):\n",
    "            print expand_at(gen,point), expon\n",
    "            M[i,j] = expand_at(gen,point)[expon]\n",
    "            \n",
    "    result = M.augment(b).echelon_form()\n",
    "    for row in result.rows():\n",
    "        print row\n",
    "        \n",
    "    return result"
   ]
  },
  {
   "cell_type": "code",
   "execution_count": 75,
   "metadata": {
    "collapsed": false
   },
   "outputs": [
    {
     "name": "stdout",
     "output_type": "stream",
     "text": [
      "a_21^2*t^-2 + 2*a_21*ac_21*t^-1 + (ac_21^2 + 2*a_21*alin_21) + (2*ac_21*alin_21 + 2*a_21*asq_21)*t + O(t^2) -2\n",
      "a_21*t^-1 + ac_21 + alin_21*t + asq_21*t^2 + O(t^3) -2\n",
      "O(t^0) -2\n",
      "1 -2\n",
      "t^-2 + 2*xx_2*t^-1 + O(1) -2\n",
      "t^-1 + xx_2 + O(t) -2\n",
      "t^-2 + ga_2 + del_2*t + pi_2*t^2 + O(t^3) -2\n",
      "1 -2\n",
      "t^-2 + 2*xx_2*t^-1 + O(1) -1\n",
      "t^-1 + xx_2 + O(t) -1\n",
      "t^-2 + ga_2 + del_2*t + pi_2*t^2 + O(t^3) -1\n",
      "1 -1\n"
     ]
    },
    {
     "ename": "IndexError",
     "evalue": "coefficient not known",
     "output_type": "error",
     "traceback": [
      "\u001b[0;31m---------------------------------------------------------------------------\u001b[0m",
      "\u001b[0;31mIndexError\u001b[0m                                Traceback (most recent call last)",
      "\u001b[0;32m<ipython-input-75-0385f311161f>\u001b[0m in \u001b[0;36m<module>\u001b[0;34m()\u001b[0m\n\u001b[1;32m      1\u001b[0m transition([\"h_21^2\", \"h_21\", \"f_2\",\"1\"],\n\u001b[1;32m      2\u001b[0m           \u001b[0;34m\"f_1\"\u001b[0m\u001b[0;34m,\u001b[0m\u001b[0;34m\u001b[0m\u001b[0m\n\u001b[0;32m----> 3\u001b[0;31m           [(\"1\",-Integer(2)),(\"2\",-Integer(2)),(\"2\",-Integer(1)),(\"2\",Integer(0))])\n\u001b[0m",
      "\u001b[0;32m<ipython-input-74-b9dcb217bb8a>\u001b[0m in \u001b[0;36mtransition\u001b[0;34m(H0gens, f, coefs_to_check)\u001b[0m\n\u001b[1;32m     14\u001b[0m \u001b[0;34m\u001b[0m\u001b[0m\n\u001b[1;32m     15\u001b[0m     \u001b[0;32mfor\u001b[0m \u001b[0mi\u001b[0m\u001b[0;34m,\u001b[0m \u001b[0;34m(\u001b[0m\u001b[0mpoint\u001b[0m\u001b[0;34m,\u001b[0m \u001b[0mexpon\u001b[0m\u001b[0;34m)\u001b[0m \u001b[0;32min\u001b[0m \u001b[0menumerate\u001b[0m\u001b[0;34m(\u001b[0m\u001b[0mcoefs_to_check\u001b[0m\u001b[0;34m)\u001b[0m\u001b[0;34m:\u001b[0m\u001b[0;34m\u001b[0m\u001b[0m\n\u001b[0;32m---> 16\u001b[0;31m         \u001b[0mb\u001b[0m\u001b[0;34m[\u001b[0m\u001b[0mi\u001b[0m\u001b[0;34m]\u001b[0m \u001b[0;34m=\u001b[0m \u001b[0mexpand_at\u001b[0m\u001b[0;34m(\u001b[0m\u001b[0mf\u001b[0m\u001b[0;34m,\u001b[0m\u001b[0mpoint\u001b[0m\u001b[0;34m)\u001b[0m\u001b[0;34m[\u001b[0m\u001b[0mexpon\u001b[0m\u001b[0;34m]\u001b[0m\u001b[0;34m\u001b[0m\u001b[0m\n\u001b[0m\u001b[1;32m     17\u001b[0m         \u001b[0;32mfor\u001b[0m \u001b[0mj\u001b[0m\u001b[0;34m,\u001b[0m\u001b[0mgen\u001b[0m \u001b[0;32min\u001b[0m \u001b[0menumerate\u001b[0m\u001b[0;34m(\u001b[0m\u001b[0mH0gens\u001b[0m\u001b[0;34m)\u001b[0m\u001b[0;34m:\u001b[0m\u001b[0;34m\u001b[0m\u001b[0m\n\u001b[1;32m     18\u001b[0m             \u001b[0;32mprint\u001b[0m \u001b[0mexpand_at\u001b[0m\u001b[0;34m(\u001b[0m\u001b[0mgen\u001b[0m\u001b[0;34m,\u001b[0m\u001b[0mpoint\u001b[0m\u001b[0;34m)\u001b[0m\u001b[0;34m,\u001b[0m \u001b[0mexpon\u001b[0m\u001b[0;34m\u001b[0m\u001b[0m\n",
      "\u001b[0;32m/Users/drewjohnson/sage-8.0/src/sage/rings/laurent_series_ring_element.pyx\u001b[0m in \u001b[0;36msage.rings.laurent_series_ring_element.LaurentSeries.__getitem__ (/Users/drewjohnson/sage-8.0/src/build/cythonized/sage/rings/laurent_series_ring_element.c:6992)\u001b[0;34m()\u001b[0m\n\u001b[1;32m    438\u001b[0m             \u001b[0;32mreturn\u001b[0m \u001b[0mtype\u001b[0m\u001b[0;34m(\u001b[0m\u001b[0mself\u001b[0m\u001b[0;34m)\u001b[0m\u001b[0;34m(\u001b[0m\u001b[0mself\u001b[0m\u001b[0;34m.\u001b[0m\u001b[0m_parent\u001b[0m\u001b[0;34m,\u001b[0m \u001b[0mf\u001b[0m\u001b[0;34m,\u001b[0m \u001b[0mself\u001b[0m\u001b[0;34m.\u001b[0m\u001b[0m__n\u001b[0m\u001b[0;34m)\u001b[0m\u001b[0;34m\u001b[0m\u001b[0m\n\u001b[1;32m    439\u001b[0m \u001b[0;34m\u001b[0m\u001b[0m\n\u001b[0;32m--> 440\u001b[0;31m         \u001b[0;32mreturn\u001b[0m \u001b[0mself\u001b[0m\u001b[0;34m.\u001b[0m\u001b[0m__u\u001b[0m\u001b[0;34m[\u001b[0m\u001b[0mi\u001b[0m \u001b[0;34m-\u001b[0m \u001b[0mself\u001b[0m\u001b[0;34m.\u001b[0m\u001b[0m__n\u001b[0m\u001b[0;34m]\u001b[0m\u001b[0;34m\u001b[0m\u001b[0m\n\u001b[0m\u001b[1;32m    441\u001b[0m \u001b[0;34m\u001b[0m\u001b[0m\n\u001b[1;32m    442\u001b[0m     \u001b[0;32mdef\u001b[0m \u001b[0m__iter__\u001b[0m\u001b[0;34m(\u001b[0m\u001b[0mself\u001b[0m\u001b[0;34m)\u001b[0m\u001b[0;34m:\u001b[0m\u001b[0;34m\u001b[0m\u001b[0m\n",
      "\u001b[0;32m/Users/drewjohnson/sage-8.0/src/sage/rings/power_series_poly.pyx\u001b[0m in \u001b[0;36msage.rings.power_series_poly.PowerSeries_poly.__getitem__ (/Users/drewjohnson/sage-8.0/src/build/cythonized/sage/rings/power_series_poly.c:7334)\u001b[0;34m()\u001b[0m\n\u001b[1;32m    455\u001b[0m                 \u001b[0;32mreturn\u001b[0m \u001b[0mself\u001b[0m\u001b[0;34m.\u001b[0m\u001b[0mbase_ring\u001b[0m\u001b[0;34m(\u001b[0m\u001b[0;34m)\u001b[0m\u001b[0;34m.\u001b[0m\u001b[0mzero\u001b[0m\u001b[0;34m(\u001b[0m\u001b[0;34m)\u001b[0m\u001b[0;34m\u001b[0m\u001b[0m\n\u001b[1;32m    456\u001b[0m             \u001b[0;32melse\u001b[0m\u001b[0;34m:\u001b[0m\u001b[0;34m\u001b[0m\u001b[0m\n\u001b[0;32m--> 457\u001b[0;31m                 \u001b[0;32mraise\u001b[0m \u001b[0mIndexError\u001b[0m\u001b[0;34m(\u001b[0m\u001b[0;34m\"coefficient not known\"\u001b[0m\u001b[0;34m)\u001b[0m\u001b[0;34m\u001b[0m\u001b[0m\n\u001b[0m\u001b[1;32m    458\u001b[0m         \u001b[0;32mreturn\u001b[0m \u001b[0mself\u001b[0m\u001b[0;34m.\u001b[0m\u001b[0m__f\u001b[0m\u001b[0;34m[\u001b[0m\u001b[0mn\u001b[0m\u001b[0;34m]\u001b[0m\u001b[0;34m\u001b[0m\u001b[0m\n\u001b[1;32m    459\u001b[0m \u001b[0;34m\u001b[0m\u001b[0m\n",
      "\u001b[0;31mIndexError\u001b[0m: coefficient not known"
     ]
    }
   ],
   "source": [
    "transition([\"h_21^2\", \"h_21\", \"f_2\",\"1\"],\n",
    "          \"f_1\",\n",
    "          [(\"1\",-2),(\"2\",-2),(\"2\",-1),(\"2\",0)])"
   ]
  },
  {
   "cell_type": "code",
   "execution_count": 70,
   "metadata": {
    "collapsed": false
   },
   "outputs": [],
   "source": [
    "ww= expand_at(Rring(\"f_1\"),\"1\")"
   ]
  },
  {
   "cell_type": "code",
   "execution_count": 71,
   "metadata": {
    "collapsed": false
   },
   "outputs": [
    {
     "data": {
      "text/plain": [
       "t^-2 + ga_1 + del_1*t + pi_1*t^2 + O(t^3)"
      ]
     },
     "execution_count": 71,
     "metadata": {},
     "output_type": "execute_result"
    }
   ],
   "source": [
    "ww"
   ]
  },
  {
   "cell_type": "code",
   "execution_count": 72,
   "metadata": {
    "collapsed": false
   },
   "outputs": [
    {
     "data": {
      "text/plain": [
       "ga_1"
      ]
     },
     "execution_count": 72,
     "metadata": {},
     "output_type": "execute_result"
    }
   ],
   "source": [
    "ww[0]"
   ]
  },
  {
   "cell_type": "code",
   "execution_count": 73,
   "metadata": {
    "collapsed": false
   },
   "outputs": [
    {
     "data": {
      "text/plain": [
       "del_1"
      ]
     },
     "execution_count": 73,
     "metadata": {},
     "output_type": "execute_result"
    }
   ],
   "source": [
    "ww[1]"
   ]
  },
  {
   "cell_type": "code",
   "execution_count": 54,
   "metadata": {
    "collapsed": false
   },
   "outputs": [
    {
     "data": {
      "text/plain": [
       "[t^-2 + ga_1 + del_1*t + pi_1*t^2]"
      ]
     },
     "execution_count": 54,
     "metadata": {},
     "output_type": "execute_result"
    }
   ],
   "source": [
    "ww.coefficients()"
   ]
  },
  {
   "cell_type": "code",
   "execution_count": 55,
   "metadata": {
    "collapsed": false
   },
   "outputs": [
    {
     "data": {
      "text/plain": [
       "Multivariate Polynomial Ring in f_1, f_2, f_3, h_1, h_2, h_3, h_12, h_13, h_21, h_23, h_31, h_32 over Laurent Series Ring in t over Multivariate Polynomial Ring in pi_1, pi_2, pi_3, s_1, s_2, s_3, a_12, a_13, a_21, a_23, a_31, a_32, b_12, b_13, b_21, b_23, b_31, b_32, e_12, e_13, e_21, e_23, e_31, e_32, c_12_3, c_13_2, c_21_3, c_23_1, c_31_2, c_32_1, ga_1, ga_2, ga_3, del_1, del_2, del_3, ep_1, ep_2, ep_3, theta_1, theta_2, theta_3, ac_12, ac_13, ac_21, ac_23, ac_31, ac_32, alin_12, alin_13, alin_21, alin_23, alin_31, alin_32, asq_12, asq_13, asq_21, asq_23, asq_31, asq_32, xx_1, xx_2, xx_3 over Rational Field"
      ]
     },
     "execution_count": 55,
     "metadata": {},
     "output_type": "execute_result"
    }
   ],
   "source": [
    "ww.parent()"
   ]
  },
  {
   "cell_type": "code",
   "execution_count": 61,
   "metadata": {
    "collapsed": false
   },
   "outputs": [
    {
     "data": {
      "text/plain": [
       "0"
      ]
     },
     "execution_count": 61,
     "metadata": {},
     "output_type": "execute_result"
    }
   ],
   "source": [
    "expand_at_dict['1'][Rring(\"f_1\")][-2]"
   ]
  },
  {
   "cell_type": "code",
   "execution_count": 80,
   "metadata": {
    "collapsed": false
   },
   "outputs": [
    {
     "data": {
      "text/plain": [
       "0"
      ]
     },
     "execution_count": 80,
     "metadata": {},
     "output_type": "execute_result"
    }
   ],
   "source": [
    "ExpandRing(1)[1]"
   ]
  },
  {
   "cell_type": "code",
   "execution_count": 82,
   "metadata": {
    "collapsed": false
   },
   "outputs": [
    {
     "data": {
      "text/plain": [
       "0"
      ]
     },
     "execution_count": 82,
     "metadata": {},
     "output_type": "execute_result"
    }
   ],
   "source": [
    "expand_at(Rring(\"1\"), \"2\")[-1]"
   ]
  },
  {
   "cell_type": "code",
   "execution_count": null,
   "metadata": {
    "collapsed": true
   },
   "outputs": [],
   "source": []
  }
 ],
 "metadata": {
  "kernelspec": {
   "display_name": "SageMath 8.0",
   "language": "",
   "name": "sagemath"
  },
  "language_info": {
   "codemirror_mode": {
    "name": "ipython",
    "version": 2
   },
   "file_extension": ".py",
   "mimetype": "text/x-python",
   "name": "python",
   "nbconvert_exporter": "python",
   "pygments_lexer": "ipython2",
   "version": "2.7.13"
  }
 },
 "nbformat": 4,
 "nbformat_minor": 2
}
