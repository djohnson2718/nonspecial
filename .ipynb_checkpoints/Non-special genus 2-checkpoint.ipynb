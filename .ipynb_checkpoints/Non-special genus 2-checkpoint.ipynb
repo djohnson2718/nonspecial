{
 "cells": [
  {
   "cell_type": "code",
   "execution_count": 1,
   "metadata": {
    "collapsed": true
   },
   "outputs": [],
   "source": [
    "g = 2\n",
    "n = 4\n",
    "indexes = [str(i) for i in range(1, n+1)]"
   ]
  },
  {
   "cell_type": "code",
   "execution_count": 31,
   "metadata": {
    "collapsed": false
   },
   "outputs": [],
   "source": [
    "used_names = []\n",
    "def check_name(name):\n",
    "    if name in used_names:\n",
    "        raise Exception(name + \" is already used!!\")\n",
    "    used_names.append(name)\n",
    "\n",
    "def one_index_names(name):\n",
    "    check_name(name)\n",
    "    return [name +\"_\"+ i  for i in indexes]\n",
    "    \n",
    "def two_index_names(name):\n",
    "    check_name(name)\n",
    "    return [name +\"_\"+ i + j for i in indexes for j in indexes if i != j]\n",
    "\n",
    "def two_index_names_repeat(name):\n",
    "    check_name(name)\n",
    "    names = []\n",
    "    for i in indexes:\n",
    "        for j in indexes:\n",
    "            if i != j:\n",
    "                names.append(name + \"_\" + i + j)\n",
    "            else:\n",
    "                for k in indexes:\n",
    "                    if k != i:\n",
    "                        T = [i,k]\n",
    "                        T.sort()\n",
    "                        names.append(name + \"_\" + i + i + \"_\" + \"\".join(T))\n",
    "    return names\n",
    "    #return [name +\"_\"+ i + j for i in indexes for j in indexes]\n",
    "\n",
    "def three_index_names(name):\n",
    "    check_name(name)\n",
    "    return [name +\"_\"+ i + j + k for i in indexes for j in indexes for k in indexes if i != j and i != k and j !=k]\n",
    "\n",
    "def jjpS_names(name):\n",
    "    check_name(name)\n",
    "    names = []\n",
    "    for S in Subsets(indexes, g):\n",
    "        Ss = list(S)\n",
    "        Ss.sort()\n",
    "        for jj in Subsets(indexes,2):\n",
    "            jjs = list(jj)\n",
    "            jjs.sort()\n",
    "            j = jjs[0]\n",
    "            jp = jjs[1]\n",
    "            \n",
    "            if j not in S and jp not in S:\n",
    "                names.append(name + \"_\" + j + jp + \"_\" + \"\".join(Ss))\n",
    "                names.append(name + \"_\" + jp + j + \"_\" + \"\".join(Ss))\n",
    "\n",
    "    return names\n",
    "\n",
    "def ijS_names(name):\n",
    "    check_name(name)\n",
    "    names = []\n",
    "    for S in Subsets(indexes, g):\n",
    "        Ss = list(S)\n",
    "        Ss.sort()\n",
    "        for i in Ss:\n",
    "            for j in indexes:\n",
    "                if j not in Ss:\n",
    "                    names.append(name + \"_\" + i + j + \"_\" + \"\".join(Ss))\n",
    "\n",
    "    return names\n",
    "\n",
    "def iS_names(name):\n",
    "    check_name(name)\n",
    "    names = []\n",
    "    for S in Subsets(indexes, g):\n",
    "        Ss = list(S)\n",
    "        Ss.sort()\n",
    "        for i in Ss:\n",
    "            names.append(name + \"_\" + i + \"_\" + \"\".join(Ss))\n",
    "    return names\n",
    "\n",
    "def inotinS_names(name):\n",
    "    check_name(name)\n",
    "    names = []\n",
    "    for S in Subsets(indexes, g):\n",
    "        Ss = list(S)\n",
    "        Ss.sort()\n",
    "        for i in indexes:\n",
    "            if i not in Ss:\n",
    "                names.append(name + \"_\" + i + \"_\" + \"\".join(Ss))\n",
    "    return names\n",
    "\n",
    "def ijlS_names(name):\n",
    "    check_name(name)\n",
    "    names = []\n",
    "    for S in Subsets(indexes, g):\n",
    "        Ss = list(S)\n",
    "        Ss.sort()\n",
    "        for i in S:\n",
    "            for l in S:\n",
    "                for j in indexes:\n",
    "                    if not j in S:\n",
    "                        names.append(name + \"_\"+ i + j +l + \"_\" + \"\".join(Ss))\n",
    "    return names\n",
    "                    \n",
    "def hS_names():\n",
    "    names = []\n",
    "    for S in Subsets(indexes, g):\n",
    "        Ss = list(S)\n",
    "        Ss.sort()\n",
    "        for j in indexes:\n",
    "            if not j in S:\n",
    "                names.append(\"h_\" + \"\".join(Ss) + \"_\" + j) \n",
    "    return names\n",
    "        \n",
    "    \n",
    "Uring = PolynomialRing(QQ, two_index_names(\"al\") + two_index_names_repeat(\"ga\") +  two_index_names(\"A\") + two_index_names(\"D\") + two_index_names(\"t\") + two_index_names(\"v\") + two_index_names(\"R\") + two_index_names_repeat(\"del\") + two_index_names(\"B\") + two_index_names(\"be\") + two_index_names_repeat(\"ep\") + two_index_names(\"psi\")  + two_index_names(\"u\") + two_index_names(\"g\") + iS_names(\"pi\") + two_index_names(\"k\") + iS_names(\"S\") \n",
    "                      + jjpS_names(\"c\") + jjpS_names(\"cc\") + ijS_names(\"a\") + ijS_names(\"ac\") + ijS_names(\"alin\") + ijS_names(\"asq\") + jjpS_names(\"hshsc\") + ijS_names(\"b\") +ijlS_names(\"d\") + ijS_names(\"fhsc\") + ijS_names(\"e\") + ijS_names(\"r\") + ijlS_names(\"s\") +ijS_names(\"hhsc\")\n",
    "                      + two_index_names_repeat(\"theta\") + two_index_names_repeat(\"Pi\") + inotinS_names(\"x\") + [\"aaa\",\"bbb\",\"ccc\",\"ddd\",\"eee\"])\n",
    "\n",
    "Rring = PolynomialRing(Uring, iS_names(\"f\") + iS_names(\"h\")+ hS_names())\n",
    "    \n",
    "#Udict = Uring.gens_dict()\n",
    "Rdict = Rring.gens_dict()\n",
    "ExpandRing.<t> = LaurentSeriesRing(Uring)\n",
    "\n",
    "U_rel_dict = dict()\n",
    "#e.g. a_12 = b_12 + c_12 is represented by {\"a\": (\"12\", \"b_12 + c_12\")}\n",
    "\n",
    "def apply_known_relations(c):\n",
    "    \"\"\"\n",
    "    c should be an element of Uring.\n",
    "    \"\"\"\n",
    "    for v in c.variables():\n",
    "        vsplit = v.split(\"_\")\n",
    "        stored_indexes, stored_rel = U_rel_dict[vsplit[0]]\n",
    "        v_indexes = \"\".join(vsplit[1:])\n",
    "        \n",
    "        stored_to_new = dict(zip(stored_indexes,v_indexes))\n",
    "        \n",
    "        def change_indexes(matchobj):\n",
    "            for i in matchobj.group(2):\n",
    "                new_indexes += stored_to_new[i]\n",
    "            if matchobj.group(3) is None:\n",
    "                #return \"v('\" + matchobj.group(1) + \"', '\" +  \"','\".join(new_indexes) + \"')\"\n",
    "                return matchobj.group(1) + \"_\" + \"\".join(new_indexes)\n",
    "\n",
    "            #else\n",
    "            new_indexes2 = []\n",
    "            for i in matchobj.group(3):\n",
    "                new_indexes2 += stored_to_new[i]\n",
    "\n",
    "            if matchobj.group(1) == \"h\":\n",
    "                #it is an S, j type\n",
    "                new_indexes.sort()\n",
    "            else:\n",
    "                #else it is a i, S type\n",
    "                new_indexes2.sort()\n",
    "\n",
    "            #return \"v('\" + matchobj.group(1) + \"', \" + str(new_indexes) + \"', '\" + \", '\".join(new_indexes2) + \"')\"\n",
    "            return matchobj.group(1) + \"_\" + \"\".join(new_indexes) + \"_\" + \"\".join(new_indexes2)\n",
    "            #return \"v('\" + matchobj.group(1) + \"', '\" +  \"','\".join(new_indexes) + \"', \" + str(new_indexes2) + \")\"\n",
    "                \n",
    "\n",
    "        yield tuple((re.sub(r\"([a-z]+)_(\\d+)(?:_(\\d+))?\", permute_indices, str).replace(\"^\",\"**\") for str in strs))\n",
    "\n",
    "    indexes_involved = list(indexes_involved)\n",
    "        \n",
    "        \n",
    "    \n",
    "    \n",
    "import re\n",
    "def ry(expr_str, **indexes):\n",
    "    expr_str = expr_str.subs({indexes})\n",
    "    print exprt_str\n",
    "    \n",
    "    f = eval(expr_str)\n",
    "    \n",
    "    return f.map_coefficients(apply_known_relations)\n",
    "    \n",
    "    "
   ]
  },
  {
   "cell_type": "code",
   "execution_count": 23,
   "metadata": {
    "collapsed": false
   },
   "outputs": [],
   "source": [
    "ff=Rring(\"(al_12*be_12 + ga_21)*f_1_12\")"
   ]
  },
  {
   "cell_type": "code",
   "execution_count": 26,
   "metadata": {
    "collapsed": false
   },
   "outputs": [
    {
     "data": {
      "text/plain": [
       "(2*al_12*be_12 + 2*ga_21)*f_1_12"
      ]
     },
     "execution_count": 26,
     "metadata": {},
     "output_type": "execute_result"
    }
   ],
   "source": [
    "ff.map_coefficients(lambda x: 2*x)"
   ]
  },
  {
   "cell_type": "code",
   "execution_count": 2,
   "metadata": {
    "collapsed": true
   },
   "outputs": [],
   "source": [
    "def testk(**vars):\n",
    "    print vars"
   ]
  },
  {
   "cell_type": "code",
   "execution_count": 6,
   "metadata": {
    "collapsed": false
   },
   "outputs": [
    {
     "ename": "AttributeError",
     "evalue": "'str' object has no attribute 'subs'",
     "output_type": "error",
     "traceback": [
      "\u001b[0;31m---------------------------------------------------------------------------\u001b[0m",
      "\u001b[0;31mAttributeError\u001b[0m                            Traceback (most recent call last)",
      "\u001b[0;32m<ipython-input-6-9acde9d2cc9e>\u001b[0m in \u001b[0;36m<module>\u001b[0;34m()\u001b[0m\n\u001b[0;32m----> 1\u001b[0;31m \u001b[0mry\u001b[0m\u001b[0;34m(\u001b[0m\u001b[0;34m\"a_ij\"\u001b[0m\u001b[0;34m,\u001b[0m \u001b[0mi\u001b[0m\u001b[0;34m=\u001b[0m\u001b[0;34m\"4\"\u001b[0m\u001b[0;34m,\u001b[0m\u001b[0mj\u001b[0m\u001b[0;34m=\u001b[0m\u001b[0;34m\"2\"\u001b[0m\u001b[0;34m)\u001b[0m\u001b[0;34m\u001b[0m\u001b[0m\n\u001b[0m",
      "\u001b[0;32m<ipython-input-5-961c958731d6>\u001b[0m in \u001b[0;36mry\u001b[0;34m(expr_str, **indexes)\u001b[0m\n\u001b[1;32m    107\u001b[0m \u001b[0;34m\u001b[0m\u001b[0m\n\u001b[1;32m    108\u001b[0m \u001b[0;32mdef\u001b[0m \u001b[0mry\u001b[0m\u001b[0;34m(\u001b[0m\u001b[0mexpr_str\u001b[0m\u001b[0;34m,\u001b[0m \u001b[0;34m**\u001b[0m\u001b[0mindexes\u001b[0m\u001b[0;34m)\u001b[0m\u001b[0;34m:\u001b[0m\u001b[0;34m\u001b[0m\u001b[0m\n\u001b[0;32m--> 109\u001b[0;31m     \u001b[0mexpr_str\u001b[0m \u001b[0;34m=\u001b[0m \u001b[0mexpr_str\u001b[0m\u001b[0;34m.\u001b[0m\u001b[0msubs\u001b[0m\u001b[0;34m(\u001b[0m\u001b[0;34m{\u001b[0m\u001b[0mindexes\u001b[0m\u001b[0;34m}\u001b[0m\u001b[0;34m)\u001b[0m\u001b[0;34m\u001b[0m\u001b[0m\n\u001b[0m\u001b[1;32m    110\u001b[0m     \u001b[0;32mprint\u001b[0m \u001b[0mexprt_str\u001b[0m\u001b[0;34m\u001b[0m\u001b[0m\n\u001b[1;32m    111\u001b[0m \u001b[0;34m\u001b[0m\u001b[0m\n",
      "\u001b[0;31mAttributeError\u001b[0m: 'str' object has no attribute 'subs'"
     ]
    }
   ],
   "source": [
    "ry(\"a_ij\", i=\"4\",j=\"2\")"
   ]
  },
  {
   "cell_type": "code",
   "execution_count": 7,
   "metadata": {
    "collapsed": true
   },
   "outputs": [],
   "source": [
    "s=\"asdfas\""
   ]
  },
  {
   "cell_type": "code",
   "execution_count": 9,
   "metadata": {
    "collapsed": false
   },
   "outputs": [
    {
     "data": {
      "text/plain": [
       "'111sdf111s'"
      ]
     },
     "execution_count": 9,
     "metadata": {},
     "output_type": "execute_result"
    }
   ],
   "source": [
    "s.replace(\"a\",\"111\")"
   ]
  },
  {
   "cell_type": "code",
   "execution_count": null,
   "metadata": {
    "collapsed": true
   },
   "outputs": [],
   "source": []
  }
 ],
 "metadata": {
  "kernelspec": {
   "display_name": "SageMath 8.0",
   "language": "",
   "name": "sagemath"
  },
  "language_info": {
   "codemirror_mode": {
    "name": "ipython",
    "version": 2
   },
   "file_extension": ".py",
   "mimetype": "text/x-python",
   "name": "python",
   "nbconvert_exporter": "python",
   "pygments_lexer": "ipython2",
   "version": "2.7.13"
  }
 },
 "nbformat": 4,
 "nbformat_minor": 2
}
