{
 "cells": [
  {
   "cell_type": "code",
   "execution_count": 265,
   "metadata": {
    "collapsed": false
   },
   "outputs": [],
   "source": [
    "g = 2\n",
    "n = 4\n",
    "indexes = [str(i) for i in range(1, n+1)]\n",
    "load(\"genus2_setup.sage\")\n",
    "load(\"manage_rel.sage\")\n",
    "load(\"expansions.sage\")"
   ]
  },
  {
   "cell_type": "code",
   "execution_count": 240,
   "metadata": {
    "collapsed": false,
    "scrolled": false
   },
   "outputs": [
    {
     "name": "stdout",
     "output_type": "stream",
     "text": [
      "Some relations\n",
      "Adding relations of the form: del_21 = -al_21*GA_11_12 + al_21*ga_12 + al_12*be_21\n",
      "Adding relations of the form: A_12 = -ga_12*ga_21 + al_21*DEL_11_12 - al_21*EP_11_12 - al_12*ep_21 + Pi_21\n",
      "This relation cannot be solved for a single variable: GA_11_12*del_21 - ga_12*del_21 - al_21*THETA_11_12 - al_12*theta_21 + al_21*PI_11_12\n",
      "\n",
      "Some relations\n",
      "Adding relations of the form: Pi_12 = al_21*DEL_11_12 - al_12*DEL_22_12 - al_21*EP_11_12 + al_21*ep_12 - al_12*ep_21 + al_12*EP_22_12 + Pi_21\n",
      "This relation cannot be solved for a single variable: -al_12*ga_21^2 + 2*al_12*ga_21*GA_22_12 - al_12*GA_22_12^2 - al_21*ga_21*be_12 + al_21*GA_22_12*be_12 - al_21*theta_12 - al_12*THETA_22_12 + al_12*PI_22_12\n",
      "\n",
      "Some relations\n",
      "Adding relations of the form: t_21 = be_21\n",
      "Adding relations of the form: R_21 = -al_21^2*D_12 + ep_21\n",
      "Adding relations of the form: theta_21 = al_12*al_21*ga_21 - al_12*al_21*GA_22_12 + 2*al_21*ga_21*D_12 + al_21^2*be_12 - GA_11_12*be_21 + v_12*be_21\n",
      "Adding relations of the form: B_12 = 2*al_21^2*GA_11_12*D_12 - 2*al_21^2*ga_12*D_12 - 2*al_12*al_21*D_12*be_21 - al_12*ga_21^2 + al_12*ga_21*GA_22_12 - ga_21^2*D_12 - al_21*ga_21*be_12 - GA_11_12*R_21 + DEL_11_12*be_21 - t_21*EP_11_12 + GA_11_12*ep_21 - v_12*ep_21\n",
      "\n",
      "Some relations\n",
      "Adding relations of the form: D_12 = al_12\n",
      "Adding relations of the form: v_12 = ga_12\n",
      "This relation cannot be solved for a single variable: -2*GA_22_12*D_12\n",
      "Adding relations of the form: Pi_12 = -al_12*al_21^2*D_12 + 2*D_12*DEL_22_12 + be_12*be_21 + al_12*ep_21 - al_12*EP_22_12\n",
      "This relation cannot be solved for a single variable: -3*al_21^2*GA_11_12*D_12 + 3*al_21^2*ga_12*D_12 + 2*al_12*al_21*D_12*be_21 + al_12*ga_21^2 - 2*al_12*ga_21*GA_22_12 + al_12*GA_22_12^2 + ga_21^2*D_12 - GA_22_12^2*D_12 + al_21*ga_21*be_12 - al_21*GA_22_12*be_12 - DEL_11_12*be_21 + be_21*EP_11_12 - be_21*ep_12 - ga_12*ep_21 + v_12*ep_21 + ga_12*EP_22_12 - v_12*EP_22_12 + al_12*THETA_22_12 - 2*D_12*PI_22_12\n",
      "\n",
      "Some relations\n",
      "This relation cannot be solved for a single variable: -2*al_21*GA_11_12\n",
      "This relation cannot be solved for a single variable: 3*al_12^2*al_21*ga_21 - 3*al_12^2*al_21*GA_22_12 + 2*al_12*al_21^2*be_12 - 2*al_21*GA_11_12*ga_12 + 2*al_21*ga_12^2 - al_12*GA_11_12*be_21 + al_12*ga_12*be_21 - DEL_22_12*be_12 - be_12*ep_21 + be_12*EP_22_12 + al_21*THETA_11_12 - 2*al_21*PI_11_12\n",
      "\n",
      "Some relations\n",
      "\n",
      "Some relations\n",
      "Adding relations of the form: psi_21 = 3*al_12*al_21*ga_21 - al_12*al_21*GA_22_12 - 3*GA_11_12*be_21 + ga_12*be_21\n",
      "This relation cannot be solved for a single variable: -2*al_21*ga_21*be_12 - 2*DEL_11_12*be_21 + be_21*EP_11_12 - be_21*ep_12 - al_21*psi_12\n",
      "\n",
      "Some relations\n",
      "This relation cannot be solved for a single variable: -3*al_12^2*al_21*ga_21 + al_12^2*al_21*GA_22_12 + 3*al_12*GA_11_12*be_21 - 3*al_12*ga_12*be_21 - 2*DEL_22_12*be_12 - be_12*ep_21 + be_12*EP_22_12\n",
      "\n",
      "Some relations\n",
      "Adding relations of the form: GA_11_12 = 0\n",
      "Adding relations of the form: DEL_11_12 = 2/3*EP_11_12\n",
      "Adding relations of the form: THETA_11_12 = 3/2*GA_11_12^2 + 1/2*pi_1_12 + 3/2*PI_11_12\n",
      "This relation cannot be solved for a single variable: -6*GA_11_12*DEL_11_12 - be_21*g_12 - al_21*k_12\n",
      "\n",
      "Some relations\n",
      "Adding relations of the form: g_12 = -al_12^3\n",
      "Adding relations of the form: k_12 = -3*al_12^2*ga_12 + be_12^2\n",
      "This relation cannot be solved for a single variable: -3*al_12^3*ga_21 - 3*al_12^2*al_21*be_12 - 3*al_12*ga_12^2 + 2*be_12*ep_12 - al_12*pi_1_12\n",
      "Adding relations of the form: S_1_12 = 3*al_12^4*al_21^2 - 6*al_12^2*ga_12*ga_21 - al_12^2*be_12*be_21 - 4*al_12^3*EP_11_12 - 3*al_12^3*ep_21 + 3*al_12^3*EP_22_12 - ga_12^3 + 2*ga_21*be_12^2 + ep_12^2 - EP_22_12*g_12 - ga_12*pi_1_12\n",
      "This relation cannot be solved for a single variable: 6*al_12^3*al_21^2*ga_12 - 3*al_12^3*ga_21^2 - 6*al_12^2*al_21*ga_21*be_12 - 3*al_12*al_21^2*be_12^2 - 3*al_12*ga_12^2*ga_21 - 3*al_21*ga_12^2*be_12 - 6*al_12*ga_12*be_12*be_21 - 8*al_12^2*ga_12*EP_11_12 + 6*al_12*al_21*ga_12*ep_12 + 2*al_12^2*be_21*ep_12 - 6*al_12^2*ga_12*ep_21 + 6*al_12^2*ga_12*EP_22_12 + 2*ga_21*be_12*ep_12 - al_12*ga_21*pi_1_12 - al_21*be_12*pi_1_12 - 1/2*g_12*pi_1_12 - 2/3*EP_11_12*k_12 - 3/2*g_12*PI_11_12\n",
      "\n"
     ]
    }
   ],
   "source": [
    "find_rels_by_expansion(ff(\"1\",\"2\"),\"1\")\n",
    "print\n",
    "find_rels_by_expansion(ff(\"1\",\"2\"),\"2\")\n",
    "print\n",
    "find_rels_by_expansion(fh(\"1\",\"2\"),\"1\")\n",
    "print\n",
    "find_rels_by_expansion(fh(\"1\",\"2\"),\"2\")\n",
    "print\n",
    "find_rels_by_expansion(fh(\"2\",\"1\"),\"1\")\n",
    "print\n",
    "find_rels_by_expansion(fh(\"2\",\"1\"),\"2\")\n",
    "print\n",
    "find_rels_by_expansion(hh(\"1\",\"2\"),\"1\")\n",
    "print\n",
    "find_rels_by_expansion(hh(\"1\",\"2\"),\"2\")\n",
    "print\n",
    "find_rels_by_expansion(h2(\"1\",\"2\"),\"1\")\n",
    "print\n",
    "find_rels_by_expansion(h2(\"1\",\"2\"),\"2\")\n",
    "print"
   ]
  },
  {
   "cell_type": "code",
   "execution_count": 241,
   "metadata": {
    "collapsed": false
   },
   "outputs": [
    {
     "name": "stdout",
     "output_type": "stream",
     "text": [
      "Some relations\n",
      "Adding relations of the form: hshsc_12_34 = -a_31_34*a_32_34*b_31_34 - a_41_34*a_42_34*b_41_34 - c_12_34*c_21_34\n",
      "\n",
      "Some relations\n",
      "This relation cannot be solved for a single variable: a_31_34*a_32_34*b_31_34 - a_31_34*a_32_34*b_32_34 + a_41_34*a_42_34*b_41_34 - a_41_34*a_42_34*b_42_34\n",
      "\n",
      "Some relations\n",
      "This relation cannot be solved for a single variable: -al_43*a_41_34*a_42_34 - c_21_34*a_31_34 - c_12_34*a_32_34 + a_32_34*ac_31_34 + a_31_34*ac_32_34\n",
      "This relation cannot be solved for a single variable: -ga_43*a_41_34*a_42_34 + a_31_34*a_32_34*b_31_34 + a_41_34*a_42_34*b_41_34 + c_12_34*c_21_34 - c_21_34*ac_31_34 - c_12_34*ac_32_34 + ac_31_34*ac_32_34 + a_32_34*alin_31_34 + a_31_34*alin_32_34\n",
      "This relation cannot be solved for a single variable: -al_43*ga_34*a_41_34*a_42_34 - al_34*be_43*a_41_34*a_42_34 - 2/3*EP_33_34*a_31_34*a_32_34 - c_21_34*alin_31_34 + ac_32_34*alin_31_34 - c_12_34*alin_32_34 + ac_31_34*alin_32_34 + a_32_34*asq_31_34 + a_31_34*asq_32_34\n",
      "This relation cannot be solved for a single variable: al_34^2*al_43^2*a_41_34*a_42_34 - be_34*be_43*a_41_34*a_42_34 + al_43*EP_33_34*a_41_34*a_42_34 - al_43*ep_34*a_41_34*a_42_34 - 4/3*al_43*EP_44_34*a_41_34*a_42_34 - a_31_34*a_32_34*PI_33_34 + alin_31_34*alin_32_34 - c_21_34*asq_31_34 + ac_32_34*asq_31_34 - c_12_34*asq_32_34 + ac_31_34*asq_32_34\n",
      "\n",
      "Some relations\n",
      "This relation cannot be solved for a single variable: -al_34*a_31_34*a_32_34 - c_21_34*a_41_34 - c_12_34*a_42_34 + a_42_34*ac_41_34 + a_41_34*ac_42_34\n",
      "This relation cannot be solved for a single variable: -ga_34*a_31_34*a_32_34 + a_31_34*a_32_34*b_31_34 + a_41_34*a_42_34*b_41_34 + c_12_34*c_21_34 - c_21_34*ac_41_34 - c_12_34*ac_42_34 + ac_41_34*ac_42_34 + a_42_34*alin_41_34 + a_41_34*alin_42_34\n",
      "This relation cannot be solved for a single variable: -al_34*ga_43*a_31_34*a_32_34 - al_43*be_34*a_31_34*a_32_34 - 2/3*EP_33_34*a_41_34*a_42_34 - c_21_34*alin_41_34 + ac_42_34*alin_41_34 - c_12_34*alin_42_34 + ac_41_34*alin_42_34 + a_42_34*asq_41_34 + a_41_34*asq_42_34\n",
      "This relation cannot be solved for a single variable: al_34^2*al_43^2*a_31_34*a_32_34 - be_34*be_43*a_31_34*a_32_34 - 4/3*al_34*EP_33_34*a_31_34*a_32_34 - al_34*ep_43*a_31_34*a_32_34 + al_34*EP_44_34*a_31_34*a_32_34 - a_41_34*a_42_34*PI_44_34 + alin_41_34*alin_42_34 - c_21_34*asq_41_34 + ac_42_34*asq_41_34 - c_12_34*asq_42_34 + ac_41_34*asq_42_34\n",
      "\n",
      "Some relations\n",
      "Adding relations of the form: ac_12_13 = d_112_13\n",
      "Adding relations of the form: alin_12_13 = a_12_13*b_12_13 + al_31*d_312_13\n",
      "Adding relations of the form: asq_12_13 = 1/3*EP_11_13*a_12_13 + ac_12_13*b_12_13 + ga_31*d_312_13 + fhsc_12_13\n",
      "This relation cannot be solved for a single variable: -al_31*ga_13*d_312_13 - al_13*be_31*d_312_13 - 1/2*pi_1_13*a_12_13 + 2/3*EP_11_13*ac_12_13 - alin_12_13*b_12_13 - 2/3*EP_11_13*d_112_13 - 1/2*a_12_13*PI_11_13\n",
      "\n",
      "Some relations\n",
      "Adding relations of the form: fhsc_12_13 = -b_12_13*d_112_13 - b_32_13*d_312_13 - a_12_13*e_12_13\n",
      "\n",
      "Some relations\n",
      "Adding relations of the form: d_312_13 = al_13*a_32_13\n",
      "This relation cannot be solved for a single variable: -be_13*a_12_13 + ga_13*a_32_13 - a_32_13*b_12_13\n",
      "This relation cannot be solved for a single variable: al_13*ga_31*a_32_13 + al_31*be_13*a_32_13 + al_13*a_12_13*b_12_13 + al_13*al_31*d_312_13 - ep_13*a_12_13 + b_32_13*d_312_13 + a_12_13*e_12_13\n",
      "This relation cannot be solved for a single variable: -al_13^2*al_31^2*a_32_13 - 3*al_13*al_31*ga_13*a_12_13 - al_13^2*be_31*a_12_13 - ga_31*be_13*a_12_13 + 1/3*al_13*EP_11_13*a_12_13 + be_13*be_31*a_32_13 + 4/3*al_13*EP_11_13*a_32_13 + al_13*ep_31*a_32_13 - al_13*EP_33_13*a_32_13 + ga_13*a_12_13*b_12_13 - a_12_13*b_12_13^2 + al_31*ga_13*d_312_13 + al_13*ga_31*d_312_13 - al_31*b_12_13*d_312_13 - al_13*b_32_13*d_312_13 - al_13*a_12_13*e_12_13 - 2/3*EP_11_13*d_312_13\n",
      "This relation cannot be solved for a single variable: al_13*ga_31*a_12_13*b_12_13 + al_31*be_13*a_12_13*b_12_13 + al_13*al_31*ga_31*d_312_13 + al_31^2*be_13*d_312_13 + 1/3*ga_13*EP_11_13*a_12_13 - 1/3*EP_11_13*a_12_13*b_12_13 + ga_13*ga_31*d_312_13 - ga_31*b_12_13*d_312_13 - ga_13*b_32_13*d_312_13 + b_12_13*b_32_13*d_312_13 - ga_13*a_12_13*e_12_13 + a_12_13*b_12_13*e_12_13 - d_312_13*PI_33_13\n",
      "\n",
      "Some relations\n",
      "Adding relations of the form: r_13_12 = al_12*a_23_12\n",
      "Adding relations of the form: s_113_12 = al_12*al_21*a_23_12 + a_13_12*b_13_12\n",
      "This relation cannot be solved for a single variable: al_12*ga_21*a_23_12 - al_12*a_23_12*b_23_12 - 2*a_13_12*e_13_12 - al_21*s_213_12\n",
      "Adding relations of the form: hhsc_13_12 = al_12*EP_11_12*a_23_12 - al_12*a_23_12*e_13_12 + 1/2*pi_1_12*a_13_12 - EP_11_12*r_13_12 - ga_21*s_213_12 - 1/2*a_13_12*PI_11_12\n",
      "\n",
      "Some relations\n",
      "This relation cannot be solved for a single variable: -al_12^2*a_13_12 - al_12*al_21*a_23_12 + be_12*a_23_12 - a_13_12*b_13_12\n",
      "This relation cannot be solved for a single variable: -al_12^2*al_21*a_23_12 - 2*al_12*ga_12*a_13_12 - al_12*a_13_12*b_13_12 + ep_12*a_23_12 - a_23_12*e_13_12\n",
      "This relation cannot be solved for a single variable: -2*al_12^2*ga_21*a_13_12 - 2*al_12*al_21*be_12*a_13_12 + 2*al_12*al_21*ga_12*a_23_12 + al_12*al_21*ga_21*a_23_12 + al_12*al_21*be_12*a_23_12 + al_12^2*be_21*a_23_12 - ga_12^2*a_13_12 + ga_21*be_12*a_23_12 - ga_12*a_13_12*b_13_12 + ga_21*a_13_12*b_13_12 + be_12*a_13_12*b_13_12 - 1/2*pi_1_12*a_13_12 + 1/2*a_13_12*PI_11_12\n",
      "This relation cannot be solved for a single variable: 2*al_12^3*al_21^2*a_13_12 - al_12^2*al_21*ga_21*a_23_12 - al_12*al_21^2*be_12*a_23_12 - 2*al_12*ga_12*ga_21*a_13_12 - 2*al_21*ga_12*be_12*a_13_12 - 2*al_12*be_12*be_21*a_13_12 - 8/3*al_12^2*EP_11_12*a_13_12 - 2*al_12^2*ep_21*a_13_12 + 2*al_12^2*EP_22_12*a_13_12 + al_12*ga_21*be_12*a_23_12 - 2/3*al_12*al_21*EP_11_12*a_23_12 + al_12*al_21*ep_12*a_23_12 - al_12*ga_21*a_13_12*b_13_12 - al_21*be_12*a_13_12*b_13_12 - al_12*be_12*a_23_12*b_23_12 - al_12*al_21*a_23_12*e_13_12 + 1/3*be_12*EP_11_12*a_13_12 - 2/3*EP_11_12*a_13_12*b_13_12 + ep_12*a_13_12*b_13_12 - be_12*a_13_12*e_13_12 - a_13_12*b_13_12*e_13_12\n",
      "\n",
      "Some relations\n",
      "This relation cannot be solved for a single variable: al_12*al_21*ga_21*a_23_12 - al_12*al_21*a_23_12*b_13_12 - al_12*al_21*a_23_12*b_23_12 + ga_21*a_13_12*b_13_12 - 2*a_13_12*b_13_12^2 - a_13_12*b_13_12*b_23_12 - 1/2*pi_1_12*a_13_12 + 1/2*a_13_12*PI_11_12\n"
     ]
    }
   ],
   "source": [
    "find_rels_by_expansion(HH(\"1\",\"2\",\"3\",\"4\"),\"1\")\n",
    "print\n",
    "find_rels_by_expansion(HH(\"1\",\"2\",\"3\",\"4\"),\"2\")\n",
    "print\n",
    "find_rels_by_expansion(HH(\"1\",\"2\",\"3\",\"4\"),\"3\")\n",
    "print\n",
    "find_rels_by_expansion(HH(\"1\",\"2\",\"3\",\"4\"),\"4\")\n",
    "print\n",
    "find_rels_by_expansion(fH(\"1\",\"2\",\"3\"),\"1\")\n",
    "print\n",
    "find_rels_by_expansion(fH(\"1\",\"2\",\"3\"),\"2\")\n",
    "print\n",
    "find_rels_by_expansion(fH(\"1\",\"2\",\"3\"),\"3\")\n",
    "print\n",
    "find_rels_by_expansion(hH(\"1\",\"2\",\"3\"),\"1\")\n",
    "print\n",
    "find_rels_by_expansion(hH(\"1\",\"2\",\"3\"),\"2\")\n",
    "print\n",
    "find_rels_by_expansion(hH(\"1\",\"2\",\"3\"),\"3\")"
   ]
  },
  {
   "cell_type": "code",
   "execution_count": 267,
   "metadata": {
    "collapsed": false
   },
   "outputs": [
    {
     "name": "stdout",
     "output_type": "stream",
     "text": [
      "f_1_12*H_3_12 f_1_12*H_3_12\n",
      "\n",
      "h_1_12*H_3_12 h_1_12*H_3_12\n",
      "\n",
      "f_2_12*H_3_12 f_2_12*H_3_12\n",
      "\n",
      "h_2_12*H_3_12 h_2_12*H_3_12\n",
      "\n",
      "H_3_12*H_4_12 H_3_12*H_4_12\n",
      "\n",
      "f_1_12*H_4_12 f_1_12*H_4_12\n",
      "\n",
      "h_1_12*H_4_12 h_1_12*H_4_12\n",
      "\n",
      "f_2_12*H_4_12 f_2_12*H_4_12\n",
      "\n",
      "h_2_12*H_4_12 h_2_12*H_4_12\n",
      "\n",
      "H_3_12*H_4_12 H_3_12*H_4_12\n",
      "\n",
      "f_1_12*f_2_12 f_1_12*f_2_12\n",
      "\n",
      "h_1_12*h_2_12 h_1_12*h_2_12\n",
      "\n",
      "h_1_12^2 h_1_12^2\n",
      "\n",
      "f_1_12*h_2_12 f_1_12*h_2_12\n",
      "\n",
      "h_2_12^2 h_2_12^2\n",
      "\n",
      "f_2_12*h_1_12 f_2_12*h_1_12\n",
      "\n",
      "f_1_13*H_2_13 f_1_13*H_2_13\n",
      "\n",
      "h_1_13*H_2_13 h_1_13*H_2_13\n",
      "\n",
      "f_3_13*H_2_13 f_3_13*H_2_13\n",
      "\n",
      "h_3_13*H_2_13 h_3_13*H_2_13\n",
      "\n",
      "H_2_13*H_4_13 H_2_13*H_4_13\n",
      "\n",
      "f_1_13*H_4_13 f_1_13*H_4_13\n",
      "\n",
      "h_1_13*H_4_13 h_1_13*H_4_13\n",
      "\n",
      "f_3_13*H_4_13 f_3_13*H_4_13\n",
      "\n",
      "h_3_13*H_4_13 h_3_13*H_4_13\n",
      "\n",
      "H_2_13*H_4_13 H_2_13*H_4_13\n",
      "\n",
      "f_1_13*f_3_13 f_1_13*f_3_13\n",
      "\n",
      "h_1_13*h_3_13 h_1_13*h_3_13\n",
      "\n",
      "h_1_13^2 h_1_13^2\n",
      "\n",
      "f_1_13*h_3_13 f_1_13*h_3_13\n",
      "\n",
      "h_3_13^2 h_3_13^2\n",
      "\n",
      "f_3_13*h_1_13 f_3_13*h_1_13\n",
      "\n",
      "f_1_14*H_2_14 f_1_14*H_2_14\n",
      "\n",
      "h_1_14*H_2_14 h_1_14*H_2_14\n",
      "\n",
      "f_4_14*H_2_14 f_4_14*H_2_14\n",
      "\n",
      "h_4_14*H_2_14 h_4_14*H_2_14\n",
      "\n",
      "H_2_14*H_3_14 H_2_14*H_3_14\n",
      "\n",
      "f_1_14*H_3_14 f_1_14*H_3_14\n",
      "\n",
      "h_1_14*H_3_14 h_1_14*H_3_14\n",
      "\n",
      "f_4_14*H_3_14 f_4_14*H_3_14\n",
      "\n",
      "h_4_14*H_3_14 h_4_14*H_3_14\n",
      "\n",
      "H_2_14*H_3_14 H_2_14*H_3_14\n",
      "\n",
      "f_1_14*f_4_14 f_1_14*f_4_14\n",
      "\n",
      "h_1_14*h_4_14 h_1_14*h_4_14\n",
      "\n",
      "h_1_14^2 h_1_14^2\n",
      "\n",
      "f_1_14*h_4_14 f_1_14*h_4_14\n",
      "\n",
      "h_4_14^2 h_4_14^2\n",
      "\n",
      "f_4_14*h_1_14 f_4_14*h_1_14\n",
      "\n",
      "f_3_23*H_1_23 f_3_23*H_1_23\n",
      "\n",
      "h_3_23*H_1_23 h_3_23*H_1_23\n",
      "\n",
      "f_2_23*H_1_23 f_2_23*H_1_23\n",
      "\n",
      "h_2_23*H_1_23 h_2_23*H_1_23\n",
      "\n",
      "H_1_23*H_4_23 H_1_23*H_4_23\n",
      "\n",
      "f_3_23*H_4_23 f_3_23*H_4_23\n",
      "\n",
      "h_3_23*H_4_23 h_3_23*H_4_23\n",
      "\n",
      "f_2_23*H_4_23 f_2_23*H_4_23\n",
      "\n",
      "h_2_23*H_4_23 h_2_23*H_4_23\n",
      "\n",
      "H_1_23*H_4_23 H_1_23*H_4_23\n",
      "\n",
      "f_2_23*f_3_23 f_2_23*f_3_23\n",
      "\n",
      "h_2_23*h_3_23 h_2_23*h_3_23\n",
      "\n",
      "h_3_23^2 h_3_23^2\n",
      "\n",
      "f_3_23*h_2_23 f_3_23*h_2_23\n",
      "\n",
      "h_2_23^2 h_2_23^2\n",
      "\n",
      "f_2_23*h_3_23 f_2_23*h_3_23\n",
      "\n",
      "f_2_24*H_1_24 f_2_24*H_1_24\n",
      "\n",
      "h_2_24*H_1_24 h_2_24*H_1_24\n",
      "\n",
      "f_4_24*H_1_24 f_4_24*H_1_24\n",
      "\n",
      "h_4_24*H_1_24 h_4_24*H_1_24\n",
      "\n",
      "H_1_24*H_3_24 H_1_24*H_3_24\n",
      "\n",
      "f_2_24*H_3_24 f_2_24*H_3_24\n",
      "\n",
      "h_2_24*H_3_24 h_2_24*H_3_24\n",
      "\n",
      "f_4_24*H_3_24 f_4_24*H_3_24\n",
      "\n",
      "h_4_24*H_3_24 h_4_24*H_3_24\n",
      "\n",
      "H_1_24*H_3_24 H_1_24*H_3_24\n",
      "\n",
      "f_2_24*f_4_24 f_2_24*f_4_24\n",
      "\n",
      "h_2_24*h_4_24 h_2_24*h_4_24\n",
      "\n",
      "h_2_24^2 h_2_24^2\n",
      "\n",
      "f_2_24*h_4_24 f_2_24*h_4_24\n",
      "\n",
      "h_4_24^2 h_4_24^2\n",
      "\n",
      "f_4_24*h_2_24 f_4_24*h_2_24\n",
      "\n",
      "f_3_34*H_1_34 f_3_34*H_1_34\n",
      "\n",
      "h_3_34*H_1_34 h_3_34*H_1_34\n",
      "\n",
      "f_4_34*H_1_34 f_4_34*H_1_34\n",
      "\n",
      "h_4_34*H_1_34 h_4_34*H_1_34\n",
      "\n",
      "H_1_34*H_2_34 H_1_34*H_2_34\n",
      "\n",
      "f_3_34*H_2_34 f_3_34*H_2_34\n",
      "\n",
      "h_3_34*H_2_34 h_3_34*H_2_34\n",
      "\n",
      "f_4_34*H_2_34 f_4_34*H_2_34\n",
      "\n",
      "h_4_34*H_2_34 h_4_34*H_2_34\n",
      "\n",
      "H_1_34*H_2_34 H_1_34*H_2_34\n",
      "\n",
      "f_3_34*f_4_34 f_3_34*f_4_34\n",
      "\n",
      "h_3_34*h_4_34 h_3_34*h_4_34\n",
      "\n",
      "h_3_34^2 h_3_34^2\n",
      "\n",
      "f_3_34*h_4_34 f_3_34*h_4_34\n",
      "\n",
      "h_4_34^2 h_4_34^2\n",
      "\n",
      "f_4_34*h_3_34 f_4_34*h_3_34\n",
      "\n"
     ]
    }
   ],
   "source": [
    "load(\"buch.sage\")\n",
    "for lm, func, args in lms:\n",
    "    print lm, func(*args)[0]\n",
    "    print"
   ]
  },
  {
   "cell_type": "code",
   "execution_count": null,
   "metadata": {
    "collapsed": true
   },
   "outputs": [],
   "source": []
  },
  {
   "cell_type": "code",
   "execution_count": 242,
   "metadata": {
    "collapsed": true
   },
   "outputs": [],
   "source": [
    "load(\"transition.sage\")"
   ]
  },
  {
   "cell_type": "code",
   "execution_count": 243,
   "metadata": {
    "collapsed": false
   },
   "outputs": [
    {
     "name": "stdout",
     "output_type": "stream",
     "text": [
      "M:\n",
      "(1, 0, 0)\n",
      "(al_12, a_23_12, 0)\n",
      "(0, 1, 0)\n",
      "(ga_12, al_12*a_23_12, 1)\n",
      "b:\n",
      "(1, 0, al_13, b_12_13)\n",
      "reduced:\n",
      "(1, 0, 0, 1)\n",
      "(0, 1, 0, al_13)\n",
      "(0, 0, 1, -al_12*al_13*a_23_12 - ga_12 + b_12_13)\n",
      "(0, 0, 0, -al_13*a_23_12 - al_12)\n",
      "new M:\n",
      "(1, 0, 0, 1)\n",
      "(0, 1, 0, al_13)\n",
      "(0, 0, 1, al_12^2 - ga_12 + b_12_13)\n",
      "(0, 0, 0, -al_13*a_23_12 - al_12)\n"
     ]
    }
   ],
   "source": [
    "M=transition([\"f_1_12\",\"H_3_12\",\"1\"],\n",
    "          \"f_1_13\",\n",
    "          [(\"1\",-2),(\"2\",-1),(\"3\",-1),(\"2\",0)]);\n",
    "\n",
    "newM = copy(M)\n",
    "newM.add_multiple_of_row(2,3,ry(\"-al_12\"))\n",
    "print \"new M:\"\n",
    "for row in newM:\n",
    "    print row\n",
    "    \n",
    "f_1_13_12 = ry(\"f_1_12 + al_13*H_3_12 + al_12^2 - ga_12 + b_12_13\")"
   ]
  },
  {
   "cell_type": "code",
   "execution_count": 254,
   "metadata": {
    "collapsed": false
   },
   "outputs": [
    {
     "name": "stdout",
     "output_type": "stream",
     "text": [
      "M:\n",
      "(1, 0, 0, 0)\n",
      "(0, 0, 1, 0)\n",
      "(be_12, al_12, a_23_12, 0)\n",
      "(ep_12, ga_12, al_12*a_23_12, 1)\n",
      "b:\n",
      "(1, be_13, 0, e_12_13)\n",
      "reduced:\n",
      "(1, 0, 0, 0, 1)\n",
      "(0, 0, 1, 0, be_13)\n",
      "(0, ga_12, 0, 1, -al_12*be_13*a_23_12 - ep_12 + e_12_13)\n",
      "(0, al_12, 0, 0, -be_13*a_23_12 - be_12)\n",
      "Mnew\n",
      "(1, 0, 0, 0, 1)\n",
      "(0, 0, 1, 0, be_13)\n",
      "(0, 0, 0, al_12, -al_12^2*be_13*a_23_12 + ga_12*be_13*a_23_12 + ga_12*be_12 - al_12*ep_12 + al_12*e_12_13)\n",
      "(0, al_12, 0, 0, -be_13*a_23_12 - be_12)\n"
     ]
    }
   ],
   "source": [
    "M=transition([\"h_1_12\",\"f_1_12\",\"H_3_12\",\"1\"],\n",
    "            \"h_1_13\",\n",
    "            [(\"1\",-3),(\"3\",-1),(\"2\",-1),(\"2\",0)]);\n",
    "Mnew = copy(M)\n",
    "Mnew.rescale_row(2, ry(\"al_12\"))\n",
    "Mnew.add_multiple_of_row(2,3,ry(\"-ga_12\"))\n",
    "print \"Mnew\"\n",
    "for row in Mnew.rows():\n",
    "    print row\n",
    "h_1_13_12 = ry(\"h_1_12 + bbb*f_1_12 + be_13*H_3_12 + ccc\")"
   ]
  },
  {
   "cell_type": "code",
   "execution_count": 245,
   "metadata": {
    "collapsed": false
   },
   "outputs": [
    {
     "data": {
      "text/plain": [
       "3*al_13*a_13_12 - 2*bbb"
      ]
     },
     "execution_count": 245,
     "metadata": {},
     "output_type": "execute_result"
    }
   ],
   "source": [
    "expand_at(f_1_13_12^3-h_1_13_12^2,\"1\")[-5]"
   ]
  },
  {
   "cell_type": "code",
   "execution_count": 246,
   "metadata": {
    "collapsed": false
   },
   "outputs": [],
   "source": [
    "h_1_13_12 = ry(\"h_1_12 + 3/2*al_13*a_13_12* f_1_12 + be_13*H_3_12 + ccc\")"
   ]
  },
  {
   "cell_type": "code",
   "execution_count": 247,
   "metadata": {
    "collapsed": false
   },
   "outputs": [
    {
     "name": "stdout",
     "output_type": "stream",
     "text": [
      "Adding relations of the form: b_12_13 = -1/4*al_13^2*a_13_12^2 + 2/3*be_13*a_13_12 + ga_12\n"
     ]
    }
   ],
   "source": [
    "add_rel_to_dict( expand_at(f_1_13_12^3-h_1_13_12^2,\"1\")[-4].subs({ry(\"al_12\"):ry(\"-al_13*a_23_12\")}),U_rel_dict)"
   ]
  },
  {
   "cell_type": "code",
   "execution_count": 251,
   "metadata": {
    "collapsed": false,
    "scrolled": true
   },
   "outputs": [
    {
     "name": "stdout",
     "output_type": "stream",
     "text": [
      "-3/4*al_13^3*a_13_12*a_23_12^2*a_12_13^2 + al_13^3*a_13_12^3 - 3*al_13^2*al_21*a_23_12^2 - 3*al_13*be_13*a_13_12^2 + 2*al_13*be_13*a_23_12^2 + 2*al_13*be_12*a_13_12*a_12_13 - 6*al_13*ga_12*a_13_12 + 3*al_13*ga_13*a_13_12 + 6*al_13*a_13_12*b_12_13 - 2*ccc\n"
     ]
    }
   ],
   "source": [
    "m3coef = expand_at(f_1_13_12^3-h_1_13_12^2,\"1\")[-3].subs({ry(\"al_12\"):ry(\"-al_13*a_23_12\")})\n",
    "print m3coef\n",
    "ccc_solved = m3coef/2 + ry(\"ccc\")\n",
    "h_1_13_12 = ry(\"h_1_12 + 3/2*al_13*a_13_12* f_1_12 + be_13*H_3_12\") + ccc_solved"
   ]
  },
  {
   "cell_type": "code",
   "execution_count": 253,
   "metadata": {
    "collapsed": false
   },
   "outputs": [
    {
     "data": {
      "text/plain": [
       "-3/8*al_13^4*a_13_12^2*a_23_12^2*a_12_13^2 - 3/4*al_13^4*a_23_12^4*a_12_13^2 - 3/2*al_13^4*a_13_12^4 + 1/2*al_13^2*be_13*a_13_12*a_23_12^2*a_12_13^2 - 3/2*al_13^3*al_21*a_13_12*a_23_12^2 + 9/2*al_13^2*be_13*a_13_12^3 + al_13^2*be_12*a_13_12^2*a_12_13 + 2*al_13^2*be_12*a_23_12^2*a_12_13 + 6*al_13^2*ga_12*a_13_12^2 + 3/2*al_13^2*ga_13*a_13_12^2 + 3*al_13^2*ga_13*a_23_12^2 - 3*al_13^2*ga_21*a_23_12^2 + 2*al_13*al_21*be_13*a_23_12^2 - 6*al_13^2*a_13_12^2*b_12_13 - be_13^2*a_13_12^2 - 4/3*be_12*be_13*a_13_12*a_12_13 - 2*ga_13*be_13*a_13_12 - 3*al_13*a_13_12*e_13_12 + 3*ga_12^2 - 6*ga_12*b_12_13 + 3*b_12_13^2 - pi_1_12"
      ]
     },
     "execution_count": 253,
     "metadata": {},
     "output_type": "execute_result"
    }
   ],
   "source": [
    "expand_at(f_1_13_12^3-h_1_13_12^2,\"1\")[-2].subs({ry(\"al_12\"):ry(\"-al_13*a_23_12\")})"
   ]
  },
  {
   "cell_type": "code",
   "execution_count": 181,
   "metadata": {
    "collapsed": false
   },
   "outputs": [
    {
     "data": {
      "text/plain": [
       "(H_1_34*H_2_34,\n",
       " a_31_34*a_32_34*f_3_34 + a_41_34*a_42_34*f_4_34 + c_21_34*H_1_34 + c_12_34*H_2_34 + hshsc_12_34)"
      ]
     },
     "execution_count": 181,
     "metadata": {},
     "output_type": "execute_result"
    }
   ],
   "source": [
    "HH(\"1\",\"2\",\"3\",\"4\")"
   ]
  },
  {
   "cell_type": "code",
   "execution_count": 184,
   "metadata": {
    "collapsed": false
   },
   "outputs": [
    {
     "data": {
      "text/plain": [
       "(f_1_13*H_2_13,\n",
       " d_112_13*f_1_13 + d_312_13*f_3_13 + a_12_13*h_1_13 + b_12_13*H_2_13 + fhsc_12_13)"
      ]
     },
     "execution_count": 184,
     "metadata": {},
     "output_type": "execute_result"
    }
   ],
   "source": [
    "fH(\"1\",\"2\",\"3\")"
   ]
  },
  {
   "cell_type": "code",
   "execution_count": 189,
   "metadata": {
    "collapsed": false
   },
   "outputs": [
    {
     "data": {
      "text/plain": [
       "(h_1_12*H_3_12,\n",
       " a_13_12*f_1_12^2 + s_113_12*f_1_12 + s_213_12*f_2_12 + r_13_12*h_1_12 + e_13_12*H_3_12 + hhsc_13_12)"
      ]
     },
     "execution_count": 189,
     "metadata": {},
     "output_type": "execute_result"
    }
   ],
   "source": [
    "hH(\"1\",\"2\",\"3\")"
   ]
  },
  {
   "cell_type": "code",
   "execution_count": null,
   "metadata": {
    "collapsed": true
   },
   "outputs": [],
   "source": []
  }
 ],
 "metadata": {
  "kernelspec": {
   "display_name": "SageMath 8.0",
   "language": "",
   "name": "sagemath"
  },
  "language_info": {
   "codemirror_mode": {
    "name": "ipython",
    "version": 2
   },
   "file_extension": ".py",
   "mimetype": "text/x-python",
   "name": "python",
   "nbconvert_exporter": "python",
   "pygments_lexer": "ipython2",
   "version": "2.7.13"
  }
 },
 "nbformat": 4,
 "nbformat_minor": 2
}
