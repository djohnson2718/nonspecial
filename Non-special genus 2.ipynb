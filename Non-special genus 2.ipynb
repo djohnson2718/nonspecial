{
 "cells": [
  {
   "cell_type": "code",
   "execution_count": 194,
   "metadata": {
    "collapsed": false
   },
   "outputs": [],
   "source": [
    "g = 2\n",
    "n = 4\n",
    "indexes = [str(i) for i in range(1, n+1)]\n",
    "load(\"genus2_setup.sage\")\n",
    "load(\"manage_rel.sage\")\n",
    "load(\"expansions.sage\")"
   ]
  },
  {
   "cell_type": "code",
   "execution_count": 195,
   "metadata": {
    "collapsed": false,
    "scrolled": false
   },
   "outputs": [
    {
     "name": "stdout",
     "output_type": "stream",
     "text": [
      "Some relations\n",
      "Adding relations of the form: del_21 = -al_21*GA_11_12 + al_21*ga_12 + al_12*be_21\n",
      "Adding relations of the form: A_12 = -ga_12*ga_21 + al_21*DEL_11_12 - al_21*EP_11_12 - al_12*ep_21 + Pi_21\n",
      "This relation cannot be solved for a single variable: GA_11_12*del_21 - ga_12*del_21 - al_21*THETA_11_12 - al_12*theta_21 + al_21*PI_11_12\n",
      "\n",
      "Some relations\n",
      "Adding relations of the form: Pi_12 = al_21*DEL_11_12 - al_12*DEL_22_12 - al_21*EP_11_12 + al_21*ep_12 - al_12*ep_21 + al_12*EP_22_12 + Pi_21\n",
      "This relation cannot be solved for a single variable: -al_12*ga_21^2 + 2*al_12*ga_21*GA_22_12 - al_12*GA_22_12^2 - al_21*ga_21*be_12 + al_21*GA_22_12*be_12 - al_21*theta_12 - al_12*THETA_22_12 + al_12*PI_22_12\n",
      "\n",
      "Some relations\n",
      "Adding relations of the form: t_21 = be_21\n",
      "Adding relations of the form: R_21 = -al_21^2*D_12 + ep_21\n",
      "Adding relations of the form: theta_21 = al_12*al_21*ga_21 - al_12*al_21*GA_22_12 + 2*al_21*ga_21*D_12 + al_21^2*be_12 - GA_11_12*be_21 + v_12*be_21\n",
      "Adding relations of the form: B_12 = 2*al_21^2*GA_11_12*D_12 - 2*al_21^2*ga_12*D_12 - 2*al_12*al_21*D_12*be_21 - al_12*ga_21^2 + al_12*ga_21*GA_22_12 - ga_21^2*D_12 - al_21*ga_21*be_12 - GA_11_12*R_21 + DEL_11_12*be_21 - t_21*EP_11_12 + GA_11_12*ep_21 - v_12*ep_21\n",
      "\n",
      "Some relations\n",
      "Adding relations of the form: D_12 = al_12\n",
      "Adding relations of the form: v_12 = ga_12\n",
      "This relation cannot be solved for a single variable: -2*GA_22_12*D_12\n",
      "Adding relations of the form: Pi_12 = -al_12*al_21^2*D_12 + 2*D_12*DEL_22_12 + be_12*be_21 + al_12*ep_21 - al_12*EP_22_12\n",
      "This relation cannot be solved for a single variable: -3*al_21^2*GA_11_12*D_12 + 3*al_21^2*ga_12*D_12 + 2*al_12*al_21*D_12*be_21 + al_12*ga_21^2 - 2*al_12*ga_21*GA_22_12 + al_12*GA_22_12^2 + ga_21^2*D_12 - GA_22_12^2*D_12 + al_21*ga_21*be_12 - al_21*GA_22_12*be_12 - DEL_11_12*be_21 + be_21*EP_11_12 - be_21*ep_12 - ga_12*ep_21 + v_12*ep_21 + ga_12*EP_22_12 - v_12*EP_22_12 + al_12*THETA_22_12 - 2*D_12*PI_22_12\n",
      "\n",
      "Some relations\n",
      "This relation cannot be solved for a single variable: -2*al_21*GA_11_12\n",
      "This relation cannot be solved for a single variable: 3*al_12^2*al_21*ga_21 - 3*al_12^2*al_21*GA_22_12 + 2*al_12*al_21^2*be_12 - 2*al_21*GA_11_12*ga_12 + 2*al_21*ga_12^2 - al_12*GA_11_12*be_21 + al_12*ga_12*be_21 - DEL_22_12*be_12 - be_12*ep_21 + be_12*EP_22_12 + al_21*THETA_11_12 - 2*al_21*PI_11_12\n",
      "\n",
      "Some relations\n",
      "\n",
      "Some relations\n",
      "Adding relations of the form: psi_21 = 3*al_12*al_21*ga_21 - al_12*al_21*GA_22_12 - 3*GA_11_12*be_21 + ga_12*be_21\n",
      "This relation cannot be solved for a single variable: -2*al_21*ga_21*be_12 - 2*DEL_11_12*be_21 + be_21*EP_11_12 - be_21*ep_12 - al_21*psi_12\n",
      "\n",
      "Some relations\n",
      "This relation cannot be solved for a single variable: -3*al_12^2*al_21*ga_21 + al_12^2*al_21*GA_22_12 + 3*al_12*GA_11_12*be_21 - 3*al_12*ga_12*be_21 - 2*DEL_22_12*be_12 - be_12*ep_21 + be_12*EP_22_12\n",
      "\n",
      "Some relations\n",
      "Adding relations of the form: GA_11_12 = 0\n",
      "Adding relations of the form: DEL_11_12 = 2/3*EP_11_12\n",
      "Adding relations of the form: THETA_11_12 = 3/2*GA_11_12^2 + 1/2*pi_1_12 + 3/2*PI_11_12\n",
      "This relation cannot be solved for a single variable: -6*GA_11_12*DEL_11_12 - be_21*g_12 - al_21*k_12\n",
      "\n",
      "Some relations\n",
      "Adding relations of the form: g_12 = -al_12^3\n",
      "Adding relations of the form: k_12 = -3*al_12^2*ga_12 + be_12^2\n",
      "This relation cannot be solved for a single variable: -3*al_12^3*ga_21 - 3*al_12^2*al_21*be_12 - 3*al_12*ga_12^2 + 2*be_12*ep_12 - al_12*pi_1_12\n",
      "Adding relations of the form: S_1_12 = 3*al_12^4*al_21^2 - 6*al_12^2*ga_12*ga_21 - al_12^2*be_12*be_21 - 4*al_12^3*EP_11_12 - 3*al_12^3*ep_21 + 3*al_12^3*EP_22_12 - ga_12^3 + 2*ga_21*be_12^2 + ep_12^2 - EP_22_12*g_12 - ga_12*pi_1_12\n",
      "This relation cannot be solved for a single variable: 6*al_12^3*al_21^2*ga_12 - 3*al_12^3*ga_21^2 - 6*al_12^2*al_21*ga_21*be_12 - 3*al_12*al_21^2*be_12^2 - 3*al_12*ga_12^2*ga_21 - 3*al_21*ga_12^2*be_12 - 6*al_12*ga_12*be_12*be_21 - 8*al_12^2*ga_12*EP_11_12 + 6*al_12*al_21*ga_12*ep_12 + 2*al_12^2*be_21*ep_12 - 6*al_12^2*ga_12*ep_21 + 6*al_12^2*ga_12*EP_22_12 + 2*ga_21*be_12*ep_12 - al_12*ga_21*pi_1_12 - al_21*be_12*pi_1_12 - 1/2*g_12*pi_1_12 - 2/3*EP_11_12*k_12 - 3/2*g_12*PI_11_12\n",
      "\n"
     ]
    }
   ],
   "source": [
    "find_rels_by_expansion(ff(\"1\",\"2\"),\"1\")\n",
    "print\n",
    "find_rels_by_expansion(ff(\"1\",\"2\"),\"2\")\n",
    "print\n",
    "find_rels_by_expansion(fh(\"1\",\"2\"),\"1\")\n",
    "print\n",
    "find_rels_by_expansion(fh(\"1\",\"2\"),\"2\")\n",
    "print\n",
    "find_rels_by_expansion(fh(\"2\",\"1\"),\"1\")\n",
    "print\n",
    "find_rels_by_expansion(fh(\"2\",\"1\"),\"2\")\n",
    "print\n",
    "find_rels_by_expansion(hh(\"1\",\"2\"),\"1\")\n",
    "print\n",
    "find_rels_by_expansion(hh(\"1\",\"2\"),\"2\")\n",
    "print\n",
    "find_rels_by_expansion(h2(\"1\",\"2\"),\"1\")\n",
    "print\n",
    "find_rels_by_expansion(h2(\"1\",\"2\"),\"2\")\n",
    "print"
   ]
  },
  {
   "cell_type": "code",
   "execution_count": 196,
   "metadata": {
    "collapsed": false
   },
   "outputs": [
    {
     "name": "stdout",
     "output_type": "stream",
     "text": [
      "Some relations\n",
      "Adding relations of the form: hshsc_12_34 = -a_31_34*a_32_34*b_31_34 - a_41_34*a_42_34*b_41_34 - c_12_34*c_21_34\n",
      "\n",
      "Some relations\n",
      "This relation cannot be solved for a single variable: a_31_34*a_32_34*b_31_34 - a_31_34*a_32_34*b_32_34 + a_41_34*a_42_34*b_41_34 - a_41_34*a_42_34*b_42_34\n",
      "\n",
      "Some relations\n",
      "This relation cannot be solved for a single variable: -al_43*a_41_34*a_42_34 - c_21_34*a_31_34 - c_12_34*a_32_34 + a_32_34*ac_31_34 + a_31_34*ac_32_34\n",
      "This relation cannot be solved for a single variable: -ga_43*a_41_34*a_42_34 + a_31_34*a_32_34*b_31_34 + a_41_34*a_42_34*b_41_34 + c_12_34*c_21_34 - c_21_34*ac_31_34 - c_12_34*ac_32_34 + ac_31_34*ac_32_34 + a_32_34*alin_31_34 + a_31_34*alin_32_34\n",
      "This relation cannot be solved for a single variable: -al_43*ga_34*a_41_34*a_42_34 - al_34*be_43*a_41_34*a_42_34 - 2/3*EP_33_34*a_31_34*a_32_34 - c_21_34*alin_31_34 + ac_32_34*alin_31_34 - c_12_34*alin_32_34 + ac_31_34*alin_32_34 + a_32_34*asq_31_34 + a_31_34*asq_32_34\n",
      "This relation cannot be solved for a single variable: al_34^2*al_43^2*a_41_34*a_42_34 - be_34*be_43*a_41_34*a_42_34 + al_43*EP_33_34*a_41_34*a_42_34 - al_43*ep_34*a_41_34*a_42_34 - 4/3*al_43*EP_44_34*a_41_34*a_42_34 - a_31_34*a_32_34*PI_33_34 + alin_31_34*alin_32_34 - c_21_34*asq_31_34 + ac_32_34*asq_31_34 - c_12_34*asq_32_34 + ac_31_34*asq_32_34\n",
      "\n",
      "Some relations\n",
      "This relation cannot be solved for a single variable: -al_34*a_31_34*a_32_34 - c_21_34*a_41_34 - c_12_34*a_42_34 + a_42_34*ac_41_34 + a_41_34*ac_42_34\n",
      "This relation cannot be solved for a single variable: -ga_34*a_31_34*a_32_34 + a_31_34*a_32_34*b_31_34 + a_41_34*a_42_34*b_41_34 + c_12_34*c_21_34 - c_21_34*ac_41_34 - c_12_34*ac_42_34 + ac_41_34*ac_42_34 + a_42_34*alin_41_34 + a_41_34*alin_42_34\n",
      "This relation cannot be solved for a single variable: -al_34*ga_43*a_31_34*a_32_34 - al_43*be_34*a_31_34*a_32_34 - 2/3*EP_33_34*a_41_34*a_42_34 - c_21_34*alin_41_34 + ac_42_34*alin_41_34 - c_12_34*alin_42_34 + ac_41_34*alin_42_34 + a_42_34*asq_41_34 + a_41_34*asq_42_34\n",
      "This relation cannot be solved for a single variable: al_34^2*al_43^2*a_31_34*a_32_34 - be_34*be_43*a_31_34*a_32_34 - 4/3*al_34*EP_33_34*a_31_34*a_32_34 - al_34*ep_43*a_31_34*a_32_34 + al_34*EP_44_34*a_31_34*a_32_34 - a_41_34*a_42_34*PI_44_34 + alin_41_34*alin_42_34 - c_21_34*asq_41_34 + ac_42_34*asq_41_34 - c_12_34*asq_42_34 + ac_41_34*asq_42_34\n",
      "\n",
      "Some relations\n",
      "Adding relations of the form: ac_12_13 = d_112_13\n",
      "Adding relations of the form: alin_12_13 = a_12_13*b_12_13 + al_31*d_312_13\n",
      "Adding relations of the form: asq_12_13 = 1/3*EP_11_13*a_12_13 + ac_12_13*b_12_13 + ga_31*d_312_13 + fhsc_12_13\n",
      "This relation cannot be solved for a single variable: -al_31*ga_13*d_312_13 - al_13*be_31*d_312_13 - 1/2*pi_1_13*a_12_13 + 2/3*EP_11_13*ac_12_13 - alin_12_13*b_12_13 - 2/3*EP_11_13*d_112_13 - 1/2*a_12_13*PI_11_13\n",
      "\n",
      "Some relations\n",
      "Adding relations of the form: fhsc_12_13 = -b_12_13*d_112_13 - b_32_13*d_312_13 - a_12_13*e_12_13\n",
      "\n",
      "Some relations\n",
      "Adding relations of the form: d_312_13 = al_13*a_32_13\n",
      "This relation cannot be solved for a single variable: -be_13*a_12_13 + ga_13*a_32_13 - a_32_13*b_12_13\n",
      "This relation cannot be solved for a single variable: al_13*ga_31*a_32_13 + al_31*be_13*a_32_13 + al_13*a_12_13*b_12_13 + al_13*al_31*d_312_13 - ep_13*a_12_13 + b_32_13*d_312_13 + a_12_13*e_12_13\n",
      "This relation cannot be solved for a single variable: -al_13^2*al_31^2*a_32_13 - 3*al_13*al_31*ga_13*a_12_13 - al_13^2*be_31*a_12_13 - ga_31*be_13*a_12_13 + 1/3*al_13*EP_11_13*a_12_13 + be_13*be_31*a_32_13 + 4/3*al_13*EP_11_13*a_32_13 + al_13*ep_31*a_32_13 - al_13*EP_33_13*a_32_13 + ga_13*a_12_13*b_12_13 - a_12_13*b_12_13^2 + al_31*ga_13*d_312_13 + al_13*ga_31*d_312_13 - al_31*b_12_13*d_312_13 - al_13*b_32_13*d_312_13 - al_13*a_12_13*e_12_13 - 2/3*EP_11_13*d_312_13\n",
      "This relation cannot be solved for a single variable: al_13*ga_31*a_12_13*b_12_13 + al_31*be_13*a_12_13*b_12_13 + al_13*al_31*ga_31*d_312_13 + al_31^2*be_13*d_312_13 + 1/3*ga_13*EP_11_13*a_12_13 - 1/3*EP_11_13*a_12_13*b_12_13 + ga_13*ga_31*d_312_13 - ga_31*b_12_13*d_312_13 - ga_13*b_32_13*d_312_13 + b_12_13*b_32_13*d_312_13 - ga_13*a_12_13*e_12_13 + a_12_13*b_12_13*e_12_13 - d_312_13*PI_33_13\n",
      "\n",
      "Some relations\n",
      "Adding relations of the form: r_13_12 = al_12*a_23_12\n",
      "Adding relations of the form: s_113_12 = al_12*al_21*a_23_12 + a_13_12*b_13_12\n",
      "This relation cannot be solved for a single variable: al_12*ga_21*a_23_12 - al_12*a_23_12*b_23_12 - 2*a_13_12*e_13_12 - al_21*s_213_12\n",
      "Adding relations of the form: hhsc_13_12 = al_12*EP_11_12*a_23_12 - al_12*a_23_12*e_13_12 + 1/2*pi_1_12*a_13_12 - EP_11_12*r_13_12 - ga_21*s_213_12 - 1/2*a_13_12*PI_11_12\n",
      "\n",
      "Some relations\n",
      "This relation cannot be solved for a single variable: -al_12^2*a_13_12 - al_12*al_21*a_23_12 + be_12*a_23_12 - a_13_12*b_13_12\n",
      "This relation cannot be solved for a single variable: -al_12^2*al_21*a_23_12 - 2*al_12*ga_12*a_13_12 - al_12*a_13_12*b_13_12 + ep_12*a_23_12 - a_23_12*e_13_12\n",
      "This relation cannot be solved for a single variable: -2*al_12^2*ga_21*a_13_12 - 2*al_12*al_21*be_12*a_13_12 + 2*al_12*al_21*ga_12*a_23_12 + al_12*al_21*ga_21*a_23_12 + al_12*al_21*be_12*a_23_12 + al_12^2*be_21*a_23_12 - ga_12^2*a_13_12 + ga_21*be_12*a_23_12 - ga_12*a_13_12*b_13_12 + ga_21*a_13_12*b_13_12 + be_12*a_13_12*b_13_12 - 1/2*pi_1_12*a_13_12 + 1/2*a_13_12*PI_11_12\n",
      "This relation cannot be solved for a single variable: 2*al_12^3*al_21^2*a_13_12 - al_12^2*al_21*ga_21*a_23_12 - al_12*al_21^2*be_12*a_23_12 - 2*al_12*ga_12*ga_21*a_13_12 - 2*al_21*ga_12*be_12*a_13_12 - 2*al_12*be_12*be_21*a_13_12 - 8/3*al_12^2*EP_11_12*a_13_12 - 2*al_12^2*ep_21*a_13_12 + 2*al_12^2*EP_22_12*a_13_12 + al_12*ga_21*be_12*a_23_12 - 2/3*al_12*al_21*EP_11_12*a_23_12 + al_12*al_21*ep_12*a_23_12 - al_12*ga_21*a_13_12*b_13_12 - al_21*be_12*a_13_12*b_13_12 - al_12*be_12*a_23_12*b_23_12 - al_12*al_21*a_23_12*e_13_12 + 1/3*be_12*EP_11_12*a_13_12 - 2/3*EP_11_12*a_13_12*b_13_12 + ep_12*a_13_12*b_13_12 - be_12*a_13_12*e_13_12 - a_13_12*b_13_12*e_13_12\n",
      "\n",
      "Some relations\n",
      "This relation cannot be solved for a single variable: al_12*al_21*ga_21*a_23_12 - al_12*al_21*a_23_12*b_13_12 - al_12*al_21*a_23_12*b_23_12 + ga_21*a_13_12*b_13_12 - 2*a_13_12*b_13_12^2 - a_13_12*b_13_12*b_23_12 - 1/2*pi_1_12*a_13_12 + 1/2*a_13_12*PI_11_12\n"
     ]
    }
   ],
   "source": [
    "find_rels_by_expansion(HH(\"1\",\"2\",\"3\",\"4\"),\"1\")\n",
    "print\n",
    "find_rels_by_expansion(HH(\"1\",\"2\",\"3\",\"4\"),\"2\")\n",
    "print\n",
    "find_rels_by_expansion(HH(\"1\",\"2\",\"3\",\"4\"),\"3\")\n",
    "print\n",
    "find_rels_by_expansion(HH(\"1\",\"2\",\"3\",\"4\"),\"4\")\n",
    "print\n",
    "find_rels_by_expansion(fH(\"1\",\"2\",\"3\"),\"1\")\n",
    "print\n",
    "find_rels_by_expansion(fH(\"1\",\"2\",\"3\"),\"2\")\n",
    "print\n",
    "find_rels_by_expansion(fH(\"1\",\"2\",\"3\"),\"3\")\n",
    "print\n",
    "find_rels_by_expansion(hH(\"1\",\"2\",\"3\"),\"1\")\n",
    "print\n",
    "find_rels_by_expansion(hH(\"1\",\"2\",\"3\"),\"2\")\n",
    "print\n",
    "find_rels_by_expansion(hH(\"1\",\"2\",\"3\"),\"3\")"
   ]
  },
  {
   "cell_type": "code",
   "execution_count": 197,
   "metadata": {
    "collapsed": true
   },
   "outputs": [],
   "source": [
    "load(\"transition.sage\")"
   ]
  },
  {
   "cell_type": "code",
   "execution_count": 209,
   "metadata": {
    "collapsed": false
   },
   "outputs": [
    {
     "name": "stdout",
     "output_type": "stream",
     "text": [
      "(1, 0, 0, 1)\n",
      "(0, 1, 0, al_13)\n",
      "(0, 0, 1, -al_12*al_13*a_23_12 - ga_12 + b_12_13)\n",
      "(0, 0, 0, -al_13*a_23_12 - al_12)\n"
     ]
    }
   ],
   "source": [
    "M=transition([\"f_1_12\",\"H_3_12\",\"1\"],\n",
    "          \"f_1_13\",\n",
    "          [(\"1\",-2),(\"2\",-1),(\"3\",-1),(\"2\",0)]);\n",
    "f_1_13_12 = ry(\"f_1_12 + al_13*H_3_12 - al_12*al_13*a_23_12 - ga_12 + b_12_13\")"
   ]
  },
  {
   "cell_type": "code",
   "execution_count": 210,
   "metadata": {
    "collapsed": false
   },
   "outputs": [
    {
     "name": "stdout",
     "output_type": "stream",
     "text": [
      "(1, 0, 0, 0, 1)\n",
      "(0, 0, 1, 0, be_13)\n",
      "(0, ga_12, 0, 1, -al_12*be_13*a_23_12 - ep_12 + e_12_13)\n",
      "(0, al_12, 0, 0, -be_13*a_23_12 - be_12)\n"
     ]
    }
   ],
   "source": [
    "M=transition([\"h_1_12\",\"f_1_12\",\"H_3_12\",\"1\"],\n",
    "            \"h_1_13\",\n",
    "            [(\"1\",-3),(\"3\",-1),(\"2\",-1),(\"2\",0)]);\n",
    "h_1_13_12 = ry(\"h_1_12 + bbb*f_1_12 + be_13*H_3_12 + ccc\")"
   ]
  },
  {
   "cell_type": "code",
   "execution_count": 211,
   "metadata": {
    "collapsed": false
   },
   "outputs": [
    {
     "data": {
      "text/plain": [
       "3*al_13*a_13_12 - 2*bbb"
      ]
     },
     "execution_count": 211,
     "metadata": {},
     "output_type": "execute_result"
    }
   ],
   "source": [
    "expand_at(f_1_13_12^3-h_1_13_12^2,\"1\")[-5]"
   ]
  },
  {
   "cell_type": "code",
   "execution_count": 212,
   "metadata": {
    "collapsed": false
   },
   "outputs": [],
   "source": [
    "h_1_13_12 = ry(\"h_1_12 + 3/2*al_13*a_13_12* f_1_12 + be_13*H_3_12 + ccc\")"
   ]
  },
  {
   "cell_type": "code",
   "execution_count": 213,
   "metadata": {
    "collapsed": false
   },
   "outputs": [
    {
     "data": {
      "text/plain": [
       "3/4*al_13^2*a_13_12^2 - 2*be_13*a_13_12 - 3*ga_12 + 3*b_12_13"
      ]
     },
     "execution_count": 213,
     "metadata": {},
     "output_type": "execute_result"
    }
   ],
   "source": [
    "expand_at(f_1_13_12^3-h_1_13_12^2,\"1\")[-4]"
   ]
  },
  {
   "cell_type": "code",
   "execution_count": 214,
   "metadata": {
    "collapsed": false
   },
   "outputs": [
    {
     "data": {
      "text/plain": [
       "al_13^3*a_13_12^3 - 3*al_13*be_13*a_13_12^2 + 3*al_12*al_13*al_21*a_23_12 - 6*al_13*ga_12*a_13_12 - 2*al_12*be_13*a_23_12 + 3*al_13*a_13_12*b_13_12 + 6*al_13*a_13_12*b_12_13 - 2*ccc"
      ]
     },
     "execution_count": 214,
     "metadata": {},
     "output_type": "execute_result"
    }
   ],
   "source": [
    "expand_at(f_1_13_12^3-h_1_13_12^2,\"1\")[-3]"
   ]
  },
  {
   "cell_type": "code",
   "execution_count": 215,
   "metadata": {
    "collapsed": false
   },
   "outputs": [
    {
     "data": {
      "text/plain": [
       "6*al_12*al_13^2*al_21*a_13_12*a_23_12 - 3*al_13^2*ga_12*a_13_12^2 - 3*al_12*al_13*be_13*a_13_12*a_23_12 + 6*al_13^2*a_13_12^2*b_13_12 + 3*al_13^2*a_13_12^2*b_12_13 - be_13^2*a_13_12^2 + 3*al_12*al_13*ga_21*a_23_12 - 2*al_12*al_21*be_13*a_23_12 - 3*al_12*al_13*a_23_12*b_23_12 - 2*be_13*a_13_12*b_13_12 - 3*al_13*a_13_12*e_13_12 - 3*al_13*a_13_12*ccc + 3*ga_12^2 - 6*ga_12*b_12_13 + 3*b_12_13^2 - pi_1_12"
      ]
     },
     "execution_count": 215,
     "metadata": {},
     "output_type": "execute_result"
    }
   ],
   "source": [
    "expand_at(f_1_13_12^3-h_1_13_12^2,\"1\")[-2]"
   ]
  },
  {
   "cell_type": "code",
   "execution_count": 181,
   "metadata": {
    "collapsed": false
   },
   "outputs": [
    {
     "data": {
      "text/plain": [
       "(H_1_34*H_2_34,\n",
       " a_31_34*a_32_34*f_3_34 + a_41_34*a_42_34*f_4_34 + c_21_34*H_1_34 + c_12_34*H_2_34 + hshsc_12_34)"
      ]
     },
     "execution_count": 181,
     "metadata": {},
     "output_type": "execute_result"
    }
   ],
   "source": [
    "HH(\"1\",\"2\",\"3\",\"4\")"
   ]
  },
  {
   "cell_type": "code",
   "execution_count": 184,
   "metadata": {
    "collapsed": false
   },
   "outputs": [
    {
     "data": {
      "text/plain": [
       "(f_1_13*H_2_13,\n",
       " d_112_13*f_1_13 + d_312_13*f_3_13 + a_12_13*h_1_13 + b_12_13*H_2_13 + fhsc_12_13)"
      ]
     },
     "execution_count": 184,
     "metadata": {},
     "output_type": "execute_result"
    }
   ],
   "source": [
    "fH(\"1\",\"2\",\"3\")"
   ]
  },
  {
   "cell_type": "code",
   "execution_count": 189,
   "metadata": {
    "collapsed": false
   },
   "outputs": [
    {
     "data": {
      "text/plain": [
       "(h_1_12*H_3_12,\n",
       " a_13_12*f_1_12^2 + s_113_12*f_1_12 + s_213_12*f_2_12 + r_13_12*h_1_12 + e_13_12*H_3_12 + hhsc_13_12)"
      ]
     },
     "execution_count": 189,
     "metadata": {},
     "output_type": "execute_result"
    }
   ],
   "source": [
    "hH(\"1\",\"2\",\"3\")"
   ]
  },
  {
   "cell_type": "code",
   "execution_count": null,
   "metadata": {
    "collapsed": true
   },
   "outputs": [],
   "source": []
  }
 ],
 "metadata": {
  "kernelspec": {
   "display_name": "SageMath 8.0",
   "language": "",
   "name": "sagemath"
  },
  "language_info": {
   "codemirror_mode": {
    "name": "ipython",
    "version": 2
   },
   "file_extension": ".py",
   "mimetype": "text/x-python",
   "name": "python",
   "nbconvert_exporter": "python",
   "pygments_lexer": "ipython2",
   "version": "2.7.13"
  }
 },
 "nbformat": 4,
 "nbformat_minor": 2
}
