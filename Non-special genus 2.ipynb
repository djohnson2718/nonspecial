{
 "cells": [
  {
   "cell_type": "code",
   "execution_count": 277,
   "metadata": {
    "collapsed": false
   },
   "outputs": [],
   "source": [
    "g = 2\n",
    "n = 4\n",
    "indexes = [str(i) for i in range(1, n+1)]\n",
    "load(\"genus2_setup.sage\")\n",
    "load(\"manage_rel.sage\")\n",
    "load(\"expansions.sage\")"
   ]
  },
  {
   "cell_type": "code",
   "execution_count": 278,
   "metadata": {
    "collapsed": false,
    "scrolled": false
   },
   "outputs": [
    {
     "name": "stdout",
     "output_type": "stream",
     "text": [
      "Some relations\n",
      "Adding relations of the form: del_21 = -al_21*GA_11_12 + al_21*ga_12 + al_12*be_21\n",
      "Adding relations of the form: A_12 = -ga_12*ga_21 + al_21*DEL_11_12 - al_21*EP_11_12 - al_12*ep_21 + Pi_21\n",
      "\n",
      "Some relations\n",
      "Adding relations of the form: Pi_12 = al_21*DEL_11_12 - al_12*DEL_22_12 - al_21*EP_11_12 + al_21*ep_12 - al_12*ep_21 + al_12*EP_22_12 + Pi_21\n",
      "\n",
      "Some relations\n",
      "Adding relations of the form: t_21 = be_21\n",
      "Adding relations of the form: R_21 = -al_21^2*D_12 + ep_21\n",
      "Adding relations of the form: theta_21 = al_12*al_21*ga_21 - al_12*al_21*GA_22_12 + 2*al_21*ga_21*D_12 + al_21^2*be_12 - GA_11_12*be_21 + v_12*be_21\n",
      "Adding relations of the form: B_12 = 2*al_21^2*GA_11_12*D_12 - 2*al_21^2*ga_12*D_12 - 2*al_12*al_21*D_12*be_21 - al_12*ga_21^2 + al_12*ga_21*GA_22_12 - ga_21^2*D_12 - al_21*ga_21*be_12 - GA_11_12*R_21 + DEL_11_12*be_21 - t_21*EP_11_12 + GA_11_12*ep_21 - v_12*ep_21\n",
      "\n",
      "Some relations\n",
      "Adding relations of the form: D_12 = al_12\n",
      "Adding relations of the form: v_12 = ga_12\n",
      "Adding relations of the form: Pi_12 = -al_12*al_21^2*D_12 + 2*D_12*DEL_22_12 + be_12*be_21 + al_12*ep_21 - al_12*EP_22_12\n",
      "\n",
      "Some relations\n",
      "\n",
      "Some relations\n",
      "\n",
      "Some relations\n",
      "Adding relations of the form: psi_21 = 3*al_12*al_21*ga_21 - al_12*al_21*GA_22_12 - 3*GA_11_12*be_21 + ga_12*be_21\n",
      "\n",
      "Some relations\n",
      "\n",
      "Some relations\n",
      "Adding relations of the form: GA_11_12 = 0\n",
      "Adding relations of the form: DEL_11_12 = 2/3*EP_11_12\n",
      "Adding relations of the form: THETA_11_12 = 3/2*GA_11_12^2 + 1/2*pi_1_12 + 3/2*PI_11_12\n",
      "\n",
      "Some relations\n",
      "Adding relations of the form: g_12 = -al_12^3\n",
      "Adding relations of the form: k_12 = -3*al_12^2*ga_12 + be_12^2\n",
      "Adding relations of the form: S_1_12 = 3*al_12^4*al_21^2 - 6*al_12^2*ga_12*ga_21 - al_12^2*be_12*be_21 - 4*al_12^3*EP_11_12 - 3*al_12^3*ep_21 + 3*al_12^3*EP_22_12 - ga_12^3 + 2*ga_21*be_12^2 + ep_12^2 - EP_22_12*g_12 - ga_12*pi_1_12\n",
      "\n"
     ]
    }
   ],
   "source": [
    "find_rels_by_expansion(ff(\"1\",\"2\"),\"1\")\n",
    "print\n",
    "find_rels_by_expansion(ff(\"1\",\"2\"),\"2\")\n",
    "print\n",
    "find_rels_by_expansion(fh(\"1\",\"2\"),\"1\")\n",
    "print\n",
    "find_rels_by_expansion(fh(\"1\",\"2\"),\"2\")\n",
    "print\n",
    "find_rels_by_expansion(fh(\"2\",\"1\"),\"1\")\n",
    "print\n",
    "find_rels_by_expansion(fh(\"2\",\"1\"),\"2\")\n",
    "print\n",
    "find_rels_by_expansion(hh(\"1\",\"2\"),\"1\")\n",
    "print\n",
    "find_rels_by_expansion(hh(\"1\",\"2\"),\"2\")\n",
    "print\n",
    "find_rels_by_expansion(h2(\"1\",\"2\"),\"1\")\n",
    "print\n",
    "find_rels_by_expansion(h2(\"1\",\"2\"),\"2\")\n",
    "print"
   ]
  },
  {
   "cell_type": "code",
   "execution_count": 279,
   "metadata": {
    "collapsed": false
   },
   "outputs": [
    {
     "name": "stdout",
     "output_type": "stream",
     "text": [
      "Some relations\n",
      "Adding relations of the form: hshsc_12_34 = -a_31_34*a_32_34*b_31_34 - a_41_34*a_42_34*b_41_34 - c_12_34*c_21_34\n",
      "\n",
      "Some relations\n",
      "\n",
      "Some relations\n",
      "\n",
      "Some relations\n",
      "\n",
      "Some relations\n",
      "Adding relations of the form: ac_13_12 = d_113_12\n",
      "Adding relations of the form: alin_13_12 = a_13_12*b_13_12 + al_21*d_213_12\n",
      "Adding relations of the form: asq_13_12 = 1/3*EP_11_12*a_13_12 + ac_13_12*b_13_12 + ga_21*d_213_12 + fhsc_13_12\n",
      "\n",
      "Some relations\n",
      "Adding relations of the form: d_213_12 = al_12*a_23_12\n",
      "Adding relations of the form: fhsc_13_12 = al_12*ga_21*a_23_12 + al_21*be_12*a_23_12 + al_12*a_13_12*b_13_12 + al_12*al_21*d_213_12 - ep_12*a_13_12 - b_13_12*d_113_12\n",
      "\n",
      "Some relations\n",
      "\n",
      "Some relations\n",
      "Adding relations of the form: r_13_12 = al_12*a_23_12\n",
      "Adding relations of the form: s_113_12 = al_12*al_21*a_23_12 + a_13_12*b_13_12\n",
      "Adding relations of the form: hhsc_13_12 = al_12*EP_11_12*a_23_12 - al_12*a_23_12*e_13_12 + 1/2*pi_1_12*a_13_12 - EP_11_12*r_13_12 - ga_21*s_213_12 - 1/2*a_13_12*PI_11_12\n",
      "\n",
      "Some relations\n",
      "\n",
      "Some relations\n"
     ]
    }
   ],
   "source": [
    "find_rels_by_expansion(HH(\"1\",\"2\",\"3\",\"4\"),\"1\")\n",
    "print\n",
    "find_rels_by_expansion(HH(\"1\",\"2\",\"3\",\"4\"),\"2\")\n",
    "print\n",
    "find_rels_by_expansion(HH(\"1\",\"2\",\"3\",\"4\"),\"3\")\n",
    "print\n",
    "find_rels_by_expansion(HH(\"1\",\"2\",\"3\",\"4\"),\"4\")\n",
    "print\n",
    "find_rels_by_expansion(fH(\"1\",\"2\",\"3\"),\"1\")\n",
    "print\n",
    "find_rels_by_expansion(fH(\"1\",\"2\",\"3\"),\"2\")\n",
    "print\n",
    "find_rels_by_expansion(fH(\"1\",\"2\",\"3\"),\"3\")\n",
    "print\n",
    "find_rels_by_expansion(hH(\"1\",\"2\",\"3\"),\"1\")\n",
    "print\n",
    "find_rels_by_expansion(hH(\"1\",\"2\",\"3\"),\"2\")\n",
    "print\n",
    "find_rels_by_expansion(hH(\"1\",\"2\",\"3\"),\"3\")"
   ]
  },
  {
   "cell_type": "code",
   "execution_count": 304,
   "metadata": {
    "collapsed": false
   },
   "outputs": [],
   "source": [
    "load(\"buch.sage\")"
   ]
  },
  {
   "cell_type": "code",
   "execution_count": 305,
   "metadata": {
    "collapsed": false
   },
   "outputs": [
    {
     "name": "stdout",
     "output_type": "stream",
     "text": [
      "Relations Found:\n",
      "This relation cannot be solved for a single variable: 6*al_12*al_21^2*ga_12 + 3*al_12^2*al_21*be_21 + 3*al_12*ga_21^2 + 3*al_21*ga_21*be_12 + 1/3*be_21*EP_11_12 - be_21*ep_12 + al_12*pi_2_12\n",
      "This relation cannot be solved for a single variable: 2*al_12*EP_11_12 - 2*al_12*EP_22_12\n",
      "This relation cannot be solved for a single variable: 3*al_12^5*al_21^2 - 3*al_12^3*al_21^4 - 6*al_12^3*ga_12*ga_21 + 3*al_12^2*al_21*ga_21*be_21 - al_12^3*be_12*be_21 + 4*al_12*al_21^2*be_12*be_21 - 4*al_12^4*EP_11_12 + 4*al_12^2*al_21^2*EP_11_12 - al_12*al_21^3*ep_12 - 3*al_12^4*ep_21 + 4*al_12^2*al_21^2*ep_21 + 4*al_12^4*EP_22_12 - 4*al_12^2*al_21^2*EP_22_12 - al_12*ga_12^3 - 2*al_12*ga_21^3 - 3*al_21*ga_21^2*be_12 + 2*al_12*ga_21*be_12^2 + 3*al_21*ga_12^2*be_21 + al_12*ga_12*be_21^2 - 1/3*ga_21*be_21*EP_11_12 + ga_21*be_21*ep_12 + al_12*ep_12^2 - be_12*be_21*ep_21 - 2*al_12*EP_11_12*ep_21 - al_12*ep_21^2 + 1/3*be_12*be_21*EP_22_12 + 2*al_12*ep_21*EP_22_12 - al_12*ga_12*pi_1_12 + al_21*be_21*pi_1_12\n",
      "\n",
      "Relations Found:\n",
      "This relation cannot be solved for a single variable: 3*al_12^3*al_21*ga_21 + 3*al_12^2*ga_12*be_21 + 2*al_12*be_12*EP_11_12 + al_12*be_12*ep_21 - 5/3*al_12*be_12*EP_22_12\n",
      "This relation cannot be solved for a single variable: 3*al_12*al_21^2*ga_12 + 3*al_21*ga_21*be_12 + 1/3*be_21*EP_11_12 + be_21*ep_12\n",
      "This relation cannot be solved for a single variable: 3*al_12^3*al_21^3*ga_12 + 6*al_12^3*al_21*ga_21^2 + 3*al_12^2*al_21^2*ga_21*be_12 + 6*al_12^2*ga_12*ga_21*be_21 + 2*al_12^3*be_21*EP_11_12 + 1/3*al_12^2*al_21*be_21*EP_11_12 - 3*al_12*al_21^2*ga_12*ep_12 - al_12^2*al_21*be_21*ep_12 + 2*al_12^3*be_21*ep_21 - 2*al_12^3*be_21*EP_22_12 + 4*al_12*ga_21*be_12*EP_11_12 - 3*al_21*ga_21*be_12*ep_12 + 2*al_12*ga_21*be_12*ep_21 - 10/3*al_12*ga_21*be_12*EP_22_12 - 1/3*be_21*EP_11_12*ep_12 - be_21*ep_12^2\n",
      "\n",
      "Relations Found:\n",
      "This relation cannot be solved for a single variable: 3*al_12*al_21^2*ga_12 + 3*al_21*ga_21*be_12 + 1/3*be_21*EP_11_12 + be_21*ep_12\n",
      "This relation cannot be solved for a single variable: -3*al_12^3*ga_21 - 3*al_12^2*al_21*be_12 - 3*al_12*ga_12^2 + 2*be_12*ep_12 - al_12*pi_1_12\n",
      "This relation cannot be solved for a single variable: 3*al_12*al_21^2*ga_12^2 + 3*al_21*ga_12*ga_21*be_12 - 6*al_12^2*ga_21*EP_11_12 + 6*al_12*al_21*ga_21*ep_12 - 6*al_12^2*ga_21*ep_21 + 6*al_12^2*ga_21*EP_22_12 + 1/3*ga_12*be_21*EP_11_12 + ga_12*be_21*ep_12\n",
      "This relation cannot be solved for a single variable: -3*al_12^3*ga_21^2 - 9*al_12^2*al_21*ga_21*be_12 - 3*al_12*al_21^2*be_12^2 - 3*al_12*ga_12^2*ga_21 - 3*al_21*ga_12^2*be_12 - 3*al_12*ga_12*be_12*be_21 - 6*al_12^2*ga_12*EP_11_12 + 6*al_12*al_21*ga_12*ep_12 - 6*al_12^2*ga_12*ep_21 + 6*al_12^2*ga_12*EP_22_12 + 2*ga_21*be_12*ep_12 + be_12^2*ep_21 - 1/3*be_12^2*EP_22_12 - al_12*ga_21*pi_1_12 - al_21*be_12*pi_1_12\n",
      "This relation cannot be solved for a single variable: -2*al_12^2*al_21*EP_11_12 + 2*al_12*al_21^2*ep_12 - 2*al_12^2*al_21*ep_21 + 2*al_12^2*al_21*EP_22_12\n",
      "This relation cannot be solved for a single variable: 9*al_12^3*al_21^2*ga_12*ga_21 + 4*al_12^4*al_21^2*EP_11_12 - 4*al_12^3*al_21^3*ep_12 + 4*al_12^4*al_21^2*ep_21 - 4*al_12^4*al_21^2*EP_22_12 + 3*al_12*al_21^2*ga_12^3 + 6*al_12^3*ga_21^3 + 3*al_12^2*al_21*ga_21^2*be_12 - 6*al_12*al_21^2*ga_21*be_12^2 + 6*al_12*ga_12^2*ga_21^2 - 3*al_21*ga_12^2*ga_21*be_12 - 6*al_12*ga_12*ga_21*be_12*be_21 - 6*al_12^2*ga_12*ga_21*EP_11_12 + al_12^2*ga_21*be_21*EP_11_12 - 2*al_12^2*be_12*be_21*EP_11_12 - 4*al_12^3*EP_11_12^2 + 6*al_12*al_21*ga_12*ga_21*ep_12 + 3*al_12^2*ga_21*be_21*ep_12 + 2*al_12*al_21*be_12*be_21*ep_12 + 6*al_12^2*al_21*EP_11_12*ep_12 - 2*al_12*al_21^2*ep_12^2 - 6*al_12^2*ga_12*ga_21*ep_21 - 2*al_12^2*be_12*be_21*ep_21 - 8*al_12^3*EP_11_12*ep_21 + 6*al_12^2*al_21*ep_12*ep_21 - 4*al_12^3*ep_21^2 + 6*al_12^2*ga_12*ga_21*EP_22_12 + 2*al_12^2*be_12*be_21*EP_22_12 + 8*al_12^3*EP_11_12*EP_22_12 - 6*al_12^2*al_21*ep_12*EP_22_12 + 8*al_12^3*ep_21*EP_22_12 - 4*al_12^3*EP_22_12^2 + 3*al_12*al_21^2*ga_12*pi_1_12 + 1/3*ga_12^2*be_21*EP_11_12 - 4*ga_21^2*be_12*ep_12 + ga_12^2*be_21*ep_12 + 2*ga_21*be_12^2*ep_21 - 2/3*ga_21*be_12^2*EP_22_12 + 2*al_12*ga_21^2*pi_1_12 + al_21*ga_21*be_12*pi_1_12 + 1/3*be_21*EP_11_12*pi_1_12 + be_21*ep_12*pi_1_12\n",
      "\n",
      "Relations Found:\n",
      "This relation cannot be solved for a single variable: 6*al_12*al_21^2*ga_12 + 3*al_12^2*al_21*be_21 + 3*al_12*ga_21^2 + 3*al_21*ga_21*be_12 + 1/3*be_21*EP_11_12 - be_21*ep_12 + al_12*pi_2_12\n",
      "This relation cannot be solved for a single variable: 2*al_12*EP_11_12 - 2*al_12*EP_22_12\n",
      "This relation cannot be solved for a single variable: 3*al_12^5*al_21^2 - 3*al_12^3*al_21^4 - 6*al_12^3*ga_12*ga_21 + 3*al_12^2*al_21*ga_21*be_21 - al_12^3*be_12*be_21 + 4*al_12*al_21^2*be_12*be_21 - 4*al_12^4*EP_11_12 + 4*al_12^2*al_21^2*EP_11_12 - al_12*al_21^3*ep_12 - 3*al_12^4*ep_21 + 4*al_12^2*al_21^2*ep_21 + 4*al_12^4*EP_22_12 - 4*al_12^2*al_21^2*EP_22_12 - al_12*ga_12^3 - 2*al_12*ga_21^3 - 3*al_21*ga_21^2*be_12 + 2*al_12*ga_21*be_12^2 + 3*al_21*ga_12^2*be_21 + al_12*ga_12*be_21^2 - 1/3*ga_21*be_21*EP_11_12 + ga_21*be_21*ep_12 + al_12*ep_12^2 - be_12*be_21*ep_21 - 2*al_12*EP_11_12*ep_21 - al_12*ep_21^2 + 1/3*be_12*be_21*EP_22_12 + 2*al_12*ep_21*EP_22_12 - al_12*ga_12*pi_1_12 + al_21*be_21*pi_1_12\n"
     ]
    }
   ],
   "source": [
    "eliminate_vars_buch(ff(\"1\",\"2\"), fh(\"1\",\"2\"))\n",
    "print \n",
    "eliminate_vars_buch(hh(\"1\",\"2\"), fh(\"1\",\"2\"))\n",
    "print \n",
    "eliminate_vars_buch(hh(\"1\",\"2\"), h2(\"1\",\"2\"))\n",
    "print \n",
    "eliminate_vars_buch(ff(\"1\",\"2\"), fh(\"1\",\"2\"))"
   ]
  },
  {
   "cell_type": "code",
   "execution_count": 306,
   "metadata": {
    "collapsed": false
   },
   "outputs": [
    {
     "name": "stdout",
     "output_type": "stream",
     "text": [
      "Relations Found:\n",
      "This relation cannot be solved for a single variable: al_12^2*al_21*a_23_12 + al_12*al_21^2*a_23_12 - al_21*ga_12*a_13_12 - al_12*be_21*a_13_12 + al_12*ga_12*a_23_12 + al_12*a_13_12*b_13_12 + al_21*a_13_12*b_13_12 - al_12*a_23_12*b_13_12\n",
      "This relation cannot be solved for a single variable: al_12^2*al_21*a_13_12 + al_12*al_21^2*a_23_12 - al_21*be_12*a_23_12 + al_21*a_13_12*b_13_12\n",
      "This relation cannot be solved for a single variable: -be_12*a_13_12 + ga_12*a_23_12 - a_23_12*b_13_12\n",
      "This relation cannot be solved for a single variable: -al_12^2*al_21^2 - ga_12*ga_21 + be_12*be_21 + 2*al_12*EP_11_12 - al_21*ep_12 + al_12*ep_21 - 2*al_12*EP_22_12 + ga_21*b_13_12 + ga_12*b_23_12 - b_13_12*b_23_12 + al_21*e_13_12 + al_12*e_23_12\n",
      "This relation cannot be solved for a single variable: al_12^3*al_21^2*a_23_12 + 2*al_12^2*al_21*ga_21*a_13_12 + 2*al_12*al_21^2*be_12*a_13_12 + al_12^2*al_21*ga_12*a_23_12 - al_12*al_21^2*ga_21*a_23_12 - al_12^2*al_21*a_23_12*b_13_12 + 2*al_21*ga_12^2*a_13_12 + al_12*ga_12*be_21*a_13_12 + 2*al_12*ga_12*ga_21*a_23_12 + al_12*ga_21^2*a_23_12 + al_21*ga_12*be_12*a_23_12 + al_21*ga_21*be_12*a_23_12 - al_12*be_12*be_21*a_23_12 - 2*al_12^2*EP_11_12*a_23_12 + al_12*al_21*ep_12*a_23_12 - al_12^2*ep_21*a_23_12 + 2*al_12^2*EP_22_12*a_23_12 + al_12*ga_12*a_13_12*b_13_12 - al_21*ga_21*a_13_12*b_13_12 - al_12*ga_12*a_23_12*b_13_12 - 2*al_12*ga_21*a_23_12*b_13_12 - al_21*be_12*a_23_12*b_13_12 - al_12*a_13_12*b_13_12^2 + al_12*a_23_12*b_13_12^2 - al_12^2*a_23_12*e_13_12 - al_12*al_21*a_23_12*e_13_12 - ga_12*ep_12*a_13_12 + 1/3*be_12*EP_22_12*a_13_12 + 1/2*al_12*pi_1_12*a_13_12 + 1/2*al_21*pi_1_12*a_13_12 + ep_12*a_13_12*b_13_12 - 1/2*al_12*a_13_12*PI_11_12 - 1/2*al_21*a_13_12*PI_11_12\n"
     ]
    }
   ],
   "source": [
    "eliminate_vars_buch(ff(\"1\",\"2\"),fH(\"1\",\"2\",\"3\"))"
   ]
  },
  {
   "cell_type": "code",
   "execution_count": 307,
   "metadata": {
    "collapsed": false
   },
   "outputs": [
    {
     "name": "stdout",
     "output_type": "stream",
     "text": [
      "Relations Found:\n",
      "This relation cannot be solved for a single variable: al_12*al_21*ga_12*a_23_12 + al_12^2*be_21*a_23_12 + al_12*al_21*a_23_12*b_13_12 + a_13_12*b_13_12^2 + 1/2*pi_1_12*a_13_12 + 1/2*a_13_12*PI_11_12\n",
      "This relation cannot be solved for a single variable: -al_12^3*al_21*a_23_12 - 3*al_12^2*ga_12*a_13_12 - al_12*al_21*ga_12*a_23_12 + al_12*al_21*a_23_12*b_13_12 + be_12^2*a_13_12 + al_12*ep_12*a_23_12 - ga_12*a_13_12*b_13_12 + a_13_12*b_13_12^2 - al_12*a_23_12*e_13_12\n",
      "This relation cannot be solved for a single variable: al_12^2*al_21*a_23_12 - al_12*al_21^2*a_23_12 + 2*al_12*ga_21*a_23_12 + al_21*be_12*a_23_12 + al_12*a_13_12*b_13_12 - al_21*a_13_12*b_13_12 - ep_12*a_13_12 - a_13_12*e_13_12\n",
      "This relation cannot be solved for a single variable: -al_12^3*a_13_12 - al_12^2*al_21*a_23_12 + al_12*be_12*a_23_12 - al_12*a_13_12*b_13_12\n",
      "This relation cannot be solved for a single variable: 3*al_12^4*al_21^2*a_13_12 + al_12^3*al_21^3*a_23_12 - 2*al_12^3*al_21*ga_21*a_23_12 - 2*al_12^2*al_21^2*be_12*a_23_12 + al_12^2*al_21^2*a_13_12*b_13_12 - 6*al_12^2*ga_12*ga_21*a_13_12 - al_12^2*be_12*be_21*a_13_12 - 4*al_12^3*EP_11_12*a_13_12 - 3*al_12^3*ep_21*a_13_12 + 4*al_12^3*EP_22_12*a_13_12 - 2*al_12*al_21*ga_12^2*a_23_12 + al_12*al_21*ga_12*ga_21*a_23_12 - al_12^2*ga_12*be_21*a_23_12 - al_12*al_21*be_12*be_21*a_23_12 - 2*al_12^2*al_21*EP_11_12*a_23_12 + al_12*al_21^2*ep_12*a_23_12 - al_12^2*al_21*ep_21*a_23_12 + 2*al_12^2*al_21*EP_22_12*a_23_12 - al_12*al_21*ga_21*a_23_12*b_13_12 - al_12^2*al_21*a_23_12*e_13_12 - ga_12^3*a_13_12 + 2*ga_21*be_12^2*a_13_12 - al_12*ga_21*ep_12*a_23_12 - 1/3*al_12*be_12*EP_22_12*a_23_12 + ga_12*ga_21*a_13_12*b_13_12 - be_12*be_21*a_13_12*b_13_12 - 2*al_12*EP_11_12*a_13_12*b_13_12 + al_21*ep_12*a_13_12*b_13_12 - al_12*ep_21*a_13_12*b_13_12 + 2*al_12*EP_22_12*a_13_12*b_13_12 - ga_21*a_13_12*b_13_12^2 - al_12*ga_21*a_23_12*e_13_12 - al_21*be_12*a_23_12*e_13_12 - al_12*a_13_12*b_13_12*e_13_12 + ep_12^2*a_13_12 - ga_12*pi_1_12*a_13_12 + 1/2*pi_1_12*a_13_12*b_13_12 + ep_12*a_13_12*e_13_12 - 1/2*a_13_12*b_13_12*PI_11_12\n"
     ]
    }
   ],
   "source": [
    "eliminate_vars_buch(fH(\"1\",\"2\",\"3\"),hH(\"1\",\"2\",\"3\"))"
   ]
  },
  {
   "cell_type": "code",
   "execution_count": 308,
   "metadata": {
    "collapsed": false
   },
   "outputs": [
    {
     "name": "stdout",
     "output_type": "stream",
     "text": [
      "Relations Found:\n",
      "This relation cannot be solved for a single variable: -al_12*al_21*a_14_12*a_23_12 + al_12*al_21*a_13_12*a_24_12\n",
      "This relation cannot be solved for a single variable: -al_12*al_21*a_14_12*a_23_12 + al_12*al_21*a_13_12*a_24_12 - a_13_12*a_14_12*b_13_12 + a_23_12*a_24_12*b_13_12 + a_13_12*a_14_12*b_14_12 - a_23_12*a_24_12*b_14_12\n",
      "This relation cannot be solved for a single variable: -al_12^2*al_21*a_24_12 - al_12*ga_21*a_24_12 - al_21*be_12*a_24_12 - al_12*a_24_12*b_13_12 - al_12*a_14_12*b_14_12 + al_12*a_24_12*b_14_12 - al_12*a_24_12*b_23_12 + ep_12*a_14_12 + c_43_12*b_13_12 - c_43_12*b_14_12 - a_14_12*e_13_12\n",
      "This relation cannot be solved for a single variable: al_12^2*al_21*a_23_12 + al_12*ga_21*a_23_12 + al_21*be_12*a_23_12 + al_12*a_13_12*b_13_12 - al_12*a_23_12*b_13_12 + al_12*a_23_12*b_14_12 + al_12*a_23_12*b_24_12 - ep_12*a_13_12 + c_34_12*b_13_12 - c_34_12*b_14_12 + a_13_12*e_14_12\n",
      "This relation cannot be solved for a single variable: al_12*al_21*ga_21*a_14_12*a_23_12 - al_12*al_21*ga_21*a_13_12*a_24_12 - 2*al_12^2*a_13_12*a_24_12*b_13_12 + 2*al_12^2*a_23_12*a_24_12*b_13_12 + 2*al_12^2*a_14_12*a_23_12*b_14_12 - 2*al_12^2*a_23_12*a_24_12*b_14_12 - 2*al_12*ep_12*a_14_12*a_23_12 + 2*al_12*ep_12*a_13_12*a_24_12 + ga_21*a_13_12*a_14_12*b_13_12 - a_13_12*a_14_12*b_13_12^2 - ga_21*a_13_12*a_14_12*b_14_12 + a_13_12*a_14_12*b_13_12*b_14_12 - a_23_12*a_24_12*b_13_12*b_23_12 + a_23_12*a_24_12*b_14_12*b_23_12 + al_12*a_14_12*a_23_12*e_13_12 - al_12*a_13_12*a_24_12*e_14_12 - c_34_12*c_43_12*b_13_12 + c_34_12*c_43_12*b_14_12\n"
     ]
    }
   ],
   "source": [
    "eliminate_vars_buch(fH(\"1\",\"2\",\"3\"),fH(\"1\",\"2\",\"4\"))"
   ]
  },
  {
   "cell_type": "code",
   "execution_count": 309,
   "metadata": {
    "collapsed": false
   },
   "outputs": [
    {
     "name": "stdout",
     "output_type": "stream",
     "text": [
      "Relations Found:\n",
      "This relation cannot be solved for a single variable: -al_12^2*al_21*a_14_12*a_23_12 + al_12^2*al_21*a_13_12*a_24_12 - 2*al_12*ga_21*a_14_12*a_23_12 - al_21*be_12*a_14_12*a_23_12 + 2*al_12*ga_21*a_13_12*a_24_12 + al_21*be_12*a_13_12*a_24_12 - al_12*a_13_12*a_14_12*b_13_12 + al_12*a_13_12*a_24_12*b_13_12 + al_12*a_13_12*a_14_12*b_14_12 - al_12*a_14_12*a_23_12*b_14_12 + a_13_12*a_14_12*e_13_12 - a_13_12*a_14_12*e_14_12\n",
      "This relation cannot be solved for a single variable: -al_12*ga_12*a_14_12*a_23_12 + al_12*ga_12*a_13_12*a_24_12 - al_12*a_14_12*a_23_12*b_13_12 + al_12*a_13_12*a_24_12*b_13_12 - al_12*a_14_12*a_23_12*b_14_12 + al_12*a_13_12*a_24_12*b_14_12 + a_23_12*a_24_12*e_13_12 - a_23_12*a_24_12*e_14_12\n",
      "This relation cannot be solved for a single variable: -al_12^2*a_14_12*a_23_12 + al_12^2*a_13_12*a_24_12 + a_13_12*a_24_12*b_13_12 - a_14_12*a_23_12*b_14_12\n",
      "This relation cannot be solved for a single variable: al_12*al_21*ga_21*a_24_12 - al_12*al_21*a_24_12*b_13_12 - al_12*al_21*a_24_12*b_23_12 - a_14_12*b_13_12^2 + ga_21*a_14_12*b_14_12 - a_14_12*b_13_12*b_14_12 - a_14_12*b_14_12*b_23_12 - al_12*a_24_12*e_13_12 + al_12*a_24_12*e_14_12 - 1/2*pi_1_12*a_14_12 + c_43_12*e_13_12 - c_43_12*e_14_12 + 1/2*a_14_12*PI_11_12\n",
      "This relation cannot be solved for a single variable: -al_12*al_21*ga_21*a_23_12 + al_12*al_21*a_23_12*b_14_12 + al_12*al_21*a_23_12*b_24_12 - ga_21*a_13_12*b_13_12 + a_13_12*b_13_12*b_14_12 + a_13_12*b_14_12^2 + a_13_12*b_13_12*b_24_12 - al_12*a_23_12*e_13_12 + al_12*a_23_12*e_14_12 + 1/2*pi_1_12*a_13_12 + c_34_12*e_13_12 - c_34_12*e_14_12 - 1/2*a_13_12*PI_11_12\n",
      "This relation cannot be solved for a single variable: al_12^3*al_21^2*a_14_12*a_23_12 - al_12^3*al_21^2*a_13_12*a_24_12 - al_12^2*al_21*a_14_12*a_23_12*b_13_12 + 2*al_12^2*al_21*a_23_12*a_24_12*b_13_12 + al_12^2*al_21*a_13_12*a_24_12*b_14_12 - 2*al_12^2*al_21*a_23_12*a_24_12*b_14_12 + al_12*ga_12*ga_21*a_14_12*a_23_12 - al_12*be_12*be_21*a_14_12*a_23_12 - 2*al_12^2*EP_11_12*a_14_12*a_23_12 - al_12*al_21*ep_12*a_14_12*a_23_12 - al_12^2*ep_21*a_14_12*a_23_12 + 2*al_12^2*EP_22_12*a_14_12*a_23_12 - al_12*ga_12*ga_21*a_13_12*a_24_12 + al_12*be_12*be_21*a_13_12*a_24_12 + 2*al_12^2*EP_11_12*a_13_12*a_24_12 + al_12*al_21*ep_12*a_13_12*a_24_12 + al_12^2*ep_21*a_13_12*a_24_12 - 2*al_12^2*EP_22_12*a_13_12*a_24_12 - al_12*ga_21*a_14_12*a_23_12*b_13_12 - al_21*be_12*a_14_12*a_23_12*b_13_12 + 3*al_12*ga_21*a_13_12*a_24_12*b_13_12 + 2*al_21*be_12*a_13_12*a_24_12*b_13_12 - al_12*a_13_12*a_14_12*b_13_12^2 + al_12*a_14_12*a_23_12*b_13_12^2 - 3*al_12*ga_21*a_14_12*a_23_12*b_14_12 - 2*al_21*be_12*a_14_12*a_23_12*b_14_12 + al_12*ga_21*a_13_12*a_24_12*b_14_12 + al_21*be_12*a_13_12*a_24_12*b_14_12 + 2*al_12*a_14_12*a_23_12*b_13_12*b_14_12 - 2*al_12*a_13_12*a_24_12*b_13_12*b_14_12 + al_12*a_13_12*a_14_12*b_14_12^2 - al_12*a_13_12*a_24_12*b_14_12^2 + al_12^2*a_23_12*a_24_12*e_13_12 - al_12^2*a_23_12*a_24_12*e_14_12 + 1/2*al_12*pi_1_12*a_14_12*a_23_12 - 1/2*al_12*pi_1_12*a_13_12*a_24_12 - ep_12*a_13_12*a_14_12*b_13_12 + ep_12*a_13_12*a_14_12*b_14_12 - a_13_12*a_14_12*b_13_12*e_13_12 - a_23_12*a_24_12*b_23_12*e_13_12 + a_13_12*a_14_12*b_13_12*e_14_12 + a_23_12*a_24_12*b_23_12*e_14_12 - 1/2*al_12*a_14_12*a_23_12*PI_11_12 + 1/2*al_12*a_13_12*a_24_12*PI_11_12 - c_34_12*c_43_12*e_13_12 + c_34_12*c_43_12*e_14_12\n"
     ]
    }
   ],
   "source": [
    "eliminate_vars_buch(hH(\"1\",\"2\",\"3\"),hH(\"1\",\"2\",\"4\"))"
   ]
  },
  {
   "cell_type": "code",
   "execution_count": 310,
   "metadata": {
    "collapsed": false
   },
   "outputs": [
    {
     "name": "stdout",
     "output_type": "stream",
     "text": [
      "Relations Found:\n",
      "This relation cannot be solved for a single variable: be_12*a_13_12 - ga_12*a_23_12 + a_23_12*b_13_12\n",
      "This relation cannot be solved for a single variable: 3*al_12*al_21*ga_21*a_13_12 - al_12*al_21*ga_12*a_23_12 - 2*al_12^2*ga_21*a_23_12 - al_12*al_21*be_12*a_23_12 - al_12*al_21*be_21*a_23_12 + al_12*al_21*a_23_12*b_13_12 - al_12^2*a_23_12*b_23_12 + ga_12*be_21*a_13_12 - ga_12*a_13_12*b_13_12 - be_21*a_13_12*b_13_12 + a_13_12*b_13_12^2\n",
      "This relation cannot be solved for a single variable: -al_12^3*al_21*a_23_12 + al_12^2*al_21^2*a_23_12 + 3*al_12*al_21*ga_12*a_13_12 - al_12^2*ga_12*a_23_12 - al_12*al_21*ga_12*a_23_12 - al_12^2*ga_21*a_23_12 - al_12*al_21*be_12*a_23_12 - al_12*al_21*be_21*a_23_12 - al_12^2*a_13_12*b_13_12 + al_12^2*a_23_12*b_13_12 + al_12*al_21*a_23_12*b_13_12 - al_12^2*a_23_12*b_23_12 + ga_21*be_12*a_13_12 + al_12*ep_12*a_13_12 - al_12*ep_21*a_23_12 - ga_12*a_13_12*b_13_12 - be_21*a_13_12*b_13_12 + a_13_12*b_13_12^2\n",
      "This relation cannot be solved for a single variable: al_12*al_21^2*a_13_12 - al_12^2*al_21*a_23_12\n",
      "This relation cannot be solved for a single variable: -al_12^3*a_23_12 + al_12^2*al_21*a_23_12 + al_12*a_13_12*b_13_12 - al_12*a_23_12*b_23_12\n",
      "This relation cannot be solved for a single variable: 2*al_12*al_21^2*ga_12 + 2*al_12^2*al_21*be_21 + al_12*al_21^2*b_13_12 + 2*al_12*ga_21^2 + al_21*ga_21*be_12 - al_12*ga_21*b_23_12 - al_21*be_12*b_23_12 - al_12*b_23_12^2 + 1/3*be_21*EP_11_12 + ga_12*ep_21 - ep_21*b_13_12 - be_21*e_13_12 - ga_12*e_23_12 + b_13_12*e_23_12\n",
      "This relation cannot be solved for a single variable: -2*al_12^3*al_21^3*a_13_12 + al_12^4*al_21^2*a_23_12 + al_12^3*al_21^3*a_23_12 - 2*al_12^2*al_21^2*ga_12*a_23_12 - al_12^3*al_21*ga_21*a_23_12 + al_12^2*al_21^2*ga_21*a_23_12 - al_12^2*al_21^2*be_12*a_23_12 + al_12*al_21^3*be_12*a_23_12 - 2*al_12^3*al_21*be_21*a_23_12 + al_12^2*al_21^2*a_13_12*b_13_12 - al_12^2*al_21^2*a_23_12*b_13_12 - al_12^3*al_21*a_23_12*b_23_12 + 3*al_12*al_21*ga_12*ga_21*a_13_12 + 3*al_12^2*ga_21*be_21*a_13_12 + al_12*al_21*be_12*be_21*a_13_12 + 2*al_12^2*al_21*EP_11_12*a_13_12 - al_12*al_21^2*ep_12*a_13_12 + 2*al_12^2*al_21*ep_21*a_13_12 - 2*al_12^2*al_21*EP_22_12*a_13_12 + al_12^2*ga_12*ga_21*a_23_12 + al_12*al_21*ga_12*ga_21*a_23_12 - 3*al_12^2*ga_21^2*a_23_12 - 3*al_12*al_21*ga_21*be_12*a_23_12 - al_21^2*be_12^2*a_23_12 + al_12*al_21*ga_21*be_21*a_23_12 - al_12^2*be_12*be_21*a_23_12 - 2*al_12^3*EP_11_12*a_23_12 + al_12^2*al_21*ep_12*a_23_12 - al_12^3*ep_21*a_23_12 - al_12^2*al_21*ep_21*a_23_12 + 2*al_12^3*EP_22_12*a_23_12 - al_12^2*ga_21*a_13_12*b_13_12 - al_12*al_21*be_12*a_13_12*b_13_12 + al_12^2*ga_21*a_23_12*b_13_12 - al_12*al_21*ga_21*a_23_12*b_13_12 + al_12*al_21*be_12*a_23_12*b_13_12 - al_12^2*ga_21*a_23_12*b_23_12 - al_12*al_21*be_12*a_23_12*b_23_12 - al_12^2*a_13_12*b_13_12*b_23_12 + al_12^2*a_23_12*b_13_12*b_23_12 - 2*ga_21^2*be_12*a_13_12 + ga_12^2*be_21*a_13_12 + al_12*ga_21*ep_12*a_13_12 + al_21*be_12*ep_12*a_13_12 - 1/3*al_12*be_21*EP_11_12*a_23_12 - al_12*ga_12*ep_21*a_23_12 - al_12*ga_21*ep_21*a_23_12 - al_21*be_12*ep_21*a_23_12 + ga_12*ga_21*a_13_12*b_13_12 + ga_21*be_21*a_13_12*b_13_12 - al_12*ep_21*a_13_12*b_13_12 + al_12*ep_21*a_23_12*b_13_12 - ga_21*a_13_12*b_13_12^2 + al_12*ep_12*a_13_12*b_23_12 + al_12*ga_12*a_23_12*e_13_12 + al_12*be_21*a_23_12*e_13_12 - al_12*a_23_12*b_13_12*e_13_12 - 1/2*ga_12*pi_1_12*a_13_12 + 1/2*be_21*pi_1_12*a_13_12 + 1/2*pi_1_12*a_13_12*b_13_12 + 1/2*ga_12*a_13_12*PI_11_12 + 1/2*be_21*a_13_12*PI_11_12 - 1/2*a_13_12*b_13_12*PI_11_12\n"
     ]
    }
   ],
   "source": [
    "eliminate_vars_buch(fH(\"1\",\"2\",\"3\"),fh(\"1\",\"2\"))"
   ]
  },
  {
   "cell_type": "code",
   "execution_count": 314,
   "metadata": {
    "collapsed": true
   },
   "outputs": [],
   "source": [
    "load(\"transition.sage\")"
   ]
  },
  {
   "cell_type": "code",
   "execution_count": 315,
   "metadata": {
    "collapsed": false
   },
   "outputs": [
    {
     "name": "stdout",
     "output_type": "stream",
     "text": [
      "M:\n",
      "(1, 0, 0)\n",
      "(al_12, a_23_12, 0)\n",
      "(0, 1, 0)\n",
      "(ga_12, al_12*a_23_12, 1)\n",
      "b:\n",
      "(1, 0, al_13, b_12_13)\n",
      "reduced:\n",
      "(1, 0, 0, 1)\n",
      "(0, 1, 0, al_13)\n",
      "(0, 0, 1, -al_12*al_13*a_23_12 - ga_12 + b_12_13)\n",
      "(0, 0, 0, -al_13*a_23_12 - al_12)\n",
      "new M:\n",
      "(1, 0, 0, 1)\n",
      "(0, 1, 0, al_13)\n",
      "(0, 0, 1, al_12^2 - ga_12 + b_12_13)\n",
      "(0, 0, 0, -al_13*a_23_12 - al_12)\n"
     ]
    }
   ],
   "source": [
    "M=transition([\"f_1_12\",\"H_3_12\",\"1\"],\n",
    "          \"f_1_13\",\n",
    "          [(\"1\",-2),(\"2\",-1),(\"3\",-1),(\"2\",0)]);\n",
    "\n",
    "newM = copy(M)\n",
    "newM.add_multiple_of_row(2,3,ry(\"-al_12\"))\n",
    "print \"new M:\"\n",
    "for row in newM:\n",
    "    print row\n",
    "    \n",
    "f_1_13_12 = ry(\"f_1_12 + al_13*H_3_12 + al_12^2 - ga_12 + b_12_13\")"
   ]
  },
  {
   "cell_type": "code",
   "execution_count": 316,
   "metadata": {
    "collapsed": false
   },
   "outputs": [
    {
     "name": "stdout",
     "output_type": "stream",
     "text": [
      "M:\n",
      "(1, 0, 0, 0)\n",
      "(0, 0, 1, 0)\n",
      "(be_12, al_12, a_23_12, 0)\n",
      "(ep_12, ga_12, al_12*a_23_12, 1)\n",
      "b:\n",
      "(1, be_13, 0, e_12_13)\n",
      "reduced:\n",
      "(1, 0, 0, 0, 1)\n",
      "(0, 0, 1, 0, be_13)\n",
      "(0, ga_12, 0, 1, -al_12*be_13*a_23_12 - ep_12 + e_12_13)\n",
      "(0, al_12, 0, 0, -be_13*a_23_12 - be_12)\n",
      "Mnew\n",
      "(1, 0, 0, 0, 1)\n",
      "(0, 0, 1, 0, be_13)\n",
      "(0, 0, 0, al_12, -al_12^2*be_13*a_23_12 + ga_12*be_13*a_23_12 + ga_12*be_12 - al_12*ep_12 + al_12*e_12_13)\n",
      "(0, al_12, 0, 0, -be_13*a_23_12 - be_12)\n"
     ]
    }
   ],
   "source": [
    "M=transition([\"h_1_12\",\"f_1_12\",\"H_3_12\",\"1\"],\n",
    "            \"h_1_13\",\n",
    "            [(\"1\",-3),(\"3\",-1),(\"2\",-1),(\"2\",0)]);\n",
    "Mnew = copy(M)\n",
    "Mnew.rescale_row(2, ry(\"al_12\"))\n",
    "Mnew.add_multiple_of_row(2,3,ry(\"-ga_12\"))\n",
    "print \"Mnew\"\n",
    "for row in Mnew.rows():\n",
    "    print row\n",
    "h_1_13_12 = ry(\"h_1_12 + bbb*f_1_12 + be_13*H_3_12 + ccc\")"
   ]
  },
  {
   "cell_type": "code",
   "execution_count": 317,
   "metadata": {
    "collapsed": false
   },
   "outputs": [
    {
     "data": {
      "text/plain": [
       "3*al_13*a_13_12 - 2*bbb"
      ]
     },
     "execution_count": 317,
     "metadata": {},
     "output_type": "execute_result"
    }
   ],
   "source": [
    "expand_at(f_1_13_12^3-h_1_13_12^2,\"1\")[-5]"
   ]
  },
  {
   "cell_type": "code",
   "execution_count": 323,
   "metadata": {
    "collapsed": false
   },
   "outputs": [],
   "source": [
    "h_1_13_12 = ry(\"h_1_12 + 3/2*al_13*a_13_12* f_1_12 + be_13*H_3_12 + ccc\")"
   ]
  },
  {
   "cell_type": "code",
   "execution_count": 324,
   "metadata": {
    "collapsed": false
   },
   "outputs": [
    {
     "name": "stdout",
     "output_type": "stream",
     "text": [
      "Adding relations of the form: b_12_13 = -1/4*al_13^2*a_13_12^2 + 2/3*be_13*a_13_12 + ga_12\n"
     ]
    }
   ],
   "source": [
    "add_rel_to_dict( expand_at(f_1_13_12^3-h_1_13_12^2,\"1\")[-4].subs({ry(\"al_12\"):ry(\"-al_13*a_23_12\")}),U_rel_dict)"
   ]
  },
  {
   "cell_type": "code",
   "execution_count": 325,
   "metadata": {
    "collapsed": false,
    "scrolled": true
   },
   "outputs": [
    {
     "name": "stdout",
     "output_type": "stream",
     "text": [
      "-3/4*al_13^3*a_13_12*a_23_12^2*a_12_13^2 + al_13^3*a_13_12^3 - 3*al_13^2*al_21*a_23_12^2 - 3*al_13*be_13*a_13_12^2 + 2*al_13*be_13*a_23_12^2 + 2*al_13*be_12*a_13_12*a_12_13 - 6*al_13*ga_12*a_13_12 + 3*al_13*ga_13*a_13_12 + 6*al_13*a_13_12*b_12_13 - 2*ccc\n"
     ]
    }
   ],
   "source": [
    "m3coef = expand_at(f_1_13_12^3-h_1_13_12^2,\"1\")[-3].subs({ry(\"al_12\"):ry(\"-al_13*a_23_12\")})\n",
    "print m3coef\n",
    "ccc_solved = m3coef/2 + ry(\"ccc\")\n",
    "h_1_13_12 = ry(\"h_1_12 + 3/2*al_13*a_13_12* f_1_12 + be_13*H_3_12\") + ccc_solved"
   ]
  },
  {
   "cell_type": "code",
   "execution_count": 337,
   "metadata": {
    "collapsed": false
   },
   "outputs": [
    {
     "name": "stdout",
     "output_type": "stream",
     "text": [
      "-3/8*al_13^4*a_13_12^2*a_23_12^2*a_12_13^2 + 3/4*al_13^4*a_13_12*a_23_12^3*a_12_13^2 + 3/16*al_13^4*a_13_12^4 + 1/2*al_13^2*be_13*a_13_12*a_23_12^2*a_12_13^2 - 3/2*al_13^3*al_21*a_13_12*a_23_12^2 + 3*al_13^3*al_21*a_23_12^3 - 1/2*al_13^2*be_13*a_13_12^3 + al_13^2*be_12*a_13_12^2*a_12_13 - 2*al_13^2*be_12*a_13_12*a_23_12*a_12_13 + 3/2*al_13^2*ga_13*a_13_12^2 - 3*al_13^2*ga_13*a_13_12*a_23_12 - 6*al_13^2*ga_21*a_23_12^2 + 2*al_13*al_21*be_13*a_23_12^2 + 1/3*be_13^2*a_13_12^2 + 3*al_13*al_21*be_12*a_23_12 - 4/3*be_12*be_13*a_13_12*a_12_13 - 2*ga_13*be_13*a_13_12 - 3*al_13*ep_12*a_13_12 - pi_1_12\n"
     ]
    }
   ],
   "source": [
    "coef2 = expand_at(f_1_13_12^3-h_1_13_12^2,\"1\")[-2].subs({ry(\"al_12\"):ry(\"-al_13*a_23_12\")})\n",
    "#print coef2\n",
    "coef2s = ry(str(coef2))\n",
    "print coef2s"
   ]
  },
  {
   "cell_type": "code",
   "execution_count": null,
   "metadata": {
    "collapsed": true
   },
   "outputs": [],
   "source": []
  }
 ],
 "metadata": {
  "kernelspec": {
   "display_name": "SageMath 8.0",
   "language": "",
   "name": "sagemath"
  },
  "language_info": {
   "codemirror_mode": {
    "name": "ipython",
    "version": 2
   },
   "file_extension": ".py",
   "mimetype": "text/x-python",
   "name": "python",
   "nbconvert_exporter": "python",
   "pygments_lexer": "ipython2",
   "version": "2.7.13"
  }
 },
 "nbformat": 4,
 "nbformat_minor": 2
}
