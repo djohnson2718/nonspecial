{
 "cells": [
  {
   "cell_type": "code",
   "execution_count": 170,
   "metadata": {
    "collapsed": false
   },
   "outputs": [],
   "source": [
    "g = 2\n",
    "n = 4\n",
    "indexes = [str(i) for i in range(1, n+1)]\n",
    "load(\"genus2_setup.sage\")\n",
    "load(\"manage_rel.sage\")"
   ]
  },
  {
   "cell_type": "code",
   "execution_count": 171,
   "metadata": {
    "collapsed": false
   },
   "outputs": [
    {
     "data": {
      "text/plain": [
       "Multivariate Polynomial Ring in al_12, al_13, al_14, al_21, al_23, al_24, al_31, al_32, al_34, al_41, al_42, al_43, ga_11_12, ga_11_13, ga_11_14, ga_12, ga_13, ga_14, ga_21, ga_22_12, ga_22_23, ga_22_24, ga_23, ga_24, ga_31, ga_32, ga_33_13, ga_33_23, ga_33_34, ga_34, ga_41, ga_42, ga_43, ga_44_14, ga_44_24, ga_44_34, A_12, A_13, A_14, A_21, A_23, A_24, A_31, A_32, A_34, A_41, A_42, A_43, D_12, D_13, D_14, D_21, D_23, D_24, D_31, D_32, D_34, D_41, D_42, D_43, t_12, t_13, t_14, t_21, t_23, t_24, t_31, t_32, t_34, t_41, t_42, t_43, v_12, v_13, v_14, v_21, v_23, v_24, v_31, v_32, v_34, v_41, v_42, v_43, R_12, R_13, R_14, R_21, R_23, R_24, R_31, R_32, R_34, R_41, R_42, R_43, del_11_12, del_11_13, del_11_14, del_12, del_13, del_14, del_21, del_22_12, del_22_23, del_22_24, del_23, del_24, del_31, del_32, del_33_13, del_33_23, del_33_34, del_34, del_41, del_42, del_43, del_44_14, del_44_24, del_44_34, B_12, B_13, B_14, B_21, B_23, B_24, B_31, B_32, B_34, B_41, B_42, B_43, be_12, be_13, be_14, be_21, be_23, be_24, be_31, be_32, be_34, be_41, be_42, be_43, ep_11_12, ep_11_13, ep_11_14, ep_12, ep_13, ep_14, ep_21, ep_22_12, ep_22_23, ep_22_24, ep_23, ep_24, ep_31, ep_32, ep_33_13, ep_33_23, ep_33_34, ep_34, ep_41, ep_42, ep_43, ep_44_14, ep_44_24, ep_44_34, psi_12, psi_13, psi_14, psi_21, psi_23, psi_24, psi_31, psi_32, psi_34, psi_41, psi_42, psi_43, u_12, u_13, u_14, u_21, u_23, u_24, u_31, u_32, u_34, u_41, u_42, u_43, g_12, g_13, g_14, g_21, g_23, g_24, g_31, g_32, g_34, g_41, g_42, g_43, pi_1_12, pi_2_12, pi_1_13, pi_3_13, pi_1_14, pi_4_14, pi_2_23, pi_3_23, pi_2_24, pi_4_24, pi_3_34, pi_4_34, k_12, k_13, k_14, k_21, k_23, k_24, k_31, k_32, k_34, k_41, k_42, k_43, S_1_12, S_2_12, S_1_13, S_3_13, S_1_14, S_4_14, S_2_23, S_3_23, S_2_24, S_4_24, S_3_34, S_4_34, c_34_12, c_43_12, c_24_13, c_42_13, c_23_14, c_32_14, c_14_23, c_41_23, c_13_24, c_31_24, c_12_34, c_21_34, cc_34_12, cc_43_12, cc_24_13, cc_42_13, cc_23_14, cc_32_14, cc_14_23, cc_41_23, cc_13_24, cc_31_24, cc_12_34, cc_21_34, a_13_12, a_14_12, a_23_12, a_24_12, a_12_13, a_14_13, a_32_13, a_34_13, a_12_14, a_13_14, a_42_14, a_43_14, a_21_23, a_24_23, a_31_23, a_34_23, a_21_24, a_23_24, a_41_24, a_43_24, a_31_34, a_32_34, a_41_34, a_42_34, ac_13_12, ac_14_12, ac_23_12, ac_24_12, ac_12_13, ac_14_13, ac_32_13, ac_34_13, ac_12_14, ac_13_14, ac_42_14, ac_43_14, ac_21_23, ac_24_23, ac_31_23, ac_34_23, ac_21_24, ac_23_24, ac_41_24, ac_43_24, ac_31_34, ac_32_34, ac_41_34, ac_42_34, alin_13_12, alin_14_12, alin_23_12, alin_24_12, alin_12_13, alin_14_13, alin_32_13, alin_34_13, alin_12_14, alin_13_14, alin_42_14, alin_43_14, alin_21_23, alin_24_23, alin_31_23, alin_34_23, alin_21_24, alin_23_24, alin_41_24, alin_43_24, alin_31_34, alin_32_34, alin_41_34, alin_42_34, asq_13_12, asq_14_12, asq_23_12, asq_24_12, asq_12_13, asq_14_13, asq_32_13, asq_34_13, asq_12_14, asq_13_14, asq_42_14, asq_43_14, asq_21_23, asq_24_23, asq_31_23, asq_34_23, asq_21_24, asq_23_24, asq_41_24, asq_43_24, asq_31_34, asq_32_34, asq_41_34, asq_42_34, hshsc_34_12, hshsc_43_12, hshsc_24_13, hshsc_42_13, hshsc_23_14, hshsc_32_14, hshsc_14_23, hshsc_41_23, hshsc_13_24, hshsc_31_24, hshsc_12_34, hshsc_21_34, b_13_12, b_14_12, b_23_12, b_24_12, b_12_13, b_14_13, b_32_13, b_34_13, b_12_14, b_13_14, b_42_14, b_43_14, b_21_23, b_24_23, b_31_23, b_34_23, b_21_24, b_23_24, b_41_24, b_43_24, b_31_34, b_32_34, b_41_34, b_42_34, d_131_12, d_141_12, d_132_12, d_142_12, d_231_12, d_241_12, d_232_12, d_242_12, d_121_13, d_141_13, d_123_13, d_143_13, d_321_13, d_341_13, d_323_13, d_343_13, d_121_14, d_131_14, d_124_14, d_134_14, d_421_14, d_431_14, d_424_14, d_434_14, d_313_23, d_343_23, d_312_23, d_342_23, d_213_23, d_243_23, d_212_23, d_242_23, d_212_24, d_232_24, d_214_24, d_234_24, d_412_24, d_432_24, d_414_24, d_434_24, d_313_34, d_323_34, d_314_34, d_324_34, d_413_34, d_423_34, d_414_34, d_424_34, fhsc_13_12, fhsc_14_12, fhsc_23_12, fhsc_24_12, fhsc_12_13, fhsc_14_13, fhsc_32_13, fhsc_34_13, fhsc_12_14, fhsc_13_14, fhsc_42_14, fhsc_43_14, fhsc_21_23, fhsc_24_23, fhsc_31_23, fhsc_34_23, fhsc_21_24, fhsc_23_24, fhsc_41_24, fhsc_43_24, fhsc_31_34, fhsc_32_34, fhsc_41_34, fhsc_42_34, e_13_12, e_14_12, e_23_12, e_24_12, e_12_13, e_14_13, e_32_13, e_34_13, e_12_14, e_13_14, e_42_14, e_43_14, e_21_23, e_24_23, e_31_23, e_34_23, e_21_24, e_23_24, e_41_24, e_43_24, e_31_34, e_32_34, e_41_34, e_42_34, r_13_12, r_14_12, r_23_12, r_24_12, r_12_13, r_14_13, r_32_13, r_34_13, r_12_14, r_13_14, r_42_14, r_43_14, r_21_23, r_24_23, r_31_23, r_34_23, r_21_24, r_23_24, r_41_24, r_43_24, r_31_34, r_32_34, r_41_34, r_42_34, s_1_12, s_2_12, s_1_13, s_3_13, s_1_14, s_4_14, s_2_23, s_3_23, s_2_24, s_4_24, s_3_34, s_4_34, hhsc_13_12, hhsc_14_12, hhsc_23_12, hhsc_24_12, hhsc_12_13, hhsc_14_13, hhsc_32_13, hhsc_34_13, hhsc_12_14, hhsc_13_14, hhsc_42_14, hhsc_43_14, hhsc_21_23, hhsc_24_23, hhsc_31_23, hhsc_34_23, hhsc_21_24, hhsc_23_24, hhsc_41_24, hhsc_43_24, hhsc_31_34, hhsc_32_34, hhsc_41_34, hhsc_42_34, theta_11_12, theta_11_13, theta_11_14, theta_12, theta_13, theta_14, theta_21, theta_22_12, theta_22_23, theta_22_24, theta_23, theta_24, theta_31, theta_32, theta_33_13, theta_33_23, theta_33_34, theta_34, theta_41, theta_42, theta_43, theta_44_14, theta_44_24, theta_44_34, Pi_11_12, Pi_11_13, Pi_11_14, Pi_12, Pi_13, Pi_14, Pi_21, Pi_22_12, Pi_22_23, Pi_22_24, Pi_23, Pi_24, Pi_31, Pi_32, Pi_33_13, Pi_33_23, Pi_33_34, Pi_34, Pi_41, Pi_42, Pi_43, Pi_44_14, Pi_44_24, Pi_44_34, x_3_12, x_4_12, x_2_13, x_4_13, x_2_14, x_3_14, x_1_23, x_4_23, x_1_24, x_3_24, x_1_34, x_2_34, aaa, bbb, ccc, ddd, eee over Rational Field"
      ]
     },
     "execution_count": 171,
     "metadata": {},
     "output_type": "execute_result"
    }
   ],
   "source": [
    "Uring"
   ]
  },
  {
   "cell_type": "code",
   "execution_count": 172,
   "metadata": {
    "collapsed": false
   },
   "outputs": [
    {
     "data": {
      "text/plain": [
       "f_1_12"
      ]
     },
     "execution_count": 172,
     "metadata": {},
     "output_type": "execute_result"
    }
   ],
   "source": [
    "ry(\"f_1_21\")"
   ]
  },
  {
   "cell_type": "code",
   "execution_count": null,
   "metadata": {
    "collapsed": true
   },
   "outputs": [],
   "source": []
  }
 ],
 "metadata": {
  "kernelspec": {
   "display_name": "SageMath 8.0",
   "language": "",
   "name": "sagemath"
  },
  "language_info": {
   "codemirror_mode": {
    "name": "ipython",
    "version": 2
   },
   "file_extension": ".py",
   "mimetype": "text/x-python",
   "name": "python",
   "nbconvert_exporter": "python",
   "pygments_lexer": "ipython2",
   "version": "2.7.13"
  }
 },
 "nbformat": 4,
 "nbformat_minor": 2
}
